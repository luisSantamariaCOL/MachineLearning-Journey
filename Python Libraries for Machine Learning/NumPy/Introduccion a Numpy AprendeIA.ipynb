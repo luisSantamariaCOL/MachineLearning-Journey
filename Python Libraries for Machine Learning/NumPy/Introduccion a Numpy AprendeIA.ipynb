{
 "cells": [
  {
   "cell_type": "markdown",
   "id": "efcf144b",
   "metadata": {},
   "source": [
    "# NumPy"
   ]
  },
  {
   "cell_type": "markdown",
   "id": "c7719a13",
   "metadata": {},
   "source": [
    "NumPy es una librería que proporciona una estructura de datos de matriz que tiene algunos beneficios sobre las listas regulares de Python"
   ]
  },
  {
   "cell_type": "markdown",
   "id": "2a79aea6",
   "metadata": {},
   "source": [
    "### ¿Qué es NumPy array?\n",
    "\n",
    "es un potente objeto de matriz N-dimensional que tiene forma de filas y columnas, en la que tenemos varios elementos que están almacenados en sus respectivas ubicaciones de memoria."
   ]
  },
  {
   "cell_type": "code",
   "execution_count": 2,
   "id": "2f62bbf8",
   "metadata": {},
   "outputs": [],
   "source": [
    "# importando\n",
    "import numpy as np"
   ]
  },
  {
   "cell_type": "markdown",
   "id": "580b6d67",
   "metadata": {},
   "source": [
    "Matriz unidimensional"
   ]
  },
  {
   "cell_type": "code",
   "execution_count": 3,
   "id": "037f7bf5",
   "metadata": {},
   "outputs": [
    {
     "name": "stdout",
     "output_type": "stream",
     "text": [
      "1D array:\n",
      "[1 2 3]\n"
     ]
    }
   ],
   "source": [
    "a = np.array([1, 2, 3])\n",
    "print('1D array:')\n",
    "print(a)"
   ]
  },
  {
   "cell_type": "markdown",
   "id": "21b91d70",
   "metadata": {},
   "source": [
    "Matriz bidimensional"
   ]
  },
  {
   "cell_type": "code",
   "execution_count": 13,
   "id": "77c68619",
   "metadata": {},
   "outputs": [
    {
     "name": "stdout",
     "output_type": "stream",
     "text": [
      "2D array:\n",
      "[[1 2 3]\n",
      " [4 5 6]]\n"
     ]
    }
   ],
   "source": [
    "b = np.array([(1, 2, 3), (4, 5, 6)])\n",
    "print('2D array:')\n",
    "print(b)"
   ]
  },
  {
   "cell_type": "markdown",
   "id": "6cfd11a9",
   "metadata": {},
   "source": [
    "Matriz de unos - 3 filas 4 columnas"
   ]
  },
  {
   "cell_type": "code",
   "execution_count": 14,
   "id": "0eacb866",
   "metadata": {},
   "outputs": [
    {
     "name": "stdout",
     "output_type": "stream",
     "text": [
      "[[1. 1. 1. 1.]\n",
      " [1. 1. 1. 1.]\n",
      " [1. 1. 1. 1.]]\n"
     ]
    }
   ],
   "source": [
    "unos = np.ones((3,4))\n",
    "print(unos)"
   ]
  },
  {
   "cell_type": "markdown",
   "id": "0371ea9e",
   "metadata": {},
   "source": [
    "Crear una matriz de ceros - 3 filas 4 columnas"
   ]
  },
  {
   "cell_type": "code",
   "execution_count": 15,
   "id": "83477c4f",
   "metadata": {},
   "outputs": [
    {
     "name": "stdout",
     "output_type": "stream",
     "text": [
      "[[0. 0. 0. 0.]\n",
      " [0. 0. 0. 0.]\n",
      " [0. 0. 0. 0.]]\n"
     ]
    }
   ],
   "source": [
    "ceros = np.zeros((3,4))\n",
    "print(ceros)"
   ]
  },
  {
   "cell_type": "markdown",
   "id": "6bdd0ed2",
   "metadata": {},
   "source": [
    "Crear una matriz con valores aleatorios"
   ]
  },
  {
   "cell_type": "code",
   "execution_count": 16,
   "id": "b3482b52",
   "metadata": {},
   "outputs": [
    {
     "name": "stdout",
     "output_type": "stream",
     "text": [
      "[[0.33332021 0.58013255]\n",
      " [0.91843469 0.74854683]]\n"
     ]
    }
   ],
   "source": [
    "aleatorios = np.random.random((2,2))\n",
    "print(aleatorios)"
   ]
  },
  {
   "cell_type": "markdown",
   "id": "99552648",
   "metadata": {},
   "source": [
    "Crear una matriz vacía"
   ]
  },
  {
   "cell_type": "code",
   "execution_count": 18,
   "id": "5d07bde5",
   "metadata": {},
   "outputs": [
    {
     "name": "stdout",
     "output_type": "stream",
     "text": [
      "[[0. 0.]\n",
      " [0. 0.]\n",
      " [0. 0.]]\n"
     ]
    }
   ],
   "source": [
    "vacia = np.empty((3,2))\n",
    "print(vacia)"
   ]
  },
  {
   "cell_type": "markdown",
   "id": "228a43d2",
   "metadata": {},
   "source": [
    "Crear una matriz con un solo valor"
   ]
  },
  {
   "cell_type": "code",
   "execution_count": 19,
   "id": "956ec632",
   "metadata": {},
   "outputs": [
    {
     "name": "stdout",
     "output_type": "stream",
     "text": [
      "[[8 8]\n",
      " [8 8]]\n"
     ]
    }
   ],
   "source": [
    "full = np.full((2,2),8)\n",
    "print(full)"
   ]
  },
  {
   "cell_type": "markdown",
   "id": "8b72f3b9",
   "metadata": {},
   "source": [
    "Crear una matriz con valores espaciados uniformemente"
   ]
  },
  {
   "cell_type": "code",
   "execution_count": 21,
   "id": "0f9b669b",
   "metadata": {},
   "outputs": [
    {
     "name": "stdout",
     "output_type": "stream",
     "text": [
      "[ 0  5 10 15 20 25]\n",
      "[0.  0.5 1.  1.5 2. ]\n"
     ]
    }
   ],
   "source": [
    "espacio1 = np.arange(0,30,5) # Se especifica que la matriz empieza en 0. Los pasos son de 5. Hasta 30 exclusivo.\n",
    "print(espacio1)\n",
    "\n",
    "espacio2 = np.linspace(0,2,5) # Matriz con 5 valores que se encuentren entre 0 y 2.\n",
    "print(espacio2)"
   ]
  },
  {
   "cell_type": "markdown",
   "id": "de2e4f51",
   "metadata": {},
   "source": [
    "Crear una matriz identidad"
   ]
  },
  {
   "cell_type": "code",
   "execution_count": 22,
   "id": "a23aa251",
   "metadata": {},
   "outputs": [
    {
     "name": "stdout",
     "output_type": "stream",
     "text": [
      "[[1. 0. 0. 0.]\n",
      " [0. 1. 0. 0.]\n",
      " [0. 0. 1. 0.]\n",
      " [0. 0. 0. 1.]]\n",
      "[[1. 0. 0. 0.]\n",
      " [0. 1. 0. 0.]\n",
      " [0. 0. 1. 0.]\n",
      " [0. 0. 0. 1.]]\n"
     ]
    }
   ],
   "source": [
    "identidad1 = np.eye(4,4)\n",
    "print(identidad1)\n",
    "\n",
    "identidad2 = np.identity(4)\n",
    "print(identidad2)"
   ]
  },
  {
   "cell_type": "code",
   "execution_count": null,
   "id": "bea60b59",
   "metadata": {},
   "outputs": [],
   "source": [
    "a = "
   ]
  }
 ],
 "metadata": {
  "kernelspec": {
   "display_name": "Python 3",
   "language": "python",
   "name": "python3"
  },
  "language_info": {
   "codemirror_mode": {
    "name": "ipython",
    "version": 3
   },
   "file_extension": ".py",
   "mimetype": "text/x-python",
   "name": "python",
   "nbconvert_exporter": "python",
   "pygments_lexer": "ipython3",
   "version": "3.8.8"
  }
 },
 "nbformat": 4,
 "nbformat_minor": 5
}
