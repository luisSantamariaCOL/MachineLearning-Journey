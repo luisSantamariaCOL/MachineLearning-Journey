{
 "cells": [
  {
   "cell_type": "markdown",
   "id": "efcf144b",
   "metadata": {},
   "source": [
    "# NumPy"
   ]
  },
  {
   "cell_type": "markdown",
   "id": "c7719a13",
   "metadata": {},
   "source": [
    "NumPy es una librería que proporciona una estructura de datos de matriz que tiene algunos beneficios sobre las listas regulares de Python"
   ]
  },
  {
   "cell_type": "markdown",
   "id": "2a79aea6",
   "metadata": {},
   "source": [
    "### ¿Qué es NumPy array?\n",
    "\n",
    "es un potente objeto de matriz N-dimensional que tiene forma de filas y columnas, en la que tenemos varios elementos que están almacenados en sus respectivas ubicaciones de memoria."
   ]
  },
  {
   "cell_type": "code",
   "execution_count": 1,
   "id": "2f62bbf8",
   "metadata": {},
   "outputs": [],
   "source": [
    "# importando\n",
    "import numpy as np"
   ]
  },
  {
   "cell_type": "markdown",
   "id": "580b6d67",
   "metadata": {},
   "source": [
    "Matriz unidimensional"
   ]
  },
  {
   "cell_type": "code",
   "execution_count": 2,
   "id": "037f7bf5",
   "metadata": {},
   "outputs": [
    {
     "name": "stdout",
     "output_type": "stream",
     "text": [
      "1D array:\n",
      "[1 2 3]\n"
     ]
    }
   ],
   "source": [
    "a = np.array([1, 2, 3])\n",
    "print('1D array:')\n",
    "print(a)"
   ]
  },
  {
   "cell_type": "markdown",
   "id": "21b91d70",
   "metadata": {},
   "source": [
    "Matriz bidimensional"
   ]
  },
  {
   "cell_type": "code",
   "execution_count": 3,
   "id": "77c68619",
   "metadata": {},
   "outputs": [
    {
     "name": "stdout",
     "output_type": "stream",
     "text": [
      "2D array:\n",
      "[[1 2 3]\n",
      " [4 5 6]]\n"
     ]
    }
   ],
   "source": [
    "b = np.array([(1, 2, 3), (4, 5, 6)])\n",
    "print('2D array:')\n",
    "print(b)"
   ]
  },
  {
   "cell_type": "markdown",
   "id": "6cfd11a9",
   "metadata": {},
   "source": [
    "Matriz de unos - 3 filas 4 columnas"
   ]
  },
  {
   "cell_type": "code",
   "execution_count": 4,
   "id": "0eacb866",
   "metadata": {},
   "outputs": [
    {
     "name": "stdout",
     "output_type": "stream",
     "text": [
      "[[1. 1. 1. 1.]\n",
      " [1. 1. 1. 1.]\n",
      " [1. 1. 1. 1.]]\n"
     ]
    }
   ],
   "source": [
    "unos = np.ones((3,4))\n",
    "print(unos)"
   ]
  },
  {
   "cell_type": "markdown",
   "id": "0371ea9e",
   "metadata": {},
   "source": [
    "Crear una matriz de ceros - 3 filas 4 columnas"
   ]
  },
  {
   "cell_type": "code",
   "execution_count": 5,
   "id": "83477c4f",
   "metadata": {},
   "outputs": [
    {
     "name": "stdout",
     "output_type": "stream",
     "text": [
      "[[0. 0. 0. 0.]\n",
      " [0. 0. 0. 0.]\n",
      " [0. 0. 0. 0.]]\n"
     ]
    }
   ],
   "source": [
    "ceros = np.zeros((3,4))\n",
    "print(ceros)"
   ]
  },
  {
   "cell_type": "markdown",
   "id": "6bdd0ed2",
   "metadata": {},
   "source": [
    "Crear una matriz con valores aleatorios"
   ]
  },
  {
   "cell_type": "code",
   "execution_count": 6,
   "id": "b3482b52",
   "metadata": {},
   "outputs": [
    {
     "name": "stdout",
     "output_type": "stream",
     "text": [
      "[[0.62963746 0.05062415]\n",
      " [0.37959089 0.14855448]]\n"
     ]
    }
   ],
   "source": [
    "aleatorios = np.random.random((2,2))\n",
    "print(aleatorios)"
   ]
  },
  {
   "cell_type": "markdown",
   "id": "99552648",
   "metadata": {},
   "source": [
    "Crear una matriz vacía"
   ]
  },
  {
   "cell_type": "code",
   "execution_count": 7,
   "id": "5d07bde5",
   "metadata": {},
   "outputs": [
    {
     "name": "stdout",
     "output_type": "stream",
     "text": [
      "[[0. 0.]\n",
      " [0. 0.]\n",
      " [0. 0.]]\n"
     ]
    }
   ],
   "source": [
    "vacia = np.empty((3,2))\n",
    "print(vacia)"
   ]
  },
  {
   "cell_type": "markdown",
   "id": "228a43d2",
   "metadata": {},
   "source": [
    "Crear una matriz con un solo valor"
   ]
  },
  {
   "cell_type": "code",
   "execution_count": 8,
   "id": "956ec632",
   "metadata": {},
   "outputs": [
    {
     "name": "stdout",
     "output_type": "stream",
     "text": [
      "[[8 8]\n",
      " [8 8]]\n"
     ]
    }
   ],
   "source": [
    "full = np.full((2,2),8)\n",
    "print(full)"
   ]
  },
  {
   "cell_type": "markdown",
   "id": "8b72f3b9",
   "metadata": {},
   "source": [
    "Crear una matriz con valores espaciados uniformemente"
   ]
  },
  {
   "cell_type": "code",
   "execution_count": 9,
   "id": "0f9b669b",
   "metadata": {},
   "outputs": [
    {
     "name": "stdout",
     "output_type": "stream",
     "text": [
      "[ 0  5 10 15 20 25]\n",
      "[0.  0.5 1.  1.5 2. ]\n"
     ]
    }
   ],
   "source": [
    "espacio1 = np.arange(0,30,5) # Se especifica que la matriz empieza en 0. Los pasos son de 5. Hasta 30 exclusivo.\n",
    "print(espacio1)\n",
    "\n",
    "espacio2 = np.linspace(0,2,5) # Matriz con 5 valores que se encuentren entre 0 y 2.\n",
    "print(espacio2)"
   ]
  },
  {
   "cell_type": "markdown",
   "id": "de2e4f51",
   "metadata": {},
   "source": [
    "Crear una matriz identidad"
   ]
  },
  {
   "cell_type": "code",
   "execution_count": 10,
   "id": "a23aa251",
   "metadata": {},
   "outputs": [
    {
     "name": "stdout",
     "output_type": "stream",
     "text": [
      "[[1. 0. 0. 0.]\n",
      " [0. 1. 0. 0.]\n",
      " [0. 0. 1. 0.]\n",
      " [0. 0. 0. 1.]]\n",
      "[[1. 0. 0. 0.]\n",
      " [0. 1. 0. 0.]\n",
      " [0. 0. 1. 0.]\n",
      " [0. 0. 0. 1.]]\n"
     ]
    }
   ],
   "source": [
    "identidad1 = np.eye(4,4)\n",
    "print(identidad1)\n",
    "\n",
    "identidad2 = np.identity(4)\n",
    "print(identidad2)"
   ]
  },
  {
   "cell_type": "markdown",
   "id": "cec29adf",
   "metadata": {},
   "source": [
    "Conocer las dimensiones de una matriz"
   ]
  },
  {
   "cell_type": "code",
   "execution_count": 14,
   "id": "0168199f",
   "metadata": {},
   "outputs": [
    {
     "name": "stdout",
     "output_type": "stream",
     "text": [
      "2\n"
     ]
    }
   ],
   "source": [
    "a = np.array([(1,2,3), (4,5,6)])\n",
    "print(a.ndim)"
   ]
  },
  {
   "cell_type": "markdown",
   "id": "107b8f8b",
   "metadata": {},
   "source": [
    "Conocer el tipo de datos"
   ]
  },
  {
   "cell_type": "code",
   "execution_count": 15,
   "id": "06f9f57d",
   "metadata": {},
   "outputs": [
    {
     "name": "stdout",
     "output_type": "stream",
     "text": [
      "int32\n"
     ]
    }
   ],
   "source": [
    "a = np.array([(1,2,3)])\n",
    "print(a.dtype)"
   ]
  },
  {
   "cell_type": "markdown",
   "id": "3839f593",
   "metadata": {},
   "source": [
    "Conocer el tamaño y la forma de la matriz"
   ]
  },
  {
   "cell_type": "code",
   "execution_count": 16,
   "id": "f1344d45",
   "metadata": {},
   "outputs": [
    {
     "name": "stdout",
     "output_type": "stream",
     "text": [
      "6\n",
      "(1, 6)\n"
     ]
    }
   ],
   "source": [
    "a = np.array([(1,2,3,4,5,6)])\n",
    "print(a.size)\n",
    "print(a.shape)"
   ]
  },
  {
   "cell_type": "markdown",
   "id": "1bfad965",
   "metadata": {},
   "source": [
    "Cambio de forma de una matriz"
   ]
  },
  {
   "cell_type": "code",
   "execution_count": 17,
   "id": "396003b7",
   "metadata": {},
   "outputs": [
    {
     "name": "stdout",
     "output_type": "stream",
     "text": [
      "[[ 8  9 10]\n",
      " [11 12 13]]\n",
      "[[ 8  9]\n",
      " [10 11]\n",
      " [12 13]]\n"
     ]
    }
   ],
   "source": [
    "a = np.array([(8,9,10), (11,12,13)])\n",
    "print(a)\n",
    "a = a.reshape(3,2)\n",
    "print(a)"
   ]
  },
  {
   "cell_type": "markdown",
   "id": "71fa62c5",
   "metadata": {},
   "source": [
    "Extraer un solo valor de la matriz - el valor ubicado en la fila 0 columna 2"
   ]
  },
  {
   "cell_type": "code",
   "execution_count": 18,
   "id": "c3c02c1a",
   "metadata": {},
   "outputs": [
    {
     "name": "stdout",
     "output_type": "stream",
     "text": [
      "3\n"
     ]
    }
   ],
   "source": [
    "a = np.array([(1,2,3,4), (3,4,5,6)])\n",
    "print(a[0,2])"
   ]
  },
  {
   "cell_type": "markdown",
   "id": "99ab722b",
   "metadata": {},
   "source": [
    "Extraer los valores de todas las filas ubicados en la columna 3"
   ]
  },
  {
   "cell_type": "code",
   "execution_count": 19,
   "id": "f47a2450",
   "metadata": {},
   "outputs": [
    {
     "name": "stdout",
     "output_type": "stream",
     "text": [
      "[3 5]\n"
     ]
    }
   ],
   "source": [
    "a = np.array([(1,2,3,4), (3,4,5,6)])\n",
    "print(a[0:,2])"
   ]
  },
  {
   "cell_type": "markdown",
   "id": "92a3be60",
   "metadata": {},
   "source": [
    "Encontrar el mínimo, máximo y la suma"
   ]
  },
  {
   "cell_type": "code",
   "execution_count": 20,
   "id": "48da1b2e",
   "metadata": {},
   "outputs": [
    {
     "name": "stdout",
     "output_type": "stream",
     "text": [
      "2\n",
      "8\n",
      "14\n"
     ]
    }
   ],
   "source": [
    "a = np.array([2,4,8])\n",
    "print(a.min())\n",
    "print(a.max())\n",
    "print(a.sum())"
   ]
  },
  {
   "cell_type": "markdown",
   "id": "dbe5183e",
   "metadata": {},
   "source": [
    "Calcular la raíz cuadrada y la desviación estándar de una matriz"
   ]
  },
  {
   "cell_type": "code",
   "execution_count": 21,
   "id": "1fe5a43e",
   "metadata": {},
   "outputs": [
    {
     "name": "stdout",
     "output_type": "stream",
     "text": [
      "[[1.         1.41421356 1.73205081]\n",
      " [1.73205081 2.         2.23606798]]\n",
      "1.2909944487358056\n"
     ]
    }
   ],
   "source": [
    "a = np.array([(1,2,3), (3,4,5,)])\n",
    "print(np.sqrt(a))\n",
    "print(np.std(a))"
   ]
  },
  {
   "cell_type": "markdown",
   "id": "702022f4",
   "metadata": {},
   "source": [
    "Calcular suma, resta, multiplicación y división entre dos semanas"
   ]
  },
  {
   "cell_type": "code",
   "execution_count": 22,
   "id": "acf74f58",
   "metadata": {},
   "outputs": [
    {
     "name": "stdout",
     "output_type": "stream",
     "text": [
      "[[ 2  4  6]\n",
      " [ 6  8 10]]\n",
      "[[0 0 0]\n",
      " [0 0 0]]\n",
      "[[ 1  4  9]\n",
      " [ 9 16 25]]\n",
      "[[1. 1. 1.]\n",
      " [1. 1. 1.]]\n"
     ]
    }
   ],
   "source": [
    "x = np.array([(1,2,3),(3,4,5)])\n",
    "y = np.array([(1,2,3),(3,4,5)])\n",
    "print(x+y)\n",
    "print(x-y)\n",
    "print(x*y)\n",
    "print(x/y)"
   ]
  },
  {
   "cell_type": "code",
   "execution_count": null,
   "id": "7ded9888",
   "metadata": {},
   "outputs": [],
   "source": []
  }
 ],
 "metadata": {
  "kernelspec": {
   "display_name": "Python 3",
   "language": "python",
   "name": "python3"
  },
  "language_info": {
   "codemirror_mode": {
    "name": "ipython",
    "version": 3
   },
   "file_extension": ".py",
   "mimetype": "text/x-python",
   "name": "python",
   "nbconvert_exporter": "python",
   "pygments_lexer": "ipython3",
   "version": "3.8.8"
  }
 },
 "nbformat": 4,
 "nbformat_minor": 5
}
