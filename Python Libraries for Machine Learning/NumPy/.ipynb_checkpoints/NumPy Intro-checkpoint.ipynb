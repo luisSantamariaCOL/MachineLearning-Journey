{
 "cells": [
  {
   "cell_type": "markdown",
   "metadata": {},
   "source": [
    "np se usara como referencia a la librería NumPy"
   ]
  },
  {
   "cell_type": "code",
   "execution_count": 4,
   "metadata": {},
   "outputs": [],
   "source": [
    "import numpy as np"
   ]
  },
  {
   "cell_type": "code",
   "execution_count": 5,
   "metadata": {},
   "outputs": [
    {
     "name": "stdout",
     "output_type": "stream",
     "text": [
      "1D array:\n",
      "[1 2 3]\n"
     ]
    }
   ],
   "source": [
    "a = np.array([1,2,3])\n",
    "print('1D array:')\n",
    "print(a)"
   ]
  },
  {
   "cell_type": "code",
   "execution_count": 6,
   "metadata": {},
   "outputs": [
    {
     "name": "stdout",
     "output_type": "stream",
     "text": [
      "2D array:\n",
      "[[1 2 3]\n",
      " [4 5 6]]\n"
     ]
    }
   ],
   "source": [
    "b = np.array([(1,2,3),(4,5,6)])\n",
    "print('2D array:')\n",
    "print(b)"
   ]
  },
  {
   "cell_type": "markdown",
   "metadata": {},
   "source": [
    "Se usa el array de numpy y no listas porque el primero ocupa menos espacio en memoria."
   ]
  },
  {
   "cell_type": "code",
   "execution_count": 8,
   "metadata": {
    "scrolled": true
   },
   "outputs": [
    {
     "name": "stdout",
     "output_type": "stream",
     "text": [
      "Memoria asignada lista de Python:\n",
      "28000\n",
      "\n",
      "Memoria asignada NumPy array:\n",
      "4000\n"
     ]
    }
   ],
   "source": [
    "import sys\n",
    "S = range(1000)\n",
    "print(\"Memoria asignada lista de Python:\")\n",
    "print(sys.getsizeof(5)*len(S))\n",
    "print()\n",
    "D = np.arange(1000)\n",
    "print(\"Memoria asignada NumPy array:\")\n",
    "print(D.size*D.itemsize)"
   ]
  },
  {
   "cell_type": "markdown",
   "metadata": {},
   "source": [
    "Evaluemos ahora la rapidez de NumPy con respecto a Listas"
   ]
  },
  {
   "cell_type": "code",
   "execution_count": 9,
   "metadata": {},
   "outputs": [
    {
     "name": "stdout",
     "output_type": "stream",
     "text": [
      "Rapidez lista de Python:\n",
      "337.4974727630615\n",
      "\n",
      "Rapidez NumPy array:\n",
      "44.88039016723633\n"
     ]
    }
   ],
   "source": [
    "import time\n",
    "\n",
    "SIZE = 1000000\n",
    "\n",
    "L1 = range(SIZE)\n",
    "L2 = range(SIZE)\n",
    "A1 = np.arange(SIZE)\n",
    "A2 = np.arange(SIZE)\n",
    "\n",
    "start = time.time()\n",
    "result = [(x,y) for x,y in zip(L1,L2)]\n",
    "print(\"Rapidez lista de Python:\")\n",
    "print((time.time() - start) * 1000)\n",
    "print()\n",
    "start = time.time()\n",
    "result = A1 + A2\n",
    "print('Rapidez NumPy array:')\n",
    "print((time.time() - start) * 1000)"
   ]
  },
  {
   "cell_type": "markdown",
   "metadata": {},
   "source": [
    "### Matriz de unos"
   ]
  },
  {
   "cell_type": "code",
   "execution_count": 10,
   "metadata": {
    "scrolled": true
   },
   "outputs": [
    {
     "name": "stdout",
     "output_type": "stream",
     "text": [
      "[[1. 1. 1. 1.]\n",
      " [1. 1. 1. 1.]\n",
      " [1. 1. 1. 1.]]\n"
     ]
    }
   ],
   "source": [
    "# Crear una matriz de unos - 3 filas 4 columnas\n",
    "unos = np.ones((3,4))\n",
    "print(unos)"
   ]
  },
  {
   "cell_type": "markdown",
   "metadata": {},
   "source": [
    "### Matriz de ceros"
   ]
  },
  {
   "cell_type": "code",
   "execution_count": 11,
   "metadata": {
    "scrolled": true
   },
   "outputs": [
    {
     "name": "stdout",
     "output_type": "stream",
     "text": [
      "[[0. 0. 0. 0.]\n",
      " [0. 0. 0. 0.]\n",
      " [0. 0. 0. 0.]]\n"
     ]
    }
   ],
   "source": [
    "# Crear una matriz de ceros - 3 filas 4 columnas\n",
    "ceros = np.zeros((3,4))\n",
    "print(ceros)"
   ]
  },
  {
   "cell_type": "markdown",
   "metadata": {},
   "source": [
    "### Matriz de aleatorios"
   ]
  },
  {
   "cell_type": "code",
   "execution_count": 12,
   "metadata": {},
   "outputs": [
    {
     "name": "stdout",
     "output_type": "stream",
     "text": [
      "[[0.75676379 0.17595518]\n",
      " [0.62406275 0.79547333]]\n"
     ]
    }
   ],
   "source": [
    "# Crear una matriz con valores aleatorios\n",
    "aleatorios = np.random.random((2,2))\n",
    "print(aleatorios)"
   ]
  },
  {
   "cell_type": "markdown",
   "metadata": {},
   "source": [
    "### Matríz vacía"
   ]
  },
  {
   "cell_type": "code",
   "execution_count": 13,
   "metadata": {
    "scrolled": true
   },
   "outputs": [
    {
     "name": "stdout",
     "output_type": "stream",
     "text": [
      "[[0. 0.]\n",
      " [0. 0.]\n",
      " [0. 0.]]\n"
     ]
    }
   ],
   "source": [
    "# Crear una matriz vacía\n",
    "vacia = np.empty((3,2))\n",
    "print(vacia)"
   ]
  },
  {
   "cell_type": "markdown",
   "metadata": {},
   "source": [
    "### Matriz de un solo valor"
   ]
  },
  {
   "cell_type": "code",
   "execution_count": 14,
   "metadata": {
    "scrolled": true
   },
   "outputs": [
    {
     "name": "stdout",
     "output_type": "stream",
     "text": [
      "[[8 8]\n",
      " [8 8]]\n"
     ]
    }
   ],
   "source": [
    "# Crear matriz de un solo valor\n",
    "full = np.full((2,2),8)\n",
    "print(full)"
   ]
  },
  {
   "cell_type": "markdown",
   "metadata": {},
   "source": [
    "### Matrices con valores espaciados"
   ]
  },
  {
   "cell_type": "code",
   "execution_count": 18,
   "metadata": {},
   "outputs": [
    {
     "name": "stdout",
     "output_type": "stream",
     "text": [
      "[ 0  5 10 15 20 25]\n",
      "[0.  0.5 1.  1.5 2. ]\n"
     ]
    }
   ],
   "source": [
    "# Crear una matriz con valores espaciados uniformemente\n",
    "espacio1 = np.arange(0,30,5) # La matriz comienza en 0, y va de 5 en 5 hasta 30 (exclusivo)\n",
    "print(espacio1)\n",
    "\n",
    "espacio2 = np.linspace(0,2,5) # Matriz con 5 valores entre 0 y 2\n",
    "print(espacio2)"
   ]
  },
  {
   "cell_type": "markdown",
   "metadata": {},
   "source": [
    "### Matrices identidad"
   ]
  },
  {
   "cell_type": "code",
   "execution_count": 21,
   "metadata": {},
   "outputs": [
    {
     "name": "stdout",
     "output_type": "stream",
     "text": [
      "[[1. 0. 0. 0.]\n",
      " [0. 1. 0. 0.]\n",
      " [0. 0. 1. 0.]\n",
      " [0. 0. 0. 1.]]\n",
      "\n",
      "[[1. 0. 0. 0.]\n",
      " [0. 1. 0. 0.]\n",
      " [0. 0. 1. 0.]\n",
      " [0. 0. 0. 1.]]\n"
     ]
    }
   ],
   "source": [
    "# Crear una matriz identidad\n",
    "identidad1 = np.eye(4,4)\n",
    "print(identidad1)\n",
    "print()\n",
    "identidad2 = np.identity(4)\n",
    "print(identidad2)"
   ]
  },
  {
   "cell_type": "markdown",
   "metadata": {},
   "source": [
    "### Inspeccionar matrices"
   ]
  },
  {
   "cell_type": "code",
   "execution_count": 27,
   "metadata": {},
   "outputs": [
    {
     "name": "stdout",
     "output_type": "stream",
     "text": [
      "Conocer las dimensiones de una matriz\n",
      "2\n",
      "\n",
      "Conocer el tipo de los datos\n",
      "int32 -> tipo de dato junto con el tamaño\n",
      "\n",
      "Conocer el tamaño y forma de la matriz\n",
      "6 -> tamaño\n",
      "(1, 6) -> forma\n"
     ]
    }
   ],
   "source": [
    "print(\"Conocer las dimensiones de una matriz\")\n",
    "a = np.array([(1,2,3),(4,5,6)])\n",
    "print(a.ndim)\n",
    "print()\n",
    "print(\"Conocer el tipo de los datos\")\n",
    "a = np.array([(1,2,3)])\n",
    "print(a.dtype, \"-> tipo de dato junto con el tamaño\") # tipo de dato junto con el tamaño\n",
    "print()\n",
    "print(\"Conocer el tamaño y forma de la matriz\")\n",
    "a = np.array([(1,2,3,4,5,6)])\n",
    "print(a.size, \"-> tamaño\")\n",
    "print(a.shape, \"-> forma\")\n"
   ]
  },
  {
   "cell_type": "markdown",
   "metadata": {},
   "source": [
    "### Cambio de tamaño y forma de las matrices"
   ]
  },
  {
   "cell_type": "code",
   "execution_count": 28,
   "metadata": {
    "scrolled": true
   },
   "outputs": [
    {
     "name": "stdout",
     "output_type": "stream",
     "text": [
      "[[ 8  9 10]\n",
      " [11 12 13]]\n",
      "\n",
      "[[ 8  9]\n",
      " [10 11]\n",
      " [12 13]]\n"
     ]
    }
   ],
   "source": [
    "# Cambio de forma de una matriz.\n",
    "# Es el cambio en el numero de filas y columnas para darle una nueva vista al objeto\n",
    "a = np.array([(8,9,10),(11,12,13)])\n",
    "print(a)\n",
    "print()\n",
    "a = a.reshape(3,2)\n",
    "print(a)"
   ]
  },
  {
   "cell_type": "code",
   "execution_count": 30,
   "metadata": {},
   "outputs": [
    {
     "name": "stdout",
     "output_type": "stream",
     "text": [
      "Extraer un solo valor de la matriz - el valor ubicado en la fila 0 columna 2\n",
      "3\n",
      "\n",
      "Extraer los valores de todas las filas ubicados en la columna 3\n",
      "[3 5]\n"
     ]
    }
   ],
   "source": [
    "print(\"Extraer un solo valor de la matriz - el valor ubicado en la fila 0 columna 2\")\n",
    "a = np.array([(1,2,3,4),(3,4,5,6)])\n",
    "print(a[0,2])\n",
    "print()\n",
    "print(\"Extraer los valores de todas las filas ubicados en la columna 3\")\n",
    "print(a[0:,2])"
   ]
  },
  {
   "cell_type": "markdown",
   "metadata": {},
   "source": [
    "### Operaciones matemáticas entre matrices"
   ]
  },
  {
   "cell_type": "code",
   "execution_count": 34,
   "metadata": {},
   "outputs": [
    {
     "name": "stdout",
     "output_type": "stream",
     "text": [
      "Encontrar el valor mínimo, máximo y la suma de la matriz\n",
      "2\n",
      "8\n",
      "14\n"
     ]
    }
   ],
   "source": [
    "print(\"Encontrar el valor mínimo, máximo y la suma de la matriz\")\n",
    "a = np.array([2,4,8])\n",
    "print(a.min())\n",
    "print(a.max())\n",
    "print(a.sum())"
   ]
  },
  {
   "cell_type": "code",
   "execution_count": 36,
   "metadata": {},
   "outputs": [
    {
     "name": "stdout",
     "output_type": "stream",
     "text": [
      "Raíz cuadrada y desviación estándar de una matriz\n",
      "[[1.         1.41421356 1.73205081]\n",
      " [1.73205081 2.         2.23606798]]\n",
      "1.2909944487358056\n"
     ]
    }
   ],
   "source": [
    "print(\"Raíz cuadrada y desviación estándar de una matriz\")\n",
    "a = np.array([(1,2,3),(3,4,5)])\n",
    "print(np.sqrt(a))\n",
    "print(np.std(a))"
   ]
  },
  {
   "cell_type": "code",
   "execution_count": 43,
   "metadata": {},
   "outputs": [
    {
     "name": "stdout",
     "output_type": "stream",
     "text": [
      "Suma, resta, multiplicación y división entre dos matrices\n",
      "[[ 2  4  6]\n",
      " [ 6  8 10]]\n",
      "\n",
      "[[0 0 0]\n",
      " [0 0 0]]\n",
      "\n",
      "[[ 1  4  9]\n",
      " [ 9 16 25]]\n",
      "\n",
      "[[1. 1. 1.]\n",
      " [1. 1. 1.]]\n"
     ]
    }
   ],
   "source": [
    "print(\"Suma, resta, multiplicación y división entre dos matrices\")\n",
    "x = np.array([(1,2,3),(3,4,5)])\n",
    "y = np.array([(1,2,3),(3,4,5)])\n",
    "print(x+y)\n",
    "print()\n",
    "print(x-y)\n",
    "print()\n",
    "print(x*y)\n",
    "print()\n",
    "print(x/y)"
   ]
  }
 ],
 "metadata": {
  "kernelspec": {
   "display_name": "Python 3",
   "language": "python",
   "name": "python3"
  },
  "language_info": {
   "codemirror_mode": {
    "name": "ipython",
    "version": 3
   },
   "file_extension": ".py",
   "mimetype": "text/x-python",
   "name": "python",
   "nbconvert_exporter": "python",
   "pygments_lexer": "ipython3",
   "version": "3.8.3"
  }
 },
 "nbformat": 4,
 "nbformat_minor": 4
}
