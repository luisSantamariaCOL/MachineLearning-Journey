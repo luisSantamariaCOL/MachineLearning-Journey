{
 "cells": [
  {
   "cell_type": "markdown",
   "id": "1452fd2c",
   "metadata": {},
   "source": [
    "# Pandas"
   ]
  },
  {
   "cell_type": "markdown",
   "id": "8e6be4a3",
   "metadata": {},
   "source": [
    "Librería de código abierto de Python que proporciona herramientos de análisis y de manipulación de datos de alto rendimiento utilizando potentes estructuras de datos"
   ]
  },
  {
   "cell_type": "markdown",
   "id": "c6d20260",
   "metadata": {},
   "source": [
    "El nombre se deriva de Panel Data"
   ]
  },
  {
   "cell_type": "markdown",
   "id": "c1b87cbd",
   "metadata": {},
   "source": [
    "### 5 Pasos Típicos en el Procesamiento y Análisis de Datos con Pandas\n",
    "\n",
    "- Cargar\n",
    "- Preparar\n",
    "- Manipular\n",
    "- Modelar\n",
    "- Analizar"
   ]
  },
  {
   "cell_type": "markdown",
   "id": "b51d1530",
   "metadata": {},
   "source": [
    "## DataFrames"
   ]
  },
  {
   "cell_type": "markdown",
   "id": "37d06f4f",
   "metadata": {},
   "source": [
    "Estructuras de datos etiquetados bidimensionales.\n",
    "Consta de:\n",
    "- datos\n",
    "- índice\n",
    "- columna"
   ]
  },
  {
   "cell_type": "code",
   "execution_count": 3,
   "id": "5d031462",
   "metadata": {},
   "outputs": [],
   "source": [
    "import numpy as np\n",
    "import pandas as pd"
   ]
  },
  {
   "cell_type": "markdown",
   "id": "74dcd6cc",
   "metadata": {},
   "source": [
    "Creación de DataFrame"
   ]
  },
  {
   "cell_type": "code",
   "execution_count": 4,
   "id": "f4b85669",
   "metadata": {},
   "outputs": [
    {
     "name": "stdout",
     "output_type": "stream",
     "text": [
      "      Col1 Col2\n",
      "Fila1   11   22\n",
      "Fila2   33   44\n"
     ]
    }
   ],
   "source": [
    "data = np.array([['','Col1', 'Col2'], ['Fila1', 11, 22], ['Fila2', 33, 44]])\n",
    "print(pd.DataFrame(data=data[1:,1:], index=data[1:,0], columns=data[0,1:]))"
   ]
  },
  {
   "cell_type": "markdown",
   "id": "29ec48e7",
   "metadata": {},
   "source": [
    "Creación de una Serie"
   ]
  },
  {
   "cell_type": "code",
   "execution_count": 7,
   "id": "b41ee8b6",
   "metadata": {},
   "outputs": [
    {
     "name": "stdout",
     "output_type": "stream",
     "text": [
      "Series:\n",
      "Argentina         Buenos Aires\n",
      "Chile        Santiago de Chile\n",
      "Colombia                Bogotá\n",
      "Perú                      Lima\n",
      "dtype: object\n"
     ]
    }
   ],
   "source": [
    "series = pd.Series({\"Argentina\":\"Buenos Aires\",\n",
    "                   \"Chile\":\"Santiago de Chile\",\n",
    "                   \"Colombia\":\"Bogotá\",\n",
    "                   \"Perú\":\"Lima\"})\n",
    "print('Series:')\n",
    "print(series)"
   ]
  },
  {
   "cell_type": "markdown",
   "id": "d1844496",
   "metadata": {},
   "source": [
    "Creación de DataFrame"
   ]
  },
  {
   "cell_type": "code",
   "execution_count": 9,
   "id": "363351d2",
   "metadata": {},
   "outputs": [
    {
     "name": "stdout",
     "output_type": "stream",
     "text": [
      "DataFrame:\n",
      "   0  1  2\n",
      "0  1  2  3\n",
      "1  4  5  6\n",
      "2  7  8  9\n"
     ]
    }
   ],
   "source": [
    "df = pd.DataFrame(np.array([[1,2,3],[4,5,6],[7,8,9]]))\n",
    "print('DataFrame:')\n",
    "print(df)"
   ]
  },
  {
   "cell_type": "markdown",
   "id": "e50a6419",
   "metadata": {},
   "source": [
    "Forma del DataFrame"
   ]
  },
  {
   "cell_type": "code",
   "execution_count": 10,
   "id": "0b58e0d6",
   "metadata": {},
   "outputs": [
    {
     "name": "stdout",
     "output_type": "stream",
     "text": [
      "Forma del DataFrame\n",
      "(3, 3)\n"
     ]
    }
   ],
   "source": [
    "print('Forma del DataFrame')\n",
    "print(df.shape)"
   ]
  },
  {
   "cell_type": "markdown",
   "id": "62a5112d",
   "metadata": {},
   "source": [
    "Altura del DataFrame"
   ]
  },
  {
   "cell_type": "code",
   "execution_count": 11,
   "id": "8c0fecdd",
   "metadata": {},
   "outputs": [
    {
     "name": "stdout",
     "output_type": "stream",
     "text": [
      "Altura del DataFrame:\n",
      "3\n"
     ]
    }
   ],
   "source": [
    "print('Altura del DataFrame:')\n",
    "print(len(df.index))"
   ]
  },
  {
   "cell_type": "markdown",
   "id": "21eac203",
   "metadata": {},
   "source": [
    "Estadísticas del DataFrame"
   ]
  },
  {
   "cell_type": "code",
   "execution_count": 12,
   "id": "56272b13",
   "metadata": {},
   "outputs": [
    {
     "name": "stdout",
     "output_type": "stream",
     "text": [
      "Estadísticas del DataFrame\n",
      "         0    1    2\n",
      "count  3.0  3.0  3.0\n",
      "mean   4.0  5.0  6.0\n",
      "std    3.0  3.0  3.0\n",
      "min    1.0  2.0  3.0\n",
      "25%    2.5  3.5  4.5\n",
      "50%    4.0  5.0  6.0\n",
      "75%    5.5  6.5  7.5\n",
      "max    7.0  8.0  9.0\n"
     ]
    }
   ],
   "source": [
    "print('Estadísticas del DataFrame')\n",
    "print(df.describe())"
   ]
  },
  {
   "cell_type": "markdown",
   "id": "7b50fb14",
   "metadata": {},
   "source": [
    "Media de las columnas DataFrame"
   ]
  },
  {
   "cell_type": "code",
   "execution_count": 13,
   "id": "456ae178",
   "metadata": {},
   "outputs": [
    {
     "name": "stdout",
     "output_type": "stream",
     "text": [
      "Media de las columnas DataFrame:\n",
      "0    4.0\n",
      "1    5.0\n",
      "2    6.0\n",
      "dtype: float64\n"
     ]
    }
   ],
   "source": [
    "print('Media de las columnas DataFrame:')\n",
    "print(df.mean())"
   ]
  },
  {
   "cell_type": "markdown",
   "id": "75ba6c03",
   "metadata": {},
   "source": [
    "Correlación del DataFrame"
   ]
  },
  {
   "cell_type": "code",
   "execution_count": 14,
   "id": "6ccd68b8",
   "metadata": {},
   "outputs": [
    {
     "name": "stdout",
     "output_type": "stream",
     "text": [
      "Correlación del DataFrame\n",
      "     0    1    2\n",
      "0  1.0  1.0  1.0\n",
      "1  1.0  1.0  1.0\n",
      "2  1.0  1.0  1.0\n"
     ]
    }
   ],
   "source": [
    "print('Correlación del DataFrame')\n",
    "print(df.corr())"
   ]
  },
  {
   "cell_type": "markdown",
   "id": "3ea01bbb",
   "metadata": {},
   "source": [
    "Seleccionar la primera columna del DataFrame"
   ]
  },
  {
   "cell_type": "code",
   "execution_count": 16,
   "id": "398589f9",
   "metadata": {},
   "outputs": [
    {
     "name": "stdout",
     "output_type": "stream",
     "text": [
      "Primera columna del DataFrame:\n",
      "0    1\n",
      "1    4\n",
      "2    7\n",
      "Name: 0, dtype: int32\n"
     ]
    }
   ],
   "source": [
    "print('Primera columna del DataFrame:')\n",
    "print(df[0])"
   ]
  },
  {
   "cell_type": "markdown",
   "id": "b4ab7cc1",
   "metadata": {},
   "source": [
    "Seleccionar dos columnas del DataFrame"
   ]
  },
  {
   "cell_type": "code",
   "execution_count": 17,
   "id": "62685857",
   "metadata": {},
   "outputs": [
    {
     "name": "stdout",
     "output_type": "stream",
     "text": [
      "Dos columnas del DataFrame:\n",
      "   0  1\n",
      "0  1  2\n",
      "1  4  5\n",
      "2  7  8\n"
     ]
    }
   ],
   "source": [
    "print('Dos columnas del DataFrame:')\n",
    "print(df[[0,1]])"
   ]
  },
  {
   "cell_type": "markdown",
   "id": "1d4dae09",
   "metadata": {},
   "source": [
    "Seleccionar el valor de la primera fila y la última columna del DataFrame"
   ]
  },
  {
   "cell_type": "code",
   "execution_count": 18,
   "id": "7f85ee71",
   "metadata": {},
   "outputs": [
    {
     "name": "stdout",
     "output_type": "stream",
     "text": [
      "Valor de la primera fila y última columna del DataFrame:\n",
      "3\n"
     ]
    }
   ],
   "source": [
    "print('Valor de la primera fila y última columna del DataFrame:')\n",
    "print(df.iloc[0][2])"
   ]
  },
  {
   "cell_type": "markdown",
   "id": "dea2adb3",
   "metadata": {},
   "source": [
    "Seleccionar los valores de la primera fila del DataFrame"
   ]
  },
  {
   "cell_type": "code",
   "execution_count": 19,
   "id": "28adda43",
   "metadata": {},
   "outputs": [
    {
     "name": "stdout",
     "output_type": "stream",
     "text": [
      "Valores de la primera fila del DataFrame\n",
      "0    1\n",
      "1    2\n",
      "2    3\n",
      "Name: 0, dtype: int32\n"
     ]
    }
   ],
   "source": [
    "print('Valores de la primera fila del DataFrame')\n",
    "print(df.loc[0])"
   ]
  },
  {
   "cell_type": "markdown",
   "id": "3ce86cdb",
   "metadata": {},
   "source": [
    "Seleccionar los valores de la primera fila del DataFrame"
   ]
  },
  {
   "cell_type": "code",
   "execution_count": 20,
   "id": "028d872d",
   "metadata": {},
   "outputs": [
    {
     "name": "stdout",
     "output_type": "stream",
     "text": [
      "Valores de la primera fila del DataFrame:\n",
      "0    1\n",
      "1    2\n",
      "2    3\n",
      "Name: 0, dtype: int32\n"
     ]
    }
   ],
   "source": [
    "print('Valores de la primera fila del DataFrame:')\n",
    "print(df.iloc[0,:])"
   ]
  },
  {
   "cell_type": "code",
   "execution_count": null,
   "id": "579c4926",
   "metadata": {},
   "outputs": [],
   "source": []
  }
 ],
 "metadata": {
  "kernelspec": {
   "display_name": "Python 3",
   "language": "python",
   "name": "python3"
  },
  "language_info": {
   "codemirror_mode": {
    "name": "ipython",
    "version": 3
   },
   "file_extension": ".py",
   "mimetype": "text/x-python",
   "name": "python",
   "nbconvert_exporter": "python",
   "pygments_lexer": "ipython3",
   "version": "3.8.8"
  }
 },
 "nbformat": 4,
 "nbformat_minor": 5
}
