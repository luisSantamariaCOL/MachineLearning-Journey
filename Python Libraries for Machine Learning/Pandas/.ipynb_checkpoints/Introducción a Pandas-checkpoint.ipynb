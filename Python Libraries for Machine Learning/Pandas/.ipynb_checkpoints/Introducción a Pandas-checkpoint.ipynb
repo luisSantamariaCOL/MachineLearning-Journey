{
 "cells": [
  {
   "cell_type": "markdown",
   "metadata": {},
   "source": [
    "**Pandas** es un popular paquete de python para la ciencia de datos y machine learning.\n",
    "Ofrece una estructura de datos poderosa, expresiva y flexible que facilita la manipulación y el análisis de datos.\n",
    "Entre las estructuras más utilizadas, se encuentra el DataFrame.\n",
    "\n",
    "Es una libr\n",
    "ería de código abierto de Python que proporciona herramientas de análisis y manipulación de datos de alto rendimiento, utilizando sus potentes estructuras de datos.\n",
    "\n",
    "Pandas -> PANel DAta. Librería de análisis de datos de Python.\n",
    "\n",
    "Con esta librería podemos lograr **5 pasos típicos en el procesamiento y análisis de datos**.\n",
    "\n",
    "1) Cargar\n",
    "2) Preparar\n",
    "3) Manipular\n",
    "4) Modelar\n",
    "5) Analizar\n",
    " "
   ]
  },
  {
   "cell_type": "markdown",
   "metadata": {},
   "source": [
    "#### DataFrame\n",
    "- Son estructuras de datos etiquetados bidimensionales\n",
    "- Constan de tres componentes: los **datos**, el **índice** y las **columnas**\n",
    "- Y puedes especificar los nombres de índice y columna.\n",
    "índice: diferencia filas\n",
    "columnas: diferencia columnas"
   ]
  },
  {
   "cell_type": "markdown",
   "metadata": {},
   "source": [
    "<img src=\"https://i.imgur.com/c7rJ31Y.png\" style=\"width:600px;height:400px\"/>\n"
   ]
  },
  {
   "cell_type": "markdown",
   "metadata": {},
   "source": [
    "Las **series** en los DataFrames serían matrices de una sola dimensión, que son capaces de almacenar datos de *cualquier tipo*\n"
   ]
  }
 ],
 "metadata": {
  "kernelspec": {
   "display_name": "Python 3",
   "language": "python",
   "name": "python3"
  },
  "language_info": {
   "codemirror_mode": {
    "name": "ipython",
    "version": 3
   },
   "file_extension": ".py",
   "mimetype": "text/x-python",
   "name": "python",
   "nbconvert_exporter": "python",
   "pygments_lexer": "ipython3",
   "version": "3.8.3"
  }
 },
 "nbformat": 4,
 "nbformat_minor": 4
}
