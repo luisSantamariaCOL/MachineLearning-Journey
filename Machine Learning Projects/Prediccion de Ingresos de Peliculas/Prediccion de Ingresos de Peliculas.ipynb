{
 "cells": [
  {
   "cell_type": "markdown",
   "id": "254ceee9",
   "metadata": {},
   "source": [
    "# Machine Learning Aplicado con Python"
   ]
  },
  {
   "cell_type": "markdown",
   "id": "c2c6f1a4",
   "metadata": {},
   "source": [
    "Este proyecto tiene como objetivo utilizar distintas librerías de Python (Scikit-learn, pandas, numpy, matplotlib, etc...) para entender todo el flujo de trabajo que se realiza cuando se resuelve un problema de Aprendizaje Supervisado de Machine Learning. En este caso, se busca predecir los ingresos que tendrá una película en base a un histórico de datos de películas de la plataforma imdb.\n",
    "\n",
    "Otras disciplinas:\n",
    "- Feature engineering\n",
    "- Selección de modelos"
   ]
  },
  {
   "cell_type": "markdown",
   "id": "e2b5c3f1",
   "metadata": {},
   "source": [
    "## Antes de la Práctica:"
   ]
  },
  {
   "cell_type": "markdown",
   "id": "3b930525",
   "metadata": {},
   "source": [
    "***Hay que reconocer el tipo de aprendizaje que se necesita***\n",
    "\n",
    "1. ¿Qué beneficio se piensa generar y para quién?  \n",
    "2. ¿Cuál de las siguientes funcionalidades sería más útil para lograr ese objetivo?:  \n",
    "        A. Predecir una métrica  \n",
    "        B. Predecir una etiqueta  \n",
    "        C. Agrupar elementos similares  \n",
    "        D. Optimizar un proceso con prueba y error  \n",
    "    \n",
    "Los dos primeros corresponden a **Aprendizaje supervisado**.  \n",
    "\n",
    "***Hay que aterrizar el problema de aprendizaje supervisado***.  \n",
    "\n",
    "1. ¿El valor que se quiere predecir es de qué tipo?  \n",
    "        A. Continuo\n",
    "        B. Discreto\n",
    "2. ¿Cuál es la definición de éxito de la predicción?\n",
    "3. ¿Con qué datos se contará para hacer la predicción?\n",
    "4. ¿A qué disciplina en particular pertenece la pregunta que se está tratando de resolver?\n",
    "5. Considerando la intucipon sobre la disciplina, ¿Pueden los datos permitir predecir el objetivo?"
   ]
  },
  {
   "cell_type": "markdown",
   "id": "94ac341f",
   "metadata": {},
   "source": [
    "### Contexto del Problema"
   ]
  },
  {
   "cell_type": "markdown",
   "id": "fe7c4c43",
   "metadata": {},
   "source": [
    "Contexto: Un *ente gubernamental* quiere definir sus políticas de financiamiento de producciones cinematográficas nacionales.\n",
    "\n",
    "**Sus objetivos son:**  \n",
    "1. **Ayudar** a la producción de películas de calidad **que no logran ser autosustentables**  \n",
    "2. Saber qué películas tienen más dificultad de recuperar lo gastado en el presupuesto.  \n",
    "\n",
    "Por consiguiente, el ente gubernamental quiere **predecir una métrica**: El ingreso mundial generado por una película.  "
   ]
  },
  {
   "cell_type": "markdown",
   "id": "c329faec",
   "metadata": {},
   "source": [
    "### Desarrollo del Problema"
   ]
  },
  {
   "cell_type": "markdown",
   "id": "26ead362",
   "metadata": {},
   "source": [
    "Estando ubicados en el contexto del problema, se podrían responder las anteriores preguntas de la siguiente manera:\n",
    "\n",
    "1. Los ingresos de una película corresponden a **valores continuos**\n",
    "2. El éxito será \"**qué tan cerca se está del valor real de ingreso generado por la película**\"\n",
    "3. Los datos se recogerán de **bases de datos públicas de internet**\n",
    "4. El dominio de trabajo es la **industria del cine**, en particular de la distribución de películas.\n",
    "5. Los datos podrán permitir predecir el objetivo. De forma general existen características que permiten determinar si una película será exito o no, como: **calidad, actores, presupuesto, etc...**"
   ]
  },
  {
   "cell_type": "markdown",
   "id": "2eaacc45",
   "metadata": {},
   "source": [
    "### Preparación de datos"
   ]
  },
  {
   "cell_type": "markdown",
   "id": "43ca2835",
   "metadata": {},
   "source": [
    "***NumPy***: librería de matriz n-dimensional base  \n",
    "***Pandas***: estructura de datos y análisis  \n",
    "***Matplotlib***: trazado completo 2D  \n",
    "***Seaborn***: visualización estadística de datos  "
   ]
  },
  {
   "cell_type": "code",
   "execution_count": 1,
   "id": "aedf4c30",
   "metadata": {},
   "outputs": [],
   "source": [
    "# Importamos las librerías\n",
    "import numpy as np\n",
    "import pandas as pd\n",
    "import matplotlib.pyplot as plt\n",
    "import seaborn as sb"
   ]
  },
  {
   "cell_type": "markdown",
   "id": "959acad5",
   "metadata": {},
   "source": [
    "**%matplotlib inline** permite que los gráficos estén renderizados directamente en el Notebook."
   ]
  },
  {
   "cell_type": "code",
   "execution_count": 2,
   "id": "1b1df4a2",
   "metadata": {},
   "outputs": [],
   "source": [
    "%matplotlib inline"
   ]
  },
  {
   "cell_type": "markdown",
   "id": "ab297e4e",
   "metadata": {},
   "source": [
    "Se cargan los datos desde un github que contiene un archivo csv.\n",
    "Dicho archivo se convierte a un DataFrame de pandas."
   ]
  },
  {
   "cell_type": "code",
   "execution_count": 3,
   "id": "94dd8596",
   "metadata": {},
   "outputs": [],
   "source": [
    "movies_url = 'https://github.com/JuanPabloMF/datasets-platzi-course/raw/master/datasets/peliculas.csv'\n",
    "movies_df = pd.read_csv(movies_url, encoding='utf-8')"
   ]
  },
  {
   "cell_type": "markdown",
   "id": "eabdc645",
   "metadata": {},
   "source": [
    "#### Columnas del DataFrame"
   ]
  },
  {
   "cell_type": "markdown",
   "id": "338b2717",
   "metadata": {},
   "source": [
    "Variables predictoras:  \n",
    "**movie_title**: *Título de la película*  \n",
    "**title_year**: *Año de estreno de la película*  \n",
    "**duration**: *Duración de la película en minutos*  \n",
    "**language**: *Lenguaje original de la película*  \n",
    "**country**: *País que produció la película*  \n",
    "**genres**: *Género(s) de la película*  \n",
    "**content_rating**: *Para qué público va dirigida la película*  \n",
    "**plot_keywords**: *Palabras clave que definen la película*  \n",
    "**director_name**: *Nombre del director principal de la película*  \n",
    "**actor_1_name, actor_2_name, actor_3_name**: *Actores principales que actúan en la película*  \n",
    "**cast_total_facebook_likes**: *Número total de likes que tiene el casting en Facebook*  \n",
    "**budget**: *Cuánto presupuesto tiene la película*  \n",
    "**imdb_score**: *Qué score tiene la película en imdb*  \n",
    "\n",
    "Variable objetivo:  \n",
    "**gross**: *Cuánto generó de ingreso la película*  "
   ]
  },
  {
   "cell_type": "code",
   "execution_count": 4,
   "id": "b8a10971",
   "metadata": {
    "scrolled": false
   },
   "outputs": [
    {
     "data": {
      "text/html": [
       "<div>\n",
       "<style scoped>\n",
       "    .dataframe tbody tr th:only-of-type {\n",
       "        vertical-align: middle;\n",
       "    }\n",
       "\n",
       "    .dataframe tbody tr th {\n",
       "        vertical-align: top;\n",
       "    }\n",
       "\n",
       "    .dataframe thead th {\n",
       "        text-align: right;\n",
       "    }\n",
       "</style>\n",
       "<table border=\"1\" class=\"dataframe\">\n",
       "  <thead>\n",
       "    <tr style=\"text-align: right;\">\n",
       "      <th></th>\n",
       "      <th>movie_title</th>\n",
       "      <th>title_year</th>\n",
       "      <th>color</th>\n",
       "      <th>aspect_ratio</th>\n",
       "      <th>duration</th>\n",
       "      <th>language</th>\n",
       "      <th>country</th>\n",
       "      <th>duration.1</th>\n",
       "      <th>genres</th>\n",
       "      <th>content_rating</th>\n",
       "      <th>plot_keywords</th>\n",
       "      <th>director_name</th>\n",
       "      <th>actor_1_name</th>\n",
       "      <th>actor_2_name</th>\n",
       "      <th>actor_3_name</th>\n",
       "      <th>cast_total_facebook_likes</th>\n",
       "      <th>budget</th>\n",
       "      <th>imdb_score</th>\n",
       "      <th>gross</th>\n",
       "    </tr>\n",
       "  </thead>\n",
       "  <tbody>\n",
       "    <tr>\n",
       "      <th>0</th>\n",
       "      <td>Avatar</td>\n",
       "      <td>2009.0</td>\n",
       "      <td>Color</td>\n",
       "      <td>1.78</td>\n",
       "      <td>178.0</td>\n",
       "      <td>English</td>\n",
       "      <td>USA</td>\n",
       "      <td>178.0</td>\n",
       "      <td>Action|Adventure|Fantasy|Sci-Fi</td>\n",
       "      <td>PG-13</td>\n",
       "      <td>avatar|future|marine|native|paraplegic</td>\n",
       "      <td>James Cameron</td>\n",
       "      <td>CCH Pounder</td>\n",
       "      <td>Joel David Moore</td>\n",
       "      <td>Wes Studi</td>\n",
       "      <td>4834</td>\n",
       "      <td>237000000.0</td>\n",
       "      <td>7.9</td>\n",
       "      <td>760505847.0</td>\n",
       "    </tr>\n",
       "    <tr>\n",
       "      <th>1</th>\n",
       "      <td>Pirates of the Caribbean: At World's End</td>\n",
       "      <td>2007.0</td>\n",
       "      <td>Color</td>\n",
       "      <td>2.35</td>\n",
       "      <td>169.0</td>\n",
       "      <td>English</td>\n",
       "      <td>USA</td>\n",
       "      <td>169.0</td>\n",
       "      <td>Action|Adventure|Fantasy</td>\n",
       "      <td>PG-13</td>\n",
       "      <td>goddess|marriage ceremony|marriage proposal|pi...</td>\n",
       "      <td>Gore Verbinski</td>\n",
       "      <td>Johnny Depp</td>\n",
       "      <td>Orlando Bloom</td>\n",
       "      <td>Jack Davenport</td>\n",
       "      <td>48350</td>\n",
       "      <td>300000000.0</td>\n",
       "      <td>7.1</td>\n",
       "      <td>309404152.0</td>\n",
       "    </tr>\n",
       "    <tr>\n",
       "      <th>2</th>\n",
       "      <td>Spectre</td>\n",
       "      <td>2015.0</td>\n",
       "      <td>Color</td>\n",
       "      <td>2.35</td>\n",
       "      <td>148.0</td>\n",
       "      <td>English</td>\n",
       "      <td>UK</td>\n",
       "      <td>148.0</td>\n",
       "      <td>Action|Adventure|Thriller</td>\n",
       "      <td>PG-13</td>\n",
       "      <td>bomb|espionage|sequel|spy|terrorist</td>\n",
       "      <td>Sam Mendes</td>\n",
       "      <td>Christoph Waltz</td>\n",
       "      <td>Rory Kinnear</td>\n",
       "      <td>Stephanie Sigman</td>\n",
       "      <td>11700</td>\n",
       "      <td>245000000.0</td>\n",
       "      <td>6.8</td>\n",
       "      <td>200074175.0</td>\n",
       "    </tr>\n",
       "    <tr>\n",
       "      <th>3</th>\n",
       "      <td>The Dark Knight Rises</td>\n",
       "      <td>2012.0</td>\n",
       "      <td>Color</td>\n",
       "      <td>2.35</td>\n",
       "      <td>164.0</td>\n",
       "      <td>English</td>\n",
       "      <td>USA</td>\n",
       "      <td>164.0</td>\n",
       "      <td>Action|Thriller</td>\n",
       "      <td>PG-13</td>\n",
       "      <td>deception|imprisonment|lawlessness|police offi...</td>\n",
       "      <td>Christopher Nolan</td>\n",
       "      <td>Tom Hardy</td>\n",
       "      <td>Christian Bale</td>\n",
       "      <td>Joseph Gordon-Levitt</td>\n",
       "      <td>106759</td>\n",
       "      <td>250000000.0</td>\n",
       "      <td>8.5</td>\n",
       "      <td>448130642.0</td>\n",
       "    </tr>\n",
       "    <tr>\n",
       "      <th>4</th>\n",
       "      <td>Star Wars: Episode VII - The Force Awakens    ...</td>\n",
       "      <td>NaN</td>\n",
       "      <td>NaN</td>\n",
       "      <td>NaN</td>\n",
       "      <td>NaN</td>\n",
       "      <td>NaN</td>\n",
       "      <td>NaN</td>\n",
       "      <td>NaN</td>\n",
       "      <td>Documentary</td>\n",
       "      <td>NaN</td>\n",
       "      <td>NaN</td>\n",
       "      <td>Doug Walker</td>\n",
       "      <td>Doug Walker</td>\n",
       "      <td>Rob Walker</td>\n",
       "      <td>NaN</td>\n",
       "      <td>143</td>\n",
       "      <td>NaN</td>\n",
       "      <td>7.1</td>\n",
       "      <td>NaN</td>\n",
       "    </tr>\n",
       "  </tbody>\n",
       "</table>\n",
       "</div>"
      ],
      "text/plain": [
       "                                         movie_title  title_year  color  \\\n",
       "0                                            Avatar       2009.0  Color   \n",
       "1          Pirates of the Caribbean: At World's End       2007.0  Color   \n",
       "2                                           Spectre       2015.0  Color   \n",
       "3                             The Dark Knight Rises       2012.0  Color   \n",
       "4  Star Wars: Episode VII - The Force Awakens    ...         NaN    NaN   \n",
       "\n",
       "   aspect_ratio  duration language country  duration.1  \\\n",
       "0          1.78     178.0  English     USA       178.0   \n",
       "1          2.35     169.0  English     USA       169.0   \n",
       "2          2.35     148.0  English      UK       148.0   \n",
       "3          2.35     164.0  English     USA       164.0   \n",
       "4           NaN       NaN      NaN     NaN         NaN   \n",
       "\n",
       "                            genres content_rating  \\\n",
       "0  Action|Adventure|Fantasy|Sci-Fi          PG-13   \n",
       "1         Action|Adventure|Fantasy          PG-13   \n",
       "2        Action|Adventure|Thriller          PG-13   \n",
       "3                  Action|Thriller          PG-13   \n",
       "4                      Documentary            NaN   \n",
       "\n",
       "                                       plot_keywords      director_name  \\\n",
       "0             avatar|future|marine|native|paraplegic      James Cameron   \n",
       "1  goddess|marriage ceremony|marriage proposal|pi...     Gore Verbinski   \n",
       "2                bomb|espionage|sequel|spy|terrorist         Sam Mendes   \n",
       "3  deception|imprisonment|lawlessness|police offi...  Christopher Nolan   \n",
       "4                                                NaN        Doug Walker   \n",
       "\n",
       "      actor_1_name      actor_2_name          actor_3_name  \\\n",
       "0      CCH Pounder  Joel David Moore             Wes Studi   \n",
       "1      Johnny Depp     Orlando Bloom        Jack Davenport   \n",
       "2  Christoph Waltz      Rory Kinnear      Stephanie Sigman   \n",
       "3        Tom Hardy    Christian Bale  Joseph Gordon-Levitt   \n",
       "4      Doug Walker        Rob Walker                   NaN   \n",
       "\n",
       "   cast_total_facebook_likes       budget  imdb_score        gross  \n",
       "0                       4834  237000000.0         7.9  760505847.0  \n",
       "1                      48350  300000000.0         7.1  309404152.0  \n",
       "2                      11700  245000000.0         6.8  200074175.0  \n",
       "3                     106759  250000000.0         8.5  448130642.0  \n",
       "4                        143          NaN         7.1          NaN  "
      ]
     },
     "execution_count": 4,
     "metadata": {},
     "output_type": "execute_result"
    }
   ],
   "source": [
    "# se visualizan los primeros registros del DataFrame\n",
    "movies_df.head()"
   ]
  },
  {
   "cell_type": "code",
   "execution_count": 5,
   "id": "7057ded4",
   "metadata": {},
   "outputs": [
    {
     "data": {
      "text/plain": [
       "Index(['movie_title', 'title_year', 'color', 'aspect_ratio', 'duration',\n",
       "       'language', 'country', 'duration.1', 'genres', 'content_rating',\n",
       "       'plot_keywords', 'director_name', 'actor_1_name', 'actor_2_name',\n",
       "       'actor_3_name', 'cast_total_facebook_likes', 'budget', 'imdb_score',\n",
       "       'gross'],\n",
       "      dtype='object')"
      ]
     },
     "execution_count": 5,
     "metadata": {},
     "output_type": "execute_result"
    }
   ],
   "source": [
    "# visualización de las columnas\n",
    "movies_df.columns"
   ]
  },
  {
   "cell_type": "markdown",
   "id": "3827ba71",
   "metadata": {},
   "source": [
    "## Entendimiento de los datos"
   ]
  },
  {
   "cell_type": "code",
   "execution_count": 6,
   "id": "54068c7a",
   "metadata": {},
   "outputs": [
    {
     "name": "stdout",
     "output_type": "stream",
     "text": [
      "<class 'pandas.core.frame.DataFrame'>\n",
      "RangeIndex: 5043 entries, 0 to 5042\n",
      "Data columns (total 19 columns):\n",
      " #   Column                     Non-Null Count  Dtype  \n",
      "---  ------                     --------------  -----  \n",
      " 0   movie_title                5043 non-null   object \n",
      " 1   title_year                 4935 non-null   float64\n",
      " 2   color                      5024 non-null   object \n",
      " 3   aspect_ratio               4714 non-null   float64\n",
      " 4   duration                   5028 non-null   float64\n",
      " 5   language                   5031 non-null   object \n",
      " 6   country                    5038 non-null   object \n",
      " 7   duration.1                 5028 non-null   float64\n",
      " 8   genres                     5043 non-null   object \n",
      " 9   content_rating             4740 non-null   object \n",
      " 10  plot_keywords              4890 non-null   object \n",
      " 11  director_name              4939 non-null   object \n",
      " 12  actor_1_name               5036 non-null   object \n",
      " 13  actor_2_name               5030 non-null   object \n",
      " 14  actor_3_name               5020 non-null   object \n",
      " 15  cast_total_facebook_likes  5043 non-null   int64  \n",
      " 16  budget                     4551 non-null   float64\n",
      " 17  imdb_score                 5043 non-null   float64\n",
      " 18  gross                      4159 non-null   float64\n",
      "dtypes: float64(7), int64(1), object(11)\n",
      "memory usage: 748.7+ KB\n"
     ]
    }
   ],
   "source": [
    "movies_df.info()"
   ]
  },
  {
   "cell_type": "code",
   "execution_count": 7,
   "id": "5f8a7618",
   "metadata": {},
   "outputs": [
    {
     "data": {
      "text/plain": [
       "movie_title                   object\n",
       "title_year                   float64\n",
       "color                         object\n",
       "aspect_ratio                 float64\n",
       "duration                     float64\n",
       "language                      object\n",
       "country                       object\n",
       "duration.1                   float64\n",
       "genres                        object\n",
       "content_rating                object\n",
       "plot_keywords                 object\n",
       "director_name                 object\n",
       "actor_1_name                  object\n",
       "actor_2_name                  object\n",
       "actor_3_name                  object\n",
       "cast_total_facebook_likes      int64\n",
       "budget                       float64\n",
       "imdb_score                   float64\n",
       "gross                        float64\n",
       "dtype: object"
      ]
     },
     "execution_count": 7,
     "metadata": {},
     "output_type": "execute_result"
    }
   ],
   "source": [
    "movies_df.dtypes"
   ]
  },
  {
   "cell_type": "markdown",
   "id": "346a6def",
   "metadata": {},
   "source": [
    "#### Separación de datos"
   ]
  },
  {
   "cell_type": "code",
   "execution_count": 8,
   "id": "6b0e074c",
   "metadata": {
    "scrolled": true
   },
   "outputs": [
    {
     "data": {
      "text/html": [
       "<div>\n",
       "<style scoped>\n",
       "    .dataframe tbody tr th:only-of-type {\n",
       "        vertical-align: middle;\n",
       "    }\n",
       "\n",
       "    .dataframe tbody tr th {\n",
       "        vertical-align: top;\n",
       "    }\n",
       "\n",
       "    .dataframe thead th {\n",
       "        text-align: right;\n",
       "    }\n",
       "</style>\n",
       "<table border=\"1\" class=\"dataframe\">\n",
       "  <thead>\n",
       "    <tr style=\"text-align: right;\">\n",
       "      <th></th>\n",
       "      <th>title_year</th>\n",
       "      <th>aspect_ratio</th>\n",
       "      <th>duration</th>\n",
       "      <th>duration.1</th>\n",
       "      <th>cast_total_facebook_likes</th>\n",
       "      <th>budget</th>\n",
       "      <th>imdb_score</th>\n",
       "      <th>gross</th>\n",
       "    </tr>\n",
       "  </thead>\n",
       "  <tbody>\n",
       "    <tr>\n",
       "      <th>0</th>\n",
       "      <td>2009.0</td>\n",
       "      <td>1.78</td>\n",
       "      <td>178.0</td>\n",
       "      <td>178.0</td>\n",
       "      <td>4834</td>\n",
       "      <td>237000000.0</td>\n",
       "      <td>7.9</td>\n",
       "      <td>760505847.0</td>\n",
       "    </tr>\n",
       "    <tr>\n",
       "      <th>1</th>\n",
       "      <td>2007.0</td>\n",
       "      <td>2.35</td>\n",
       "      <td>169.0</td>\n",
       "      <td>169.0</td>\n",
       "      <td>48350</td>\n",
       "      <td>300000000.0</td>\n",
       "      <td>7.1</td>\n",
       "      <td>309404152.0</td>\n",
       "    </tr>\n",
       "    <tr>\n",
       "      <th>2</th>\n",
       "      <td>2015.0</td>\n",
       "      <td>2.35</td>\n",
       "      <td>148.0</td>\n",
       "      <td>148.0</td>\n",
       "      <td>11700</td>\n",
       "      <td>245000000.0</td>\n",
       "      <td>6.8</td>\n",
       "      <td>200074175.0</td>\n",
       "    </tr>\n",
       "    <tr>\n",
       "      <th>3</th>\n",
       "      <td>2012.0</td>\n",
       "      <td>2.35</td>\n",
       "      <td>164.0</td>\n",
       "      <td>164.0</td>\n",
       "      <td>106759</td>\n",
       "      <td>250000000.0</td>\n",
       "      <td>8.5</td>\n",
       "      <td>448130642.0</td>\n",
       "    </tr>\n",
       "    <tr>\n",
       "      <th>4</th>\n",
       "      <td>NaN</td>\n",
       "      <td>NaN</td>\n",
       "      <td>NaN</td>\n",
       "      <td>NaN</td>\n",
       "      <td>143</td>\n",
       "      <td>NaN</td>\n",
       "      <td>7.1</td>\n",
       "      <td>NaN</td>\n",
       "    </tr>\n",
       "  </tbody>\n",
       "</table>\n",
       "</div>"
      ],
      "text/plain": [
       "   title_year  aspect_ratio  duration  duration.1  cast_total_facebook_likes  \\\n",
       "0      2009.0          1.78     178.0       178.0                       4834   \n",
       "1      2007.0          2.35     169.0       169.0                      48350   \n",
       "2      2015.0          2.35     148.0       148.0                      11700   \n",
       "3      2012.0          2.35     164.0       164.0                     106759   \n",
       "4         NaN           NaN       NaN         NaN                        143   \n",
       "\n",
       "        budget  imdb_score        gross  \n",
       "0  237000000.0         7.9  760505847.0  \n",
       "1  300000000.0         7.1  309404152.0  \n",
       "2  245000000.0         6.8  200074175.0  \n",
       "3  250000000.0         8.5  448130642.0  \n",
       "4          NaN         7.1          NaN  "
      ]
     },
     "execution_count": 8,
     "metadata": {},
     "output_type": "execute_result"
    }
   ],
   "source": [
    "# Obtención de columnas numéricas\n",
    "movies_num_df = movies_df.select_dtypes(exclude=['object'])\n",
    "movies_num_df.head()"
   ]
  },
  {
   "cell_type": "code",
   "execution_count": 9,
   "id": "84609e1d",
   "metadata": {
    "scrolled": true
   },
   "outputs": [
    {
     "data": {
      "text/html": [
       "<div>\n",
       "<style scoped>\n",
       "    .dataframe tbody tr th:only-of-type {\n",
       "        vertical-align: middle;\n",
       "    }\n",
       "\n",
       "    .dataframe tbody tr th {\n",
       "        vertical-align: top;\n",
       "    }\n",
       "\n",
       "    .dataframe thead th {\n",
       "        text-align: right;\n",
       "    }\n",
       "</style>\n",
       "<table border=\"1\" class=\"dataframe\">\n",
       "  <thead>\n",
       "    <tr style=\"text-align: right;\">\n",
       "      <th></th>\n",
       "      <th>movie_title</th>\n",
       "      <th>color</th>\n",
       "      <th>language</th>\n",
       "      <th>country</th>\n",
       "      <th>genres</th>\n",
       "      <th>content_rating</th>\n",
       "      <th>plot_keywords</th>\n",
       "      <th>director_name</th>\n",
       "      <th>actor_1_name</th>\n",
       "      <th>actor_2_name</th>\n",
       "      <th>actor_3_name</th>\n",
       "    </tr>\n",
       "  </thead>\n",
       "  <tbody>\n",
       "    <tr>\n",
       "      <th>0</th>\n",
       "      <td>Avatar</td>\n",
       "      <td>Color</td>\n",
       "      <td>English</td>\n",
       "      <td>USA</td>\n",
       "      <td>Action|Adventure|Fantasy|Sci-Fi</td>\n",
       "      <td>PG-13</td>\n",
       "      <td>avatar|future|marine|native|paraplegic</td>\n",
       "      <td>James Cameron</td>\n",
       "      <td>CCH Pounder</td>\n",
       "      <td>Joel David Moore</td>\n",
       "      <td>Wes Studi</td>\n",
       "    </tr>\n",
       "    <tr>\n",
       "      <th>1</th>\n",
       "      <td>Pirates of the Caribbean: At World's End</td>\n",
       "      <td>Color</td>\n",
       "      <td>English</td>\n",
       "      <td>USA</td>\n",
       "      <td>Action|Adventure|Fantasy</td>\n",
       "      <td>PG-13</td>\n",
       "      <td>goddess|marriage ceremony|marriage proposal|pi...</td>\n",
       "      <td>Gore Verbinski</td>\n",
       "      <td>Johnny Depp</td>\n",
       "      <td>Orlando Bloom</td>\n",
       "      <td>Jack Davenport</td>\n",
       "    </tr>\n",
       "    <tr>\n",
       "      <th>2</th>\n",
       "      <td>Spectre</td>\n",
       "      <td>Color</td>\n",
       "      <td>English</td>\n",
       "      <td>UK</td>\n",
       "      <td>Action|Adventure|Thriller</td>\n",
       "      <td>PG-13</td>\n",
       "      <td>bomb|espionage|sequel|spy|terrorist</td>\n",
       "      <td>Sam Mendes</td>\n",
       "      <td>Christoph Waltz</td>\n",
       "      <td>Rory Kinnear</td>\n",
       "      <td>Stephanie Sigman</td>\n",
       "    </tr>\n",
       "    <tr>\n",
       "      <th>3</th>\n",
       "      <td>The Dark Knight Rises</td>\n",
       "      <td>Color</td>\n",
       "      <td>English</td>\n",
       "      <td>USA</td>\n",
       "      <td>Action|Thriller</td>\n",
       "      <td>PG-13</td>\n",
       "      <td>deception|imprisonment|lawlessness|police offi...</td>\n",
       "      <td>Christopher Nolan</td>\n",
       "      <td>Tom Hardy</td>\n",
       "      <td>Christian Bale</td>\n",
       "      <td>Joseph Gordon-Levitt</td>\n",
       "    </tr>\n",
       "    <tr>\n",
       "      <th>4</th>\n",
       "      <td>Star Wars: Episode VII - The Force Awakens    ...</td>\n",
       "      <td>NaN</td>\n",
       "      <td>NaN</td>\n",
       "      <td>NaN</td>\n",
       "      <td>Documentary</td>\n",
       "      <td>NaN</td>\n",
       "      <td>NaN</td>\n",
       "      <td>Doug Walker</td>\n",
       "      <td>Doug Walker</td>\n",
       "      <td>Rob Walker</td>\n",
       "      <td>NaN</td>\n",
       "    </tr>\n",
       "  </tbody>\n",
       "</table>\n",
       "</div>"
      ],
      "text/plain": [
       "                                         movie_title  color language country  \\\n",
       "0                                            Avatar   Color  English     USA   \n",
       "1          Pirates of the Caribbean: At World's End   Color  English     USA   \n",
       "2                                           Spectre   Color  English      UK   \n",
       "3                             The Dark Knight Rises   Color  English     USA   \n",
       "4  Star Wars: Episode VII - The Force Awakens    ...    NaN      NaN     NaN   \n",
       "\n",
       "                            genres content_rating  \\\n",
       "0  Action|Adventure|Fantasy|Sci-Fi          PG-13   \n",
       "1         Action|Adventure|Fantasy          PG-13   \n",
       "2        Action|Adventure|Thriller          PG-13   \n",
       "3                  Action|Thriller          PG-13   \n",
       "4                      Documentary            NaN   \n",
       "\n",
       "                                       plot_keywords      director_name  \\\n",
       "0             avatar|future|marine|native|paraplegic      James Cameron   \n",
       "1  goddess|marriage ceremony|marriage proposal|pi...     Gore Verbinski   \n",
       "2                bomb|espionage|sequel|spy|terrorist         Sam Mendes   \n",
       "3  deception|imprisonment|lawlessness|police offi...  Christopher Nolan   \n",
       "4                                                NaN        Doug Walker   \n",
       "\n",
       "      actor_1_name      actor_2_name          actor_3_name  \n",
       "0      CCH Pounder  Joel David Moore             Wes Studi  \n",
       "1      Johnny Depp     Orlando Bloom        Jack Davenport  \n",
       "2  Christoph Waltz      Rory Kinnear      Stephanie Sigman  \n",
       "3        Tom Hardy    Christian Bale  Joseph Gordon-Levitt  \n",
       "4      Doug Walker        Rob Walker                   NaN  "
      ]
     },
     "execution_count": 9,
     "metadata": {},
     "output_type": "execute_result"
    }
   ],
   "source": [
    "# Obtención de columnas de texto (object)\n",
    "movies_obj_df = movies_df.select_dtypes(include=['object'])\n",
    "movies_obj_df.head()"
   ]
  },
  {
   "cell_type": "markdown",
   "id": "92cec699",
   "metadata": {},
   "source": [
    "#### Estadísticas"
   ]
  },
  {
   "cell_type": "markdown",
   "id": "5d880128",
   "metadata": {},
   "source": [
    "Algunas estadísticas numéricas:  \n",
    "\n",
    "- El promedio de likes del casting de las películas es de **9700 likes**\n",
    "- Una película dura en promedio **107 minutos**\n",
    "- La película con más duración es de **511 minutos**\n",
    "- La película con menos duración es de **7 minutos**"
   ]
  },
  {
   "cell_type": "code",
   "execution_count": 10,
   "id": "83a132a6",
   "metadata": {
    "scrolled": true
   },
   "outputs": [
    {
     "data": {
      "text/html": [
       "<div>\n",
       "<style scoped>\n",
       "    .dataframe tbody tr th:only-of-type {\n",
       "        vertical-align: middle;\n",
       "    }\n",
       "\n",
       "    .dataframe tbody tr th {\n",
       "        vertical-align: top;\n",
       "    }\n",
       "\n",
       "    .dataframe thead th {\n",
       "        text-align: right;\n",
       "    }\n",
       "</style>\n",
       "<table border=\"1\" class=\"dataframe\">\n",
       "  <thead>\n",
       "    <tr style=\"text-align: right;\">\n",
       "      <th></th>\n",
       "      <th>title_year</th>\n",
       "      <th>aspect_ratio</th>\n",
       "      <th>duration</th>\n",
       "      <th>duration.1</th>\n",
       "      <th>cast_total_facebook_likes</th>\n",
       "      <th>budget</th>\n",
       "      <th>imdb_score</th>\n",
       "      <th>gross</th>\n",
       "    </tr>\n",
       "  </thead>\n",
       "  <tbody>\n",
       "    <tr>\n",
       "      <th>count</th>\n",
       "      <td>4935.000000</td>\n",
       "      <td>4714.000000</td>\n",
       "      <td>5028.000000</td>\n",
       "      <td>5028.000000</td>\n",
       "      <td>5043.000000</td>\n",
       "      <td>4.551000e+03</td>\n",
       "      <td>5043.000000</td>\n",
       "      <td>4.159000e+03</td>\n",
       "    </tr>\n",
       "    <tr>\n",
       "      <th>mean</th>\n",
       "      <td>2002.470517</td>\n",
       "      <td>2.220403</td>\n",
       "      <td>107.201074</td>\n",
       "      <td>107.201074</td>\n",
       "      <td>9699.063851</td>\n",
       "      <td>3.975262e+07</td>\n",
       "      <td>6.442138</td>\n",
       "      <td>4.846841e+07</td>\n",
       "    </tr>\n",
       "    <tr>\n",
       "      <th>std</th>\n",
       "      <td>12.474599</td>\n",
       "      <td>1.385113</td>\n",
       "      <td>25.197441</td>\n",
       "      <td>25.197441</td>\n",
       "      <td>18163.799124</td>\n",
       "      <td>2.061149e+08</td>\n",
       "      <td>1.125116</td>\n",
       "      <td>6.845299e+07</td>\n",
       "    </tr>\n",
       "    <tr>\n",
       "      <th>min</th>\n",
       "      <td>1916.000000</td>\n",
       "      <td>1.180000</td>\n",
       "      <td>7.000000</td>\n",
       "      <td>7.000000</td>\n",
       "      <td>0.000000</td>\n",
       "      <td>2.180000e+02</td>\n",
       "      <td>1.600000</td>\n",
       "      <td>1.620000e+02</td>\n",
       "    </tr>\n",
       "    <tr>\n",
       "      <th>25%</th>\n",
       "      <td>1999.000000</td>\n",
       "      <td>1.850000</td>\n",
       "      <td>93.000000</td>\n",
       "      <td>93.000000</td>\n",
       "      <td>1411.000000</td>\n",
       "      <td>6.000000e+06</td>\n",
       "      <td>5.800000</td>\n",
       "      <td>5.340988e+06</td>\n",
       "    </tr>\n",
       "    <tr>\n",
       "      <th>50%</th>\n",
       "      <td>2005.000000</td>\n",
       "      <td>2.350000</td>\n",
       "      <td>103.000000</td>\n",
       "      <td>103.000000</td>\n",
       "      <td>3090.000000</td>\n",
       "      <td>2.000000e+07</td>\n",
       "      <td>6.600000</td>\n",
       "      <td>2.551750e+07</td>\n",
       "    </tr>\n",
       "    <tr>\n",
       "      <th>75%</th>\n",
       "      <td>2011.000000</td>\n",
       "      <td>2.350000</td>\n",
       "      <td>118.000000</td>\n",
       "      <td>118.000000</td>\n",
       "      <td>13756.500000</td>\n",
       "      <td>4.500000e+07</td>\n",
       "      <td>7.200000</td>\n",
       "      <td>6.230944e+07</td>\n",
       "    </tr>\n",
       "    <tr>\n",
       "      <th>max</th>\n",
       "      <td>2016.000000</td>\n",
       "      <td>16.000000</td>\n",
       "      <td>511.000000</td>\n",
       "      <td>511.000000</td>\n",
       "      <td>656730.000000</td>\n",
       "      <td>1.221550e+10</td>\n",
       "      <td>9.500000</td>\n",
       "      <td>7.605058e+08</td>\n",
       "    </tr>\n",
       "  </tbody>\n",
       "</table>\n",
       "</div>"
      ],
      "text/plain": [
       "        title_year  aspect_ratio     duration   duration.1  \\\n",
       "count  4935.000000   4714.000000  5028.000000  5028.000000   \n",
       "mean   2002.470517      2.220403   107.201074   107.201074   \n",
       "std      12.474599      1.385113    25.197441    25.197441   \n",
       "min    1916.000000      1.180000     7.000000     7.000000   \n",
       "25%    1999.000000      1.850000    93.000000    93.000000   \n",
       "50%    2005.000000      2.350000   103.000000   103.000000   \n",
       "75%    2011.000000      2.350000   118.000000   118.000000   \n",
       "max    2016.000000     16.000000   511.000000   511.000000   \n",
       "\n",
       "       cast_total_facebook_likes        budget   imdb_score         gross  \n",
       "count                5043.000000  4.551000e+03  5043.000000  4.159000e+03  \n",
       "mean                 9699.063851  3.975262e+07     6.442138  4.846841e+07  \n",
       "std                 18163.799124  2.061149e+08     1.125116  6.845299e+07  \n",
       "min                     0.000000  2.180000e+02     1.600000  1.620000e+02  \n",
       "25%                  1411.000000  6.000000e+06     5.800000  5.340988e+06  \n",
       "50%                  3090.000000  2.000000e+07     6.600000  2.551750e+07  \n",
       "75%                 13756.500000  4.500000e+07     7.200000  6.230944e+07  \n",
       "max                656730.000000  1.221550e+10     9.500000  7.605058e+08  "
      ]
     },
     "execution_count": 10,
     "metadata": {},
     "output_type": "execute_result"
    }
   ],
   "source": [
    "# Estadísticas de las columnas numéricas\n",
    "movies_num_df.describe()"
   ]
  },
  {
   "cell_type": "code",
   "execution_count": 11,
   "id": "fe6691b1",
   "metadata": {
    "scrolled": true
   },
   "outputs": [
    {
     "data": {
      "text/plain": [
       "<AxesSubplot:>"
      ]
     },
     "execution_count": 11,
     "metadata": {},
     "output_type": "execute_result"
    },
    {
     "data": {
      "image/png": "[encoded data removed]",
      "text/plain": [
       "<Figure size 432x288 with 1 Axes>"
      ]
     },
     "metadata": {
      "needs_background": "light"
     },
     "output_type": "display_data"
    }
   ],
   "source": [
    "movies_num_df['duration'].hist()"
   ]
  },
  {
   "cell_type": "code",
   "execution_count": 12,
   "id": "e7e9dd52",
   "metadata": {
    "scrolled": true
   },
   "outputs": [
    {
     "data": {
      "text/plain": [
       "<AxesSubplot:>"
      ]
     },
     "execution_count": 12,
     "metadata": {},
     "output_type": "execute_result"
    },
    {
     "data": {
      "image/png": "[encoded data removed]",
      "text/plain": [
       "<Figure size 432x288 with 1 Axes>"
      ]
     },
     "metadata": {
      "needs_background": "light"
     },
     "output_type": "display_data"
    }
   ],
   "source": [
    "movies_num_df['imdb_score'].hist()"
   ]
  },
  {
   "cell_type": "code",
   "execution_count": 13,
   "id": "9f8d8862",
   "metadata": {
    "scrolled": false
   },
   "outputs": [
    {
     "data": {
      "text/plain": [
       "<AxesSubplot:>"
      ]
     },
     "execution_count": 13,
     "metadata": {},
     "output_type": "execute_result"
    },
    {
     "data": {
      "image/png": "[encoded data removed]",
      "text/plain": [
       "<Figure size 432x288 with 1 Axes>"
      ]
     },
     "metadata": {
      "needs_background": "light"
     },
     "output_type": "display_data"
    }
   ],
   "source": [
    "movies_num_df['budget'].hist()"
   ]
  },
  {
   "cell_type": "markdown",
   "id": "b531569a",
   "metadata": {},
   "source": [
    "Se alcanzan a ver problemas de limpieza de los datos. La BDD fue creada sin diferenciar:\n",
    "\n",
    "- La moneda en la que se ingresaba el presupuesto y el ingreso.\n",
    "- La zona(país/mundial) en la que se registró el ingreso.\n",
    "\n",
    "Se arreglará haciendo un merge con otro dataset."
   ]
  },
  {
   "cell_type": "markdown",
   "id": "1af0b48a",
   "metadata": {},
   "source": [
    "### Haciendo un Join entre dos datasets"
   ]
  },
  {
   "cell_type": "code",
   "execution_count": 14,
   "id": "aeec2438",
   "metadata": {
    "scrolled": true
   },
   "outputs": [],
   "source": [
    "thenumbers_url = 'https://raw.githubusercontent.com/JuanPabloMF/datasets-platzi-course/master/datasets/thenumbers.csv'\n",
    "financials_df = pd.read_csv(thenumbers_url, encoding='utf-8')"
   ]
  },
  {
   "cell_type": "code",
   "execution_count": 15,
   "id": "1c528072",
   "metadata": {},
   "outputs": [],
   "source": [
    "financials_df = financials_df[['movie_title', 'production_budget', 'worldwide_gross']]"
   ]
  },
  {
   "cell_type": "code",
   "execution_count": 16,
   "id": "47916b47",
   "metadata": {
    "scrolled": true
   },
   "outputs": [
    {
     "data": {
      "text/html": [
       "<div>\n",
       "<style scoped>\n",
       "    .dataframe tbody tr th:only-of-type {\n",
       "        vertical-align: middle;\n",
       "    }\n",
       "\n",
       "    .dataframe tbody tr th {\n",
       "        vertical-align: top;\n",
       "    }\n",
       "\n",
       "    .dataframe thead th {\n",
       "        text-align: right;\n",
       "    }\n",
       "</style>\n",
       "<table border=\"1\" class=\"dataframe\">\n",
       "  <thead>\n",
       "    <tr style=\"text-align: right;\">\n",
       "      <th></th>\n",
       "      <th>movie_title</th>\n",
       "      <th>production_budget</th>\n",
       "      <th>worldwide_gross</th>\n",
       "    </tr>\n",
       "  </thead>\n",
       "  <tbody>\n",
       "    <tr>\n",
       "      <th>0</th>\n",
       "      <td>Avatar</td>\n",
       "      <td>425000000</td>\n",
       "      <td>2783918982</td>\n",
       "    </tr>\n",
       "    <tr>\n",
       "      <th>1</th>\n",
       "      <td>Star Wars: Episode VII - The Force Awakens    ...</td>\n",
       "      <td>306000000</td>\n",
       "      <td>2058662225</td>\n",
       "    </tr>\n",
       "    <tr>\n",
       "      <th>2</th>\n",
       "      <td>Pirates of the Caribbean: At World's End</td>\n",
       "      <td>300000000</td>\n",
       "      <td>963420425</td>\n",
       "    </tr>\n",
       "    <tr>\n",
       "      <th>3</th>\n",
       "      <td>Spectre</td>\n",
       "      <td>300000000</td>\n",
       "      <td>879620923</td>\n",
       "    </tr>\n",
       "    <tr>\n",
       "      <th>4</th>\n",
       "      <td>The Dark Knight Rises</td>\n",
       "      <td>275000000</td>\n",
       "      <td>1084439099</td>\n",
       "    </tr>\n",
       "    <tr>\n",
       "      <th>...</th>\n",
       "      <td>...</td>\n",
       "      <td>...</td>\n",
       "      <td>...</td>\n",
       "    </tr>\n",
       "    <tr>\n",
       "      <th>4336</th>\n",
       "      <td>The Mongol King</td>\n",
       "      <td>7000</td>\n",
       "      <td>900</td>\n",
       "    </tr>\n",
       "    <tr>\n",
       "      <th>4337</th>\n",
       "      <td>Signed Sealed Delivered</td>\n",
       "      <td>5000</td>\n",
       "      <td>0</td>\n",
       "    </tr>\n",
       "    <tr>\n",
       "      <th>4338</th>\n",
       "      <td>Shanghai Calling</td>\n",
       "      <td>3967</td>\n",
       "      <td>10443</td>\n",
       "    </tr>\n",
       "    <tr>\n",
       "      <th>4339</th>\n",
       "      <td>A Plague So Pleasant</td>\n",
       "      <td>1400</td>\n",
       "      <td>0</td>\n",
       "    </tr>\n",
       "    <tr>\n",
       "      <th>4340</th>\n",
       "      <td>My Date with Drew</td>\n",
       "      <td>1100</td>\n",
       "      <td>181041</td>\n",
       "    </tr>\n",
       "  </tbody>\n",
       "</table>\n",
       "<p>4341 rows × 3 columns</p>\n",
       "</div>"
      ],
      "text/plain": [
       "                                            movie_title  production_budget  \\\n",
       "0                                               Avatar           425000000   \n",
       "1     Star Wars: Episode VII - The Force Awakens    ...          306000000   \n",
       "2             Pirates of the Caribbean: At World's End           300000000   \n",
       "3                                              Spectre           300000000   \n",
       "4                                The Dark Knight Rises           275000000   \n",
       "...                                                 ...                ...   \n",
       "4336                                   The Mongol King                7000   \n",
       "4337                           Signed Sealed Delivered                5000   \n",
       "4338                                  Shanghai Calling                3967   \n",
       "4339                              A Plague So Pleasant                1400   \n",
       "4340                                 My Date with Drew                1100   \n",
       "\n",
       "      worldwide_gross  \n",
       "0          2783918982  \n",
       "1          2058662225  \n",
       "2           963420425  \n",
       "3           879620923  \n",
       "4          1084439099  \n",
       "...               ...  \n",
       "4336              900  \n",
       "4337                0  \n",
       "4338            10443  \n",
       "4339                0  \n",
       "4340           181041  \n",
       "\n",
       "[4341 rows x 3 columns]"
      ]
     },
     "execution_count": 16,
     "metadata": {},
     "output_type": "execute_result"
    }
   ],
   "source": [
    "financials_df"
   ]
  },
  {
   "cell_type": "code",
   "execution_count": 17,
   "id": "8b8721a1",
   "metadata": {
    "scrolled": false
   },
   "outputs": [
    {
     "name": "stdout",
     "output_type": "stream",
     "text": [
      "(4341, 3)\n",
      "(5043, 19)\n"
     ]
    }
   ],
   "source": [
    "print(financials_df.shape)\n",
    "print(movies_df.shape)"
   ]
  },
  {
   "cell_type": "markdown",
   "id": "50b6e102",
   "metadata": {},
   "source": [
    "En este caso se priorizará la calidad de los datos sobre la cantidad.\n",
    "Tendremos que trabajar con los 4341 datos que tiene el dataframe financials."
   ]
  },
  {
   "cell_type": "markdown",
   "id": "f33b346d",
   "metadata": {},
   "source": [
    "Antes de poder aplicar la función merge de pandas, se necesita agregar la misma llave con la que se podrá hacer el join al dataframe numérico de películas (porque no tiene la columna movie_titles)."
   ]
  },
  {
   "cell_type": "markdown",
   "id": "c8344496",
   "metadata": {},
   "source": [
    "Hay que **concatenar** la columna"
   ]
  },
  {
   "cell_type": "code",
   "execution_count": 18,
   "id": "2b4fc3f3",
   "metadata": {},
   "outputs": [
    {
     "data": {
      "text/plain": [
       "0                                              Avatar \n",
       "1            Pirates of the Caribbean: At World's End \n",
       "2                                             Spectre \n",
       "3                               The Dark Knight Rises \n",
       "4    Star Wars: Episode VII - The Force Awakens    ...\n",
       "Name: movie_title, dtype: object"
      ]
     },
     "execution_count": 18,
     "metadata": {},
     "output_type": "execute_result"
    }
   ],
   "source": [
    "movies_df['movie_title'].head()"
   ]
  },
  {
   "cell_type": "markdown",
   "id": "633f9cf5",
   "metadata": {},
   "source": [
    "con..."
   ]
  },
  {
   "cell_type": "code",
   "execution_count": 19,
   "id": "d79c0633",
   "metadata": {},
   "outputs": [
    {
     "data": {
      "text/html": [
       "<div>\n",
       "<style scoped>\n",
       "    .dataframe tbody tr th:only-of-type {\n",
       "        vertical-align: middle;\n",
       "    }\n",
       "\n",
       "    .dataframe tbody tr th {\n",
       "        vertical-align: top;\n",
       "    }\n",
       "\n",
       "    .dataframe thead th {\n",
       "        text-align: right;\n",
       "    }\n",
       "</style>\n",
       "<table border=\"1\" class=\"dataframe\">\n",
       "  <thead>\n",
       "    <tr style=\"text-align: right;\">\n",
       "      <th></th>\n",
       "      <th>title_year</th>\n",
       "      <th>aspect_ratio</th>\n",
       "      <th>duration</th>\n",
       "      <th>duration.1</th>\n",
       "      <th>cast_total_facebook_likes</th>\n",
       "      <th>budget</th>\n",
       "      <th>imdb_score</th>\n",
       "      <th>gross</th>\n",
       "    </tr>\n",
       "  </thead>\n",
       "  <tbody>\n",
       "    <tr>\n",
       "      <th>0</th>\n",
       "      <td>2009.0</td>\n",
       "      <td>1.78</td>\n",
       "      <td>178.0</td>\n",
       "      <td>178.0</td>\n",
       "      <td>4834</td>\n",
       "      <td>237000000.0</td>\n",
       "      <td>7.9</td>\n",
       "      <td>760505847.0</td>\n",
       "    </tr>\n",
       "    <tr>\n",
       "      <th>1</th>\n",
       "      <td>2007.0</td>\n",
       "      <td>2.35</td>\n",
       "      <td>169.0</td>\n",
       "      <td>169.0</td>\n",
       "      <td>48350</td>\n",
       "      <td>300000000.0</td>\n",
       "      <td>7.1</td>\n",
       "      <td>309404152.0</td>\n",
       "    </tr>\n",
       "    <tr>\n",
       "      <th>2</th>\n",
       "      <td>2015.0</td>\n",
       "      <td>2.35</td>\n",
       "      <td>148.0</td>\n",
       "      <td>148.0</td>\n",
       "      <td>11700</td>\n",
       "      <td>245000000.0</td>\n",
       "      <td>6.8</td>\n",
       "      <td>200074175.0</td>\n",
       "    </tr>\n",
       "    <tr>\n",
       "      <th>3</th>\n",
       "      <td>2012.0</td>\n",
       "      <td>2.35</td>\n",
       "      <td>164.0</td>\n",
       "      <td>164.0</td>\n",
       "      <td>106759</td>\n",
       "      <td>250000000.0</td>\n",
       "      <td>8.5</td>\n",
       "      <td>448130642.0</td>\n",
       "    </tr>\n",
       "    <tr>\n",
       "      <th>4</th>\n",
       "      <td>NaN</td>\n",
       "      <td>NaN</td>\n",
       "      <td>NaN</td>\n",
       "      <td>NaN</td>\n",
       "      <td>143</td>\n",
       "      <td>NaN</td>\n",
       "      <td>7.1</td>\n",
       "      <td>NaN</td>\n",
       "    </tr>\n",
       "  </tbody>\n",
       "</table>\n",
       "</div>"
      ],
      "text/plain": [
       "   title_year  aspect_ratio  duration  duration.1  cast_total_facebook_likes  \\\n",
       "0      2009.0          1.78     178.0       178.0                       4834   \n",
       "1      2007.0          2.35     169.0       169.0                      48350   \n",
       "2      2015.0          2.35     148.0       148.0                      11700   \n",
       "3      2012.0          2.35     164.0       164.0                     106759   \n",
       "4         NaN           NaN       NaN         NaN                        143   \n",
       "\n",
       "        budget  imdb_score        gross  \n",
       "0  237000000.0         7.9  760505847.0  \n",
       "1  300000000.0         7.1  309404152.0  \n",
       "2  245000000.0         6.8  200074175.0  \n",
       "3  250000000.0         8.5  448130642.0  \n",
       "4          NaN         7.1          NaN  "
      ]
     },
     "execution_count": 19,
     "metadata": {},
     "output_type": "execute_result"
    }
   ],
   "source": [
    "movies_num_df.head()"
   ]
  },
  {
   "cell_type": "code",
   "execution_count": 20,
   "id": "b8278388",
   "metadata": {
    "scrolled": true
   },
   "outputs": [
    {
     "data": {
      "text/html": [
       "<div>\n",
       "<style scoped>\n",
       "    .dataframe tbody tr th:only-of-type {\n",
       "        vertical-align: middle;\n",
       "    }\n",
       "\n",
       "    .dataframe tbody tr th {\n",
       "        vertical-align: top;\n",
       "    }\n",
       "\n",
       "    .dataframe thead th {\n",
       "        text-align: right;\n",
       "    }\n",
       "</style>\n",
       "<table border=\"1\" class=\"dataframe\">\n",
       "  <thead>\n",
       "    <tr style=\"text-align: right;\">\n",
       "      <th></th>\n",
       "      <th>title_year</th>\n",
       "      <th>aspect_ratio</th>\n",
       "      <th>duration</th>\n",
       "      <th>duration.1</th>\n",
       "      <th>cast_total_facebook_likes</th>\n",
       "      <th>budget</th>\n",
       "      <th>imdb_score</th>\n",
       "      <th>gross</th>\n",
       "      <th>movie_title</th>\n",
       "    </tr>\n",
       "  </thead>\n",
       "  <tbody>\n",
       "    <tr>\n",
       "      <th>0</th>\n",
       "      <td>2009.0</td>\n",
       "      <td>1.78</td>\n",
       "      <td>178.0</td>\n",
       "      <td>178.0</td>\n",
       "      <td>4834</td>\n",
       "      <td>237000000.0</td>\n",
       "      <td>7.9</td>\n",
       "      <td>760505847.0</td>\n",
       "      <td>Avatar</td>\n",
       "    </tr>\n",
       "    <tr>\n",
       "      <th>1</th>\n",
       "      <td>2007.0</td>\n",
       "      <td>2.35</td>\n",
       "      <td>169.0</td>\n",
       "      <td>169.0</td>\n",
       "      <td>48350</td>\n",
       "      <td>300000000.0</td>\n",
       "      <td>7.1</td>\n",
       "      <td>309404152.0</td>\n",
       "      <td>Pirates of the Caribbean: At World's End</td>\n",
       "    </tr>\n",
       "    <tr>\n",
       "      <th>2</th>\n",
       "      <td>2015.0</td>\n",
       "      <td>2.35</td>\n",
       "      <td>148.0</td>\n",
       "      <td>148.0</td>\n",
       "      <td>11700</td>\n",
       "      <td>245000000.0</td>\n",
       "      <td>6.8</td>\n",
       "      <td>200074175.0</td>\n",
       "      <td>Spectre</td>\n",
       "    </tr>\n",
       "    <tr>\n",
       "      <th>3</th>\n",
       "      <td>2012.0</td>\n",
       "      <td>2.35</td>\n",
       "      <td>164.0</td>\n",
       "      <td>164.0</td>\n",
       "      <td>106759</td>\n",
       "      <td>250000000.0</td>\n",
       "      <td>8.5</td>\n",
       "      <td>448130642.0</td>\n",
       "      <td>The Dark Knight Rises</td>\n",
       "    </tr>\n",
       "    <tr>\n",
       "      <th>4</th>\n",
       "      <td>NaN</td>\n",
       "      <td>NaN</td>\n",
       "      <td>NaN</td>\n",
       "      <td>NaN</td>\n",
       "      <td>143</td>\n",
       "      <td>NaN</td>\n",
       "      <td>7.1</td>\n",
       "      <td>NaN</td>\n",
       "      <td>Star Wars: Episode VII - The Force Awakens    ...</td>\n",
       "    </tr>\n",
       "    <tr>\n",
       "      <th>...</th>\n",
       "      <td>...</td>\n",
       "      <td>...</td>\n",
       "      <td>...</td>\n",
       "      <td>...</td>\n",
       "      <td>...</td>\n",
       "      <td>...</td>\n",
       "      <td>...</td>\n",
       "      <td>...</td>\n",
       "      <td>...</td>\n",
       "    </tr>\n",
       "    <tr>\n",
       "      <th>5038</th>\n",
       "      <td>2013.0</td>\n",
       "      <td>NaN</td>\n",
       "      <td>87.0</td>\n",
       "      <td>87.0</td>\n",
       "      <td>2283</td>\n",
       "      <td>NaN</td>\n",
       "      <td>7.7</td>\n",
       "      <td>NaN</td>\n",
       "      <td>Signed Sealed Delivered</td>\n",
       "    </tr>\n",
       "    <tr>\n",
       "      <th>5039</th>\n",
       "      <td>NaN</td>\n",
       "      <td>16.00</td>\n",
       "      <td>43.0</td>\n",
       "      <td>43.0</td>\n",
       "      <td>1753</td>\n",
       "      <td>NaN</td>\n",
       "      <td>7.5</td>\n",
       "      <td>NaN</td>\n",
       "      <td>The Following</td>\n",
       "    </tr>\n",
       "    <tr>\n",
       "      <th>5040</th>\n",
       "      <td>2013.0</td>\n",
       "      <td>NaN</td>\n",
       "      <td>76.0</td>\n",
       "      <td>76.0</td>\n",
       "      <td>0</td>\n",
       "      <td>1400.0</td>\n",
       "      <td>6.3</td>\n",
       "      <td>NaN</td>\n",
       "      <td>A Plague So Pleasant</td>\n",
       "    </tr>\n",
       "    <tr>\n",
       "      <th>5041</th>\n",
       "      <td>2012.0</td>\n",
       "      <td>2.35</td>\n",
       "      <td>100.0</td>\n",
       "      <td>100.0</td>\n",
       "      <td>2386</td>\n",
       "      <td>NaN</td>\n",
       "      <td>6.3</td>\n",
       "      <td>10443.0</td>\n",
       "      <td>Shanghai Calling</td>\n",
       "    </tr>\n",
       "    <tr>\n",
       "      <th>5042</th>\n",
       "      <td>2004.0</td>\n",
       "      <td>1.85</td>\n",
       "      <td>90.0</td>\n",
       "      <td>90.0</td>\n",
       "      <td>163</td>\n",
       "      <td>1100.0</td>\n",
       "      <td>6.6</td>\n",
       "      <td>85222.0</td>\n",
       "      <td>My Date with Drew</td>\n",
       "    </tr>\n",
       "  </tbody>\n",
       "</table>\n",
       "<p>5043 rows × 9 columns</p>\n",
       "</div>"
      ],
      "text/plain": [
       "      title_year  aspect_ratio  duration  duration.1  \\\n",
       "0         2009.0          1.78     178.0       178.0   \n",
       "1         2007.0          2.35     169.0       169.0   \n",
       "2         2015.0          2.35     148.0       148.0   \n",
       "3         2012.0          2.35     164.0       164.0   \n",
       "4            NaN           NaN       NaN         NaN   \n",
       "...          ...           ...       ...         ...   \n",
       "5038      2013.0           NaN      87.0        87.0   \n",
       "5039         NaN         16.00      43.0        43.0   \n",
       "5040      2013.0           NaN      76.0        76.0   \n",
       "5041      2012.0          2.35     100.0       100.0   \n",
       "5042      2004.0          1.85      90.0        90.0   \n",
       "\n",
       "      cast_total_facebook_likes       budget  imdb_score        gross  \\\n",
       "0                          4834  237000000.0         7.9  760505847.0   \n",
       "1                         48350  300000000.0         7.1  309404152.0   \n",
       "2                         11700  245000000.0         6.8  200074175.0   \n",
       "3                        106759  250000000.0         8.5  448130642.0   \n",
       "4                           143          NaN         7.1          NaN   \n",
       "...                         ...          ...         ...          ...   \n",
       "5038                       2283          NaN         7.7          NaN   \n",
       "5039                       1753          NaN         7.5          NaN   \n",
       "5040                          0       1400.0         6.3          NaN   \n",
       "5041                       2386          NaN         6.3      10443.0   \n",
       "5042                        163       1100.0         6.6      85222.0   \n",
       "\n",
       "                                            movie_title  \n",
       "0                                               Avatar   \n",
       "1             Pirates of the Caribbean: At World's End   \n",
       "2                                              Spectre   \n",
       "3                                The Dark Knight Rises   \n",
       "4     Star Wars: Episode VII - The Force Awakens    ...  \n",
       "...                                                 ...  \n",
       "5038                           Signed Sealed Delivered   \n",
       "5039                         The Following               \n",
       "5040                              A Plague So Pleasant   \n",
       "5041                                  Shanghai Calling   \n",
       "5042                                 My Date with Drew   \n",
       "\n",
       "[5043 rows x 9 columns]"
      ]
     },
     "execution_count": 20,
     "metadata": {},
     "output_type": "execute_result"
    }
   ],
   "source": [
    "# Al dataframe movies_num_df se le concatena la columa movie_title. axis=1 -> concatenación de columna.\n",
    "movies_num_df = pd.concat([movies_num_df, movies_df['movie_title']], axis=1)\n",
    "movies_num_df"
   ]
  },
  {
   "cell_type": "markdown",
   "id": "38793b58",
   "metadata": {},
   "source": [
    "Se hace el merge, uniendo el DataFrame financials con el de movies_num_df.  \n",
    "La llave para hacer el join será 'movie_title'.  \n",
    "El Join será de tipo Left. Guardará las llaves que estén presentes siempre en financials y no solamente en movies_num_df."
   ]
  },
  {
   "cell_type": "code",
   "execution_count": 21,
   "id": "ff72f322",
   "metadata": {},
   "outputs": [],
   "source": [
    "movies_df_v2 = pd.merge(financials_df, movies_num_df, on='movie_title', how='left')"
   ]
  },
  {
   "cell_type": "code",
   "execution_count": 22,
   "id": "decefde4",
   "metadata": {},
   "outputs": [
    {
     "data": {
      "text/html": [
       "<div>\n",
       "<style scoped>\n",
       "    .dataframe tbody tr th:only-of-type {\n",
       "        vertical-align: middle;\n",
       "    }\n",
       "\n",
       "    .dataframe tbody tr th {\n",
       "        vertical-align: top;\n",
       "    }\n",
       "\n",
       "    .dataframe thead th {\n",
       "        text-align: right;\n",
       "    }\n",
       "</style>\n",
       "<table border=\"1\" class=\"dataframe\">\n",
       "  <thead>\n",
       "    <tr style=\"text-align: right;\">\n",
       "      <th></th>\n",
       "      <th>movie_title</th>\n",
       "      <th>production_budget</th>\n",
       "      <th>worldwide_gross</th>\n",
       "      <th>title_year</th>\n",
       "      <th>aspect_ratio</th>\n",
       "      <th>duration</th>\n",
       "      <th>duration.1</th>\n",
       "      <th>cast_total_facebook_likes</th>\n",
       "      <th>budget</th>\n",
       "      <th>imdb_score</th>\n",
       "      <th>gross</th>\n",
       "    </tr>\n",
       "  </thead>\n",
       "  <tbody>\n",
       "    <tr>\n",
       "      <th>0</th>\n",
       "      <td>Avatar</td>\n",
       "      <td>425000000</td>\n",
       "      <td>2783918982</td>\n",
       "      <td>2009.0</td>\n",
       "      <td>1.78</td>\n",
       "      <td>178.0</td>\n",
       "      <td>178.0</td>\n",
       "      <td>4834</td>\n",
       "      <td>237000000.0</td>\n",
       "      <td>7.9</td>\n",
       "      <td>760505847.0</td>\n",
       "    </tr>\n",
       "    <tr>\n",
       "      <th>1</th>\n",
       "      <td>Star Wars: Episode VII - The Force Awakens    ...</td>\n",
       "      <td>306000000</td>\n",
       "      <td>2058662225</td>\n",
       "      <td>NaN</td>\n",
       "      <td>NaN</td>\n",
       "      <td>NaN</td>\n",
       "      <td>NaN</td>\n",
       "      <td>143</td>\n",
       "      <td>NaN</td>\n",
       "      <td>7.1</td>\n",
       "      <td>NaN</td>\n",
       "    </tr>\n",
       "    <tr>\n",
       "      <th>2</th>\n",
       "      <td>Pirates of the Caribbean: At World's End</td>\n",
       "      <td>300000000</td>\n",
       "      <td>963420425</td>\n",
       "      <td>2007.0</td>\n",
       "      <td>2.35</td>\n",
       "      <td>169.0</td>\n",
       "      <td>169.0</td>\n",
       "      <td>48350</td>\n",
       "      <td>300000000.0</td>\n",
       "      <td>7.1</td>\n",
       "      <td>309404152.0</td>\n",
       "    </tr>\n",
       "    <tr>\n",
       "      <th>3</th>\n",
       "      <td>Spectre</td>\n",
       "      <td>300000000</td>\n",
       "      <td>879620923</td>\n",
       "      <td>2015.0</td>\n",
       "      <td>2.35</td>\n",
       "      <td>148.0</td>\n",
       "      <td>148.0</td>\n",
       "      <td>11700</td>\n",
       "      <td>245000000.0</td>\n",
       "      <td>6.8</td>\n",
       "      <td>200074175.0</td>\n",
       "    </tr>\n",
       "    <tr>\n",
       "      <th>4</th>\n",
       "      <td>The Dark Knight Rises</td>\n",
       "      <td>275000000</td>\n",
       "      <td>1084439099</td>\n",
       "      <td>2012.0</td>\n",
       "      <td>2.35</td>\n",
       "      <td>164.0</td>\n",
       "      <td>164.0</td>\n",
       "      <td>106759</td>\n",
       "      <td>250000000.0</td>\n",
       "      <td>8.5</td>\n",
       "      <td>448130642.0</td>\n",
       "    </tr>\n",
       "  </tbody>\n",
       "</table>\n",
       "</div>"
      ],
      "text/plain": [
       "                                         movie_title  production_budget  \\\n",
       "0                                            Avatar           425000000   \n",
       "1  Star Wars: Episode VII - The Force Awakens    ...          306000000   \n",
       "2          Pirates of the Caribbean: At World's End           300000000   \n",
       "3                                           Spectre           300000000   \n",
       "4                             The Dark Knight Rises           275000000   \n",
       "\n",
       "   worldwide_gross  title_year  aspect_ratio  duration  duration.1  \\\n",
       "0       2783918982      2009.0          1.78     178.0       178.0   \n",
       "1       2058662225         NaN           NaN       NaN         NaN   \n",
       "2        963420425      2007.0          2.35     169.0       169.0   \n",
       "3        879620923      2015.0          2.35     148.0       148.0   \n",
       "4       1084439099      2012.0          2.35     164.0       164.0   \n",
       "\n",
       "   cast_total_facebook_likes       budget  imdb_score        gross  \n",
       "0                       4834  237000000.0         7.9  760505847.0  \n",
       "1                        143          NaN         7.1          NaN  \n",
       "2                      48350  300000000.0         7.1  309404152.0  \n",
       "3                      11700  245000000.0         6.8  200074175.0  \n",
       "4                     106759  250000000.0         8.5  448130642.0  "
      ]
     },
     "execution_count": 22,
     "metadata": {},
     "output_type": "execute_result"
    }
   ],
   "source": [
    "movies_df_v2.head()"
   ]
  },
  {
   "cell_type": "code",
   "execution_count": 23,
   "id": "2e163e7c",
   "metadata": {},
   "outputs": [
    {
     "data": {
      "text/plain": [
       "(4385, 11)"
      ]
     },
     "execution_count": 23,
     "metadata": {},
     "output_type": "execute_result"
    }
   ],
   "source": [
    "movies_df_v2.shape"
   ]
  },
  {
   "cell_type": "markdown",
   "id": "0eb6502b",
   "metadata": {},
   "source": [
    "### Limpieza de Datos Nulos"
   ]
  },
  {
   "cell_type": "code",
   "execution_count": 24,
   "id": "8de8f60a",
   "metadata": {},
   "outputs": [
    {
     "data": {
      "text/html": [
       "<div>\n",
       "<style scoped>\n",
       "    .dataframe tbody tr th:only-of-type {\n",
       "        vertical-align: middle;\n",
       "    }\n",
       "\n",
       "    .dataframe tbody tr th {\n",
       "        vertical-align: top;\n",
       "    }\n",
       "\n",
       "    .dataframe thead th {\n",
       "        text-align: right;\n",
       "    }\n",
       "</style>\n",
       "<table border=\"1\" class=\"dataframe\">\n",
       "  <thead>\n",
       "    <tr style=\"text-align: right;\">\n",
       "      <th></th>\n",
       "      <th>movie_title</th>\n",
       "      <th>production_budget</th>\n",
       "      <th>worldwide_gross</th>\n",
       "      <th>title_year</th>\n",
       "      <th>aspect_ratio</th>\n",
       "      <th>duration</th>\n",
       "      <th>duration.1</th>\n",
       "      <th>cast_total_facebook_likes</th>\n",
       "      <th>budget</th>\n",
       "      <th>imdb_score</th>\n",
       "      <th>gross</th>\n",
       "    </tr>\n",
       "  </thead>\n",
       "  <tbody>\n",
       "    <tr>\n",
       "      <th>0</th>\n",
       "      <td>True</td>\n",
       "      <td>True</td>\n",
       "      <td>True</td>\n",
       "      <td>True</td>\n",
       "      <td>True</td>\n",
       "      <td>True</td>\n",
       "      <td>True</td>\n",
       "      <td>True</td>\n",
       "      <td>True</td>\n",
       "      <td>True</td>\n",
       "      <td>True</td>\n",
       "    </tr>\n",
       "    <tr>\n",
       "      <th>1</th>\n",
       "      <td>True</td>\n",
       "      <td>True</td>\n",
       "      <td>True</td>\n",
       "      <td>False</td>\n",
       "      <td>False</td>\n",
       "      <td>False</td>\n",
       "      <td>False</td>\n",
       "      <td>True</td>\n",
       "      <td>False</td>\n",
       "      <td>True</td>\n",
       "      <td>False</td>\n",
       "    </tr>\n",
       "    <tr>\n",
       "      <th>2</th>\n",
       "      <td>True</td>\n",
       "      <td>True</td>\n",
       "      <td>True</td>\n",
       "      <td>True</td>\n",
       "      <td>True</td>\n",
       "      <td>True</td>\n",
       "      <td>True</td>\n",
       "      <td>True</td>\n",
       "      <td>True</td>\n",
       "      <td>True</td>\n",
       "      <td>True</td>\n",
       "    </tr>\n",
       "    <tr>\n",
       "      <th>3</th>\n",
       "      <td>True</td>\n",
       "      <td>True</td>\n",
       "      <td>True</td>\n",
       "      <td>True</td>\n",
       "      <td>True</td>\n",
       "      <td>True</td>\n",
       "      <td>True</td>\n",
       "      <td>True</td>\n",
       "      <td>True</td>\n",
       "      <td>True</td>\n",
       "      <td>True</td>\n",
       "    </tr>\n",
       "    <tr>\n",
       "      <th>4</th>\n",
       "      <td>True</td>\n",
       "      <td>True</td>\n",
       "      <td>True</td>\n",
       "      <td>True</td>\n",
       "      <td>True</td>\n",
       "      <td>True</td>\n",
       "      <td>True</td>\n",
       "      <td>True</td>\n",
       "      <td>True</td>\n",
       "      <td>True</td>\n",
       "      <td>True</td>\n",
       "    </tr>\n",
       "    <tr>\n",
       "      <th>...</th>\n",
       "      <td>...</td>\n",
       "      <td>...</td>\n",
       "      <td>...</td>\n",
       "      <td>...</td>\n",
       "      <td>...</td>\n",
       "      <td>...</td>\n",
       "      <td>...</td>\n",
       "      <td>...</td>\n",
       "      <td>...</td>\n",
       "      <td>...</td>\n",
       "      <td>...</td>\n",
       "    </tr>\n",
       "    <tr>\n",
       "      <th>4380</th>\n",
       "      <td>True</td>\n",
       "      <td>True</td>\n",
       "      <td>True</td>\n",
       "      <td>True</td>\n",
       "      <td>False</td>\n",
       "      <td>True</td>\n",
       "      <td>True</td>\n",
       "      <td>True</td>\n",
       "      <td>True</td>\n",
       "      <td>True</td>\n",
       "      <td>False</td>\n",
       "    </tr>\n",
       "    <tr>\n",
       "      <th>4381</th>\n",
       "      <td>True</td>\n",
       "      <td>True</td>\n",
       "      <td>True</td>\n",
       "      <td>True</td>\n",
       "      <td>False</td>\n",
       "      <td>True</td>\n",
       "      <td>True</td>\n",
       "      <td>True</td>\n",
       "      <td>False</td>\n",
       "      <td>True</td>\n",
       "      <td>False</td>\n",
       "    </tr>\n",
       "    <tr>\n",
       "      <th>4382</th>\n",
       "      <td>True</td>\n",
       "      <td>True</td>\n",
       "      <td>True</td>\n",
       "      <td>True</td>\n",
       "      <td>True</td>\n",
       "      <td>True</td>\n",
       "      <td>True</td>\n",
       "      <td>True</td>\n",
       "      <td>False</td>\n",
       "      <td>True</td>\n",
       "      <td>True</td>\n",
       "    </tr>\n",
       "    <tr>\n",
       "      <th>4383</th>\n",
       "      <td>True</td>\n",
       "      <td>True</td>\n",
       "      <td>True</td>\n",
       "      <td>True</td>\n",
       "      <td>False</td>\n",
       "      <td>True</td>\n",
       "      <td>True</td>\n",
       "      <td>True</td>\n",
       "      <td>True</td>\n",
       "      <td>True</td>\n",
       "      <td>False</td>\n",
       "    </tr>\n",
       "    <tr>\n",
       "      <th>4384</th>\n",
       "      <td>True</td>\n",
       "      <td>True</td>\n",
       "      <td>True</td>\n",
       "      <td>True</td>\n",
       "      <td>True</td>\n",
       "      <td>True</td>\n",
       "      <td>True</td>\n",
       "      <td>True</td>\n",
       "      <td>True</td>\n",
       "      <td>True</td>\n",
       "      <td>True</td>\n",
       "    </tr>\n",
       "  </tbody>\n",
       "</table>\n",
       "<p>4385 rows × 11 columns</p>\n",
       "</div>"
      ],
      "text/plain": [
       "      movie_title  production_budget  worldwide_gross  title_year  \\\n",
       "0            True               True             True        True   \n",
       "1            True               True             True       False   \n",
       "2            True               True             True        True   \n",
       "3            True               True             True        True   \n",
       "4            True               True             True        True   \n",
       "...           ...                ...              ...         ...   \n",
       "4380         True               True             True        True   \n",
       "4381         True               True             True        True   \n",
       "4382         True               True             True        True   \n",
       "4383         True               True             True        True   \n",
       "4384         True               True             True        True   \n",
       "\n",
       "      aspect_ratio  duration  duration.1  cast_total_facebook_likes  budget  \\\n",
       "0             True      True        True                       True    True   \n",
       "1            False     False       False                       True   False   \n",
       "2             True      True        True                       True    True   \n",
       "3             True      True        True                       True    True   \n",
       "4             True      True        True                       True    True   \n",
       "...            ...       ...         ...                        ...     ...   \n",
       "4380         False      True        True                       True    True   \n",
       "4381         False      True        True                       True   False   \n",
       "4382          True      True        True                       True   False   \n",
       "4383         False      True        True                       True    True   \n",
       "4384          True      True        True                       True    True   \n",
       "\n",
       "      imdb_score  gross  \n",
       "0           True   True  \n",
       "1           True  False  \n",
       "2           True   True  \n",
       "3           True   True  \n",
       "4           True   True  \n",
       "...          ...    ...  \n",
       "4380        True  False  \n",
       "4381        True  False  \n",
       "4382        True   True  \n",
       "4383        True  False  \n",
       "4384        True   True  \n",
       "\n",
       "[4385 rows x 11 columns]"
      ]
     },
     "execution_count": 24,
     "metadata": {},
     "output_type": "execute_result"
    }
   ],
   "source": [
    "# notnull muestra si un dato no es nulo\n",
    "movies_df_v2.notnull()"
   ]
  },
  {
   "cell_type": "code",
   "execution_count": 25,
   "id": "20ce92b4",
   "metadata": {},
   "outputs": [
    {
     "data": {
      "text/html": [
       "<div>\n",
       "<style scoped>\n",
       "    .dataframe tbody tr th:only-of-type {\n",
       "        vertical-align: middle;\n",
       "    }\n",
       "\n",
       "    .dataframe tbody tr th {\n",
       "        vertical-align: top;\n",
       "    }\n",
       "\n",
       "    .dataframe thead th {\n",
       "        text-align: right;\n",
       "    }\n",
       "</style>\n",
       "<table border=\"1\" class=\"dataframe\">\n",
       "  <thead>\n",
       "    <tr style=\"text-align: right;\">\n",
       "      <th></th>\n",
       "      <th>movie_title</th>\n",
       "      <th>production_budget</th>\n",
       "      <th>worldwide_gross</th>\n",
       "      <th>title_year</th>\n",
       "      <th>aspect_ratio</th>\n",
       "      <th>duration</th>\n",
       "      <th>duration.1</th>\n",
       "      <th>cast_total_facebook_likes</th>\n",
       "      <th>budget</th>\n",
       "      <th>imdb_score</th>\n",
       "      <th>gross</th>\n",
       "    </tr>\n",
       "  </thead>\n",
       "  <tbody>\n",
       "    <tr>\n",
       "      <th>False</th>\n",
       "      <td>NaN</td>\n",
       "      <td>NaN</td>\n",
       "      <td>NaN</td>\n",
       "      <td>27</td>\n",
       "      <td>274</td>\n",
       "      <td>13</td>\n",
       "      <td>13</td>\n",
       "      <td>NaN</td>\n",
       "      <td>335</td>\n",
       "      <td>NaN</td>\n",
       "      <td>671</td>\n",
       "    </tr>\n",
       "    <tr>\n",
       "      <th>True</th>\n",
       "      <td>4385.0</td>\n",
       "      <td>4385.0</td>\n",
       "      <td>4385.0</td>\n",
       "      <td>4358</td>\n",
       "      <td>4111</td>\n",
       "      <td>4372</td>\n",
       "      <td>4372</td>\n",
       "      <td>4385.0</td>\n",
       "      <td>4050</td>\n",
       "      <td>4385.0</td>\n",
       "      <td>3714</td>\n",
       "    </tr>\n",
       "  </tbody>\n",
       "</table>\n",
       "</div>"
      ],
      "text/plain": [
       "       movie_title  production_budget  worldwide_gross  title_year  \\\n",
       "False          NaN                NaN              NaN          27   \n",
       "True        4385.0             4385.0           4385.0        4358   \n",
       "\n",
       "       aspect_ratio  duration  duration.1  cast_total_facebook_likes  budget  \\\n",
       "False           274        13          13                        NaN     335   \n",
       "True           4111      4372        4372                     4385.0    4050   \n",
       "\n",
       "       imdb_score  gross  \n",
       "False         NaN    671  \n",
       "True       4385.0   3714  "
      ]
     },
     "execution_count": 25,
     "metadata": {},
     "output_type": "execute_result"
    }
   ],
   "source": [
    "# Definición: The apply() function is used to apply a function along an axis of the DataFrame\n",
    "# value_counts cuenta el número de valores en una columna.\n",
    "movies_df_v2.notnull().apply(pd.Series.value_counts)"
   ]
  },
  {
   "cell_type": "markdown",
   "id": "6e59667f",
   "metadata": {},
   "source": [
    "Ahora se buscaran valores que relacionados con el cero, en vez de nulo."
   ]
  },
  {
   "cell_type": "code",
   "execution_count": 26,
   "id": "6dfa8b59",
   "metadata": {},
   "outputs": [
    {
     "data": {
      "text/html": [
       "<div>\n",
       "<style scoped>\n",
       "    .dataframe tbody tr th:only-of-type {\n",
       "        vertical-align: middle;\n",
       "    }\n",
       "\n",
       "    .dataframe tbody tr th {\n",
       "        vertical-align: top;\n",
       "    }\n",
       "\n",
       "    .dataframe thead th {\n",
       "        text-align: right;\n",
       "    }\n",
       "</style>\n",
       "<table border=\"1\" class=\"dataframe\">\n",
       "  <thead>\n",
       "    <tr style=\"text-align: right;\">\n",
       "      <th></th>\n",
       "      <th>movie_title</th>\n",
       "      <th>production_budget</th>\n",
       "      <th>worldwide_gross</th>\n",
       "      <th>title_year</th>\n",
       "      <th>aspect_ratio</th>\n",
       "      <th>duration</th>\n",
       "      <th>duration.1</th>\n",
       "      <th>cast_total_facebook_likes</th>\n",
       "      <th>budget</th>\n",
       "      <th>imdb_score</th>\n",
       "      <th>gross</th>\n",
       "    </tr>\n",
       "  </thead>\n",
       "  <tbody>\n",
       "    <tr>\n",
       "      <th>False</th>\n",
       "      <td>NaN</td>\n",
       "      <td>NaN</td>\n",
       "      <td>281</td>\n",
       "      <td>NaN</td>\n",
       "      <td>NaN</td>\n",
       "      <td>NaN</td>\n",
       "      <td>NaN</td>\n",
       "      <td>27</td>\n",
       "      <td>NaN</td>\n",
       "      <td>NaN</td>\n",
       "      <td>NaN</td>\n",
       "    </tr>\n",
       "    <tr>\n",
       "      <th>True</th>\n",
       "      <td>4385.0</td>\n",
       "      <td>4385.0</td>\n",
       "      <td>4104</td>\n",
       "      <td>4385.0</td>\n",
       "      <td>4385.0</td>\n",
       "      <td>4385.0</td>\n",
       "      <td>4385.0</td>\n",
       "      <td>4358</td>\n",
       "      <td>4385.0</td>\n",
       "      <td>4385.0</td>\n",
       "      <td>4385.0</td>\n",
       "    </tr>\n",
       "  </tbody>\n",
       "</table>\n",
       "</div>"
      ],
      "text/plain": [
       "       movie_title  production_budget  worldwide_gross  title_year  \\\n",
       "False          NaN                NaN              281         NaN   \n",
       "True        4385.0             4385.0             4104      4385.0   \n",
       "\n",
       "       aspect_ratio  duration  duration.1  cast_total_facebook_likes  budget  \\\n",
       "False           NaN       NaN         NaN                         27     NaN   \n",
       "True         4385.0    4385.0      4385.0                       4358  4385.0   \n",
       "\n",
       "       imdb_score   gross  \n",
       "False         NaN     NaN  \n",
       "True       4385.0  4385.0  "
      ]
     },
     "execution_count": 26,
     "metadata": {},
     "output_type": "execute_result"
    }
   ],
   "source": [
    "(movies_df_v2 != 0).apply(pd.Series.value_counts)"
   ]
  },
  {
   "cell_type": "markdown",
   "id": "262f9952",
   "metadata": {},
   "source": [
    "No se puede entrenar un algoritmo con datos cuya variable objetivo (worldwide_gross) no está definida o es nula (valor False). Hay que eliminar esas líneas."
   ]
  },
  {
   "cell_type": "code",
   "execution_count": 27,
   "id": "ce91ddae",
   "metadata": {},
   "outputs": [],
   "source": [
    "# Se crea un nuevo dataframe. Si en movies_df_v2 un valor es cero o es nulo, el valor en el nuevo dataframe será False.\n",
    "notzero_notnull_df = ((movies_df_v2 != 0) & (movies_df_v2.notnull()))"
   ]
  },
  {
   "cell_type": "code",
   "execution_count": 28,
   "id": "1cb802aa",
   "metadata": {},
   "outputs": [
    {
     "data": {
      "text/html": [
       "<div>\n",
       "<style scoped>\n",
       "    .dataframe tbody tr th:only-of-type {\n",
       "        vertical-align: middle;\n",
       "    }\n",
       "\n",
       "    .dataframe tbody tr th {\n",
       "        vertical-align: top;\n",
       "    }\n",
       "\n",
       "    .dataframe thead th {\n",
       "        text-align: right;\n",
       "    }\n",
       "</style>\n",
       "<table border=\"1\" class=\"dataframe\">\n",
       "  <thead>\n",
       "    <tr style=\"text-align: right;\">\n",
       "      <th></th>\n",
       "      <th>movie_title</th>\n",
       "      <th>production_budget</th>\n",
       "      <th>worldwide_gross</th>\n",
       "      <th>title_year</th>\n",
       "      <th>aspect_ratio</th>\n",
       "      <th>duration</th>\n",
       "      <th>duration.1</th>\n",
       "      <th>cast_total_facebook_likes</th>\n",
       "      <th>budget</th>\n",
       "      <th>imdb_score</th>\n",
       "      <th>gross</th>\n",
       "    </tr>\n",
       "  </thead>\n",
       "  <tbody>\n",
       "    <tr>\n",
       "      <th>0</th>\n",
       "      <td>True</td>\n",
       "      <td>True</td>\n",
       "      <td>True</td>\n",
       "      <td>True</td>\n",
       "      <td>True</td>\n",
       "      <td>True</td>\n",
       "      <td>True</td>\n",
       "      <td>True</td>\n",
       "      <td>True</td>\n",
       "      <td>True</td>\n",
       "      <td>True</td>\n",
       "    </tr>\n",
       "    <tr>\n",
       "      <th>1</th>\n",
       "      <td>True</td>\n",
       "      <td>True</td>\n",
       "      <td>True</td>\n",
       "      <td>False</td>\n",
       "      <td>False</td>\n",
       "      <td>False</td>\n",
       "      <td>False</td>\n",
       "      <td>True</td>\n",
       "      <td>False</td>\n",
       "      <td>True</td>\n",
       "      <td>False</td>\n",
       "    </tr>\n",
       "    <tr>\n",
       "      <th>2</th>\n",
       "      <td>True</td>\n",
       "      <td>True</td>\n",
       "      <td>True</td>\n",
       "      <td>True</td>\n",
       "      <td>True</td>\n",
       "      <td>True</td>\n",
       "      <td>True</td>\n",
       "      <td>True</td>\n",
       "      <td>True</td>\n",
       "      <td>True</td>\n",
       "      <td>True</td>\n",
       "    </tr>\n",
       "    <tr>\n",
       "      <th>3</th>\n",
       "      <td>True</td>\n",
       "      <td>True</td>\n",
       "      <td>True</td>\n",
       "      <td>True</td>\n",
       "      <td>True</td>\n",
       "      <td>True</td>\n",
       "      <td>True</td>\n",
       "      <td>True</td>\n",
       "      <td>True</td>\n",
       "      <td>True</td>\n",
       "      <td>True</td>\n",
       "    </tr>\n",
       "    <tr>\n",
       "      <th>4</th>\n",
       "      <td>True</td>\n",
       "      <td>True</td>\n",
       "      <td>True</td>\n",
       "      <td>True</td>\n",
       "      <td>True</td>\n",
       "      <td>True</td>\n",
       "      <td>True</td>\n",
       "      <td>True</td>\n",
       "      <td>True</td>\n",
       "      <td>True</td>\n",
       "      <td>True</td>\n",
       "    </tr>\n",
       "    <tr>\n",
       "      <th>...</th>\n",
       "      <td>...</td>\n",
       "      <td>...</td>\n",
       "      <td>...</td>\n",
       "      <td>...</td>\n",
       "      <td>...</td>\n",
       "      <td>...</td>\n",
       "      <td>...</td>\n",
       "      <td>...</td>\n",
       "      <td>...</td>\n",
       "      <td>...</td>\n",
       "      <td>...</td>\n",
       "    </tr>\n",
       "    <tr>\n",
       "      <th>4380</th>\n",
       "      <td>True</td>\n",
       "      <td>True</td>\n",
       "      <td>True</td>\n",
       "      <td>True</td>\n",
       "      <td>False</td>\n",
       "      <td>True</td>\n",
       "      <td>True</td>\n",
       "      <td>True</td>\n",
       "      <td>True</td>\n",
       "      <td>True</td>\n",
       "      <td>False</td>\n",
       "    </tr>\n",
       "    <tr>\n",
       "      <th>4381</th>\n",
       "      <td>True</td>\n",
       "      <td>True</td>\n",
       "      <td>False</td>\n",
       "      <td>True</td>\n",
       "      <td>False</td>\n",
       "      <td>True</td>\n",
       "      <td>True</td>\n",
       "      <td>True</td>\n",
       "      <td>False</td>\n",
       "      <td>True</td>\n",
       "      <td>False</td>\n",
       "    </tr>\n",
       "    <tr>\n",
       "      <th>4382</th>\n",
       "      <td>True</td>\n",
       "      <td>True</td>\n",
       "      <td>True</td>\n",
       "      <td>True</td>\n",
       "      <td>True</td>\n",
       "      <td>True</td>\n",
       "      <td>True</td>\n",
       "      <td>True</td>\n",
       "      <td>False</td>\n",
       "      <td>True</td>\n",
       "      <td>True</td>\n",
       "    </tr>\n",
       "    <tr>\n",
       "      <th>4383</th>\n",
       "      <td>True</td>\n",
       "      <td>True</td>\n",
       "      <td>False</td>\n",
       "      <td>True</td>\n",
       "      <td>False</td>\n",
       "      <td>True</td>\n",
       "      <td>True</td>\n",
       "      <td>False</td>\n",
       "      <td>True</td>\n",
       "      <td>True</td>\n",
       "      <td>False</td>\n",
       "    </tr>\n",
       "    <tr>\n",
       "      <th>4384</th>\n",
       "      <td>True</td>\n",
       "      <td>True</td>\n",
       "      <td>True</td>\n",
       "      <td>True</td>\n",
       "      <td>True</td>\n",
       "      <td>True</td>\n",
       "      <td>True</td>\n",
       "      <td>True</td>\n",
       "      <td>True</td>\n",
       "      <td>True</td>\n",
       "      <td>True</td>\n",
       "    </tr>\n",
       "  </tbody>\n",
       "</table>\n",
       "<p>4385 rows × 11 columns</p>\n",
       "</div>"
      ],
      "text/plain": [
       "      movie_title  production_budget  worldwide_gross  title_year  \\\n",
       "0            True               True             True        True   \n",
       "1            True               True             True       False   \n",
       "2            True               True             True        True   \n",
       "3            True               True             True        True   \n",
       "4            True               True             True        True   \n",
       "...           ...                ...              ...         ...   \n",
       "4380         True               True             True        True   \n",
       "4381         True               True            False        True   \n",
       "4382         True               True             True        True   \n",
       "4383         True               True            False        True   \n",
       "4384         True               True             True        True   \n",
       "\n",
       "      aspect_ratio  duration  duration.1  cast_total_facebook_likes  budget  \\\n",
       "0             True      True        True                       True    True   \n",
       "1            False     False       False                       True   False   \n",
       "2             True      True        True                       True    True   \n",
       "3             True      True        True                       True    True   \n",
       "4             True      True        True                       True    True   \n",
       "...            ...       ...         ...                        ...     ...   \n",
       "4380         False      True        True                       True    True   \n",
       "4381         False      True        True                       True   False   \n",
       "4382          True      True        True                       True   False   \n",
       "4383         False      True        True                      False    True   \n",
       "4384          True      True        True                       True    True   \n",
       "\n",
       "      imdb_score  gross  \n",
       "0           True   True  \n",
       "1           True  False  \n",
       "2           True   True  \n",
       "3           True   True  \n",
       "4           True   True  \n",
       "...          ...    ...  \n",
       "4380        True  False  \n",
       "4381        True  False  \n",
       "4382        True   True  \n",
       "4383        True  False  \n",
       "4384        True   True  \n",
       "\n",
       "[4385 rows x 11 columns]"
      ]
     },
     "execution_count": 28,
     "metadata": {},
     "output_type": "execute_result"
    }
   ],
   "source": [
    "notzero_notnull_df"
   ]
  },
  {
   "cell_type": "code",
   "execution_count": 29,
   "id": "975e95ab",
   "metadata": {},
   "outputs": [
    {
     "data": {
      "text/plain": [
       "0        True\n",
       "1       False\n",
       "2        True\n",
       "3        True\n",
       "4        True\n",
       "        ...  \n",
       "4380    False\n",
       "4381    False\n",
       "4382    False\n",
       "4383    False\n",
       "4384     True\n",
       "Length: 4385, dtype: bool"
      ]
     },
     "execution_count": 29,
     "metadata": {},
     "output_type": "execute_result"
    }
   ],
   "source": [
    "# Al revisar una linea, si toda la línea tiene valores True, el valor que lanzará será True. De lo contrario será False.\n",
    "notzero_notnull_df.all(axis=1)"
   ]
  },
  {
   "cell_type": "code",
   "execution_count": 30,
   "id": "039badee",
   "metadata": {},
   "outputs": [
    {
     "data": {
      "text/plain": [
       "True     3408\n",
       "False     977\n",
       "dtype: int64"
      ]
     },
     "execution_count": 30,
     "metadata": {},
     "output_type": "execute_result"
    }
   ],
   "source": [
    "notzero_notnull_df.all(axis=1).value_counts()"
   ]
  },
  {
   "cell_type": "markdown",
   "id": "cd06031f",
   "metadata": {},
   "source": [
    "Son muchos los datos que se perderían si se tomara la decisión de borrar todas las filas que contengan nulos o que contengan un valor de cero. Se toma la decisión de eliminar solo las filas cuya variable objetiva sea nulo o sea cero."
   ]
  },
  {
   "cell_type": "code",
   "execution_count": 31,
   "id": "40198188",
   "metadata": {},
   "outputs": [],
   "source": [
    "notzero_notnull_wwgross = notzero_notnull_df['worldwide_gross']\n",
    "movies_df_v2 = movies_df_v2[notzero_notnull_wwgross]"
   ]
  },
  {
   "cell_type": "code",
   "execution_count": 32,
   "id": "235da023",
   "metadata": {
    "scrolled": true
   },
   "outputs": [
    {
     "data": {
      "text/plain": [
       "True    4104\n",
       "Name: worldwide_gross, dtype: int64"
      ]
     },
     "execution_count": 32,
     "metadata": {},
     "output_type": "execute_result"
    }
   ],
   "source": [
    "((movies_df_v2 != 0) & (movies_df_v2.notnull())).worldwide_gross.value_counts()"
   ]
  },
  {
   "cell_type": "markdown",
   "id": "3cdc8625",
   "metadata": {},
   "source": [
    "### Retirando columna de tipo objeto"
   ]
  },
  {
   "cell_type": "code",
   "execution_count": 33,
   "id": "8157aa42",
   "metadata": {
    "scrolled": true
   },
   "outputs": [],
   "source": [
    "movies_df_v2 = movies_df_v2.drop('movie_title', axis=1)"
   ]
  },
  {
   "cell_type": "markdown",
   "id": "f774d076",
   "metadata": {},
   "source": [
    "Retirando columna duplicada"
   ]
  },
  {
   "cell_type": "code",
   "execution_count": 34,
   "id": "4862cc3c",
   "metadata": {},
   "outputs": [],
   "source": [
    "movies_df_v2 = movies_df_v2.drop('duration.1', axis=1)"
   ]
  },
  {
   "cell_type": "markdown",
   "id": "2efd51c4",
   "metadata": {},
   "source": [
    "### Moviendo la variable objetivo a la última columna del DataFrame"
   ]
  },
  {
   "cell_type": "code",
   "execution_count": 35,
   "id": "62492ff8",
   "metadata": {},
   "outputs": [
    {
     "data": {
      "text/plain": [
       "['production_budget',\n",
       " 'title_year',\n",
       " 'aspect_ratio',\n",
       " 'duration',\n",
       " 'cast_total_facebook_likes',\n",
       " 'budget',\n",
       " 'imdb_score',\n",
       " 'gross',\n",
       " 'worldwide_gross']"
      ]
     },
     "execution_count": 35,
     "metadata": {},
     "output_type": "execute_result"
    }
   ],
   "source": [
    "new_cols = [col for col in movies_df_v2.columns if col != 'worldwide_gross'] + ['worldwide_gross']\n",
    "new_cols"
   ]
  },
  {
   "cell_type": "code",
   "execution_count": 36,
   "id": "d7fb5dc5",
   "metadata": {},
   "outputs": [
    {
     "data": {
      "text/html": [
       "<div>\n",
       "<style scoped>\n",
       "    .dataframe tbody tr th:only-of-type {\n",
       "        vertical-align: middle;\n",
       "    }\n",
       "\n",
       "    .dataframe tbody tr th {\n",
       "        vertical-align: top;\n",
       "    }\n",
       "\n",
       "    .dataframe thead th {\n",
       "        text-align: right;\n",
       "    }\n",
       "</style>\n",
       "<table border=\"1\" class=\"dataframe\">\n",
       "  <thead>\n",
       "    <tr style=\"text-align: right;\">\n",
       "      <th></th>\n",
       "      <th>production_budget</th>\n",
       "      <th>title_year</th>\n",
       "      <th>aspect_ratio</th>\n",
       "      <th>duration</th>\n",
       "      <th>cast_total_facebook_likes</th>\n",
       "      <th>budget</th>\n",
       "      <th>imdb_score</th>\n",
       "      <th>gross</th>\n",
       "      <th>worldwide_gross</th>\n",
       "    </tr>\n",
       "  </thead>\n",
       "  <tbody>\n",
       "    <tr>\n",
       "      <th>0</th>\n",
       "      <td>425000000</td>\n",
       "      <td>2009.0</td>\n",
       "      <td>1.78</td>\n",
       "      <td>178.0</td>\n",
       "      <td>4834</td>\n",
       "      <td>237000000.0</td>\n",
       "      <td>7.9</td>\n",
       "      <td>760505847.0</td>\n",
       "      <td>2783918982</td>\n",
       "    </tr>\n",
       "    <tr>\n",
       "      <th>1</th>\n",
       "      <td>306000000</td>\n",
       "      <td>NaN</td>\n",
       "      <td>NaN</td>\n",
       "      <td>NaN</td>\n",
       "      <td>143</td>\n",
       "      <td>NaN</td>\n",
       "      <td>7.1</td>\n",
       "      <td>NaN</td>\n",
       "      <td>2058662225</td>\n",
       "    </tr>\n",
       "    <tr>\n",
       "      <th>2</th>\n",
       "      <td>300000000</td>\n",
       "      <td>2007.0</td>\n",
       "      <td>2.35</td>\n",
       "      <td>169.0</td>\n",
       "      <td>48350</td>\n",
       "      <td>300000000.0</td>\n",
       "      <td>7.1</td>\n",
       "      <td>309404152.0</td>\n",
       "      <td>963420425</td>\n",
       "    </tr>\n",
       "    <tr>\n",
       "      <th>3</th>\n",
       "      <td>300000000</td>\n",
       "      <td>2015.0</td>\n",
       "      <td>2.35</td>\n",
       "      <td>148.0</td>\n",
       "      <td>11700</td>\n",
       "      <td>245000000.0</td>\n",
       "      <td>6.8</td>\n",
       "      <td>200074175.0</td>\n",
       "      <td>879620923</td>\n",
       "    </tr>\n",
       "    <tr>\n",
       "      <th>4</th>\n",
       "      <td>275000000</td>\n",
       "      <td>2012.0</td>\n",
       "      <td>2.35</td>\n",
       "      <td>164.0</td>\n",
       "      <td>106759</td>\n",
       "      <td>250000000.0</td>\n",
       "      <td>8.5</td>\n",
       "      <td>448130642.0</td>\n",
       "      <td>1084439099</td>\n",
       "    </tr>\n",
       "  </tbody>\n",
       "</table>\n",
       "</div>"
      ],
      "text/plain": [
       "   production_budget  title_year  aspect_ratio  duration  \\\n",
       "0          425000000      2009.0          1.78     178.0   \n",
       "1          306000000         NaN           NaN       NaN   \n",
       "2          300000000      2007.0          2.35     169.0   \n",
       "3          300000000      2015.0          2.35     148.0   \n",
       "4          275000000      2012.0          2.35     164.0   \n",
       "\n",
       "   cast_total_facebook_likes       budget  imdb_score        gross  \\\n",
       "0                       4834  237000000.0         7.9  760505847.0   \n",
       "1                        143          NaN         7.1          NaN   \n",
       "2                      48350  300000000.0         7.1  309404152.0   \n",
       "3                      11700  245000000.0         6.8  200074175.0   \n",
       "4                     106759  250000000.0         8.5  448130642.0   \n",
       "\n",
       "   worldwide_gross  \n",
       "0       2783918982  \n",
       "1       2058662225  \n",
       "2        963420425  \n",
       "3        879620923  \n",
       "4       1084439099  "
      ]
     },
     "execution_count": 36,
     "metadata": {},
     "output_type": "execute_result"
    }
   ],
   "source": [
    "movies_df_v2 = movies_df_v2[new_cols]\n",
    "movies_df_v2.head()"
   ]
  },
  {
   "cell_type": "markdown",
   "id": "3a8c9bf6",
   "metadata": {},
   "source": [
    "Luego de eliminar datos de la variable objetivo y hacer correciones, se considera terminada la parte de limpieza de datos. Utilizaremos scikit-learn para tratar con los datos faltantes de las variables predictoras."
   ]
  },
  {
   "cell_type": "markdown",
   "id": "e9b7698b",
   "metadata": {},
   "source": [
    "### Imputación de datos faltantes con *scikit-learn*"
   ]
  },
  {
   "cell_type": "code",
   "execution_count": 37,
   "id": "7b69cfb6",
   "metadata": {},
   "outputs": [],
   "source": [
    "from sklearn.impute import SimpleImputer\n",
    "imputer = SimpleImputer(missing_values=np.nan, strategy='mean')"
   ]
  },
  {
   "cell_type": "code",
   "execution_count": 38,
   "id": "5e01efea",
   "metadata": {},
   "outputs": [],
   "source": [
    "values = imputer.fit_transform(movies_df_v2)"
   ]
  },
  {
   "cell_type": "code",
   "execution_count": 39,
   "id": "73bb732f",
   "metadata": {},
   "outputs": [
    {
     "data": {
      "text/plain": [
       "array([[4.25000000e+08, 2.00900000e+03, 1.78000000e+00, ...,\n",
       "        7.90000000e+00, 7.60505847e+08, 2.78391898e+09],\n",
       "       [3.06000000e+08, 2.00213073e+03, 2.12697615e+00, ...,\n",
       "        7.10000000e+00, 4.83193329e+07, 2.05866222e+09],\n",
       "       [3.00000000e+08, 2.00700000e+03, 2.35000000e+00, ...,\n",
       "        7.10000000e+00, 3.09404152e+08, 9.63420425e+08],\n",
       "       ...,\n",
       "       [7.00000000e+03, 2.00500000e+03, 2.12697615e+00, ...,\n",
       "        7.80000000e+00, 4.83193329e+07, 9.00000000e+02],\n",
       "       [3.96700000e+03, 2.01200000e+03, 2.35000000e+00, ...,\n",
       "        6.30000000e+00, 1.04430000e+04, 1.04430000e+04],\n",
       "       [1.10000000e+03, 2.00400000e+03, 1.85000000e+00, ...,\n",
       "        6.60000000e+00, 8.52220000e+04, 1.81041000e+05]])"
      ]
     },
     "execution_count": 39,
     "metadata": {},
     "output_type": "execute_result"
    }
   ],
   "source": [
    "values"
   ]
  },
  {
   "cell_type": "code",
   "execution_count": 40,
   "id": "3f0ac07b",
   "metadata": {},
   "outputs": [
    {
     "data": {
      "text/html": [
       "<div>\n",
       "<style scoped>\n",
       "    .dataframe tbody tr th:only-of-type {\n",
       "        vertical-align: middle;\n",
       "    }\n",
       "\n",
       "    .dataframe tbody tr th {\n",
       "        vertical-align: top;\n",
       "    }\n",
       "\n",
       "    .dataframe thead th {\n",
       "        text-align: right;\n",
       "    }\n",
       "</style>\n",
       "<table border=\"1\" class=\"dataframe\">\n",
       "  <thead>\n",
       "    <tr style=\"text-align: right;\">\n",
       "      <th></th>\n",
       "      <th>production_budget</th>\n",
       "      <th>title_year</th>\n",
       "      <th>aspect_ratio</th>\n",
       "      <th>duration</th>\n",
       "      <th>cast_total_facebook_likes</th>\n",
       "      <th>budget</th>\n",
       "      <th>imdb_score</th>\n",
       "      <th>gross</th>\n",
       "      <th>worldwide_gross</th>\n",
       "    </tr>\n",
       "  </thead>\n",
       "  <tbody>\n",
       "    <tr>\n",
       "      <th>0</th>\n",
       "      <td>425000000.0</td>\n",
       "      <td>2009.000000</td>\n",
       "      <td>1.780000</td>\n",
       "      <td>178.000000</td>\n",
       "      <td>4834.0</td>\n",
       "      <td>2.370000e+08</td>\n",
       "      <td>7.9</td>\n",
       "      <td>7.605058e+08</td>\n",
       "      <td>2.783919e+09</td>\n",
       "    </tr>\n",
       "    <tr>\n",
       "      <th>1</th>\n",
       "      <td>306000000.0</td>\n",
       "      <td>2002.130733</td>\n",
       "      <td>2.126976</td>\n",
       "      <td>108.577186</td>\n",
       "      <td>143.0</td>\n",
       "      <td>4.045539e+07</td>\n",
       "      <td>7.1</td>\n",
       "      <td>4.831933e+07</td>\n",
       "      <td>2.058662e+09</td>\n",
       "    </tr>\n",
       "    <tr>\n",
       "      <th>2</th>\n",
       "      <td>300000000.0</td>\n",
       "      <td>2007.000000</td>\n",
       "      <td>2.350000</td>\n",
       "      <td>169.000000</td>\n",
       "      <td>48350.0</td>\n",
       "      <td>3.000000e+08</td>\n",
       "      <td>7.1</td>\n",
       "      <td>3.094042e+08</td>\n",
       "      <td>9.634204e+08</td>\n",
       "    </tr>\n",
       "    <tr>\n",
       "      <th>3</th>\n",
       "      <td>300000000.0</td>\n",
       "      <td>2015.000000</td>\n",
       "      <td>2.350000</td>\n",
       "      <td>148.000000</td>\n",
       "      <td>11700.0</td>\n",
       "      <td>2.450000e+08</td>\n",
       "      <td>6.8</td>\n",
       "      <td>2.000742e+08</td>\n",
       "      <td>8.796209e+08</td>\n",
       "    </tr>\n",
       "    <tr>\n",
       "      <th>4</th>\n",
       "      <td>275000000.0</td>\n",
       "      <td>2012.000000</td>\n",
       "      <td>2.350000</td>\n",
       "      <td>164.000000</td>\n",
       "      <td>106759.0</td>\n",
       "      <td>2.500000e+08</td>\n",
       "      <td>8.5</td>\n",
       "      <td>4.481306e+08</td>\n",
       "      <td>1.084439e+09</td>\n",
       "    </tr>\n",
       "  </tbody>\n",
       "</table>\n",
       "</div>"
      ],
      "text/plain": [
       "   production_budget   title_year  aspect_ratio    duration  \\\n",
       "0        425000000.0  2009.000000      1.780000  178.000000   \n",
       "1        306000000.0  2002.130733      2.126976  108.577186   \n",
       "2        300000000.0  2007.000000      2.350000  169.000000   \n",
       "3        300000000.0  2015.000000      2.350000  148.000000   \n",
       "4        275000000.0  2012.000000      2.350000  164.000000   \n",
       "\n",
       "   cast_total_facebook_likes        budget  imdb_score         gross  \\\n",
       "0                     4834.0  2.370000e+08         7.9  7.605058e+08   \n",
       "1                      143.0  4.045539e+07         7.1  4.831933e+07   \n",
       "2                    48350.0  3.000000e+08         7.1  3.094042e+08   \n",
       "3                    11700.0  2.450000e+08         6.8  2.000742e+08   \n",
       "4                   106759.0  2.500000e+08         8.5  4.481306e+08   \n",
       "\n",
       "   worldwide_gross  \n",
       "0     2.783919e+09  \n",
       "1     2.058662e+09  \n",
       "2     9.634204e+08  \n",
       "3     8.796209e+08  \n",
       "4     1.084439e+09  "
      ]
     },
     "execution_count": 40,
     "metadata": {},
     "output_type": "execute_result"
    }
   ],
   "source": [
    "X = pd.DataFrame(values)\n",
    "X.columns = movies_df_v2.columns\n",
    "X.index = movies_df_v2.index\n",
    "X.head()"
   ]
  },
  {
   "cell_type": "code",
   "execution_count": 41,
   "id": "b7127d15",
   "metadata": {},
   "outputs": [],
   "source": [
    "X.to_csv('data/X.csv', index=False)"
   ]
  },
  {
   "cell_type": "markdown",
   "id": "46f97fc6",
   "metadata": {},
   "source": [
    "## Scikit-learn"
   ]
  },
  {
   "cell_type": "markdown",
   "id": "5f955582",
   "metadata": {},
   "source": [
    "Existe una API fácil de ocupar y unificada. Esta unificación se da por un objeto llamado **Estimator**, que tiene para cada algoritmo de Machine Learning una API que es común y tres métodos clave.\n",
    "\n",
    "Scikit-learn es la librería más usada de Machine Learning tradicional. La librería incluye funcionalidades de:\n",
    "\n",
    "- Preprocesamiento de datos en *sklearn.preprocessing*\n",
    "- Algoritmos de Machine Learning en *sklearn.linear_model, sklearn.svm, sklearn.ensemble, etc...*\n",
    "- Evaluación de modelos en *sklearn.model_selection* y *sklearn.metrics*"
   ]
  },
  {
   "cell_type": "markdown",
   "id": "20f3fd2c",
   "metadata": {},
   "source": [
    "#### Estimator\n",
    "\n",
    "Los 3 métodos mas importantes del Estimador son:\n",
    "\n",
    "- **Fit**: Entrena el modelo.\n",
    "- **Predict**: Predice valores, con datos nuevos.\n",
    "- **Score**: Mide el performace del algoritmo y nos indica una probabilidad."
   ]
  },
  {
   "cell_type": "markdown",
   "id": "19d1416c",
   "metadata": {},
   "source": [
    "![Image](img/scikit-learn_cheatsheet.png)"
   ]
  },
  {
   "cell_type": "markdown",
   "id": "3315d6ac",
   "metadata": {},
   "source": [
    "## Regresión Simple en Python"
   ]
  },
  {
   "cell_type": "code",
   "execution_count": 42,
   "id": "46c9791e",
   "metadata": {},
   "outputs": [],
   "source": [
    "# Se importan los datos\n",
    "X = pd.read_csv('data/X.csv')"
   ]
  },
  {
   "cell_type": "code",
   "execution_count": 43,
   "id": "4fca799c",
   "metadata": {},
   "outputs": [
    {
     "data": {
      "text/html": [
       "<div>\n",
       "<style scoped>\n",
       "    .dataframe tbody tr th:only-of-type {\n",
       "        vertical-align: middle;\n",
       "    }\n",
       "\n",
       "    .dataframe tbody tr th {\n",
       "        vertical-align: top;\n",
       "    }\n",
       "\n",
       "    .dataframe thead th {\n",
       "        text-align: right;\n",
       "    }\n",
       "</style>\n",
       "<table border=\"1\" class=\"dataframe\">\n",
       "  <thead>\n",
       "    <tr style=\"text-align: right;\">\n",
       "      <th></th>\n",
       "      <th>production_budget</th>\n",
       "      <th>title_year</th>\n",
       "      <th>aspect_ratio</th>\n",
       "      <th>duration</th>\n",
       "      <th>cast_total_facebook_likes</th>\n",
       "      <th>budget</th>\n",
       "      <th>imdb_score</th>\n",
       "      <th>gross</th>\n",
       "      <th>worldwide_gross</th>\n",
       "    </tr>\n",
       "  </thead>\n",
       "  <tbody>\n",
       "    <tr>\n",
       "      <th>0</th>\n",
       "      <td>425000000.0</td>\n",
       "      <td>2009.000000</td>\n",
       "      <td>1.780000</td>\n",
       "      <td>178.000000</td>\n",
       "      <td>4834.0</td>\n",
       "      <td>2.370000e+08</td>\n",
       "      <td>7.9</td>\n",
       "      <td>7.605058e+08</td>\n",
       "      <td>2.783919e+09</td>\n",
       "    </tr>\n",
       "    <tr>\n",
       "      <th>1</th>\n",
       "      <td>306000000.0</td>\n",
       "      <td>2002.130733</td>\n",
       "      <td>2.126976</td>\n",
       "      <td>108.577186</td>\n",
       "      <td>143.0</td>\n",
       "      <td>4.045539e+07</td>\n",
       "      <td>7.1</td>\n",
       "      <td>4.831933e+07</td>\n",
       "      <td>2.058662e+09</td>\n",
       "    </tr>\n",
       "    <tr>\n",
       "      <th>2</th>\n",
       "      <td>300000000.0</td>\n",
       "      <td>2007.000000</td>\n",
       "      <td>2.350000</td>\n",
       "      <td>169.000000</td>\n",
       "      <td>48350.0</td>\n",
       "      <td>3.000000e+08</td>\n",
       "      <td>7.1</td>\n",
       "      <td>3.094042e+08</td>\n",
       "      <td>9.634204e+08</td>\n",
       "    </tr>\n",
       "    <tr>\n",
       "      <th>3</th>\n",
       "      <td>300000000.0</td>\n",
       "      <td>2015.000000</td>\n",
       "      <td>2.350000</td>\n",
       "      <td>148.000000</td>\n",
       "      <td>11700.0</td>\n",
       "      <td>2.450000e+08</td>\n",
       "      <td>6.8</td>\n",
       "      <td>2.000742e+08</td>\n",
       "      <td>8.796209e+08</td>\n",
       "    </tr>\n",
       "    <tr>\n",
       "      <th>4</th>\n",
       "      <td>275000000.0</td>\n",
       "      <td>2012.000000</td>\n",
       "      <td>2.350000</td>\n",
       "      <td>164.000000</td>\n",
       "      <td>106759.0</td>\n",
       "      <td>2.500000e+08</td>\n",
       "      <td>8.5</td>\n",
       "      <td>4.481306e+08</td>\n",
       "      <td>1.084439e+09</td>\n",
       "    </tr>\n",
       "    <tr>\n",
       "      <th>...</th>\n",
       "      <td>...</td>\n",
       "      <td>...</td>\n",
       "      <td>...</td>\n",
       "      <td>...</td>\n",
       "      <td>...</td>\n",
       "      <td>...</td>\n",
       "      <td>...</td>\n",
       "      <td>...</td>\n",
       "      <td>...</td>\n",
       "    </tr>\n",
       "    <tr>\n",
       "      <th>4099</th>\n",
       "      <td>7000.0</td>\n",
       "      <td>2004.000000</td>\n",
       "      <td>1.850000</td>\n",
       "      <td>77.000000</td>\n",
       "      <td>368.0</td>\n",
       "      <td>7.000000e+03</td>\n",
       "      <td>7.0</td>\n",
       "      <td>4.247600e+05</td>\n",
       "      <td>8.419260e+05</td>\n",
       "    </tr>\n",
       "    <tr>\n",
       "      <th>4100</th>\n",
       "      <td>7000.0</td>\n",
       "      <td>2005.000000</td>\n",
       "      <td>2.126976</td>\n",
       "      <td>80.000000</td>\n",
       "      <td>0.0</td>\n",
       "      <td>7.000000e+03</td>\n",
       "      <td>6.3</td>\n",
       "      <td>7.007100e+04</td>\n",
       "      <td>7.164400e+04</td>\n",
       "    </tr>\n",
       "    <tr>\n",
       "      <th>4101</th>\n",
       "      <td>7000.0</td>\n",
       "      <td>2005.000000</td>\n",
       "      <td>2.126976</td>\n",
       "      <td>84.000000</td>\n",
       "      <td>93.0</td>\n",
       "      <td>3.250000e+03</td>\n",
       "      <td>7.8</td>\n",
       "      <td>4.831933e+07</td>\n",
       "      <td>9.000000e+02</td>\n",
       "    </tr>\n",
       "    <tr>\n",
       "      <th>4102</th>\n",
       "      <td>3967.0</td>\n",
       "      <td>2012.000000</td>\n",
       "      <td>2.350000</td>\n",
       "      <td>100.000000</td>\n",
       "      <td>2386.0</td>\n",
       "      <td>4.045539e+07</td>\n",
       "      <td>6.3</td>\n",
       "      <td>1.044300e+04</td>\n",
       "      <td>1.044300e+04</td>\n",
       "    </tr>\n",
       "    <tr>\n",
       "      <th>4103</th>\n",
       "      <td>1100.0</td>\n",
       "      <td>2004.000000</td>\n",
       "      <td>1.850000</td>\n",
       "      <td>90.000000</td>\n",
       "      <td>163.0</td>\n",
       "      <td>1.100000e+03</td>\n",
       "      <td>6.6</td>\n",
       "      <td>8.522200e+04</td>\n",
       "      <td>1.810410e+05</td>\n",
       "    </tr>\n",
       "  </tbody>\n",
       "</table>\n",
       "<p>4104 rows × 9 columns</p>\n",
       "</div>"
      ],
      "text/plain": [
       "      production_budget   title_year  aspect_ratio    duration  \\\n",
       "0           425000000.0  2009.000000      1.780000  178.000000   \n",
       "1           306000000.0  2002.130733      2.126976  108.577186   \n",
       "2           300000000.0  2007.000000      2.350000  169.000000   \n",
       "3           300000000.0  2015.000000      2.350000  148.000000   \n",
       "4           275000000.0  2012.000000      2.350000  164.000000   \n",
       "...                 ...          ...           ...         ...   \n",
       "4099             7000.0  2004.000000      1.850000   77.000000   \n",
       "4100             7000.0  2005.000000      2.126976   80.000000   \n",
       "4101             7000.0  2005.000000      2.126976   84.000000   \n",
       "4102             3967.0  2012.000000      2.350000  100.000000   \n",
       "4103             1100.0  2004.000000      1.850000   90.000000   \n",
       "\n",
       "      cast_total_facebook_likes        budget  imdb_score         gross  \\\n",
       "0                        4834.0  2.370000e+08         7.9  7.605058e+08   \n",
       "1                         143.0  4.045539e+07         7.1  4.831933e+07   \n",
       "2                       48350.0  3.000000e+08         7.1  3.094042e+08   \n",
       "3                       11700.0  2.450000e+08         6.8  2.000742e+08   \n",
       "4                      106759.0  2.500000e+08         8.5  4.481306e+08   \n",
       "...                         ...           ...         ...           ...   \n",
       "4099                      368.0  7.000000e+03         7.0  4.247600e+05   \n",
       "4100                        0.0  7.000000e+03         6.3  7.007100e+04   \n",
       "4101                       93.0  3.250000e+03         7.8  4.831933e+07   \n",
       "4102                     2386.0  4.045539e+07         6.3  1.044300e+04   \n",
       "4103                      163.0  1.100000e+03         6.6  8.522200e+04   \n",
       "\n",
       "      worldwide_gross  \n",
       "0        2.783919e+09  \n",
       "1        2.058662e+09  \n",
       "2        9.634204e+08  \n",
       "3        8.796209e+08  \n",
       "4        1.084439e+09  \n",
       "...               ...  \n",
       "4099     8.419260e+05  \n",
       "4100     7.164400e+04  \n",
       "4101     9.000000e+02  \n",
       "4102     1.044300e+04  \n",
       "4103     1.810410e+05  \n",
       "\n",
       "[4104 rows x 9 columns]"
      ]
     },
     "execution_count": 43,
     "metadata": {},
     "output_type": "execute_result"
    }
   ],
   "source": [
    "X"
   ]
  },
  {
   "cell_type": "markdown",
   "id": "dccf8b9b",
   "metadata": {},
   "source": [
    "Hay que separar las variables predictoras de la variable objetivo, para poderlas usarlas bien como argumentos en cada uno de los métodos de scikit-learn. \n",
    "\n",
    "La variable objetivo se lleva a un vector y."
   ]
  },
  {
   "cell_type": "code",
   "execution_count": 44,
   "id": "1508bcb6",
   "metadata": {},
   "outputs": [
    {
     "data": {
      "text/plain": [
       "0       2.783919e+09\n",
       "1       2.058662e+09\n",
       "2       9.634204e+08\n",
       "3       8.796209e+08\n",
       "4       1.084439e+09\n",
       "            ...     \n",
       "4099    8.419260e+05\n",
       "4100    7.164400e+04\n",
       "4101    9.000000e+02\n",
       "4102    1.044300e+04\n",
       "4103    1.810410e+05\n",
       "Name: worldwide_gross, Length: 4104, dtype: float64"
      ]
     },
     "execution_count": 44,
     "metadata": {},
     "output_type": "execute_result"
    }
   ],
   "source": [
    "y = X['worldwide_gross']\n",
    "y"
   ]
  },
  {
   "cell_type": "code",
   "execution_count": 45,
   "id": "7498bb6a",
   "metadata": {},
   "outputs": [
    {
     "data": {
      "text/html": [
       "<div>\n",
       "<style scoped>\n",
       "    .dataframe tbody tr th:only-of-type {\n",
       "        vertical-align: middle;\n",
       "    }\n",
       "\n",
       "    .dataframe tbody tr th {\n",
       "        vertical-align: top;\n",
       "    }\n",
       "\n",
       "    .dataframe thead th {\n",
       "        text-align: right;\n",
       "    }\n",
       "</style>\n",
       "<table border=\"1\" class=\"dataframe\">\n",
       "  <thead>\n",
       "    <tr style=\"text-align: right;\">\n",
       "      <th></th>\n",
       "      <th>production_budget</th>\n",
       "      <th>title_year</th>\n",
       "      <th>aspect_ratio</th>\n",
       "      <th>duration</th>\n",
       "      <th>cast_total_facebook_likes</th>\n",
       "      <th>budget</th>\n",
       "      <th>imdb_score</th>\n",
       "      <th>gross</th>\n",
       "    </tr>\n",
       "  </thead>\n",
       "  <tbody>\n",
       "    <tr>\n",
       "      <th>0</th>\n",
       "      <td>425000000.0</td>\n",
       "      <td>2009.000000</td>\n",
       "      <td>1.780000</td>\n",
       "      <td>178.000000</td>\n",
       "      <td>4834.0</td>\n",
       "      <td>2.370000e+08</td>\n",
       "      <td>7.9</td>\n",
       "      <td>7.605058e+08</td>\n",
       "    </tr>\n",
       "    <tr>\n",
       "      <th>1</th>\n",
       "      <td>306000000.0</td>\n",
       "      <td>2002.130733</td>\n",
       "      <td>2.126976</td>\n",
       "      <td>108.577186</td>\n",
       "      <td>143.0</td>\n",
       "      <td>4.045539e+07</td>\n",
       "      <td>7.1</td>\n",
       "      <td>4.831933e+07</td>\n",
       "    </tr>\n",
       "    <tr>\n",
       "      <th>2</th>\n",
       "      <td>300000000.0</td>\n",
       "      <td>2007.000000</td>\n",
       "      <td>2.350000</td>\n",
       "      <td>169.000000</td>\n",
       "      <td>48350.0</td>\n",
       "      <td>3.000000e+08</td>\n",
       "      <td>7.1</td>\n",
       "      <td>3.094042e+08</td>\n",
       "    </tr>\n",
       "    <tr>\n",
       "      <th>3</th>\n",
       "      <td>300000000.0</td>\n",
       "      <td>2015.000000</td>\n",
       "      <td>2.350000</td>\n",
       "      <td>148.000000</td>\n",
       "      <td>11700.0</td>\n",
       "      <td>2.450000e+08</td>\n",
       "      <td>6.8</td>\n",
       "      <td>2.000742e+08</td>\n",
       "    </tr>\n",
       "    <tr>\n",
       "      <th>4</th>\n",
       "      <td>275000000.0</td>\n",
       "      <td>2012.000000</td>\n",
       "      <td>2.350000</td>\n",
       "      <td>164.000000</td>\n",
       "      <td>106759.0</td>\n",
       "      <td>2.500000e+08</td>\n",
       "      <td>8.5</td>\n",
       "      <td>4.481306e+08</td>\n",
       "    </tr>\n",
       "    <tr>\n",
       "      <th>...</th>\n",
       "      <td>...</td>\n",
       "      <td>...</td>\n",
       "      <td>...</td>\n",
       "      <td>...</td>\n",
       "      <td>...</td>\n",
       "      <td>...</td>\n",
       "      <td>...</td>\n",
       "      <td>...</td>\n",
       "    </tr>\n",
       "    <tr>\n",
       "      <th>4099</th>\n",
       "      <td>7000.0</td>\n",
       "      <td>2004.000000</td>\n",
       "      <td>1.850000</td>\n",
       "      <td>77.000000</td>\n",
       "      <td>368.0</td>\n",
       "      <td>7.000000e+03</td>\n",
       "      <td>7.0</td>\n",
       "      <td>4.247600e+05</td>\n",
       "    </tr>\n",
       "    <tr>\n",
       "      <th>4100</th>\n",
       "      <td>7000.0</td>\n",
       "      <td>2005.000000</td>\n",
       "      <td>2.126976</td>\n",
       "      <td>80.000000</td>\n",
       "      <td>0.0</td>\n",
       "      <td>7.000000e+03</td>\n",
       "      <td>6.3</td>\n",
       "      <td>7.007100e+04</td>\n",
       "    </tr>\n",
       "    <tr>\n",
       "      <th>4101</th>\n",
       "      <td>7000.0</td>\n",
       "      <td>2005.000000</td>\n",
       "      <td>2.126976</td>\n",
       "      <td>84.000000</td>\n",
       "      <td>93.0</td>\n",
       "      <td>3.250000e+03</td>\n",
       "      <td>7.8</td>\n",
       "      <td>4.831933e+07</td>\n",
       "    </tr>\n",
       "    <tr>\n",
       "      <th>4102</th>\n",
       "      <td>3967.0</td>\n",
       "      <td>2012.000000</td>\n",
       "      <td>2.350000</td>\n",
       "      <td>100.000000</td>\n",
       "      <td>2386.0</td>\n",
       "      <td>4.045539e+07</td>\n",
       "      <td>6.3</td>\n",
       "      <td>1.044300e+04</td>\n",
       "    </tr>\n",
       "    <tr>\n",
       "      <th>4103</th>\n",
       "      <td>1100.0</td>\n",
       "      <td>2004.000000</td>\n",
       "      <td>1.850000</td>\n",
       "      <td>90.000000</td>\n",
       "      <td>163.0</td>\n",
       "      <td>1.100000e+03</td>\n",
       "      <td>6.6</td>\n",
       "      <td>8.522200e+04</td>\n",
       "    </tr>\n",
       "  </tbody>\n",
       "</table>\n",
       "<p>4104 rows × 8 columns</p>\n",
       "</div>"
      ],
      "text/plain": [
       "      production_budget   title_year  aspect_ratio    duration  \\\n",
       "0           425000000.0  2009.000000      1.780000  178.000000   \n",
       "1           306000000.0  2002.130733      2.126976  108.577186   \n",
       "2           300000000.0  2007.000000      2.350000  169.000000   \n",
       "3           300000000.0  2015.000000      2.350000  148.000000   \n",
       "4           275000000.0  2012.000000      2.350000  164.000000   \n",
       "...                 ...          ...           ...         ...   \n",
       "4099             7000.0  2004.000000      1.850000   77.000000   \n",
       "4100             7000.0  2005.000000      2.126976   80.000000   \n",
       "4101             7000.0  2005.000000      2.126976   84.000000   \n",
       "4102             3967.0  2012.000000      2.350000  100.000000   \n",
       "4103             1100.0  2004.000000      1.850000   90.000000   \n",
       "\n",
       "      cast_total_facebook_likes        budget  imdb_score         gross  \n",
       "0                        4834.0  2.370000e+08         7.9  7.605058e+08  \n",
       "1                         143.0  4.045539e+07         7.1  4.831933e+07  \n",
       "2                       48350.0  3.000000e+08         7.1  3.094042e+08  \n",
       "3                       11700.0  2.450000e+08         6.8  2.000742e+08  \n",
       "4                      106759.0  2.500000e+08         8.5  4.481306e+08  \n",
       "...                         ...           ...         ...           ...  \n",
       "4099                      368.0  7.000000e+03         7.0  4.247600e+05  \n",
       "4100                        0.0  7.000000e+03         6.3  7.007100e+04  \n",
       "4101                       93.0  3.250000e+03         7.8  4.831933e+07  \n",
       "4102                     2386.0  4.045539e+07         6.3  1.044300e+04  \n",
       "4103                      163.0  1.100000e+03         6.6  8.522200e+04  \n",
       "\n",
       "[4104 rows x 8 columns]"
      ]
     },
     "execution_count": 45,
     "metadata": {},
     "output_type": "execute_result"
    }
   ],
   "source": [
    "X = X.drop('worldwide_gross', axis=1)\n",
    "X.head(1)"
   ]
  },
  {
   "cell_type": "code",
   "execution_count": 46,
   "id": "1d4f9e37",
   "metadata": {},
   "outputs": [],
   "source": [
    "from sklearn.model_selection import train_test_split\n",
    "\n",
    "X_train, X_test, y_train, y_test = train_test_split(X, y, test_size=0.4)"
   ]
  },
  {
   "cell_type": "code",
   "execution_count": 47,
   "id": "7a9f111d",
   "metadata": {},
   "outputs": [
    {
     "name": "stdout",
     "output_type": "stream",
     "text": [
      "4104\n",
      "2462\n",
      "1642\n"
     ]
    }
   ],
   "source": [
    "print(len(X))\n",
    "print(len(X_train))\n",
    "print(len(X_test))"
   ]
  },
  {
   "cell_type": "code",
   "execution_count": 49,
   "id": "2f901c9f",
   "metadata": {},
   "outputs": [
    {
     "data": {
      "text/html": [
       "<div>\n",
       "<style scoped>\n",
       "    .dataframe tbody tr th:only-of-type {\n",
       "        vertical-align: middle;\n",
       "    }\n",
       "\n",
       "    .dataframe tbody tr th {\n",
       "        vertical-align: top;\n",
       "    }\n",
       "\n",
       "    .dataframe thead th {\n",
       "        text-align: right;\n",
       "    }\n",
       "</style>\n",
       "<table border=\"1\" class=\"dataframe\">\n",
       "  <thead>\n",
       "    <tr style=\"text-align: right;\">\n",
       "      <th></th>\n",
       "      <th>production_budget</th>\n",
       "      <th>title_year</th>\n",
       "      <th>aspect_ratio</th>\n",
       "      <th>duration</th>\n",
       "      <th>cast_total_facebook_likes</th>\n",
       "      <th>budget</th>\n",
       "      <th>imdb_score</th>\n",
       "      <th>gross</th>\n",
       "    </tr>\n",
       "  </thead>\n",
       "  <tbody>\n",
       "    <tr>\n",
       "      <th>0</th>\n",
       "      <td>425000000.0</td>\n",
       "      <td>2009.0</td>\n",
       "      <td>1.78</td>\n",
       "      <td>178.0</td>\n",
       "      <td>4834.0</td>\n",
       "      <td>237000000.0</td>\n",
       "      <td>7.9</td>\n",
       "      <td>760505847.0</td>\n",
       "    </tr>\n",
       "  </tbody>\n",
       "</table>\n",
       "</div>"
      ],
      "text/plain": [
       "   production_budget  title_year  aspect_ratio  duration  \\\n",
       "0        425000000.0      2009.0          1.78     178.0   \n",
       "\n",
       "   cast_total_facebook_likes       budget  imdb_score        gross  \n",
       "0                     4834.0  237000000.0         7.9  760505847.0  "
      ]
     },
     "execution_count": 49,
     "metadata": {},
     "output_type": "execute_result"
    }
   ],
   "source": [
    "X.head(1)"
   ]
  },
  {
   "cell_type": "code",
   "execution_count": 50,
   "id": "4db3cfda",
   "metadata": {},
   "outputs": [],
   "source": [
    "from sklearn.linear_model import Lasso\n",
    "\n",
    "model = Lasso()"
   ]
  },
  {
   "cell_type": "code",
   "execution_count": 54,
   "id": "d56906e5",
   "metadata": {},
   "outputs": [
    {
     "data": {
      "text/plain": [
       "Lasso()"
      ]
     },
     "execution_count": 54,
     "metadata": {},
     "output_type": "execute_result"
    }
   ],
   "source": [
    "# Se entrena el modelo\n",
    "model.fit(X_train, y_train)"
   ]
  },
  {
   "cell_type": "code",
   "execution_count": 55,
   "id": "a0e456d5",
   "metadata": {},
   "outputs": [],
   "source": [
    "predicted = model.predict(X_test)"
   ]
  },
  {
   "cell_type": "code",
   "execution_count": 60,
   "id": "6b8ec12e",
   "metadata": {},
   "outputs": [
    {
     "data": {
      "text/plain": [
       "array([1.15295011e+08, 6.74038489e+07, 3.32501411e+08, ...,\n",
       "       9.93925634e+07, 2.31382711e+07, 6.59324882e+07])"
      ]
     },
     "execution_count": 60,
     "metadata": {},
     "output_type": "execute_result"
    }
   ],
   "source": [
    "# Se miran las predicciones del test set\n",
    "predicted"
   ]
  },
  {
   "cell_type": "code",
   "execution_count": 61,
   "id": "ee8be8f9",
   "metadata": {},
   "outputs": [
    {
     "data": {
      "text/plain": [
       "(1642,)"
      ]
     },
     "execution_count": 61,
     "metadata": {},
     "output_type": "execute_result"
    }
   ],
   "source": [
    "predicted.shape"
   ]
  },
  {
   "cell_type": "markdown",
   "id": "52eef64a",
   "metadata": {},
   "source": [
    "#### Comparación entre datos predichos y datos reales"
   ]
  },
  {
   "cell_type": "code",
   "execution_count": 71,
   "id": "e7eb0aa0",
   "metadata": {
    "scrolled": false
   },
   "outputs": [
    {
     "data": {
      "text/plain": [
       "Text(0.5, 1.0, 'predicted y vs y test')"
      ]
     },
     "execution_count": 71,
     "metadata": {},
     "output_type": "execute_result"
    },
    {
     "data": {
      "image/png": "[encoded data removed]",
      "text/plain": [
       "<Figure size 432x288 with 1 Axes>"
      ]
     },
     "metadata": {
      "needs_background": "light"
     },
     "output_type": "display_data"
    }
   ],
   "source": [
    "plt.hist([predicted, y_test]);\n",
    "plt.xlabel('income')\n",
    "plt.ylabel('worldwide gross')\n",
    "plt.title('predicted y vs y test')"
   ]
  },
  {
   "cell_type": "markdown",
   "id": "848a6360",
   "metadata": {},
   "source": [
    "**Antes de avanzar en el proyecto es importante recordar estos conceptos:**\n",
    "\n",
    "- **Underfitting**: Se presenta cuando un modelo no puede capturar la tendencia de los datos. Es generalmente el resultado de un modelo extremadamente simple.\n",
    "- **Overfitting**: Se presenta cuando un algoritmo está perfectamente adaptado a los datos con los que lo entrenamos, pero si trataran de predecir nuevos datos, lo más probable es que nos de error."
   ]
  },
  {
   "cell_type": "markdown",
   "id": "ee891f9b",
   "metadata": {},
   "source": [
    "## Evaluando el Modelo de Regresión con la métrica de Scikit-learn r2 score"
   ]
  },
  {
   "cell_type": "markdown",
   "id": "ed15d4d9",
   "metadata": {},
   "source": [
    "Para evaluar el performance del modelo scikit-learn ofrece diferentes métricas que vienen en el módulo ***sklearn.metrics***.\n",
    "\n",
    "Y por otro lado, ***sklearn.model_selection*** ofrece funciones para poder sacar scores. Estas funciones en general ocupan internamente las métricas delo módulo ***sklearn.metrics***.\n",
    "\n",
    "En el caso de las **regresiones**, se suele ocupar mucho la métrica **sklearn.metric.r2_score**"
   ]
  },
  {
   "cell_type": "markdown",
   "id": "51a75267",
   "metadata": {},
   "source": [
    "### sklearn.metric.r2_score"
   ]
  },
  {
   "cell_type": "markdown",
   "id": "9c62334d",
   "metadata": {},
   "source": [
    "El **score R2** de una regresión es una de las formas más comunes de entender su poder predictivo.  \n",
    "**mientras más cerca de 1, mejor**.\n",
    "\n",
    "**Rango**: Desde -infinito hasta 1.\n",
    "\n",
    "**score R2 negativo** -> Muy malo."
   ]
  },
  {
   "cell_type": "code",
   "execution_count": 72,
   "id": "c2a80e8e",
   "metadata": {},
   "outputs": [
    {
     "data": {
      "text/plain": [
       "0.883148891608821"
      ]
     },
     "execution_count": 72,
     "metadata": {},
     "output_type": "execute_result"
    }
   ],
   "source": [
    "model.score(X_test, y_test)"
   ]
  },
  {
   "cell_type": "markdown",
   "id": "02eb2a0e",
   "metadata": {},
   "source": [
    "Se recibió un score de 0.88. Bastante bueno."
   ]
  },
  {
   "cell_type": "markdown",
   "id": "c89654b7",
   "metadata": {},
   "source": [
    "### Visualización de los resultados"
   ]
  },
  {
   "cell_type": "code",
   "execution_count": 77,
   "id": "8906f2e6",
   "metadata": {},
   "outputs": [],
   "source": [
    "residuals = y_test - predicted"
   ]
  },
  {
   "cell_type": "code",
   "execution_count": 78,
   "id": "451651d7",
   "metadata": {},
   "outputs": [
    {
     "data": {
      "text/plain": [
       "<matplotlib.collections.PathCollection at 0x1cff1e8e3d0>"
      ]
     },
     "execution_count": 78,
     "metadata": {},
     "output_type": "execute_result"
    },
    {
     "data": {
      "image/png": "[encoded data removed]",
      "text/plain": [
       "<Figure size 432x288 with 1 Axes>"
      ]
     },
     "metadata": {
      "needs_background": "light"
     },
     "output_type": "display_data"
    }
   ],
   "source": [
    "# En la gráfica de residuos tratamos de buscar que no se vean patrones aparentes.\n",
    "plt.scatter(y_test, residuals)"
   ]
  },
  {
   "cell_type": "code",
   "execution_count": 79,
   "id": "6d7cbd5e",
   "metadata": {},
   "outputs": [],
   "source": [
    "# Se visualizarán los mismos errores pero en porcentaje.\n",
    "ap_residuals = np.abs(residuals)/y_test"
   ]
  },
  {
   "cell_type": "code",
   "execution_count": 80,
   "id": "e4673d0f",
   "metadata": {},
   "outputs": [
    {
     "data": {
      "text/plain": [
       "<matplotlib.collections.PathCollection at 0x1cff069a670>"
      ]
     },
     "execution_count": 80,
     "metadata": {},
     "output_type": "execute_result"
    },
    {
     "data": {
      "image/png": "[encoded data removed]",
      "text/plain": [
       "<Figure size 432x288 with 1 Axes>"
      ]
     },
     "metadata": {
      "needs_background": "light"
     },
     "output_type": "display_data"
    }
   ],
   "source": [
    "plt.scatter(y_test, ap_residuals)"
   ]
  },
  {
   "cell_type": "markdown",
   "id": "cf2e19bd",
   "metadata": {},
   "source": [
    "Se puede notar que casi todo está en cero. Pero la visualización en esa escala no se ve muy buena.  \n",
    "Se aplica una escala logarítmica.  "
   ]
  },
  {
   "cell_type": "code",
   "execution_count": 87,
   "id": "cc4b074f",
   "metadata": {},
   "outputs": [],
   "source": [
    "lap_residuals = np.log10(ap_residuals)"
   ]
  },
  {
   "cell_type": "code",
   "execution_count": 88,
   "id": "4265843e",
   "metadata": {},
   "outputs": [
    {
     "data": {
      "text/plain": [
       "<matplotlib.collections.PathCollection at 0x1cff20dbfa0>"
      ]
     },
     "execution_count": 88,
     "metadata": {},
     "output_type": "execute_result"
    },
    {
     "data": {
      "image/png": "[encoded data removed]",
      "text/plain": [
       "<Figure size 432x288 with 1 Axes>"
      ]
     },
     "metadata": {
      "needs_background": "light"
     },
     "output_type": "display_data"
    }
   ],
   "source": [
    "plt.scatter(y_test, lap_residuals)"
   ]
  },
  {
   "cell_type": "markdown",
   "id": "9dbdaca9",
   "metadata": {},
   "source": [
    "En base al gráfico, se puede concluir que se cuenta con una primera buena aproximación.  \n",
    "Ahora se realizará una evaluación numérica de los errores.  "
   ]
  },
  {
   "cell_type": "code",
   "execution_count": 90,
   "id": "fcb136e0",
   "metadata": {},
   "outputs": [
    {
     "data": {
      "text/plain": [
       "(array([6.09013398e-04, 6.09013398e-04, 6.09013398e-04, 6.09013398e-04,\n",
       "        6.09013398e-04, 6.09013398e-04, 6.09013398e-04, 6.09013398e-04,\n",
       "        3.04506699e-03, 3.65408039e-03, 3.65408039e-03, 4.26309379e-03,\n",
       "        6.09013398e-03, 7.30816078e-03, 1.03532278e-02, 1.03532278e-02,\n",
       "        1.21802680e-02, 1.21802680e-02, 1.58343484e-02, 2.00974421e-02,\n",
       "        2.67965895e-02, 2.98416565e-02, 3.83678441e-02, 4.75030451e-02,\n",
       "        5.48112058e-02, 6.82095006e-02, 8.64799026e-02, 1.03532278e-01,\n",
       "        1.19975639e-01, 1.45554202e-01, 1.66869671e-01, 2.01583435e-01,\n",
       "        2.46041413e-01, 2.86236297e-01, 3.33739342e-01, 3.81851401e-01,\n",
       "        4.34226553e-01, 4.85992692e-01, 5.23751523e-01, 5.68209501e-01,\n",
       "        6.04141291e-01, 6.36419001e-01, 6.71132765e-01, 6.99756395e-01,\n",
       "        7.23507917e-01, 7.44823386e-01, 7.65529842e-01, 7.80146163e-01,\n",
       "        7.93544458e-01, 8.05724726e-01, 8.17904994e-01, 8.29476248e-01,\n",
       "        8.41047503e-01, 8.47137637e-01, 8.55054811e-01, 8.61144945e-01,\n",
       "        8.70280146e-01, 8.73325213e-01, 8.83678441e-01, 8.92204629e-01,\n",
       "        9.03166870e-01, 9.12302071e-01, 9.19001218e-01, 9.25091352e-01,\n",
       "        9.29354446e-01, 9.34226553e-01, 9.37271620e-01, 9.43361754e-01,\n",
       "        9.46406821e-01, 9.50669915e-01, 9.52496955e-01, 9.54323995e-01,\n",
       "        9.58587089e-01, 9.64068210e-01, 9.65286236e-01, 9.67113276e-01,\n",
       "        9.68940317e-01, 9.72594397e-01, 9.74421437e-01, 9.75639464e-01,\n",
       "        9.76857491e-01, 9.77466504e-01, 9.79293544e-01, 9.81120585e-01,\n",
       "        9.82338611e-01, 9.83556638e-01, 9.85992692e-01, 9.88428745e-01,\n",
       "        9.90864799e-01, 9.92082826e-01, 9.93909866e-01, 9.95127893e-01,\n",
       "        9.96345920e-01, 9.96954933e-01, 9.97563946e-01, 9.98781973e-01,\n",
       "        9.99390987e-01, 9.99390987e-01, 9.99390987e-01, 1.00000000e+00]),\n",
       " array([-3.35529001, -3.27316388, -3.19103775, -3.10891163, -3.0267855 ,\n",
       "        -2.94465937, -2.86253324, -2.78040712, -2.69828099, -2.61615486,\n",
       "        -2.53402874, -2.45190261, -2.36977648, -2.28765036, -2.20552423,\n",
       "        -2.1233981 , -2.04127197, -1.95914585, -1.87701972, -1.79489359,\n",
       "        -1.71276747, -1.63064134, -1.54851521, -1.46638909, -1.38426296,\n",
       "        -1.30213683, -1.2200107 , -1.13788458, -1.05575845, -0.97363232,\n",
       "        -0.8915062 , -0.80938007, -0.72725394, -0.64512782, -0.56300169,\n",
       "        -0.48087556, -0.39874943, -0.31662331, -0.23449718, -0.15237105,\n",
       "        -0.07024493,  0.0118812 ,  0.09400733,  0.17613346,  0.25825958,\n",
       "         0.34038571,  0.42251184,  0.50463796,  0.58676409,  0.66889022,\n",
       "         0.75101634,  0.83314247,  0.9152686 ,  0.99739473,  1.07952085,\n",
       "         1.16164698,  1.24377311,  1.32589923,  1.40802536,  1.49015149,\n",
       "         1.57227761,  1.65440374,  1.73652987,  1.818656  ,  1.90078212,\n",
       "         1.98290825,  2.06503438,  2.1471605 ,  2.22928663,  2.31141276,\n",
       "         2.39353889,  2.47566501,  2.55779114,  2.63991727,  2.72204339,\n",
       "         2.80416952,  2.88629565,  2.96842177,  3.0505479 ,  3.13267403,\n",
       "         3.21480016,  3.29692628,  3.37905241,  3.46117854,  3.54330466,\n",
       "         3.62543079,  3.70755692,  3.78968304,  3.87180917,  3.9539353 ,\n",
       "         4.03606143,  4.11818755,  4.20031368,  4.28243981,  4.36456593,\n",
       "         4.44669206,  4.52881819,  4.61094431,  4.69307044,  4.77519657,\n",
       "         4.8573227 ]),\n",
       " [<matplotlib.patches.Polygon at 0x1cff23356a0>])"
      ]
     },
     "execution_count": 90,
     "metadata": {},
     "output_type": "execute_result"
    },
    {
     "data": {
      "image/png": "[encoded data removed]",
      "text/plain": [
       "<Figure size 432x288 with 1 Axes>"
      ]
     },
     "metadata": {
      "needs_background": "light"
     },
     "output_type": "display_data"
    }
   ],
   "source": [
    "plt.hist(lap_residuals, bins=100, density=1, histtype='step', cumulative=True)"
   ]
  },
  {
   "cell_type": "markdown",
   "id": "f957ef8b",
   "metadata": {},
   "source": [
    "La lectura del gráfico anterior es que un error menor al 100% en el valor del ingreso, por lo menos lo tengo para el 70% de los datos.\n",
    "Hacemos feature engineering."
   ]
  },
  {
   "cell_type": "code",
   "execution_count": null,
   "id": "3b216f04",
   "metadata": {},
   "outputs": [],
   "source": []
  }
 ],
 "metadata": {
  "kernelspec": {
   "display_name": "Python 3",
   "language": "python",
   "name": "python3"
  },
  "language_info": {
   "codemirror_mode": {
    "name": "ipython",
    "version": 3
   },
   "file_extension": ".py",
   "mimetype": "text/x-python",
   "name": "python",
   "nbconvert_exporter": "python",
   "pygments_lexer": "ipython3",
   "version": "3.8.8"
  }
 },
 "nbformat": 4,
 "nbformat_minor": 5
}
