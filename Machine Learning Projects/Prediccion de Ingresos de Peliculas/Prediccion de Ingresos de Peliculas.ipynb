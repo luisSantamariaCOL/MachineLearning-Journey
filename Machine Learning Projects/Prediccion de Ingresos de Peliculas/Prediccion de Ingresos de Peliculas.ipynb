{
 "cells": [
  {
   "cell_type": "markdown",
   "id": "254ceee9",
   "metadata": {},
   "source": [
    "# Machine Learning Aplicado con Python"
   ]
  },
  {
   "cell_type": "markdown",
   "id": "c2c6f1a4",
   "metadata": {},
   "source": [
    "Este proyecto tiene como objetivo utilizar distintas librerías de Python (Scikit-learn, pandas, numpy, matplotlib, etc...) para entender todo el flujo de trabajo que se realiza cuando se resuelve un problema de Aprendizaje Supervisado de Machine Learning. En este caso, se busca predecir los ingresos que tendrá una película en base a un histórico de datos de películas de la plataforma imdb.\n",
    "\n",
    "Otras disciplinas:\n",
    "- Feature engineering\n",
    "- Selección de modelos"
   ]
  },
  {
   "cell_type": "markdown",
   "id": "e2b5c3f1",
   "metadata": {},
   "source": [
    "## Antes de la Práctica:"
   ]
  },
  {
   "cell_type": "markdown",
   "id": "3b930525",
   "metadata": {},
   "source": [
    "***Hay que reconocer el tipo de aprendizaje que se necesita***\n",
    "\n",
    "1. ¿Qué beneficio se piensa generar y para quién?  \n",
    "2. ¿Cuál de las siguientes funcionalidades sería más útil para lograr ese objetivo?:  \n",
    "        A. Predecir una métrica  \n",
    "        B. Predecir una etiqueta  \n",
    "        C. Agrupar elementos similares  \n",
    "        D. Optimizar un proceso con prueba y error  \n",
    "    \n",
    "Los dos primeros corresponden a **Aprendizaje supervisado**.  \n",
    "\n",
    "***Hay que aterrizar el problema de aprendizaje supervisado***.  \n",
    "\n",
    "1. ¿El valor que se quiere predecir es de qué tipo?  \n",
    "        A. Continuo\n",
    "        B. Discreto\n",
    "2. ¿Cuál es la definición de éxito de la predicción?\n",
    "3. ¿Con qué datos se contará para hacer la predicción?\n",
    "4. ¿A qué disciplina en particular pertenece la pregunta que se está tratando de resolver?\n",
    "5. Considerando la intucipon sobre la disciplina, ¿Pueden los datos permitir predecir el objetivo?"
   ]
  },
  {
   "cell_type": "markdown",
   "id": "94ac341f",
   "metadata": {},
   "source": [
    "### Contexto del Problema"
   ]
  },
  {
   "cell_type": "markdown",
   "id": "fe7c4c43",
   "metadata": {},
   "source": [
    "Contexto: Un *ente gubernamental* quiere definir sus políticas de financiamiento de producciones cinematográficas nacionales.\n",
    "\n",
    "**Sus objetivos son:**  \n",
    "1. **Ayudar** a la producción de películas de calidad **que no logran ser autosustentables**  \n",
    "2. Saber qué películas tienen más dificultad de recuperar lo gastado en el presupuesto.  \n",
    "\n",
    "Por consiguiente, el ente gubernamental quiere **predecir una métrica**: El ingreso mundial generado por una película.  "
   ]
  },
  {
   "cell_type": "markdown",
   "id": "c329faec",
   "metadata": {},
   "source": [
    "### Desarrollo del Problema"
   ]
  },
  {
   "cell_type": "markdown",
   "id": "26ead362",
   "metadata": {},
   "source": [
    "Estando ubicados en el contexto del problema, se podrían responder las anteriores preguntas de la siguiente manera:\n",
    "\n",
    "1. Los ingresos de una película corresponden a **valores continuos**\n",
    "2. El éxito será \"**qué tan cerca se está del valor real de ingreso generado por la película**\"\n",
    "3. Los datos se recogerán de **bases de datos públicas de internet**\n",
    "4. El dominio de trabajo es la **industria del cine**, en particular de la distribución de películas.\n",
    "5. Los datos podrán permitir predecir el objetivo. De forma general existen características que permiten determinar si una película será exito o no, como: **calidad, actores, presupuesto, etc...**"
   ]
  },
  {
   "cell_type": "markdown",
   "id": "2eaacc45",
   "metadata": {},
   "source": [
    "### Preparación de datos"
   ]
  },
  {
   "cell_type": "markdown",
   "id": "43ca2835",
   "metadata": {},
   "source": [
    "***NumPy***: librería de matriz n-dimensional base  \n",
    "***Pandas***: estructura de datos y análisis  \n",
    "***Matplotlib***: trazado completo 2D  \n",
    "***Seaborn***: visualización estadística de datos  "
   ]
  },
  {
   "cell_type": "code",
   "execution_count": 1,
   "id": "aedf4c30",
   "metadata": {},
   "outputs": [],
   "source": [
    "# Importamos las librerías\n",
    "import numpy as np\n",
    "import pandas as pd\n",
    "import matplotlib.pyplot as plt\n",
    "import seaborn as sb"
   ]
  },
  {
   "cell_type": "markdown",
   "id": "959acad5",
   "metadata": {},
   "source": [
    "**%matplotlib inline** permite que los gráficos estén renderizados directamente en el Notebook."
   ]
  },
  {
   "cell_type": "code",
   "execution_count": 2,
   "id": "1b1df4a2",
   "metadata": {},
   "outputs": [],
   "source": [
    "%matplotlib inline"
   ]
  },
  {
   "cell_type": "markdown",
   "id": "ab297e4e",
   "metadata": {},
   "source": [
    "Se cargan los datos desde un github que contiene un archivo csv.\n",
    "Dicho archivo se convierte a un DataFrame de pandas."
   ]
  },
  {
   "cell_type": "code",
   "execution_count": 3,
   "id": "94dd8596",
   "metadata": {},
   "outputs": [],
   "source": [
    "url = 'https://github.com/JuanPabloMF/datasets-platzi-course/raw/master/datasets/peliculas.csv'\n",
    "movies_df = pd.read_csv(url, encoding='utf-8')"
   ]
  },
  {
   "cell_type": "markdown",
   "id": "eabdc645",
   "metadata": {},
   "source": [
    "#### Columnas del DataFrame"
   ]
  },
  {
   "cell_type": "markdown",
   "id": "338b2717",
   "metadata": {},
   "source": [
    "Variables predictoras:  \n",
    "**movie_title**: *Título de la película*  \n",
    "**title_year**: *Año de estreno de la película*  \n",
    "**duration**: *Duración de la película en minutos*  \n",
    "**language**: *Lenguaje original de la película*  \n",
    "**country**: *País que produció la película*  \n",
    "**genres**: *Género(s) de la película*  \n",
    "**content_rating**: *Para qué público va dirigida la película*  \n",
    "**plot_keywords**: *Palabras clave que definen la película*  \n",
    "**director_name**: *Nombre del director principal de la película*  \n",
    "**actor_1_name, actor_2_name, actor_3_name**: *Actores principales que actúan en la película*  \n",
    "**cast_total_facebook_likes**: *Número total de likes que tiene el casting en Facebook*  \n",
    "**budget**: *Cuánto presupuesto tiene la película*  \n",
    "**imdb_score**: *Qué score tiene la película en imdb*  \n",
    "\n",
    "Variable objetivo:  \n",
    "**gross**: *Cuánto generó de ingreso la película*  "
   ]
  },
  {
   "cell_type": "code",
   "execution_count": 4,
   "id": "b8a10971",
   "metadata": {
    "scrolled": false
   },
   "outputs": [
    {
     "data": {
      "text/html": [
       "<div>\n",
       "<style scoped>\n",
       "    .dataframe tbody tr th:only-of-type {\n",
       "        vertical-align: middle;\n",
       "    }\n",
       "\n",
       "    .dataframe tbody tr th {\n",
       "        vertical-align: top;\n",
       "    }\n",
       "\n",
       "    .dataframe thead th {\n",
       "        text-align: right;\n",
       "    }\n",
       "</style>\n",
       "<table border=\"1\" class=\"dataframe\">\n",
       "  <thead>\n",
       "    <tr style=\"text-align: right;\">\n",
       "      <th></th>\n",
       "      <th>movie_title</th>\n",
       "      <th>title_year</th>\n",
       "      <th>color</th>\n",
       "      <th>aspect_ratio</th>\n",
       "      <th>duration</th>\n",
       "      <th>language</th>\n",
       "      <th>country</th>\n",
       "      <th>duration.1</th>\n",
       "      <th>genres</th>\n",
       "      <th>content_rating</th>\n",
       "      <th>plot_keywords</th>\n",
       "      <th>director_name</th>\n",
       "      <th>actor_1_name</th>\n",
       "      <th>actor_2_name</th>\n",
       "      <th>actor_3_name</th>\n",
       "      <th>cast_total_facebook_likes</th>\n",
       "      <th>budget</th>\n",
       "      <th>imdb_score</th>\n",
       "      <th>gross</th>\n",
       "    </tr>\n",
       "  </thead>\n",
       "  <tbody>\n",
       "    <tr>\n",
       "      <th>0</th>\n",
       "      <td>Avatar</td>\n",
       "      <td>2009.0</td>\n",
       "      <td>Color</td>\n",
       "      <td>1.78</td>\n",
       "      <td>178.0</td>\n",
       "      <td>English</td>\n",
       "      <td>USA</td>\n",
       "      <td>178.0</td>\n",
       "      <td>Action|Adventure|Fantasy|Sci-Fi</td>\n",
       "      <td>PG-13</td>\n",
       "      <td>avatar|future|marine|native|paraplegic</td>\n",
       "      <td>James Cameron</td>\n",
       "      <td>CCH Pounder</td>\n",
       "      <td>Joel David Moore</td>\n",
       "      <td>Wes Studi</td>\n",
       "      <td>4834</td>\n",
       "      <td>237000000.0</td>\n",
       "      <td>7.9</td>\n",
       "      <td>760505847.0</td>\n",
       "    </tr>\n",
       "    <tr>\n",
       "      <th>1</th>\n",
       "      <td>Pirates of the Caribbean: At World's End</td>\n",
       "      <td>2007.0</td>\n",
       "      <td>Color</td>\n",
       "      <td>2.35</td>\n",
       "      <td>169.0</td>\n",
       "      <td>English</td>\n",
       "      <td>USA</td>\n",
       "      <td>169.0</td>\n",
       "      <td>Action|Adventure|Fantasy</td>\n",
       "      <td>PG-13</td>\n",
       "      <td>goddess|marriage ceremony|marriage proposal|pi...</td>\n",
       "      <td>Gore Verbinski</td>\n",
       "      <td>Johnny Depp</td>\n",
       "      <td>Orlando Bloom</td>\n",
       "      <td>Jack Davenport</td>\n",
       "      <td>48350</td>\n",
       "      <td>300000000.0</td>\n",
       "      <td>7.1</td>\n",
       "      <td>309404152.0</td>\n",
       "    </tr>\n",
       "    <tr>\n",
       "      <th>2</th>\n",
       "      <td>Spectre</td>\n",
       "      <td>2015.0</td>\n",
       "      <td>Color</td>\n",
       "      <td>2.35</td>\n",
       "      <td>148.0</td>\n",
       "      <td>English</td>\n",
       "      <td>UK</td>\n",
       "      <td>148.0</td>\n",
       "      <td>Action|Adventure|Thriller</td>\n",
       "      <td>PG-13</td>\n",
       "      <td>bomb|espionage|sequel|spy|terrorist</td>\n",
       "      <td>Sam Mendes</td>\n",
       "      <td>Christoph Waltz</td>\n",
       "      <td>Rory Kinnear</td>\n",
       "      <td>Stephanie Sigman</td>\n",
       "      <td>11700</td>\n",
       "      <td>245000000.0</td>\n",
       "      <td>6.8</td>\n",
       "      <td>200074175.0</td>\n",
       "    </tr>\n",
       "    <tr>\n",
       "      <th>3</th>\n",
       "      <td>The Dark Knight Rises</td>\n",
       "      <td>2012.0</td>\n",
       "      <td>Color</td>\n",
       "      <td>2.35</td>\n",
       "      <td>164.0</td>\n",
       "      <td>English</td>\n",
       "      <td>USA</td>\n",
       "      <td>164.0</td>\n",
       "      <td>Action|Thriller</td>\n",
       "      <td>PG-13</td>\n",
       "      <td>deception|imprisonment|lawlessness|police offi...</td>\n",
       "      <td>Christopher Nolan</td>\n",
       "      <td>Tom Hardy</td>\n",
       "      <td>Christian Bale</td>\n",
       "      <td>Joseph Gordon-Levitt</td>\n",
       "      <td>106759</td>\n",
       "      <td>250000000.0</td>\n",
       "      <td>8.5</td>\n",
       "      <td>448130642.0</td>\n",
       "    </tr>\n",
       "    <tr>\n",
       "      <th>4</th>\n",
       "      <td>Star Wars: Episode VII - The Force Awakens    ...</td>\n",
       "      <td>NaN</td>\n",
       "      <td>NaN</td>\n",
       "      <td>NaN</td>\n",
       "      <td>NaN</td>\n",
       "      <td>NaN</td>\n",
       "      <td>NaN</td>\n",
       "      <td>NaN</td>\n",
       "      <td>Documentary</td>\n",
       "      <td>NaN</td>\n",
       "      <td>NaN</td>\n",
       "      <td>Doug Walker</td>\n",
       "      <td>Doug Walker</td>\n",
       "      <td>Rob Walker</td>\n",
       "      <td>NaN</td>\n",
       "      <td>143</td>\n",
       "      <td>NaN</td>\n",
       "      <td>7.1</td>\n",
       "      <td>NaN</td>\n",
       "    </tr>\n",
       "  </tbody>\n",
       "</table>\n",
       "</div>"
      ],
      "text/plain": [
       "                                         movie_title  title_year  color  \\\n",
       "0                                            Avatar       2009.0  Color   \n",
       "1          Pirates of the Caribbean: At World's End       2007.0  Color   \n",
       "2                                           Spectre       2015.0  Color   \n",
       "3                             The Dark Knight Rises       2012.0  Color   \n",
       "4  Star Wars: Episode VII - The Force Awakens    ...         NaN    NaN   \n",
       "\n",
       "   aspect_ratio  duration language country  duration.1  \\\n",
       "0          1.78     178.0  English     USA       178.0   \n",
       "1          2.35     169.0  English     USA       169.0   \n",
       "2          2.35     148.0  English      UK       148.0   \n",
       "3          2.35     164.0  English     USA       164.0   \n",
       "4           NaN       NaN      NaN     NaN         NaN   \n",
       "\n",
       "                            genres content_rating  \\\n",
       "0  Action|Adventure|Fantasy|Sci-Fi          PG-13   \n",
       "1         Action|Adventure|Fantasy          PG-13   \n",
       "2        Action|Adventure|Thriller          PG-13   \n",
       "3                  Action|Thriller          PG-13   \n",
       "4                      Documentary            NaN   \n",
       "\n",
       "                                       plot_keywords      director_name  \\\n",
       "0             avatar|future|marine|native|paraplegic      James Cameron   \n",
       "1  goddess|marriage ceremony|marriage proposal|pi...     Gore Verbinski   \n",
       "2                bomb|espionage|sequel|spy|terrorist         Sam Mendes   \n",
       "3  deception|imprisonment|lawlessness|police offi...  Christopher Nolan   \n",
       "4                                                NaN        Doug Walker   \n",
       "\n",
       "      actor_1_name      actor_2_name          actor_3_name  \\\n",
       "0      CCH Pounder  Joel David Moore             Wes Studi   \n",
       "1      Johnny Depp     Orlando Bloom        Jack Davenport   \n",
       "2  Christoph Waltz      Rory Kinnear      Stephanie Sigman   \n",
       "3        Tom Hardy    Christian Bale  Joseph Gordon-Levitt   \n",
       "4      Doug Walker        Rob Walker                   NaN   \n",
       "\n",
       "   cast_total_facebook_likes       budget  imdb_score        gross  \n",
       "0                       4834  237000000.0         7.9  760505847.0  \n",
       "1                      48350  300000000.0         7.1  309404152.0  \n",
       "2                      11700  245000000.0         6.8  200074175.0  \n",
       "3                     106759  250000000.0         8.5  448130642.0  \n",
       "4                        143          NaN         7.1          NaN  "
      ]
     },
     "execution_count": 4,
     "metadata": {},
     "output_type": "execute_result"
    }
   ],
   "source": [
    "# se visualizan los primeros registros del DataFrame\n",
    "movies_df.head()"
   ]
  },
  {
   "cell_type": "code",
   "execution_count": 5,
   "id": "7057ded4",
   "metadata": {},
   "outputs": [
    {
     "data": {
      "text/plain": [
       "Index(['movie_title', 'title_year', 'color', 'aspect_ratio', 'duration',\n",
       "       'language', 'country', 'duration.1', 'genres', 'content_rating',\n",
       "       'plot_keywords', 'director_name', 'actor_1_name', 'actor_2_name',\n",
       "       'actor_3_name', 'cast_total_facebook_likes', 'budget', 'imdb_score',\n",
       "       'gross'],\n",
       "      dtype='object')"
      ]
     },
     "execution_count": 5,
     "metadata": {},
     "output_type": "execute_result"
    }
   ],
   "source": [
    "# visualización de las columnas\n",
    "movies_df.columns"
   ]
  },
  {
   "cell_type": "markdown",
   "id": "ca588213",
   "metadata": {},
   "source": [
    "## Entendimiento de los datos"
   ]
  },
  {
   "cell_type": "code",
   "execution_count": 6,
   "id": "fa174ab9",
   "metadata": {},
   "outputs": [
    {
     "name": "stdout",
     "output_type": "stream",
     "text": [
      "<class 'pandas.core.frame.DataFrame'>\n",
      "RangeIndex: 5043 entries, 0 to 5042\n",
      "Data columns (total 19 columns):\n",
      " #   Column                     Non-Null Count  Dtype  \n",
      "---  ------                     --------------  -----  \n",
      " 0   movie_title                5043 non-null   object \n",
      " 1   title_year                 4935 non-null   float64\n",
      " 2   color                      5024 non-null   object \n",
      " 3   aspect_ratio               4714 non-null   float64\n",
      " 4   duration                   5028 non-null   float64\n",
      " 5   language                   5031 non-null   object \n",
      " 6   country                    5038 non-null   object \n",
      " 7   duration.1                 5028 non-null   float64\n",
      " 8   genres                     5043 non-null   object \n",
      " 9   content_rating             4740 non-null   object \n",
      " 10  plot_keywords              4890 non-null   object \n",
      " 11  director_name              4939 non-null   object \n",
      " 12  actor_1_name               5036 non-null   object \n",
      " 13  actor_2_name               5030 non-null   object \n",
      " 14  actor_3_name               5020 non-null   object \n",
      " 15  cast_total_facebook_likes  5043 non-null   int64  \n",
      " 16  budget                     4551 non-null   float64\n",
      " 17  imdb_score                 5043 non-null   float64\n",
      " 18  gross                      4159 non-null   float64\n",
      "dtypes: float64(7), int64(1), object(11)\n",
      "memory usage: 748.7+ KB\n"
     ]
    }
   ],
   "source": [
    "movies_df.info()"
   ]
  },
  {
   "cell_type": "code",
   "execution_count": 7,
   "id": "4055a7de",
   "metadata": {},
   "outputs": [
    {
     "data": {
      "text/plain": [
       "movie_title                   object\n",
       "title_year                   float64\n",
       "color                         object\n",
       "aspect_ratio                 float64\n",
       "duration                     float64\n",
       "language                      object\n",
       "country                       object\n",
       "duration.1                   float64\n",
       "genres                        object\n",
       "content_rating                object\n",
       "plot_keywords                 object\n",
       "director_name                 object\n",
       "actor_1_name                  object\n",
       "actor_2_name                  object\n",
       "actor_3_name                  object\n",
       "cast_total_facebook_likes      int64\n",
       "budget                       float64\n",
       "imdb_score                   float64\n",
       "gross                        float64\n",
       "dtype: object"
      ]
     },
     "execution_count": 7,
     "metadata": {},
     "output_type": "execute_result"
    }
   ],
   "source": [
    "movies_df.dtypes"
   ]
  },
  {
   "cell_type": "markdown",
   "id": "a0bd9e47",
   "metadata": {},
   "source": [
    "#### Separación de datos"
   ]
  },
  {
   "cell_type": "code",
   "execution_count": 8,
   "id": "f6b11029",
   "metadata": {
    "scrolled": true
   },
   "outputs": [
    {
     "data": {
      "text/plain": [
       "movie_title                  False\n",
       "title_year                    True\n",
       "color                        False\n",
       "aspect_ratio                  True\n",
       "duration                      True\n",
       "language                     False\n",
       "country                      False\n",
       "duration.1                    True\n",
       "genres                       False\n",
       "content_rating               False\n",
       "plot_keywords                False\n",
       "director_name                False\n",
       "actor_1_name                 False\n",
       "actor_2_name                 False\n",
       "actor_3_name                 False\n",
       "cast_total_facebook_likes     True\n",
       "budget                        True\n",
       "imdb_score                    True\n",
       "gross                         True\n",
       "dtype: bool"
      ]
     },
     "execution_count": 8,
     "metadata": {},
     "output_type": "execute_result"
    }
   ],
   "source": [
    "# Obtención de columnas numéricas\n",
    "num = (movies_df.dtypes == 'float64') | (movies_df.dtypes == 'int64')\n",
    "num"
   ]
  },
  {
   "cell_type": "code",
   "execution_count": 9,
   "id": "17da3f1a",
   "metadata": {
    "scrolled": true
   },
   "outputs": [
    {
     "name": "stdout",
     "output_type": "stream",
     "text": [
      "Index(['movie_title', 'title_year', 'color', 'aspect_ratio', 'duration',\n",
      "       'language', 'country', 'duration.1', 'genres', 'content_rating',\n",
      "       'plot_keywords', 'director_name', 'actor_1_name', 'actor_2_name',\n",
      "       'actor_3_name', 'cast_total_facebook_likes', 'budget', 'imdb_score',\n",
      "       'gross'],\n",
      "      dtype='object')\n",
      "False\n"
     ]
    }
   ],
   "source": [
    "print(num.index)\n",
    "print(num['movie_title'])"
   ]
  },
  {
   "cell_type": "code",
   "execution_count": 10,
   "id": "30d6096c",
   "metadata": {},
   "outputs": [
    {
     "data": {
      "text/plain": [
       "['title_year',\n",
       " 'aspect_ratio',\n",
       " 'duration',\n",
       " 'duration.1',\n",
       " 'cast_total_facebook_likes',\n",
       " 'budget',\n",
       " 'imdb_score',\n",
       " 'gross']"
      ]
     },
     "execution_count": 10,
     "metadata": {},
     "output_type": "execute_result"
    }
   ],
   "source": [
    "num_cols = [column for column in num.index if num[column]]\n",
    "num_cols"
   ]
  },
  {
   "cell_type": "code",
   "execution_count": 13,
   "id": "dd705042",
   "metadata": {},
   "outputs": [],
   "source": [
    "# Obtención de columnas de texto (object)\n",
    "obj = movies_df.dtypes == object\n",
    "obj_cols = [column for column in obj.index if obj[column]]"
   ]
  },
  {
   "cell_type": "code",
   "execution_count": 14,
   "id": "a026cb44",
   "metadata": {},
   "outputs": [
    {
     "data": {
      "text/plain": [
       "['movie_title',\n",
       " 'color',\n",
       " 'language',\n",
       " 'country',\n",
       " 'genres',\n",
       " 'content_rating',\n",
       " 'plot_keywords',\n",
       " 'director_name',\n",
       " 'actor_1_name',\n",
       " 'actor_2_name',\n",
       " 'actor_3_name']"
      ]
     },
     "execution_count": 14,
     "metadata": {},
     "output_type": "execute_result"
    }
   ],
   "source": [
    "obj_cols"
   ]
  },
  {
   "cell_type": "code",
   "execution_count": null,
   "id": "a2b656e5",
   "metadata": {},
   "outputs": [],
   "source": []
  }
 ],
 "metadata": {
  "kernelspec": {
   "display_name": "Python 3",
   "language": "python",
   "name": "python3"
  },
  "language_info": {
   "codemirror_mode": {
    "name": "ipython",
    "version": 3
   },
   "file_extension": ".py",
   "mimetype": "text/x-python",
   "name": "python",
   "nbconvert_exporter": "python",
   "pygments_lexer": "ipython3",
   "version": "3.8.8"
  }
 },
 "nbformat": 4,
 "nbformat_minor": 5
}
