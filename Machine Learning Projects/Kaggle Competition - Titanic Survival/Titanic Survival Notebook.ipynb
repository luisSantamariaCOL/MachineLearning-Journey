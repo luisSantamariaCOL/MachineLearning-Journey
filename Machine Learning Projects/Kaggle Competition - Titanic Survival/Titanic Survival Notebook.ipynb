{
 "cells": [
  {
   "cell_type": "markdown",
   "id": "2c8169a3",
   "metadata": {},
   "source": [
    "# Titanic Survival"
   ]
  },
  {
   "cell_type": "markdown",
   "id": "f6418448",
   "metadata": {},
   "source": [
    "#### The challenge:\n",
    "\n",
    "Build a predictive model that answers the question: \"what sorts of people were more likely to survive the Titanic sinking?"
   ]
  },
  {
   "cell_type": "code",
   "execution_count": null,
   "id": "50a4f40e",
   "metadata": {},
   "outputs": [],
   "source": []
  }
 ],
 "metadata": {
  "kernelspec": {
   "display_name": "Python 3",
   "language": "python",
   "name": "python3"
  },
  "language_info": {
   "codemirror_mode": {
    "name": "ipython",
    "version": 3
   },
   "file_extension": ".py",
   "mimetype": "text/x-python",
   "name": "python",
   "nbconvert_exporter": "python",
   "pygments_lexer": "ipython3",
   "version": "3.8.8"
  }
 },
 "nbformat": 4,
 "nbformat_minor": 5
}
