{
 "cells": [
  {
   "cell_type": "markdown",
   "metadata": {
    "id": "0Fn4cLRpnB9I"
   },
   "source": [
    "# PREPARACION DE DATOS\n",
    "\n",
    "# Preparación de datos -  Empleados\n",
    "\n",
    "\n",
    "\n",
    "1. Integración de los datos\n",
    "\n",
    "2. Eliminar variables irrelevantes y redundantes\n",
    "\n",
    "3. Descripción estadística de los datos\n",
    "\n",
    "4. Limpieza de datos\n",
    "\n",
    "5. Análisis de correlaciones\n",
    "\n",
    "6. Balanceo de datos\n",
    "\n",
    "7. Transformación de tipo de variable según el método de ML\n",
    "\n",
    "8. Guardar los datos preparados\n"
   ]
  },
  {
   "cell_type": "code",
   "execution_count": 2,
   "metadata": {
    "id": "xP4wYRePnb_c"
   },
   "outputs": [],
   "source": [
    "#IMPORTAR LIBRERIAS\n",
    "import pandas as pd #manipulacion de datos\n",
    "import numpy as np #matrices y vectores\n",
    "import matplotlib.pyplot as plt #grafica"
   ]
  },
  {
   "cell_type": "markdown",
   "metadata": {
    "id": "kT2sSsMMoXC2"
   },
   "source": [
    "INTEGRACION DE DATOS\n"
   ]
  },
  {
   "cell_type": "code",
   "execution_count": 10,
   "metadata": {
    "colab": {
     "base_uri": "https://localhost:8080/",
     "height": 142
    },
    "id": "-PRKCfJCnflZ",
    "outputId": "d162e4d0-45ea-4e73-9792-2bc858abfd10"
   },
   "outputs": [
    {
     "data": {
      "text/html": [
       "<div>\n",
       "<style scoped>\n",
       "    .dataframe tbody tr th:only-of-type {\n",
       "        vertical-align: middle;\n",
       "    }\n",
       "\n",
       "    .dataframe tbody tr th {\n",
       "        vertical-align: top;\n",
       "    }\n",
       "\n",
       "    .dataframe thead th {\n",
       "        text-align: right;\n",
       "    }\n",
       "</style>\n",
       "<table border=\"1\" class=\"dataframe\">\n",
       "  <thead>\n",
       "    <tr style=\"text-align: right;\">\n",
       "      <th></th>\n",
       "      <th>ID</th>\n",
       "      <th>Sueldo</th>\n",
       "      <th>Casado</th>\n",
       "      <th>Carro</th>\n",
       "      <th>Hijos</th>\n",
       "      <th>Casa</th>\n",
       "      <th>Incapacidades</th>\n",
       "      <th>Antiguedad</th>\n",
       "      <th>Sexo</th>\n",
       "      <th>Fuga</th>\n",
       "    </tr>\n",
       "  </thead>\n",
       "  <tbody>\n",
       "    <tr>\n",
       "      <th>0</th>\n",
       "      <td>1</td>\n",
       "      <td>10000</td>\n",
       "      <td>Sí</td>\n",
       "      <td>No</td>\n",
       "      <td>0</td>\n",
       "      <td>Alquiler</td>\n",
       "      <td>7</td>\n",
       "      <td>15.0</td>\n",
       "      <td>H</td>\n",
       "      <td>No</td>\n",
       "    </tr>\n",
       "    <tr>\n",
       "      <th>1</th>\n",
       "      <td>2</td>\n",
       "      <td>20000</td>\n",
       "      <td>No</td>\n",
       "      <td>Sí</td>\n",
       "      <td>1</td>\n",
       "      <td>Alquiler</td>\n",
       "      <td>3</td>\n",
       "      <td>3.0</td>\n",
       "      <td>M</td>\n",
       "      <td>Sí</td>\n",
       "    </tr>\n",
       "    <tr>\n",
       "      <th>2</th>\n",
       "      <td>3</td>\n",
       "      <td>15000</td>\n",
       "      <td>Sí</td>\n",
       "      <td>Sí</td>\n",
       "      <td>2</td>\n",
       "      <td>Prop</td>\n",
       "      <td>5</td>\n",
       "      <td>10.0</td>\n",
       "      <td>H</td>\n",
       "      <td>Sí</td>\n",
       "    </tr>\n",
       "    <tr>\n",
       "      <th>3</th>\n",
       "      <td>4</td>\n",
       "      <td>30000</td>\n",
       "      <td>Sí</td>\n",
       "      <td>Sí</td>\n",
       "      <td>1</td>\n",
       "      <td>Alquiler</td>\n",
       "      <td>15</td>\n",
       "      <td>7.0</td>\n",
       "      <td>M</td>\n",
       "      <td>No</td>\n",
       "    </tr>\n",
       "    <tr>\n",
       "      <th>4</th>\n",
       "      <td>5</td>\n",
       "      <td>10000</td>\n",
       "      <td>Sí</td>\n",
       "      <td>Sí</td>\n",
       "      <td>0</td>\n",
       "      <td>Prop</td>\n",
       "      <td>1</td>\n",
       "      <td>6.0</td>\n",
       "      <td>H</td>\n",
       "      <td>Sí</td>\n",
       "    </tr>\n",
       "  </tbody>\n",
       "</table>\n",
       "</div>"
      ],
      "text/plain": [
       "   ID  Sueldo Casado Carro  Hijos      Casa  Incapacidades  Antiguedad Sexo  \\\n",
       "0   1   10000     Sí    No      0  Alquiler              7        15.0    H   \n",
       "1   2   20000     No    Sí      1  Alquiler              3         3.0    M   \n",
       "2   3   15000     Sí    Sí      2      Prop              5        10.0    H   \n",
       "3   4   30000     Sí    Sí      1  Alquiler             15         7.0    M   \n",
       "4   5   10000     Sí    Sí      0      Prop              1         6.0    H   \n",
       "\n",
       "  Fuga  \n",
       "0   No  \n",
       "1   Sí  \n",
       "2   Sí  \n",
       "3   No  \n",
       "4   Sí  "
      ]
     },
     "execution_count": 10,
     "metadata": {},
     "output_type": "execute_result"
    }
   ],
   "source": [
    "data = pd.read_csv(\"Preparacion_datos_empleados.csv\", encoding='utf-8', delimiter=';')\n",
    "data.head()"
   ]
  },
  {
   "cell_type": "code",
   "execution_count": 9,
   "metadata": {
    "colab": {
     "base_uri": "https://localhost:8080/"
    },
    "id": "yto4Z4Bjpe2-",
    "outputId": "4205575b-bb4e-4f1a-d60d-1f3431f31212"
   },
   "outputs": [
    {
     "name": "stdout",
     "output_type": "stream",
     "text": [
      "<class 'pandas.core.frame.DataFrame'>\n",
      "RangeIndex: 1080 entries, 0 to 1079\n",
      "Data columns (total 10 columns):\n",
      " #   Column         Non-Null Count  Dtype  \n",
      "---  ------         --------------  -----  \n",
      " 0   ID             1080 non-null   int64  \n",
      " 1   Sueldo         1080 non-null   int64  \n",
      " 2   Casado         1080 non-null   object \n",
      " 3   Carro          1079 non-null   object \n",
      " 4   Hijos          1080 non-null   int64  \n",
      " 5   Casa           1080 non-null   object \n",
      " 6   Incapacidades  1080 non-null   int64  \n",
      " 7   Antiguedad     1078 non-null   float64\n",
      " 8   Sexo           1080 non-null   object \n",
      " 9   Fuga           1080 non-null   object \n",
      "dtypes: float64(1), int64(4), object(5)\n",
      "memory usage: 84.5+ KB\n"
     ]
    }
   ],
   "source": [
    "data.info()"
   ]
  },
  {
   "cell_type": "code",
   "execution_count": 11,
   "metadata": {
    "colab": {
     "base_uri": "https://localhost:8080/"
    },
    "id": "PHEtuzy7rvfz",
    "outputId": "c4fa1d86-8ef5-4aa0-d308-143b5fe2494e"
   },
   "outputs": [
    {
     "name": "stdout",
     "output_type": "stream",
     "text": [
      "<class 'pandas.core.frame.DataFrame'>\n",
      "RangeIndex: 1080 entries, 0 to 1079\n",
      "Data columns (total 10 columns):\n",
      " #   Column         Non-Null Count  Dtype   \n",
      "---  ------         --------------  -----   \n",
      " 0   ID             1080 non-null   int64   \n",
      " 1   Sueldo         1080 non-null   int64   \n",
      " 2   Casado         1080 non-null   category\n",
      " 3   Carro          1079 non-null   category\n",
      " 4   Hijos          1080 non-null   int64   \n",
      " 5   Casa           1080 non-null   category\n",
      " 6   Incapacidades  1080 non-null   int64   \n",
      " 7   Antiguedad     1078 non-null   float64 \n",
      " 8   Sexo           1080 non-null   category\n",
      " 9   Fuga           1080 non-null   category\n",
      "dtypes: category(5), float64(1), int64(4)\n",
      "memory usage: 48.2 KB\n"
     ]
    }
   ],
   "source": [
    "#Corrección del tipo de datos object a categorías\n",
    "\n",
    "data['Casado']=data['Casado'].astype('category')\n",
    "data['Carro']=data['Carro'].astype('category')\n",
    "data['Casa']=data['Casa'].astype('category')\n",
    "data['Sexo']=data['Sexo'].astype('category')\n",
    "data['Fuga']=data['Fuga'].astype('category')\n",
    "\n",
    "data.info()"
   ]
  },
  {
   "cell_type": "code",
   "execution_count": 12,
   "metadata": {
    "colab": {
     "base_uri": "https://localhost:8080/"
    },
    "id": "DOn7aXDvs8kS",
    "outputId": "df285d61-15cc-462a-f892-f953bcfc883a"
   },
   "outputs": [
    {
     "data": {
      "text/plain": [
       "48    2\n",
       "Name: ID, dtype: int64"
      ]
     },
     "execution_count": 12,
     "metadata": {},
     "output_type": "execute_result"
    }
   ],
   "source": [
    "#Revisamos si tenemos ID repetidos\n",
    "\n",
    "ids = data['ID'].value_counts()\n",
    "\n",
    "ids[ids > 1]"
   ]
  },
  {
   "cell_type": "code",
   "execution_count": 13,
   "metadata": {
    "colab": {
     "base_uri": "https://localhost:8080/"
    },
    "id": "F16dXHSatnn4",
    "outputId": "c5eb6cec-affd-47b4-913d-d3f48642bff9"
   },
   "outputs": [
    {
     "data": {
      "text/plain": [
       "Series([], Name: ID, dtype: int64)"
      ]
     },
     "execution_count": 13,
     "metadata": {},
     "output_type": "execute_result"
    }
   ],
   "source": [
    "#Sólo dejamos el id mas reciente\n",
    "\n",
    "data.drop_duplicates(subset=['ID'], keep='last', inplace=True)\n",
    "\n",
    "ids = data['ID'].value_counts()\n",
    "\n",
    "ids[ids > 1]"
   ]
  },
  {
   "cell_type": "markdown",
   "metadata": {
    "id": "zjJ9AZBfvQcP"
   },
   "source": [
    "ELIMINAR VARIABLES IRRELEVANTES O REDUNDANTES"
   ]
  },
  {
   "cell_type": "code",
   "execution_count": 14,
   "metadata": {
    "colab": {
     "base_uri": "https://localhost:8080/",
     "height": 204
    },
    "id": "_mdV3lkfvWhi",
    "outputId": "69678ac3-e4ca-477a-ef83-4cfc098a3e4a"
   },
   "outputs": [
    {
     "data": {
      "text/html": [
       "<div>\n",
       "<style scoped>\n",
       "    .dataframe tbody tr th:only-of-type {\n",
       "        vertical-align: middle;\n",
       "    }\n",
       "\n",
       "    .dataframe tbody tr th {\n",
       "        vertical-align: top;\n",
       "    }\n",
       "\n",
       "    .dataframe thead th {\n",
       "        text-align: right;\n",
       "    }\n",
       "</style>\n",
       "<table border=\"1\" class=\"dataframe\">\n",
       "  <thead>\n",
       "    <tr style=\"text-align: right;\">\n",
       "      <th></th>\n",
       "      <th>Sueldo</th>\n",
       "      <th>Casado</th>\n",
       "      <th>Carro</th>\n",
       "      <th>Hijos</th>\n",
       "      <th>Casa</th>\n",
       "      <th>Incapacidades</th>\n",
       "      <th>Antiguedad</th>\n",
       "      <th>Sexo</th>\n",
       "      <th>Fuga</th>\n",
       "    </tr>\n",
       "  </thead>\n",
       "  <tbody>\n",
       "    <tr>\n",
       "      <th>0</th>\n",
       "      <td>10000</td>\n",
       "      <td>Sí</td>\n",
       "      <td>No</td>\n",
       "      <td>0</td>\n",
       "      <td>Alquiler</td>\n",
       "      <td>7</td>\n",
       "      <td>15.0</td>\n",
       "      <td>H</td>\n",
       "      <td>No</td>\n",
       "    </tr>\n",
       "    <tr>\n",
       "      <th>1</th>\n",
       "      <td>20000</td>\n",
       "      <td>No</td>\n",
       "      <td>Sí</td>\n",
       "      <td>1</td>\n",
       "      <td>Alquiler</td>\n",
       "      <td>3</td>\n",
       "      <td>3.0</td>\n",
       "      <td>M</td>\n",
       "      <td>Sí</td>\n",
       "    </tr>\n",
       "    <tr>\n",
       "      <th>2</th>\n",
       "      <td>15000</td>\n",
       "      <td>Sí</td>\n",
       "      <td>Sí</td>\n",
       "      <td>2</td>\n",
       "      <td>Prop</td>\n",
       "      <td>5</td>\n",
       "      <td>10.0</td>\n",
       "      <td>H</td>\n",
       "      <td>Sí</td>\n",
       "    </tr>\n",
       "    <tr>\n",
       "      <th>3</th>\n",
       "      <td>30000</td>\n",
       "      <td>Sí</td>\n",
       "      <td>Sí</td>\n",
       "      <td>1</td>\n",
       "      <td>Alquiler</td>\n",
       "      <td>15</td>\n",
       "      <td>7.0</td>\n",
       "      <td>M</td>\n",
       "      <td>No</td>\n",
       "    </tr>\n",
       "    <tr>\n",
       "      <th>4</th>\n",
       "      <td>10000</td>\n",
       "      <td>Sí</td>\n",
       "      <td>Sí</td>\n",
       "      <td>0</td>\n",
       "      <td>Prop</td>\n",
       "      <td>1</td>\n",
       "      <td>6.0</td>\n",
       "      <td>H</td>\n",
       "      <td>Sí</td>\n",
       "    </tr>\n",
       "  </tbody>\n",
       "</table>\n",
       "</div>"
      ],
      "text/plain": [
       "   Sueldo Casado Carro  Hijos      Casa  Incapacidades  Antiguedad Sexo Fuga\n",
       "0   10000     Sí    No      0  Alquiler              7        15.0    H   No\n",
       "1   20000     No    Sí      1  Alquiler              3         3.0    M   Sí\n",
       "2   15000     Sí    Sí      2      Prop              5        10.0    H   Sí\n",
       "3   30000     Sí    Sí      1  Alquiler             15         7.0    M   No\n",
       "4   10000     Sí    Sí      0      Prop              1         6.0    H   Sí"
      ]
     },
     "execution_count": 14,
     "metadata": {},
     "output_type": "execute_result"
    }
   ],
   "source": [
    "# Variables irrelevantes para el proceso de minería\n",
    "\n",
    "data = data.drop('ID',axis=1) #Eliminamos el ID por ser irrelevante, axis=1 indica que es una columna\n",
    "\n",
    "data.head()\n"
   ]
  },
  {
   "cell_type": "markdown",
   "metadata": {
    "id": "mHlx-f9yv1B4"
   },
   "source": [
    "DESCRIPCION ESTADISTICA"
   ]
  },
  {
   "cell_type": "code",
   "execution_count": 15,
   "metadata": {
    "colab": {
     "base_uri": "https://localhost:8080/",
     "height": 297
    },
    "id": "nO0N-XGAv3Ye",
    "outputId": "734296f6-0d97-4c3c-cc68-acee541f14af"
   },
   "outputs": [
    {
     "data": {
      "text/html": [
       "<div>\n",
       "<style scoped>\n",
       "    .dataframe tbody tr th:only-of-type {\n",
       "        vertical-align: middle;\n",
       "    }\n",
       "\n",
       "    .dataframe tbody tr th {\n",
       "        vertical-align: top;\n",
       "    }\n",
       "\n",
       "    .dataframe thead th {\n",
       "        text-align: right;\n",
       "    }\n",
       "</style>\n",
       "<table border=\"1\" class=\"dataframe\">\n",
       "  <thead>\n",
       "    <tr style=\"text-align: right;\">\n",
       "      <th></th>\n",
       "      <th>Sueldo</th>\n",
       "      <th>Hijos</th>\n",
       "      <th>Incapacidades</th>\n",
       "      <th>Antiguedad</th>\n",
       "    </tr>\n",
       "  </thead>\n",
       "  <tbody>\n",
       "    <tr>\n",
       "      <th>count</th>\n",
       "      <td>1079.000000</td>\n",
       "      <td>1079.000000</td>\n",
       "      <td>1079.000000</td>\n",
       "      <td>1077.000000</td>\n",
       "    </tr>\n",
       "    <tr>\n",
       "      <th>mean</th>\n",
       "      <td>21072.289157</td>\n",
       "      <td>0.732159</td>\n",
       "      <td>5.634847</td>\n",
       "      <td>8.183844</td>\n",
       "    </tr>\n",
       "    <tr>\n",
       "      <th>std</th>\n",
       "      <td>11900.576117</td>\n",
       "      <td>0.997954</td>\n",
       "      <td>13.842546</td>\n",
       "      <td>5.251978</td>\n",
       "    </tr>\n",
       "    <tr>\n",
       "      <th>min</th>\n",
       "      <td>8000.000000</td>\n",
       "      <td>0.000000</td>\n",
       "      <td>0.000000</td>\n",
       "      <td>1.000000</td>\n",
       "    </tr>\n",
       "    <tr>\n",
       "      <th>25%</th>\n",
       "      <td>10000.000000</td>\n",
       "      <td>0.000000</td>\n",
       "      <td>1.000000</td>\n",
       "      <td>5.000000</td>\n",
       "    </tr>\n",
       "    <tr>\n",
       "      <th>50%</th>\n",
       "      <td>20000.000000</td>\n",
       "      <td>0.000000</td>\n",
       "      <td>3.000000</td>\n",
       "      <td>7.000000</td>\n",
       "    </tr>\n",
       "    <tr>\n",
       "      <th>75%</th>\n",
       "      <td>30000.000000</td>\n",
       "      <td>2.000000</td>\n",
       "      <td>7.000000</td>\n",
       "      <td>12.000000</td>\n",
       "    </tr>\n",
       "    <tr>\n",
       "      <th>max</th>\n",
       "      <td>50000.000000</td>\n",
       "      <td>3.000000</td>\n",
       "      <td>400.000000</td>\n",
       "      <td>20.000000</td>\n",
       "    </tr>\n",
       "  </tbody>\n",
       "</table>\n",
       "</div>"
      ],
      "text/plain": [
       "             Sueldo        Hijos  Incapacidades   Antiguedad\n",
       "count   1079.000000  1079.000000    1079.000000  1077.000000\n",
       "mean   21072.289157     0.732159       5.634847     8.183844\n",
       "std    11900.576117     0.997954      13.842546     5.251978\n",
       "min     8000.000000     0.000000       0.000000     1.000000\n",
       "25%    10000.000000     0.000000       1.000000     5.000000\n",
       "50%    20000.000000     0.000000       3.000000     7.000000\n",
       "75%    30000.000000     2.000000       7.000000    12.000000\n",
       "max    50000.000000     3.000000     400.000000    20.000000"
      ]
     },
     "execution_count": 15,
     "metadata": {},
     "output_type": "execute_result"
    }
   ],
   "source": [
    "data.describe()"
   ]
  },
  {
   "cell_type": "code",
   "execution_count": 16,
   "metadata": {
    "colab": {
     "base_uri": "https://localhost:8080/",
     "height": 311
    },
    "id": "AqpMNyIvwFiZ",
    "outputId": "a394d837-5b85-4732-d31f-402d4e6c4a30"
   },
   "outputs": [
    {
     "data": {
      "text/plain": [
       "<AxesSubplot:>"
      ]
     },
     "execution_count": 16,
     "metadata": {},
     "output_type": "execute_result"
    },
    {
     "data": {
      "image/png": "[encoded data removed]",
      "text/plain": [
       "<Figure size 432x288 with 1 Axes>"
      ]
     },
     "metadata": {
      "needs_background": "light"
     },
     "output_type": "display_data"
    }
   ],
   "source": [
    "data['Casa'].value_counts().plot(kind='bar')"
   ]
  },
  {
   "cell_type": "code",
   "execution_count": 17,
   "metadata": {
    "colab": {
     "base_uri": "https://localhost:8080/",
     "height": 265
    },
    "id": "z5DDFpq4wiMh",
    "outputId": "5b14b2c0-28e1-4e0f-efda-855e0aabcea7"
   },
   "outputs": [
    {
     "data": {
      "text/plain": [
       "<AxesSubplot:ylabel='Sexo'>"
      ]
     },
     "execution_count": 17,
     "metadata": {},
     "output_type": "execute_result"
    },
    {
     "data": {
      "image/png": "[encoded data removed]",
      "text/plain": [
       "<Figure size 432x288 with 1 Axes>"
      ]
     },
     "metadata": {},
     "output_type": "display_data"
    }
   ],
   "source": [
    "data['Sexo'].value_counts().plot(kind='pie')"
   ]
  },
  {
   "cell_type": "code",
   "execution_count": 18,
   "metadata": {
    "colab": {
     "base_uri": "https://localhost:8080/",
     "height": 265
    },
    "id": "a1H4HAfLwvJm",
    "outputId": "3a9d4b16-451d-407f-ab92-ad39a2207f76"
   },
   "outputs": [
    {
     "data": {
      "text/plain": [
       "<AxesSubplot:ylabel='Fuga'>"
      ]
     },
     "execution_count": 18,
     "metadata": {},
     "output_type": "execute_result"
    },
    {
     "data": {
      "image/png": "[encoded data removed]",
      "text/plain": [
       "<Figure size 432x288 with 1 Axes>"
      ]
     },
     "metadata": {},
     "output_type": "display_data"
    }
   ],
   "source": [
    "data['Fuga'].value_counts().plot(kind='pie')"
   ]
  },
  {
   "cell_type": "code",
   "execution_count": 19,
   "metadata": {
    "colab": {
     "base_uri": "https://localhost:8080/",
     "height": 336
    },
    "id": "SMOQNiTAxHh3",
    "outputId": "acc909fd-b489-4aa3-d57a-aa50aff64080"
   },
   "outputs": [
    {
     "data": {
      "text/plain": [
       "<AxesSubplot:>"
      ]
     },
     "execution_count": 19,
     "metadata": {},
     "output_type": "execute_result"
    },
    {
     "data": {
      "image/png": "[encoded data removed]",
      "text/plain": [
       "<Figure size 432x288 with 1 Axes>"
      ]
     },
     "metadata": {
      "needs_background": "light"
     },
     "output_type": "display_data"
    }
   ],
   "source": [
    "data.plot.box()"
   ]
  },
  {
   "cell_type": "code",
   "execution_count": 20,
   "metadata": {
    "colab": {
     "base_uri": "https://localhost:8080/",
     "height": 282
    },
    "id": "wH_5L7YAxhk6",
    "outputId": "fbd5a313-9e0d-4be9-f01b-3109b4f34cd1"
   },
   "outputs": [
    {
     "data": {
      "text/plain": [
       "<AxesSubplot:>"
      ]
     },
     "execution_count": 20,
     "metadata": {},
     "output_type": "execute_result"
    },
    {
     "data": {
      "image/png": "[encoded data removed]",
      "text/plain": [
       "<Figure size 432x288 with 1 Axes>"
      ]
     },
     "metadata": {
      "needs_background": "light"
     },
     "output_type": "display_data"
    }
   ],
   "source": [
    "data['Incapacidades'].plot.box()"
   ]
  },
  {
   "cell_type": "code",
   "execution_count": 21,
   "metadata": {
    "colab": {
     "base_uri": "https://localhost:8080/",
     "height": 282
    },
    "id": "egsM0GkXyGL5",
    "outputId": "76b0abd4-8664-443b-f680-fb06cc3b15a0"
   },
   "outputs": [
    {
     "data": {
      "text/plain": [
       "<AxesSubplot:>"
      ]
     },
     "execution_count": 21,
     "metadata": {},
     "output_type": "execute_result"
    },
    {
     "data": {
      "image/png": "[encoded data removed]",
      "text/plain": [
       "<Figure size 432x288 with 1 Axes>"
      ]
     },
     "metadata": {
      "needs_background": "light"
     },
     "output_type": "display_data"
    }
   ],
   "source": [
    "data['Incapacidades'].plot.line()\n"
   ]
  },
  {
   "cell_type": "markdown",
   "metadata": {
    "id": "Zl3St_9myuAk"
   },
   "source": [
    "4. LIMPIEZA DE DATOS ATIPICOS Y NULOS"
   ]
  },
  {
   "cell_type": "code",
   "execution_count": 22,
   "metadata": {
    "colab": {
     "base_uri": "https://localhost:8080/"
    },
    "id": "fNxe02Xeythu",
    "outputId": "a5b49296-ce59-4655-f122-de9737b97862"
   },
   "outputs": [
    {
     "name": "stdout",
     "output_type": "stream",
     "text": [
      "<class 'pandas.core.frame.DataFrame'>\n",
      "Int64Index: 1079 entries, 0 to 1079\n",
      "Data columns (total 9 columns):\n",
      " #   Column         Non-Null Count  Dtype   \n",
      "---  ------         --------------  -----   \n",
      " 0   Sueldo         1079 non-null   int64   \n",
      " 1   Casado         1079 non-null   category\n",
      " 2   Carro          1078 non-null   category\n",
      " 3   Hijos          1079 non-null   int64   \n",
      " 4   Casa           1079 non-null   category\n",
      " 5   Incapacidades  1078 non-null   float64 \n",
      " 6   Antiguedad     1077 non-null   float64 \n",
      " 7   Sexo           1079 non-null   category\n",
      " 8   Fuga           1079 non-null   category\n",
      "dtypes: category(5), float64(2), int64(2)\n",
      "memory usage: 48.0 KB\n"
     ]
    },
    {
     "name": "stderr",
     "output_type": "stream",
     "text": [
      "<ipython-input-22-6e20c2a7f387>:1: SettingWithCopyWarning: \n",
      "A value is trying to be set on a copy of a slice from a DataFrame\n",
      "\n",
      "See the caveats in the documentation: https://pandas.pydata.org/pandas-docs/stable/user_guide/indexing.html#returning-a-view-versus-a-copy\n",
      "  data.Incapacidades[data[\"Incapacidades\"]>365] = np.nan\n"
     ]
    }
   ],
   "source": [
    "data.Incapacidades[data[\"Incapacidades\"]>365] = np.nan\n",
    "data.info()"
   ]
  },
  {
   "cell_type": "code",
   "execution_count": 23,
   "metadata": {
    "colab": {
     "base_uri": "https://localhost:8080/"
    },
    "id": "WZUqoPslz5od",
    "outputId": "ebff554a-49d4-4abe-b663-70f02d58d954"
   },
   "outputs": [
    {
     "name": "stdout",
     "output_type": "stream",
     "text": [
      "<class 'pandas.core.frame.DataFrame'>\n",
      "Int64Index: 1079 entries, 0 to 1079\n",
      "Data columns (total 9 columns):\n",
      " #   Column         Non-Null Count  Dtype   \n",
      "---  ------         --------------  -----   \n",
      " 0   Sueldo         1079 non-null   int64   \n",
      " 1   Casado         1079 non-null   category\n",
      " 2   Carro          1079 non-null   object  \n",
      " 3   Hijos          1079 non-null   int64   \n",
      " 4   Casa           1079 non-null   category\n",
      " 5   Incapacidades  1079 non-null   float64 \n",
      " 6   Antiguedad     1079 non-null   float64 \n",
      " 7   Sexo           1079 non-null   category\n",
      " 8   Fuga           1079 non-null   category\n",
      "dtypes: category(4), float64(2), int64(2), object(1)\n",
      "memory usage: 55.3+ KB\n"
     ]
    }
   ],
   "source": [
    "#Limpieza de datos nulos: Imputación por la media y moda\n",
    "\n",
    "from sklearn.impute import SimpleImputer\n",
    "\n",
    "\n",
    "\n",
    "#Imputacion de variables numéricas\n",
    "\n",
    "ImpNumeros = SimpleImputer(missing_values=np.nan, strategy='mean')\n",
    "\n",
    "data[['Incapacidades', 'Antiguedad']] = ImpNumeros.fit(data[['Incapacidades', 'Antiguedad']]).transform(data[['Incapacidades', 'Antiguedad']])\n",
    "\n",
    "\n",
    "\n",
    "#Imputacion de variables categóricas\n",
    "\n",
    "ImpCategorias = SimpleImputer(missing_values=np.nan, strategy='most_frequent')\n",
    "\n",
    "data[['Carro']] = ImpCategorias.fit(data[['Carro']]).transform(data[['Carro']])\n",
    "\n",
    "\n",
    "\n",
    "data.info()"
   ]
  },
  {
   "cell_type": "code",
   "execution_count": 24,
   "metadata": {
    "colab": {
     "base_uri": "https://localhost:8080/"
    },
    "id": "WnaIPHYz0fer",
    "outputId": "0fc731d3-f7a0-47f0-f806-709a8ed91ae0"
   },
   "outputs": [
    {
     "name": "stdout",
     "output_type": "stream",
     "text": [
      "[5.2690167  8.18384401]\n",
      "['Sí']\n"
     ]
    }
   ],
   "source": [
    "#Valores de la imputación\n",
    "\n",
    "print(ImpNumeros.statistics_)\n",
    "\n",
    "print(ImpCategorias.statistics_)"
   ]
  },
  {
   "cell_type": "markdown",
   "metadata": {
    "id": "r1tlcuhm1Y8c"
   },
   "source": [
    "5. CORRELACIONES DE VARIABLES\n"
   ]
  },
  {
   "cell_type": "code",
   "execution_count": 25,
   "metadata": {
    "colab": {
     "base_uri": "https://localhost:8080/",
     "height": 173
    },
    "id": "BEIlkqC61bbD",
    "outputId": "118feafb-0a17-4ac2-b7e7-8bda7dbcf4e3"
   },
   "outputs": [
    {
     "data": {
      "text/html": [
       "<div>\n",
       "<style scoped>\n",
       "    .dataframe tbody tr th:only-of-type {\n",
       "        vertical-align: middle;\n",
       "    }\n",
       "\n",
       "    .dataframe tbody tr th {\n",
       "        vertical-align: top;\n",
       "    }\n",
       "\n",
       "    .dataframe thead th {\n",
       "        text-align: right;\n",
       "    }\n",
       "</style>\n",
       "<table border=\"1\" class=\"dataframe\">\n",
       "  <thead>\n",
       "    <tr style=\"text-align: right;\">\n",
       "      <th></th>\n",
       "      <th>Sueldo</th>\n",
       "      <th>Hijos</th>\n",
       "      <th>Incapacidades</th>\n",
       "      <th>Antiguedad</th>\n",
       "    </tr>\n",
       "  </thead>\n",
       "  <tbody>\n",
       "    <tr>\n",
       "      <th>Sueldo</th>\n",
       "      <td>1.000000</td>\n",
       "      <td>-0.087881</td>\n",
       "      <td>0.015256</td>\n",
       "      <td>0.524060</td>\n",
       "    </tr>\n",
       "    <tr>\n",
       "      <th>Hijos</th>\n",
       "      <td>-0.087881</td>\n",
       "      <td>1.000000</td>\n",
       "      <td>-0.008963</td>\n",
       "      <td>-0.043380</td>\n",
       "    </tr>\n",
       "    <tr>\n",
       "      <th>Incapacidades</th>\n",
       "      <td>0.015256</td>\n",
       "      <td>-0.008963</td>\n",
       "      <td>1.000000</td>\n",
       "      <td>-0.165031</td>\n",
       "    </tr>\n",
       "    <tr>\n",
       "      <th>Antiguedad</th>\n",
       "      <td>0.524060</td>\n",
       "      <td>-0.043380</td>\n",
       "      <td>-0.165031</td>\n",
       "      <td>1.000000</td>\n",
       "    </tr>\n",
       "  </tbody>\n",
       "</table>\n",
       "</div>"
      ],
      "text/plain": [
       "                 Sueldo     Hijos  Incapacidades  Antiguedad\n",
       "Sueldo         1.000000 -0.087881       0.015256    0.524060\n",
       "Hijos         -0.087881  1.000000      -0.008963   -0.043380\n",
       "Incapacidades  0.015256 -0.008963       1.000000   -0.165031\n",
       "Antiguedad     0.524060 -0.043380      -0.165031    1.000000"
      ]
     },
     "execution_count": 25,
     "metadata": {},
     "output_type": "execute_result"
    }
   ],
   "source": [
    "data.corr()"
   ]
  },
  {
   "cell_type": "code",
   "execution_count": 26,
   "metadata": {
    "colab": {
     "base_uri": "https://localhost:8080/",
     "height": 204
    },
    "id": "rSVA1T9l1080",
    "outputId": "a6a5146e-f201-4253-98cf-4d66538361e3"
   },
   "outputs": [
    {
     "data": {
      "text/html": [
       "<div>\n",
       "<style scoped>\n",
       "    .dataframe tbody tr th:only-of-type {\n",
       "        vertical-align: middle;\n",
       "    }\n",
       "\n",
       "    .dataframe tbody tr th {\n",
       "        vertical-align: top;\n",
       "    }\n",
       "\n",
       "    .dataframe thead th {\n",
       "        text-align: right;\n",
       "    }\n",
       "</style>\n",
       "<table border=\"1\" class=\"dataframe\">\n",
       "  <thead>\n",
       "    <tr style=\"text-align: right;\">\n",
       "      <th></th>\n",
       "      <th>Sueldo</th>\n",
       "      <th>Hijos</th>\n",
       "      <th>Incapacidades</th>\n",
       "      <th>Antiguedad</th>\n",
       "      <th>Casado_Sí</th>\n",
       "      <th>Carro_Sí</th>\n",
       "      <th>Casa_Prop</th>\n",
       "      <th>Sexo_M</th>\n",
       "      <th>Fuga_Sí</th>\n",
       "    </tr>\n",
       "  </thead>\n",
       "  <tbody>\n",
       "    <tr>\n",
       "      <th>0</th>\n",
       "      <td>10000</td>\n",
       "      <td>0</td>\n",
       "      <td>7.0</td>\n",
       "      <td>15.0</td>\n",
       "      <td>1</td>\n",
       "      <td>0</td>\n",
       "      <td>0</td>\n",
       "      <td>0</td>\n",
       "      <td>0</td>\n",
       "    </tr>\n",
       "    <tr>\n",
       "      <th>1</th>\n",
       "      <td>20000</td>\n",
       "      <td>1</td>\n",
       "      <td>3.0</td>\n",
       "      <td>3.0</td>\n",
       "      <td>0</td>\n",
       "      <td>1</td>\n",
       "      <td>0</td>\n",
       "      <td>1</td>\n",
       "      <td>1</td>\n",
       "    </tr>\n",
       "    <tr>\n",
       "      <th>2</th>\n",
       "      <td>15000</td>\n",
       "      <td>2</td>\n",
       "      <td>5.0</td>\n",
       "      <td>10.0</td>\n",
       "      <td>1</td>\n",
       "      <td>1</td>\n",
       "      <td>1</td>\n",
       "      <td>0</td>\n",
       "      <td>1</td>\n",
       "    </tr>\n",
       "    <tr>\n",
       "      <th>3</th>\n",
       "      <td>30000</td>\n",
       "      <td>1</td>\n",
       "      <td>15.0</td>\n",
       "      <td>7.0</td>\n",
       "      <td>1</td>\n",
       "      <td>1</td>\n",
       "      <td>0</td>\n",
       "      <td>1</td>\n",
       "      <td>0</td>\n",
       "    </tr>\n",
       "    <tr>\n",
       "      <th>4</th>\n",
       "      <td>10000</td>\n",
       "      <td>0</td>\n",
       "      <td>1.0</td>\n",
       "      <td>6.0</td>\n",
       "      <td>1</td>\n",
       "      <td>1</td>\n",
       "      <td>1</td>\n",
       "      <td>0</td>\n",
       "      <td>1</td>\n",
       "    </tr>\n",
       "  </tbody>\n",
       "</table>\n",
       "</div>"
      ],
      "text/plain": [
       "   Sueldo  Hijos  Incapacidades  Antiguedad  Casado_Sí  Carro_Sí  Casa_Prop  \\\n",
       "0   10000      0            7.0        15.0          1         0          0   \n",
       "1   20000      1            3.0         3.0          0         1          0   \n",
       "2   15000      2            5.0        10.0          1         1          1   \n",
       "3   30000      1           15.0         7.0          1         1          0   \n",
       "4   10000      0            1.0         6.0          1         1          1   \n",
       "\n",
       "   Sexo_M  Fuga_Sí  \n",
       "0       0        0  \n",
       "1       1        1  \n",
       "2       0        1  \n",
       "3       1        0  \n",
       "4       0        1  "
      ]
     },
     "execution_count": 26,
     "metadata": {},
     "output_type": "execute_result"
    }
   ],
   "source": [
    "# Todas las variables deben ser numéricas para calcular las correlaciones\n",
    "\n",
    "# Se crean dummies para las variables predictoras\n",
    "\n",
    "\n",
    "\n",
    "data_num = pd.get_dummies(data, drop_first=True)\n",
    "\n",
    "data_num.head()\n"
   ]
  },
  {
   "cell_type": "code",
   "execution_count": 27,
   "metadata": {
    "colab": {
     "base_uri": "https://localhost:8080/",
     "height": 328
    },
    "id": "zB4zU0AI16Cs",
    "outputId": "cbdd71a1-b00e-4171-d910-330243f7ddf8"
   },
   "outputs": [
    {
     "data": {
      "text/html": [
       "<div>\n",
       "<style scoped>\n",
       "    .dataframe tbody tr th:only-of-type {\n",
       "        vertical-align: middle;\n",
       "    }\n",
       "\n",
       "    .dataframe tbody tr th {\n",
       "        vertical-align: top;\n",
       "    }\n",
       "\n",
       "    .dataframe thead th {\n",
       "        text-align: right;\n",
       "    }\n",
       "</style>\n",
       "<table border=\"1\" class=\"dataframe\">\n",
       "  <thead>\n",
       "    <tr style=\"text-align: right;\">\n",
       "      <th></th>\n",
       "      <th>Sueldo</th>\n",
       "      <th>Hijos</th>\n",
       "      <th>Incapacidades</th>\n",
       "      <th>Antiguedad</th>\n",
       "      <th>Casado_Sí</th>\n",
       "      <th>Carro_Sí</th>\n",
       "      <th>Casa_Prop</th>\n",
       "      <th>Sexo_M</th>\n",
       "      <th>Fuga_Sí</th>\n",
       "    </tr>\n",
       "  </thead>\n",
       "  <tbody>\n",
       "    <tr>\n",
       "      <th>Sueldo</th>\n",
       "      <td>1.000000</td>\n",
       "      <td>-0.087881</td>\n",
       "      <td>0.015256</td>\n",
       "      <td>0.524060</td>\n",
       "      <td>-0.274629</td>\n",
       "      <td>-0.262250</td>\n",
       "      <td>-0.267433</td>\n",
       "      <td>0.613286</td>\n",
       "      <td>-0.083459</td>\n",
       "    </tr>\n",
       "    <tr>\n",
       "      <th>Hijos</th>\n",
       "      <td>-0.087881</td>\n",
       "      <td>1.000000</td>\n",
       "      <td>-0.008963</td>\n",
       "      <td>-0.043380</td>\n",
       "      <td>0.651359</td>\n",
       "      <td>0.441850</td>\n",
       "      <td>0.626839</td>\n",
       "      <td>-0.326711</td>\n",
       "      <td>-0.287339</td>\n",
       "    </tr>\n",
       "    <tr>\n",
       "      <th>Incapacidades</th>\n",
       "      <td>0.015256</td>\n",
       "      <td>-0.008963</td>\n",
       "      <td>1.000000</td>\n",
       "      <td>-0.165031</td>\n",
       "      <td>0.041303</td>\n",
       "      <td>-0.329772</td>\n",
       "      <td>-0.250156</td>\n",
       "      <td>0.404871</td>\n",
       "      <td>-0.445000</td>\n",
       "    </tr>\n",
       "    <tr>\n",
       "      <th>Antiguedad</th>\n",
       "      <td>0.524060</td>\n",
       "      <td>-0.043380</td>\n",
       "      <td>-0.165031</td>\n",
       "      <td>1.000000</td>\n",
       "      <td>0.166386</td>\n",
       "      <td>-0.207729</td>\n",
       "      <td>-0.033573</td>\n",
       "      <td>-0.004053</td>\n",
       "      <td>-0.033465</td>\n",
       "    </tr>\n",
       "    <tr>\n",
       "      <th>Casado_Sí</th>\n",
       "      <td>-0.274629</td>\n",
       "      <td>0.651359</td>\n",
       "      <td>0.041303</td>\n",
       "      <td>0.166386</td>\n",
       "      <td>1.000000</td>\n",
       "      <td>0.259807</td>\n",
       "      <td>0.599620</td>\n",
       "      <td>-0.490593</td>\n",
       "      <td>-0.340706</td>\n",
       "    </tr>\n",
       "    <tr>\n",
       "      <th>Carro_Sí</th>\n",
       "      <td>-0.262250</td>\n",
       "      <td>0.441850</td>\n",
       "      <td>-0.329772</td>\n",
       "      <td>-0.207729</td>\n",
       "      <td>0.259807</td>\n",
       "      <td>1.000000</td>\n",
       "      <td>0.490941</td>\n",
       "      <td>-0.124544</td>\n",
       "      <td>0.264012</td>\n",
       "    </tr>\n",
       "    <tr>\n",
       "      <th>Casa_Prop</th>\n",
       "      <td>-0.267433</td>\n",
       "      <td>0.626839</td>\n",
       "      <td>-0.250156</td>\n",
       "      <td>-0.033573</td>\n",
       "      <td>0.599620</td>\n",
       "      <td>0.490941</td>\n",
       "      <td>1.000000</td>\n",
       "      <td>-0.388352</td>\n",
       "      <td>0.053406</td>\n",
       "    </tr>\n",
       "    <tr>\n",
       "      <th>Sexo_M</th>\n",
       "      <td>0.613286</td>\n",
       "      <td>-0.326711</td>\n",
       "      <td>0.404871</td>\n",
       "      <td>-0.004053</td>\n",
       "      <td>-0.490593</td>\n",
       "      <td>-0.124544</td>\n",
       "      <td>-0.388352</td>\n",
       "      <td>1.000000</td>\n",
       "      <td>0.055410</td>\n",
       "    </tr>\n",
       "    <tr>\n",
       "      <th>Fuga_Sí</th>\n",
       "      <td>-0.083459</td>\n",
       "      <td>-0.287339</td>\n",
       "      <td>-0.445000</td>\n",
       "      <td>-0.033465</td>\n",
       "      <td>-0.340706</td>\n",
       "      <td>0.264012</td>\n",
       "      <td>0.053406</td>\n",
       "      <td>0.055410</td>\n",
       "      <td>1.000000</td>\n",
       "    </tr>\n",
       "  </tbody>\n",
       "</table>\n",
       "</div>"
      ],
      "text/plain": [
       "                 Sueldo     Hijos  Incapacidades  Antiguedad  Casado_Sí  \\\n",
       "Sueldo         1.000000 -0.087881       0.015256    0.524060  -0.274629   \n",
       "Hijos         -0.087881  1.000000      -0.008963   -0.043380   0.651359   \n",
       "Incapacidades  0.015256 -0.008963       1.000000   -0.165031   0.041303   \n",
       "Antiguedad     0.524060 -0.043380      -0.165031    1.000000   0.166386   \n",
       "Casado_Sí     -0.274629  0.651359       0.041303    0.166386   1.000000   \n",
       "Carro_Sí      -0.262250  0.441850      -0.329772   -0.207729   0.259807   \n",
       "Casa_Prop     -0.267433  0.626839      -0.250156   -0.033573   0.599620   \n",
       "Sexo_M         0.613286 -0.326711       0.404871   -0.004053  -0.490593   \n",
       "Fuga_Sí       -0.083459 -0.287339      -0.445000   -0.033465  -0.340706   \n",
       "\n",
       "               Carro_Sí  Casa_Prop    Sexo_M   Fuga_Sí  \n",
       "Sueldo        -0.262250  -0.267433  0.613286 -0.083459  \n",
       "Hijos          0.441850   0.626839 -0.326711 -0.287339  \n",
       "Incapacidades -0.329772  -0.250156  0.404871 -0.445000  \n",
       "Antiguedad    -0.207729  -0.033573 -0.004053 -0.033465  \n",
       "Casado_Sí      0.259807   0.599620 -0.490593 -0.340706  \n",
       "Carro_Sí       1.000000   0.490941 -0.124544  0.264012  \n",
       "Casa_Prop      0.490941   1.000000 -0.388352  0.053406  \n",
       "Sexo_M        -0.124544  -0.388352  1.000000  0.055410  \n",
       "Fuga_Sí        0.264012   0.053406  0.055410  1.000000  "
      ]
     },
     "execution_count": 27,
     "metadata": {},
     "output_type": "execute_result"
    }
   ],
   "source": [
    "data_num.corr()"
   ]
  },
  {
   "cell_type": "code",
   "execution_count": 28,
   "metadata": {
    "colab": {
     "base_uri": "https://localhost:8080/",
     "height": 348
    },
    "id": "BpLc5ssS2Sbz",
    "outputId": "064e9d38-9d6e-48f6-f25c-e541a3a70748"
   },
   "outputs": [
    {
     "data": {
      "text/plain": [
       "<AxesSubplot:>"
      ]
     },
     "execution_count": 28,
     "metadata": {},
     "output_type": "execute_result"
    },
    {
     "data": {
      "image/png": "[encoded data removed]",
      "text/plain": [
       "<Figure size 432x288 with 2 Axes>"
      ]
     },
     "metadata": {
      "needs_background": "light"
     },
     "output_type": "display_data"
    }
   ],
   "source": [
    "import seaborn as sns\n",
    "\n",
    "sns.heatmap(data_num.corr(),annot=True)"
   ]
  },
  {
   "cell_type": "code",
   "execution_count": null,
   "metadata": {},
   "outputs": [],
   "source": []
  }
 ],
 "metadata": {
  "colab": {
   "name": "preparacion.ipynb",
   "provenance": [],
   "toc_visible": true
  },
  "kernelspec": {
   "display_name": "Python 3",
   "language": "python",
   "name": "python3"
  },
  "language_info": {
   "codemirror_mode": {
    "name": "ipython",
    "version": 3
   },
   "file_extension": ".py",
   "mimetype": "text/x-python",
   "name": "python",
   "nbconvert_exporter": "python",
   "pygments_lexer": "ipython3",
   "version": "3.9.1"
  }
 },
 "nbformat": 4,
 "nbformat_minor": 1
}
