{
 "cells": [
  {
   "cell_type": "markdown",
   "metadata": {},
   "source": [
    "# PREPARACION DE DATOS\n",
    "\n",
    "# Preparación de datos -  Empleados\n",
    "\n",
    "\n",
    "\n",
    "1. Integración de los datos\n",
    "\n",
    "2. Eliminar variables irrelevantes y redundantes\n",
    "\n",
    "3. Descripción estadística de los datos\n",
    "\n",
    "4. Limpieza de datos\n",
    "\n",
    "5. Análisis de correlaciones\n",
    "\n",
    "6. Balanceo de datos\n",
    "\n",
    "7. Transformación de tipo de variable según el método de ML\n",
    "\n",
    "8. Guardar los datos preparados\n"
   ]
  },
  {
   "cell_type": "code",
   "execution_count": 1,
   "metadata": {},
   "outputs": [],
   "source": [
    "#IMPORTAR LIBRERIAS\n",
    "import pandas as pd #manipulacion de datos\n",
    "import numpy as np #matrices y vectores\n",
    "import matplotlib.pyplot as plt #grafica"
   ]
  },
  {
   "cell_type": "code",
   "execution_count": 2,
   "metadata": {},
   "outputs": [
    {
     "data": {
      "text/html": [
       "<div>\n",
       "<style scoped>\n",
       "    .dataframe tbody tr th:only-of-type {\n",
       "        vertical-align: middle;\n",
       "    }\n",
       "\n",
       "    .dataframe tbody tr th {\n",
       "        vertical-align: top;\n",
       "    }\n",
       "\n",
       "    .dataframe thead th {\n",
       "        text-align: right;\n",
       "    }\n",
       "</style>\n",
       "<table border=\"1\" class=\"dataframe\">\n",
       "  <thead>\n",
       "    <tr style=\"text-align: right;\">\n",
       "      <th></th>\n",
       "      <th>ID</th>\n",
       "      <th>EDAD</th>\n",
       "      <th>SEXO</th>\n",
       "      <th>PRESIÓN SANGUÍNEA</th>\n",
       "      <th>COLESTEROL</th>\n",
       "      <th>SODIO</th>\n",
       "      <th>POTASIO</th>\n",
       "      <th>MEDICAMENTO</th>\n",
       "    </tr>\n",
       "  </thead>\n",
       "  <tbody>\n",
       "    <tr>\n",
       "      <th>0</th>\n",
       "      <td>1</td>\n",
       "      <td>23</td>\n",
       "      <td>F</td>\n",
       "      <td>HIGH</td>\n",
       "      <td>HIGH</td>\n",
       "      <td>0.792535</td>\n",
       "      <td>0.031258</td>\n",
       "      <td>drugY</td>\n",
       "    </tr>\n",
       "    <tr>\n",
       "      <th>1</th>\n",
       "      <td>2</td>\n",
       "      <td>47</td>\n",
       "      <td>M</td>\n",
       "      <td>LOW</td>\n",
       "      <td>HIGH</td>\n",
       "      <td>0.739309</td>\n",
       "      <td>0.056468</td>\n",
       "      <td>drugC</td>\n",
       "    </tr>\n",
       "    <tr>\n",
       "      <th>2</th>\n",
       "      <td>3</td>\n",
       "      <td>47</td>\n",
       "      <td>M</td>\n",
       "      <td>LOW</td>\n",
       "      <td>HIGH</td>\n",
       "      <td>0.697269</td>\n",
       "      <td>0.068944</td>\n",
       "      <td>drugC</td>\n",
       "    </tr>\n",
       "    <tr>\n",
       "      <th>3</th>\n",
       "      <td>4</td>\n",
       "      <td>28</td>\n",
       "      <td>F</td>\n",
       "      <td>NORMAL</td>\n",
       "      <td>HIGH</td>\n",
       "      <td>0.563682</td>\n",
       "      <td>0.072289</td>\n",
       "      <td>drugX</td>\n",
       "    </tr>\n",
       "    <tr>\n",
       "      <th>4</th>\n",
       "      <td>5</td>\n",
       "      <td>61</td>\n",
       "      <td>F</td>\n",
       "      <td>LOW</td>\n",
       "      <td>HIGH</td>\n",
       "      <td>0.559294</td>\n",
       "      <td>0.030998</td>\n",
       "      <td>drugY</td>\n",
       "    </tr>\n",
       "  </tbody>\n",
       "</table>\n",
       "</div>"
      ],
      "text/plain": [
       "   ID  EDAD SEXO PRESIÓN SANGUÍNEA COLESTEROL     SODIO   POTASIO MEDICAMENTO\n",
       "0   1    23    F              HIGH       HIGH  0.792535  0.031258       drugY\n",
       "1   2    47    M               LOW       HIGH  0.739309  0.056468       drugC\n",
       "2   3    47    M               LOW       HIGH  0.697269  0.068944       drugC\n",
       "3   4    28    F            NORMAL       HIGH  0.563682  0.072289       drugX\n",
       "4   5    61    F               LOW       HIGH  0.559294  0.030998       drugY"
      ]
     },
     "execution_count": 2,
     "metadata": {},
     "output_type": "execute_result"
    }
   ],
   "source": [
    "data = pd.read_csv(\"drugs.csv\", encoding='utf-8')\n",
    "data.head()"
   ]
  },
  {
   "cell_type": "code",
   "execution_count": 3,
   "metadata": {},
   "outputs": [
    {
     "name": "stdout",
     "output_type": "stream",
     "text": [
      "<class 'pandas.core.frame.DataFrame'>\n",
      "RangeIndex: 200 entries, 0 to 199\n",
      "Data columns (total 8 columns):\n",
      " #   Column             Non-Null Count  Dtype  \n",
      "---  ------             --------------  -----  \n",
      " 0   ID                 200 non-null    int64  \n",
      " 1   EDAD               200 non-null    int64  \n",
      " 2   SEXO               200 non-null    object \n",
      " 3   PRESIÓN SANGUÍNEA  200 non-null    object \n",
      " 4   COLESTEROL         200 non-null    object \n",
      " 5   SODIO              200 non-null    float64\n",
      " 6   POTASIO            200 non-null    float64\n",
      " 7   MEDICAMENTO        200 non-null    object \n",
      "dtypes: float64(2), int64(2), object(4)\n",
      "memory usage: 12.6+ KB\n"
     ]
    }
   ],
   "source": [
    "data.info()"
   ]
  },
  {
   "cell_type": "code",
   "execution_count": 4,
   "metadata": {
    "scrolled": true
   },
   "outputs": [
    {
     "name": "stdout",
     "output_type": "stream",
     "text": [
      "<class 'pandas.core.frame.DataFrame'>\n",
      "RangeIndex: 200 entries, 0 to 199\n",
      "Data columns (total 8 columns):\n",
      " #   Column            Non-Null Count  Dtype  \n",
      "---  ------            --------------  -----  \n",
      " 0   Id                200 non-null    int64  \n",
      " 1   Edad              200 non-null    int64  \n",
      " 2   Sexo              200 non-null    object \n",
      " 3   PresionSanguinea  200 non-null    object \n",
      " 4   Colesterol        200 non-null    object \n",
      " 5   Sodio             200 non-null    float64\n",
      " 6   Potasio           200 non-null    float64\n",
      " 7   Medicamento       200 non-null    object \n",
      "dtypes: float64(2), int64(2), object(4)\n",
      "memory usage: 12.6+ KB\n"
     ]
    }
   ],
   "source": [
    "# Renombramiento de columnas\n",
    "\n",
    "data = data.rename(columns={'ID':'Id', 'EDAD':'Edad', 'SEXO':'Sexo', 'PRESIÓN SANGUÍNEA':'PresionSanguinea',\n",
    "                           'COLESTEROL':'Colesterol', 'SODIO':'Sodio', 'POTASIO':'Potasio', 'MEDICAMENTO':'Medicamento'})\n",
    "\n",
    "data.info()"
   ]
  },
  {
   "cell_type": "code",
   "execution_count": 21,
   "metadata": {},
   "outputs": [
    {
     "name": "stdout",
     "output_type": "stream",
     "text": [
      "<class 'pandas.core.frame.DataFrame'>\n",
      "Int64Index: 197 entries, 0 to 199\n",
      "Data columns (total 7 columns):\n",
      " #   Column            Non-Null Count  Dtype   \n",
      "---  ------            --------------  -----   \n",
      " 0   Edad              197 non-null    float64 \n",
      " 1   Sexo              197 non-null    category\n",
      " 2   PresionSanguinea  197 non-null    category\n",
      " 3   Colesterol        197 non-null    category\n",
      " 4   Sodio             197 non-null    float64 \n",
      " 5   Potasio           197 non-null    float64 \n",
      " 6   Medicamento       197 non-null    category\n",
      "dtypes: category(4), float64(3)\n",
      "memory usage: 7.5 KB\n"
     ]
    }
   ],
   "source": [
    "data['Sexo']=data['Sexo'].astype('category')\n",
    "data['PresionSanguinea']=data['PresionSanguinea'].astype('category')\n",
    "data['Colesterol']=data['Colesterol'].astype('category')\n",
    "data['Medicamento']=data['Medicamento'].astype('category')\n",
    "\n",
    "\n",
    "data.info()"
   ]
  },
  {
   "cell_type": "code",
   "execution_count": 6,
   "metadata": {},
   "outputs": [
    {
     "data": {
      "text/plain": [
       "Series([], Name: Id, dtype: int64)"
      ]
     },
     "execution_count": 6,
     "metadata": {},
     "output_type": "execute_result"
    }
   ],
   "source": [
    "#Revisamos si tenemos ID repetidos\n",
    "\n",
    "ids = data['Id'].value_counts()\n",
    "\n",
    "ids[ids > 1]\n",
    "# No hay Ids repetidos."
   ]
  },
  {
   "cell_type": "markdown",
   "metadata": {},
   "source": [
    "ELIMINANDO VARIABLES IRRELEVANTES O REDUNDANTES"
   ]
  },
  {
   "cell_type": "code",
   "execution_count": 7,
   "metadata": {},
   "outputs": [
    {
     "data": {
      "text/html": [
       "<div>\n",
       "<style scoped>\n",
       "    .dataframe tbody tr th:only-of-type {\n",
       "        vertical-align: middle;\n",
       "    }\n",
       "\n",
       "    .dataframe tbody tr th {\n",
       "        vertical-align: top;\n",
       "    }\n",
       "\n",
       "    .dataframe thead th {\n",
       "        text-align: right;\n",
       "    }\n",
       "</style>\n",
       "<table border=\"1\" class=\"dataframe\">\n",
       "  <thead>\n",
       "    <tr style=\"text-align: right;\">\n",
       "      <th></th>\n",
       "      <th>Edad</th>\n",
       "      <th>Sexo</th>\n",
       "      <th>PresionSanguinea</th>\n",
       "      <th>Colesterol</th>\n",
       "      <th>Sodio</th>\n",
       "      <th>Potasio</th>\n",
       "      <th>Medicamento</th>\n",
       "    </tr>\n",
       "  </thead>\n",
       "  <tbody>\n",
       "    <tr>\n",
       "      <th>0</th>\n",
       "      <td>23</td>\n",
       "      <td>F</td>\n",
       "      <td>HIGH</td>\n",
       "      <td>HIGH</td>\n",
       "      <td>0.792535</td>\n",
       "      <td>0.031258</td>\n",
       "      <td>drugY</td>\n",
       "    </tr>\n",
       "    <tr>\n",
       "      <th>1</th>\n",
       "      <td>47</td>\n",
       "      <td>M</td>\n",
       "      <td>LOW</td>\n",
       "      <td>HIGH</td>\n",
       "      <td>0.739309</td>\n",
       "      <td>0.056468</td>\n",
       "      <td>drugC</td>\n",
       "    </tr>\n",
       "    <tr>\n",
       "      <th>2</th>\n",
       "      <td>47</td>\n",
       "      <td>M</td>\n",
       "      <td>LOW</td>\n",
       "      <td>HIGH</td>\n",
       "      <td>0.697269</td>\n",
       "      <td>0.068944</td>\n",
       "      <td>drugC</td>\n",
       "    </tr>\n",
       "    <tr>\n",
       "      <th>3</th>\n",
       "      <td>28</td>\n",
       "      <td>F</td>\n",
       "      <td>NORMAL</td>\n",
       "      <td>HIGH</td>\n",
       "      <td>0.563682</td>\n",
       "      <td>0.072289</td>\n",
       "      <td>drugX</td>\n",
       "    </tr>\n",
       "    <tr>\n",
       "      <th>4</th>\n",
       "      <td>61</td>\n",
       "      <td>F</td>\n",
       "      <td>LOW</td>\n",
       "      <td>HIGH</td>\n",
       "      <td>0.559294</td>\n",
       "      <td>0.030998</td>\n",
       "      <td>drugY</td>\n",
       "    </tr>\n",
       "  </tbody>\n",
       "</table>\n",
       "</div>"
      ],
      "text/plain": [
       "   Edad Sexo PresionSanguinea Colesterol     Sodio   Potasio Medicamento\n",
       "0    23    F             HIGH       HIGH  0.792535  0.031258       drugY\n",
       "1    47    M              LOW       HIGH  0.739309  0.056468       drugC\n",
       "2    47    M              LOW       HIGH  0.697269  0.068944       drugC\n",
       "3    28    F           NORMAL       HIGH  0.563682  0.072289       drugX\n",
       "4    61    F              LOW       HIGH  0.559294  0.030998       drugY"
      ]
     },
     "execution_count": 7,
     "metadata": {},
     "output_type": "execute_result"
    }
   ],
   "source": [
    "# Variables irrelevantes para el proceso de minería\n",
    "\n",
    "data = data.drop('Id',axis=1) #Eliminamos el ID por ser irrelevante, axis=1 indica que es una columna\n",
    "\n",
    "data.head()"
   ]
  },
  {
   "cell_type": "markdown",
   "metadata": {},
   "source": [
    "DESCRIPCIÓN ESTADÍSTICA"
   ]
  },
  {
   "cell_type": "code",
   "execution_count": 8,
   "metadata": {},
   "outputs": [
    {
     "data": {
      "text/html": [
       "<div>\n",
       "<style scoped>\n",
       "    .dataframe tbody tr th:only-of-type {\n",
       "        vertical-align: middle;\n",
       "    }\n",
       "\n",
       "    .dataframe tbody tr th {\n",
       "        vertical-align: top;\n",
       "    }\n",
       "\n",
       "    .dataframe thead th {\n",
       "        text-align: right;\n",
       "    }\n",
       "</style>\n",
       "<table border=\"1\" class=\"dataframe\">\n",
       "  <thead>\n",
       "    <tr style=\"text-align: right;\">\n",
       "      <th></th>\n",
       "      <th>Edad</th>\n",
       "      <th>Sodio</th>\n",
       "      <th>Potasio</th>\n",
       "    </tr>\n",
       "  </thead>\n",
       "  <tbody>\n",
       "    <tr>\n",
       "      <th>count</th>\n",
       "      <td>200.000000</td>\n",
       "      <td>200.000000</td>\n",
       "      <td>200.000000</td>\n",
       "    </tr>\n",
       "    <tr>\n",
       "      <th>mean</th>\n",
       "      <td>45.585000</td>\n",
       "      <td>0.688606</td>\n",
       "      <td>0.098808</td>\n",
       "    </tr>\n",
       "    <tr>\n",
       "      <th>std</th>\n",
       "      <td>19.460378</td>\n",
       "      <td>0.161127</td>\n",
       "      <td>0.703927</td>\n",
       "    </tr>\n",
       "    <tr>\n",
       "      <th>min</th>\n",
       "      <td>15.000000</td>\n",
       "      <td>-0.848948</td>\n",
       "      <td>-0.076100</td>\n",
       "    </tr>\n",
       "    <tr>\n",
       "      <th>25%</th>\n",
       "      <td>31.750000</td>\n",
       "      <td>0.582655</td>\n",
       "      <td>0.034697</td>\n",
       "    </tr>\n",
       "    <tr>\n",
       "      <th>50%</th>\n",
       "      <td>45.000000</td>\n",
       "      <td>0.721338</td>\n",
       "      <td>0.049187</td>\n",
       "    </tr>\n",
       "    <tr>\n",
       "      <th>75%</th>\n",
       "      <td>58.250000</td>\n",
       "      <td>0.796636</td>\n",
       "      <td>0.065663</td>\n",
       "    </tr>\n",
       "    <tr>\n",
       "      <th>max</th>\n",
       "      <td>154.000000</td>\n",
       "      <td>0.896056</td>\n",
       "      <td>10.000000</td>\n",
       "    </tr>\n",
       "  </tbody>\n",
       "</table>\n",
       "</div>"
      ],
      "text/plain": [
       "             Edad       Sodio     Potasio\n",
       "count  200.000000  200.000000  200.000000\n",
       "mean    45.585000    0.688606    0.098808\n",
       "std     19.460378    0.161127    0.703927\n",
       "min     15.000000   -0.848948   -0.076100\n",
       "25%     31.750000    0.582655    0.034697\n",
       "50%     45.000000    0.721338    0.049187\n",
       "75%     58.250000    0.796636    0.065663\n",
       "max    154.000000    0.896056   10.000000"
      ]
     },
     "execution_count": 8,
     "metadata": {},
     "output_type": "execute_result"
    }
   ],
   "source": [
    "data.describe()"
   ]
  },
  {
   "cell_type": "code",
   "execution_count": 9,
   "metadata": {},
   "outputs": [
    {
     "name": "stdout",
     "output_type": "stream",
     "text": [
      "[ 15  16  17  18  19  20  21  22  23  24  25  26  28  29  30  31  32  33\n",
      "  34  35  36  37  38  39  40  41  42  43  45  46  47  48  49  50  51  52\n",
      "  53  54  55  56  57  58  59  60  61  62  63  64  65  66  67  68  69  70\n",
      "  72  73  74 145 154]\n",
      "[3 3 1 3 2 4 1 4 6 4 1 4 7 2 1 4 6 1 4 3 4 5 3 6 3 4 4 4 4 2 8 2 7 5 4 2 3\n",
      " 1 2 4 4 5 3 5 4 2 1 3 4 2 4 4 3 3 4 2 4 1 1]\n"
     ]
    }
   ],
   "source": [
    "edad_unique, counts = np.unique(data['Edad'], return_counts=True)\n",
    "print(edad_unique)\n",
    "print(counts)"
   ]
  },
  {
   "cell_type": "code",
   "execution_count": 10,
   "metadata": {},
   "outputs": [
    {
     "name": "stdout",
     "output_type": "stream",
     "text": [
      "[15. 16. 17. 18. 19. 20. 21. 22. 23. 24. 25. 26. 28. 29. 30. 31. 32. 33.\n",
      " 34. 35. 36. 37. 38. 39. 40. 41. 42. 43. 45. 46. 47. 48. 49. 50. 51. 52.\n",
      " 53. 54. 55. 56. 57. 58. 59. 60. 61. 62. 63. 64. 65. 66. 67. 68. 69. 70.\n",
      " 72. 73. 74. nan nan]\n",
      "[3 3 1 3 2 4 1 4 6 4 1 4 7 2 1 4 6 1 4 3 4 5 3 6 3 4 4 4 4 2 8 2 7 5 4 2 3\n",
      " 1 2 4 4 5 3 5 4 2 1 3 4 2 4 4 3 3 4 2 4 1 1]\n"
     ]
    },
    {
     "name": "stderr",
     "output_type": "stream",
     "text": [
      "<ipython-input-10-ba2d73c23da6>:2: SettingWithCopyWarning: \n",
      "A value is trying to be set on a copy of a slice from a DataFrame\n",
      "\n",
      "See the caveats in the documentation: https://pandas.pydata.org/pandas-docs/stable/user_guide/indexing.html#returning-a-view-versus-a-copy\n",
      "  data.Edad[data['Edad']>120] = np.nan\n"
     ]
    }
   ],
   "source": [
    "# Cleaning atypical ages\n",
    "data.Edad[data['Edad']>120] = np.nan\n",
    "\n",
    "edad_unique, counts = np.unique(data['Edad'], return_counts=True)\n",
    "print(edad_unique)\n",
    "print(counts)"
   ]
  },
  {
   "cell_type": "code",
   "execution_count": 11,
   "metadata": {},
   "outputs": [],
   "source": [
    "data = data.dropna()"
   ]
  },
  {
   "cell_type": "code",
   "execution_count": 12,
   "metadata": {},
   "outputs": [
    {
     "name": "stdout",
     "output_type": "stream",
     "text": [
      "<class 'pandas.core.frame.DataFrame'>\n",
      "Int64Index: 198 entries, 0 to 199\n",
      "Data columns (total 7 columns):\n",
      " #   Column            Non-Null Count  Dtype   \n",
      "---  ------            --------------  -----   \n",
      " 0   Edad              198 non-null    float64 \n",
      " 1   Sexo              198 non-null    category\n",
      " 2   PresionSanguinea  198 non-null    category\n",
      " 3   Colesterol        198 non-null    category\n",
      " 4   Sodio             198 non-null    float64 \n",
      " 5   Potasio           198 non-null    float64 \n",
      " 6   Medicamento       198 non-null    category\n",
      "dtypes: category(4), float64(3)\n",
      "memory usage: 7.6 KB\n"
     ]
    }
   ],
   "source": [
    "data.info()"
   ]
  },
  {
   "cell_type": "code",
   "execution_count": 13,
   "metadata": {},
   "outputs": [
    {
     "name": "stdout",
     "output_type": "stream",
     "text": [
      "['F' 'M' 'Mujer']\n",
      "[ 95 102   1]\n"
     ]
    }
   ],
   "source": [
    "sexo_unique, counts = np.unique(data['Sexo'], return_counts=True)\n",
    "print(sexo_unique)\n",
    "print(counts)"
   ]
  },
  {
   "cell_type": "code",
   "execution_count": 14,
   "metadata": {},
   "outputs": [
    {
     "data": {
      "text/plain": [
       "['F', 'M']\n",
       "Categories (2, object): ['F', 'M']"
      ]
     },
     "execution_count": 14,
     "metadata": {},
     "output_type": "execute_result"
    }
   ],
   "source": [
    "# Replacing column values\n",
    "data['Sexo'].replace({'Mujer':'M'}, inplace=True)\n",
    "data['Sexo'].unique()"
   ]
  },
  {
   "cell_type": "code",
   "execution_count": 15,
   "metadata": {},
   "outputs": [
    {
     "name": "stdout",
     "output_type": "stream",
     "text": [
      "['HIGH' 'LOW' 'NORMAL' 'Null']\n",
      "[75 63 59  1]\n"
     ]
    }
   ],
   "source": [
    "presion_unique, counts = np.unique(data['PresionSanguinea'], return_counts=True)\n",
    "print(presion_unique)\n",
    "print(counts)"
   ]
  },
  {
   "cell_type": "code",
   "execution_count": 16,
   "metadata": {},
   "outputs": [
    {
     "data": {
      "text/plain": [
       "['HIGH', 'LOW', 'NORMAL']\n",
       "Categories (3, object): ['HIGH', 'LOW', 'NORMAL']"
      ]
     },
     "execution_count": 16,
     "metadata": {},
     "output_type": "execute_result"
    }
   ],
   "source": [
    "data['PresionSanguinea'].replace({'Null': np.nan}, inplace=True)\n",
    "data = data.dropna()\n",
    "data['PresionSanguinea'].unique()"
   ]
  },
  {
   "cell_type": "code",
   "execution_count": 17,
   "metadata": {},
   "outputs": [
    {
     "name": "stdout",
     "output_type": "stream",
     "text": [
      "['HIGH' 'NORMAL' 'hig']\n",
      "[101  95   1]\n"
     ]
    }
   ],
   "source": [
    "colesterol_unique, counts = np.unique(data['Colesterol'], return_counts=True)\n",
    "print(colesterol_unique)\n",
    "print(counts)"
   ]
  },
  {
   "cell_type": "code",
   "execution_count": 18,
   "metadata": {},
   "outputs": [
    {
     "data": {
      "text/plain": [
       "['HIGH', 'NORMAL']\n",
       "Categories (2, object): ['HIGH', 'NORMAL']"
      ]
     },
     "execution_count": 18,
     "metadata": {},
     "output_type": "execute_result"
    }
   ],
   "source": [
    "data['Colesterol'].replace({'hig': 'HIGH'}, inplace=True)\n",
    "data['Colesterol'].unique()"
   ]
  },
  {
   "cell_type": "code",
   "execution_count": 19,
   "metadata": {},
   "outputs": [
    {
     "name": "stdout",
     "output_type": "stream",
     "text": [
      "<class 'pandas.core.frame.DataFrame'>\n",
      "Int64Index: 197 entries, 0 to 199\n",
      "Data columns (total 7 columns):\n",
      " #   Column            Non-Null Count  Dtype   \n",
      "---  ------            --------------  -----   \n",
      " 0   Edad              197 non-null    float64 \n",
      " 1   Sexo              197 non-null    category\n",
      " 2   PresionSanguinea  197 non-null    category\n",
      " 3   Colesterol        197 non-null    category\n",
      " 4   Sodio             197 non-null    float64 \n",
      " 5   Potasio           197 non-null    float64 \n",
      " 6   Medicamento       197 non-null    category\n",
      "dtypes: category(4), float64(3)\n",
      "memory usage: 7.5 KB\n"
     ]
    }
   ],
   "source": [
    "data.info()"
   ]
  },
  {
   "cell_type": "code",
   "execution_count": 20,
   "metadata": {},
   "outputs": [
    {
     "name": "stdout",
     "output_type": "stream",
     "text": [
      "[0.500169 0.501956 0.50482  0.504995 0.509181 0.510473 0.512517 0.5126\n",
      " 0.516973 0.517515 0.518285 0.522891 0.523623 0.526102 0.526226 0.526672\n",
      " 0.526835 0.52765  0.52975  0.532632 0.533228 0.536324 0.536746 0.538183\n",
      " 0.538856 0.539774 0.543355 0.547347 0.547821 0.549375 0.549945 0.551967\n",
      " 0.553567 0.554182 0.556833 0.557133 0.55906  0.559171 0.559294 0.560854\n",
      " 0.561019 0.563217 0.56332  0.563682 0.564811 0.575058 0.578002 0.581591\n",
      " 0.58301  0.584179 0.589493 0.593596 0.596099 0.598753 0.601915 0.602557\n",
      " 0.604973 0.606933 0.609566 0.611333 0.613261 0.616117 0.616692 0.618603\n",
      " 0.625272 0.625889 0.626527 0.627866 0.63126  0.635551 0.635762 0.637231\n",
      " 0.639888 0.640455 0.64236  0.643455 0.644936 0.645515 0.648646 0.649096\n",
      " 0.655222 0.656292 0.656371 0.658397 0.658606 0.663146 0.667775 0.676901\n",
      " 0.678646 0.683503 0.685143 0.694689 0.695183 0.697052 0.697269 0.71486\n",
      " 0.715337 0.721257 0.72142  0.722286 0.724375 0.724422 0.725424 0.726677\n",
      " 0.730854 0.731091 0.73154  0.733842 0.734119 0.739309 0.73961  0.739914\n",
      " 0.740936 0.742092 0.743021 0.744956 0.745098 0.745123 0.747815 0.749717\n",
      " 0.749905 0.750962 0.753504 0.754166 0.755873 0.756097 0.7586   0.760221\n",
      " 0.760809 0.763404 0.764067 0.766635 0.76909  0.769197 0.773569 0.773798\n",
      " 0.77541  0.775702 0.777205 0.781928 0.78452  0.785251 0.787812 0.789637\n",
      " 0.790664 0.792535 0.792674 0.795312 0.800607 0.804155 0.804173 0.80554\n",
      " 0.805651 0.808019 0.809196 0.809199 0.811023 0.812663 0.816356 0.817625\n",
      " 0.818999 0.820638 0.821584 0.823793 0.825542 0.82778  0.828898 0.832467\n",
      " 0.832683 0.833837 0.83849  0.844196 0.846892 0.84773  0.848774 0.84985\n",
      " 0.851019 0.854591 0.854733 0.857934 0.85794  0.858387 0.860775 0.8645\n",
      " 0.868924 0.869854 0.87444  0.876828 0.882486 0.88515  0.88624  0.886865\n",
      " 0.887426 0.887928 0.888144 0.888629 0.896056]\n",
      "[1 1 1 1 1 1 1 1 1 1 1 1 1 1 1 1 1 1 1 1 1 1 1 1 1 1 1 1 1 1 1 1 1 1 1 1 1\n",
      " 1 1 1 1 1 1 1 1 1 1 1 1 1 1 1 1 1 1 1 1 1 1 1 1 1 1 1 1 1 1 1 1 1 1 1 1 1\n",
      " 1 1 1 1 1 1 1 1 1 1 1 1 1 1 1 1 1 1 1 1 1 1 1 1 1 1 1 1 1 1 1 1 1 1 1 1 1\n",
      " 1 1 1 1 1 1 1 1 1 1 1 1 1 1 1 1 1 1 1 1 1 1 1 1 1 1 1 1 1 1 1 1 1 1 1 1 1\n",
      " 1 1 1 1 1 1 1 1 1 1 1 1 1 1 1 1 1 1 1 1 1 1 1 1 1 1 1 1 1 1 1 1 1 1 1 1 1\n",
      " 1 1 1 1 1 1 1 1 1 1 1 1]\n"
     ]
    }
   ],
   "source": [
    "sodio_unique, counts = np.unique(data['Sodio'], return_counts=True)\n",
    "print(sodio_unique)\n",
    "print(counts)"
   ]
  },
  {
   "cell_type": "code",
   "execution_count": null,
   "metadata": {},
   "outputs": [],
   "source": []
  }
 ],
 "metadata": {
  "kernelspec": {
   "display_name": "Python 3",
   "language": "python",
   "name": "python3"
  },
  "language_info": {
   "codemirror_mode": {
    "name": "ipython",
    "version": 3
   },
   "file_extension": ".py",
   "mimetype": "text/x-python",
   "name": "python",
   "nbconvert_exporter": "python",
   "pygments_lexer": "ipython3",
   "version": "3.8.8"
  }
 },
 "nbformat": 4,
 "nbformat_minor": 4
}
