{
 "cells": [
  {
   "cell_type": "markdown",
   "metadata": {},
   "source": [
    "# Data Cleaning\n",
    "Data cleaning of the COVID-19 Cases Colombia Data set."
   ]
  },
  {
   "cell_type": "code",
   "execution_count": 1,
   "metadata": {},
   "outputs": [],
   "source": [
    "import numpy as np\n",
    "import pandas as pd\n",
    "import matplotlib.pyplot as plt"
   ]
  },
  {
   "cell_type": "markdown",
   "metadata": {},
   "source": [
    "## Cargando el dataset"
   ]
  },
  {
   "cell_type": "code",
   "execution_count": 2,
   "metadata": {},
   "outputs": [
    {
     "data": {
      "text/html": [
       "<div>\n",
       "<style scoped>\n",
       "    .dataframe tbody tr th:only-of-type {\n",
       "        vertical-align: middle;\n",
       "    }\n",
       "\n",
       "    .dataframe tbody tr th {\n",
       "        vertical-align: top;\n",
       "    }\n",
       "\n",
       "    .dataframe thead th {\n",
       "        text-align: right;\n",
       "    }\n",
       "</style>\n",
       "<table border=\"1\" class=\"dataframe\">\n",
       "  <thead>\n",
       "    <tr style=\"text-align: right;\">\n",
       "      <th></th>\n",
       "      <th>fecha reporte web</th>\n",
       "      <th>ID de caso</th>\n",
       "      <th>Fecha de notificación</th>\n",
       "      <th>Código DIVIPOLA departamento</th>\n",
       "      <th>Nombre departamento</th>\n",
       "      <th>Código DIVIPOLA municipio</th>\n",
       "      <th>Nombre municipio</th>\n",
       "      <th>Edad</th>\n",
       "      <th>Unidad de medida de edad</th>\n",
       "      <th>Sexo</th>\n",
       "      <th>...</th>\n",
       "      <th>Código ISO del país</th>\n",
       "      <th>Nombre del país</th>\n",
       "      <th>Recuperado</th>\n",
       "      <th>Fecha de inicio de síntomas</th>\n",
       "      <th>Fecha de muerte</th>\n",
       "      <th>Fecha de diagnóstico</th>\n",
       "      <th>Fecha de recuperación</th>\n",
       "      <th>Tipo de recuperación</th>\n",
       "      <th>Pertenencia étnica</th>\n",
       "      <th>Nombre del grupo étnico</th>\n",
       "    </tr>\n",
       "  </thead>\n",
       "  <tbody>\n",
       "    <tr>\n",
       "      <th>0</th>\n",
       "      <td>6/3/2020 0:00:00</td>\n",
       "      <td>1</td>\n",
       "      <td>2/3/2020 0:00:00</td>\n",
       "      <td>11</td>\n",
       "      <td>BOGOTA</td>\n",
       "      <td>11,001</td>\n",
       "      <td>BOGOTA</td>\n",
       "      <td>19</td>\n",
       "      <td>1</td>\n",
       "      <td>F</td>\n",
       "      <td>...</td>\n",
       "      <td>380</td>\n",
       "      <td>ITALIA</td>\n",
       "      <td>Recuperado</td>\n",
       "      <td>27/2/2020 0:00:00</td>\n",
       "      <td>NaN</td>\n",
       "      <td>6/3/2020 0:00:00</td>\n",
       "      <td>13/3/2020 0:00:00</td>\n",
       "      <td>PCR</td>\n",
       "      <td>6.0</td>\n",
       "      <td>NaN</td>\n",
       "    </tr>\n",
       "    <tr>\n",
       "      <th>1</th>\n",
       "      <td>9/3/2020 0:00:00</td>\n",
       "      <td>2</td>\n",
       "      <td>6/3/2020 0:00:00</td>\n",
       "      <td>76</td>\n",
       "      <td>VALLE</td>\n",
       "      <td>76,111</td>\n",
       "      <td>BUGA</td>\n",
       "      <td>34</td>\n",
       "      <td>1</td>\n",
       "      <td>M</td>\n",
       "      <td>...</td>\n",
       "      <td>724</td>\n",
       "      <td>ESPAÑA</td>\n",
       "      <td>Recuperado</td>\n",
       "      <td>4/3/2020 0:00:00</td>\n",
       "      <td>NaN</td>\n",
       "      <td>9/3/2020 0:00:00</td>\n",
       "      <td>19/3/2020 0:00:00</td>\n",
       "      <td>PCR</td>\n",
       "      <td>5.0</td>\n",
       "      <td>NaN</td>\n",
       "    </tr>\n",
       "    <tr>\n",
       "      <th>2</th>\n",
       "      <td>9/3/2020 0:00:00</td>\n",
       "      <td>3</td>\n",
       "      <td>7/3/2020 0:00:00</td>\n",
       "      <td>5</td>\n",
       "      <td>ANTIOQUIA</td>\n",
       "      <td>5,001</td>\n",
       "      <td>MEDELLIN</td>\n",
       "      <td>50</td>\n",
       "      <td>1</td>\n",
       "      <td>F</td>\n",
       "      <td>...</td>\n",
       "      <td>724</td>\n",
       "      <td>ESPAÑA</td>\n",
       "      <td>Recuperado</td>\n",
       "      <td>29/2/2020 0:00:00</td>\n",
       "      <td>NaN</td>\n",
       "      <td>9/3/2020 0:00:00</td>\n",
       "      <td>15/3/2020 0:00:00</td>\n",
       "      <td>PCR</td>\n",
       "      <td>6.0</td>\n",
       "      <td>NaN</td>\n",
       "    </tr>\n",
       "    <tr>\n",
       "      <th>3</th>\n",
       "      <td>11/3/2020 0:00:00</td>\n",
       "      <td>4</td>\n",
       "      <td>9/3/2020 0:00:00</td>\n",
       "      <td>5</td>\n",
       "      <td>ANTIOQUIA</td>\n",
       "      <td>5,001</td>\n",
       "      <td>MEDELLIN</td>\n",
       "      <td>55</td>\n",
       "      <td>1</td>\n",
       "      <td>M</td>\n",
       "      <td>...</td>\n",
       "      <td>NaN</td>\n",
       "      <td>NaN</td>\n",
       "      <td>Recuperado</td>\n",
       "      <td>6/3/2020 0:00:00</td>\n",
       "      <td>NaN</td>\n",
       "      <td>11/3/2020 0:00:00</td>\n",
       "      <td>26/3/2020 0:00:00</td>\n",
       "      <td>PCR</td>\n",
       "      <td>6.0</td>\n",
       "      <td>NaN</td>\n",
       "    </tr>\n",
       "    <tr>\n",
       "      <th>4</th>\n",
       "      <td>11/3/2020 0:00:00</td>\n",
       "      <td>5</td>\n",
       "      <td>9/3/2020 0:00:00</td>\n",
       "      <td>5</td>\n",
       "      <td>ANTIOQUIA</td>\n",
       "      <td>5,001</td>\n",
       "      <td>MEDELLIN</td>\n",
       "      <td>25</td>\n",
       "      <td>1</td>\n",
       "      <td>M</td>\n",
       "      <td>...</td>\n",
       "      <td>NaN</td>\n",
       "      <td>NaN</td>\n",
       "      <td>Recuperado</td>\n",
       "      <td>8/3/2020 0:00:00</td>\n",
       "      <td>NaN</td>\n",
       "      <td>11/3/2020 0:00:00</td>\n",
       "      <td>23/3/2020 0:00:00</td>\n",
       "      <td>PCR</td>\n",
       "      <td>6.0</td>\n",
       "      <td>NaN</td>\n",
       "    </tr>\n",
       "  </tbody>\n",
       "</table>\n",
       "<p>5 rows × 23 columns</p>\n",
       "</div>"
      ],
      "text/plain": [
       "   fecha reporte web ID de caso Fecha de notificación  \\\n",
       "0   6/3/2020 0:00:00          1      2/3/2020 0:00:00   \n",
       "1   9/3/2020 0:00:00          2      6/3/2020 0:00:00   \n",
       "2   9/3/2020 0:00:00          3      7/3/2020 0:00:00   \n",
       "3  11/3/2020 0:00:00          4      9/3/2020 0:00:00   \n",
       "4  11/3/2020 0:00:00          5      9/3/2020 0:00:00   \n",
       "\n",
       "  Código DIVIPOLA departamento Nombre departamento Código DIVIPOLA municipio  \\\n",
       "0                           11              BOGOTA                    11,001   \n",
       "1                           76               VALLE                    76,111   \n",
       "2                            5           ANTIOQUIA                     5,001   \n",
       "3                            5           ANTIOQUIA                     5,001   \n",
       "4                            5           ANTIOQUIA                     5,001   \n",
       "\n",
       "  Nombre municipio  Edad  Unidad de medida de edad Sexo  ...  \\\n",
       "0           BOGOTA    19                         1    F  ...   \n",
       "1             BUGA    34                         1    M  ...   \n",
       "2         MEDELLIN    50                         1    F  ...   \n",
       "3         MEDELLIN    55                         1    M  ...   \n",
       "4         MEDELLIN    25                         1    M  ...   \n",
       "\n",
       "  Código ISO del país Nombre del país  Recuperado Fecha de inicio de síntomas  \\\n",
       "0                 380          ITALIA  Recuperado           27/2/2020 0:00:00   \n",
       "1                 724          ESPAÑA  Recuperado            4/3/2020 0:00:00   \n",
       "2                 724          ESPAÑA  Recuperado           29/2/2020 0:00:00   \n",
       "3                 NaN             NaN  Recuperado            6/3/2020 0:00:00   \n",
       "4                 NaN             NaN  Recuperado            8/3/2020 0:00:00   \n",
       "\n",
       "  Fecha de muerte Fecha de diagnóstico Fecha de recuperación  \\\n",
       "0             NaN     6/3/2020 0:00:00     13/3/2020 0:00:00   \n",
       "1             NaN     9/3/2020 0:00:00     19/3/2020 0:00:00   \n",
       "2             NaN     9/3/2020 0:00:00     15/3/2020 0:00:00   \n",
       "3             NaN    11/3/2020 0:00:00     26/3/2020 0:00:00   \n",
       "4             NaN    11/3/2020 0:00:00     23/3/2020 0:00:00   \n",
       "\n",
       "  Tipo de recuperación Pertenencia étnica Nombre del grupo étnico  \n",
       "0                  PCR                6.0                     NaN  \n",
       "1                  PCR                5.0                     NaN  \n",
       "2                  PCR                6.0                     NaN  \n",
       "3                  PCR                6.0                     NaN  \n",
       "4                  PCR                6.0                     NaN  \n",
       "\n",
       "[5 rows x 23 columns]"
      ]
     },
     "execution_count": 2,
     "metadata": {},
     "output_type": "execute_result"
    }
   ],
   "source": [
    "# Leyendo el archivo covid_col.csv\n",
    "# data = pd.read_csv('covid_col.csv', encoding='utf-8', low_memory=False)\n",
    "data = pd.read_csv('Casos_positivos_de_COVID-19_en_Colombia_2021_04_26.csv', low_memory=False)\n",
    "data.head()"
   ]
  },
  {
   "cell_type": "markdown",
   "metadata": {},
   "source": [
    "## Analizando el dataset"
   ]
  },
  {
   "cell_type": "code",
   "execution_count": 3,
   "metadata": {
    "scrolled": false
   },
   "outputs": [
    {
     "name": "stdout",
     "output_type": "stream",
     "text": [
      "<class 'pandas.core.frame.DataFrame'>\n",
      "RangeIndex: 2824626 entries, 0 to 2824625\n",
      "Data columns (total 23 columns):\n",
      " #   Column                        Dtype  \n",
      "---  ------                        -----  \n",
      " 0   fecha reporte web             object \n",
      " 1   ID de caso                    object \n",
      " 2   Fecha de notificación         object \n",
      " 3   Código DIVIPOLA departamento  object \n",
      " 4   Nombre departamento           object \n",
      " 5   Código DIVIPOLA municipio     object \n",
      " 6   Nombre municipio              object \n",
      " 7   Edad                          int64  \n",
      " 8   Unidad de medida de edad      int64  \n",
      " 9   Sexo                          object \n",
      " 10  Tipo de contagio              object \n",
      " 11  Ubicación del caso            object \n",
      " 12  Estado                        object \n",
      " 13  Código ISO del país           object \n",
      " 14  Nombre del país               object \n",
      " 15  Recuperado                    object \n",
      " 16  Fecha de inicio de síntomas   object \n",
      " 17  Fecha de muerte               object \n",
      " 18  Fecha de diagnóstico          object \n",
      " 19  Fecha de recuperación         object \n",
      " 20  Tipo de recuperación          object \n",
      " 21  Pertenencia étnica            float64\n",
      " 22  Nombre del grupo étnico       object \n",
      "dtypes: float64(1), int64(2), object(20)\n",
      "memory usage: 495.7+ MB\n"
     ]
    }
   ],
   "source": [
    "data.info()"
   ]
  },
  {
   "cell_type": "code",
   "execution_count": 4,
   "metadata": {},
   "outputs": [
    {
     "data": {
      "text/plain": [
       "2824626"
      ]
     },
     "execution_count": 4,
     "metadata": {},
     "output_type": "execute_result"
    }
   ],
   "source": [
    "# Cantidad de casos COVID-19 en Colombia\n",
    "len(data)"
   ]
  },
  {
   "cell_type": "code",
   "execution_count": 5,
   "metadata": {},
   "outputs": [
    {
     "data": {
      "text/plain": [
       "Index(['fecha reporte web', 'ID de caso', 'Fecha de notificación',\n",
       "       'Código DIVIPOLA departamento', 'Nombre departamento',\n",
       "       'Código DIVIPOLA municipio', 'Nombre municipio', 'Edad',\n",
       "       'Unidad de medida de edad', 'Sexo', 'Tipo de contagio',\n",
       "       'Ubicación del caso', 'Estado', 'Código ISO del país',\n",
       "       'Nombre del país', 'Recuperado', 'Fecha de inicio de síntomas',\n",
       "       'Fecha de muerte', 'Fecha de diagnóstico', 'Fecha de recuperación',\n",
       "       'Tipo de recuperación', 'Pertenencia étnica',\n",
       "       'Nombre del grupo étnico'],\n",
       "      dtype='object')"
      ]
     },
     "execution_count": 5,
     "metadata": {},
     "output_type": "execute_result"
    }
   ],
   "source": [
    "# Columnas del data-set\n",
    "data.columns"
   ]
  },
  {
   "cell_type": "markdown",
   "metadata": {},
   "source": [
    "## Filtrando columnas en el dataset"
   ]
  },
  {
   "cell_type": "code",
   "execution_count": 6,
   "metadata": {},
   "outputs": [],
   "source": [
    "data = data[['Nombre departamento', 'Nombre municipio', 'Edad', 'Sexo', 'Fecha de inicio de síntomas', 'Fecha de diagnóstico', 'Tipo de contagio', 'Ubicación del caso', 'Estado']]"
   ]
  },
  {
   "cell_type": "code",
   "execution_count": 7,
   "metadata": {
    "scrolled": true
   },
   "outputs": [
    {
     "data": {
      "text/html": [
       "<div>\n",
       "<style scoped>\n",
       "    .dataframe tbody tr th:only-of-type {\n",
       "        vertical-align: middle;\n",
       "    }\n",
       "\n",
       "    .dataframe tbody tr th {\n",
       "        vertical-align: top;\n",
       "    }\n",
       "\n",
       "    .dataframe thead th {\n",
       "        text-align: right;\n",
       "    }\n",
       "</style>\n",
       "<table border=\"1\" class=\"dataframe\">\n",
       "  <thead>\n",
       "    <tr style=\"text-align: right;\">\n",
       "      <th></th>\n",
       "      <th>Nombre departamento</th>\n",
       "      <th>Nombre municipio</th>\n",
       "      <th>Edad</th>\n",
       "      <th>Sexo</th>\n",
       "      <th>Fecha de inicio de síntomas</th>\n",
       "      <th>Fecha de diagnóstico</th>\n",
       "      <th>Tipo de contagio</th>\n",
       "      <th>Ubicación del caso</th>\n",
       "      <th>Estado</th>\n",
       "    </tr>\n",
       "  </thead>\n",
       "  <tbody>\n",
       "    <tr>\n",
       "      <th>0</th>\n",
       "      <td>BOGOTA</td>\n",
       "      <td>BOGOTA</td>\n",
       "      <td>19</td>\n",
       "      <td>F</td>\n",
       "      <td>27/2/2020 0:00:00</td>\n",
       "      <td>6/3/2020 0:00:00</td>\n",
       "      <td>Importado</td>\n",
       "      <td>Casa</td>\n",
       "      <td>Leve</td>\n",
       "    </tr>\n",
       "    <tr>\n",
       "      <th>1</th>\n",
       "      <td>VALLE</td>\n",
       "      <td>BUGA</td>\n",
       "      <td>34</td>\n",
       "      <td>M</td>\n",
       "      <td>4/3/2020 0:00:00</td>\n",
       "      <td>9/3/2020 0:00:00</td>\n",
       "      <td>Importado</td>\n",
       "      <td>Casa</td>\n",
       "      <td>Leve</td>\n",
       "    </tr>\n",
       "    <tr>\n",
       "      <th>2</th>\n",
       "      <td>ANTIOQUIA</td>\n",
       "      <td>MEDELLIN</td>\n",
       "      <td>50</td>\n",
       "      <td>F</td>\n",
       "      <td>29/2/2020 0:00:00</td>\n",
       "      <td>9/3/2020 0:00:00</td>\n",
       "      <td>Importado</td>\n",
       "      <td>Casa</td>\n",
       "      <td>Leve</td>\n",
       "    </tr>\n",
       "    <tr>\n",
       "      <th>3</th>\n",
       "      <td>ANTIOQUIA</td>\n",
       "      <td>MEDELLIN</td>\n",
       "      <td>55</td>\n",
       "      <td>M</td>\n",
       "      <td>6/3/2020 0:00:00</td>\n",
       "      <td>11/3/2020 0:00:00</td>\n",
       "      <td>Relacionado</td>\n",
       "      <td>Casa</td>\n",
       "      <td>Leve</td>\n",
       "    </tr>\n",
       "    <tr>\n",
       "      <th>4</th>\n",
       "      <td>ANTIOQUIA</td>\n",
       "      <td>MEDELLIN</td>\n",
       "      <td>25</td>\n",
       "      <td>M</td>\n",
       "      <td>8/3/2020 0:00:00</td>\n",
       "      <td>11/3/2020 0:00:00</td>\n",
       "      <td>Relacionado</td>\n",
       "      <td>Casa</td>\n",
       "      <td>Leve</td>\n",
       "    </tr>\n",
       "    <tr>\n",
       "      <th>...</th>\n",
       "      <td>...</td>\n",
       "      <td>...</td>\n",
       "      <td>...</td>\n",
       "      <td>...</td>\n",
       "      <td>...</td>\n",
       "      <td>...</td>\n",
       "      <td>...</td>\n",
       "      <td>...</td>\n",
       "      <td>...</td>\n",
       "    </tr>\n",
       "    <tr>\n",
       "      <th>2824621</th>\n",
       "      <td>BARRANQUILLA</td>\n",
       "      <td>BARRANQUILLA</td>\n",
       "      <td>69</td>\n",
       "      <td>M</td>\n",
       "      <td>4/1/2021 0:00:00</td>\n",
       "      <td>8/1/2021 0:00:00</td>\n",
       "      <td>En estudio</td>\n",
       "      <td>Casa</td>\n",
       "      <td>Leve</td>\n",
       "    </tr>\n",
       "    <tr>\n",
       "      <th>2824622</th>\n",
       "      <td>BARRANQUILLA</td>\n",
       "      <td>BARRANQUILLA</td>\n",
       "      <td>25</td>\n",
       "      <td>F</td>\n",
       "      <td>4/1/2021 0:00:00</td>\n",
       "      <td>8/1/2021 0:00:00</td>\n",
       "      <td>En estudio</td>\n",
       "      <td>Casa</td>\n",
       "      <td>Leve</td>\n",
       "    </tr>\n",
       "    <tr>\n",
       "      <th>2824623</th>\n",
       "      <td>BARRANQUILLA</td>\n",
       "      <td>BARRANQUILLA</td>\n",
       "      <td>49</td>\n",
       "      <td>F</td>\n",
       "      <td>4/1/2021 0:00:00</td>\n",
       "      <td>8/1/2021 0:00:00</td>\n",
       "      <td>En estudio</td>\n",
       "      <td>Casa</td>\n",
       "      <td>Leve</td>\n",
       "    </tr>\n",
       "    <tr>\n",
       "      <th>2824624</th>\n",
       "      <td>BARRANQUILLA</td>\n",
       "      <td>BARRANQUILLA</td>\n",
       "      <td>34</td>\n",
       "      <td>M</td>\n",
       "      <td>31/12/2020 0:00:00</td>\n",
       "      <td>4/1/2021 0:00:00</td>\n",
       "      <td>En estudio</td>\n",
       "      <td>Casa</td>\n",
       "      <td>Leve</td>\n",
       "    </tr>\n",
       "    <tr>\n",
       "      <th>2824625</th>\n",
       "      <td>BARRANQUILLA</td>\n",
       "      <td>BARRANQUILLA</td>\n",
       "      <td>27</td>\n",
       "      <td>M</td>\n",
       "      <td>31/12/2020 0:00:00</td>\n",
       "      <td>4/1/2021 0:00:00</td>\n",
       "      <td>En estudio</td>\n",
       "      <td>Casa</td>\n",
       "      <td>Leve</td>\n",
       "    </tr>\n",
       "  </tbody>\n",
       "</table>\n",
       "<p>2824626 rows × 9 columns</p>\n",
       "</div>"
      ],
      "text/plain": [
       "        Nombre departamento Nombre municipio  Edad Sexo  \\\n",
       "0                    BOGOTA           BOGOTA    19    F   \n",
       "1                     VALLE             BUGA    34    M   \n",
       "2                 ANTIOQUIA         MEDELLIN    50    F   \n",
       "3                 ANTIOQUIA         MEDELLIN    55    M   \n",
       "4                 ANTIOQUIA         MEDELLIN    25    M   \n",
       "...                     ...              ...   ...  ...   \n",
       "2824621        BARRANQUILLA     BARRANQUILLA    69    M   \n",
       "2824622        BARRANQUILLA     BARRANQUILLA    25    F   \n",
       "2824623        BARRANQUILLA     BARRANQUILLA    49    F   \n",
       "2824624        BARRANQUILLA     BARRANQUILLA    34    M   \n",
       "2824625        BARRANQUILLA     BARRANQUILLA    27    M   \n",
       "\n",
       "        Fecha de inicio de síntomas Fecha de diagnóstico Tipo de contagio  \\\n",
       "0                 27/2/2020 0:00:00     6/3/2020 0:00:00        Importado   \n",
       "1                  4/3/2020 0:00:00     9/3/2020 0:00:00        Importado   \n",
       "2                 29/2/2020 0:00:00     9/3/2020 0:00:00        Importado   \n",
       "3                  6/3/2020 0:00:00    11/3/2020 0:00:00      Relacionado   \n",
       "4                  8/3/2020 0:00:00    11/3/2020 0:00:00      Relacionado   \n",
       "...                             ...                  ...              ...   \n",
       "2824621            4/1/2021 0:00:00     8/1/2021 0:00:00       En estudio   \n",
       "2824622            4/1/2021 0:00:00     8/1/2021 0:00:00       En estudio   \n",
       "2824623            4/1/2021 0:00:00     8/1/2021 0:00:00       En estudio   \n",
       "2824624          31/12/2020 0:00:00     4/1/2021 0:00:00       En estudio   \n",
       "2824625          31/12/2020 0:00:00     4/1/2021 0:00:00       En estudio   \n",
       "\n",
       "        Ubicación del caso Estado  \n",
       "0                     Casa   Leve  \n",
       "1                     Casa   Leve  \n",
       "2                     Casa   Leve  \n",
       "3                     Casa   Leve  \n",
       "4                     Casa   Leve  \n",
       "...                    ...    ...  \n",
       "2824621               Casa   Leve  \n",
       "2824622               Casa   Leve  \n",
       "2824623               Casa   Leve  \n",
       "2824624               Casa   Leve  \n",
       "2824625               Casa   Leve  \n",
       "\n",
       "[2824626 rows x 9 columns]"
      ]
     },
     "execution_count": 7,
     "metadata": {},
     "output_type": "execute_result"
    }
   ],
   "source": [
    "data"
   ]
  },
  {
   "cell_type": "code",
   "execution_count": 8,
   "metadata": {
    "scrolled": true
   },
   "outputs": [
    {
     "name": "stdout",
     "output_type": "stream",
     "text": [
      "<class 'pandas.core.frame.DataFrame'>\n",
      "RangeIndex: 2824626 entries, 0 to 2824625\n",
      "Data columns (total 9 columns):\n",
      " #   Column                       Dtype \n",
      "---  ------                       ----- \n",
      " 0   Nombre departamento          object\n",
      " 1   Nombre municipio             object\n",
      " 2   Edad                         int64 \n",
      " 3   Sexo                         object\n",
      " 4   Fecha de inicio de síntomas  object\n",
      " 5   Fecha de diagnóstico         object\n",
      " 6   Tipo de contagio             object\n",
      " 7   Ubicación del caso           object\n",
      " 8   Estado                       object\n",
      "dtypes: int64(1), object(8)\n",
      "memory usage: 194.0+ MB\n"
     ]
    }
   ],
   "source": [
    "data.info()"
   ]
  },
  {
   "cell_type": "code",
   "execution_count": 9,
   "metadata": {
    "scrolled": true
   },
   "outputs": [],
   "source": [
    "for col in ['Nombre departamento', 'Nombre municipio', 'Sexo', 'Tipo de contagio', 'Ubicación del caso', 'Estado']:\n",
    "    data[col] = data[col].astype(\"category\")"
   ]
  },
  {
   "cell_type": "code",
   "execution_count": 10,
   "metadata": {
    "scrolled": false
   },
   "outputs": [
    {
     "name": "stdout",
     "output_type": "stream",
     "text": [
      "<class 'pandas.core.frame.DataFrame'>\n",
      "RangeIndex: 2824626 entries, 0 to 2824625\n",
      "Data columns (total 9 columns):\n",
      " #   Column                       Dtype   \n",
      "---  ------                       -----   \n",
      " 0   Nombre departamento          category\n",
      " 1   Nombre municipio             category\n",
      " 2   Edad                         int64   \n",
      " 3   Sexo                         category\n",
      " 4   Fecha de inicio de síntomas  object  \n",
      " 5   Fecha de diagnóstico         object  \n",
      " 6   Tipo de contagio             category\n",
      " 7   Ubicación del caso           category\n",
      " 8   Estado                       category\n",
      "dtypes: category(6), int64(1), object(2)\n",
      "memory usage: 83.5+ MB\n"
     ]
    }
   ],
   "source": [
    "data.info()"
   ]
  },
  {
   "cell_type": "code",
   "execution_count": 11,
   "metadata": {
    "scrolled": false
   },
   "outputs": [
    {
     "data": {
      "text/plain": [
       "['BOGOTA', 'BUGA', 'MEDELLIN', 'ITAGUI', 'CARTAGENA', ..., 'MEDIO ATRATO', 'VILLAGOMEZ', 'barrancabermeja', 'CAMPOHERMOSO', 'BELEN DE BAJIRA']\n",
       "Length: 1035\n",
       "Categories (1035, object): ['BOGOTA', 'BUGA', 'MEDELLIN', 'ITAGUI', ..., 'VILLAGOMEZ', 'barrancabermeja', 'CAMPOHERMOSO', 'BELEN DE BAJIRA']"
      ]
     },
     "execution_count": 11,
     "metadata": {},
     "output_type": "execute_result"
    }
   ],
   "source": [
    "data['Nombre municipio'].unique()"
   ]
  },
  {
   "cell_type": "code",
   "execution_count": 12,
   "metadata": {},
   "outputs": [
    {
     "data": {
      "text/plain": [
       "1035"
      ]
     },
     "execution_count": 12,
     "metadata": {},
     "output_type": "execute_result"
    }
   ],
   "source": [
    "len(data['Nombre municipio'].unique())"
   ]
  },
  {
   "cell_type": "code",
   "execution_count": 13,
   "metadata": {},
   "outputs": [
    {
     "data": {
      "text/plain": [
       "113"
      ]
     },
     "execution_count": 13,
     "metadata": {},
     "output_type": "execute_result"
    }
   ],
   "source": [
    "len(data['Edad'].unique())"
   ]
  },
  {
   "cell_type": "code",
   "execution_count": 14,
   "metadata": {
    "scrolled": true
   },
   "outputs": [
    {
     "data": {
      "text/plain": [
       "array([ 19,  34,  50,  55,  25,  27,  85,  22,  28,  36,  42,  74,  68,\n",
       "        48,  30,  61,  73,  54,  26,  23,  18,  49,  65,  59,  72,  45,\n",
       "        29,  21,  79,  52,  71,  24,  44,  38,  31,  41,  67,  62,  58,\n",
       "        37,  20,  32,  64,  40,  46,  39,   9,  53,  56,  51,  69,  16,\n",
       "        57,  60,  33,  76,  47,  35,  88,  70,  81,  17,  63,  80,  84,\n",
       "        87,  83,  43,  77,  15,  66,   3,  82,  12,   8,   1,   5,   6,\n",
       "        75,   2,  13,   4,  78,  10,  94,  11,   7,  95,  93,  92,  90,\n",
       "        97,  91,  86,  14,  96,  98,  89, 103, 100,  99, 102, 101, 104,\n",
       "       106, 107, 105, 108, 109, 110, 114, 113, 115], dtype=int64)"
      ]
     },
     "execution_count": 14,
     "metadata": {},
     "output_type": "execute_result"
    }
   ],
   "source": [
    "data['Edad'].unique()"
   ]
  },
  {
   "cell_type": "code",
   "execution_count": 15,
   "metadata": {},
   "outputs": [
    {
     "data": {
      "text/html": [
       "<div>\n",
       "<style scoped>\n",
       "    .dataframe tbody tr th:only-of-type {\n",
       "        vertical-align: middle;\n",
       "    }\n",
       "\n",
       "    .dataframe tbody tr th {\n",
       "        vertical-align: top;\n",
       "    }\n",
       "\n",
       "    .dataframe thead th {\n",
       "        text-align: right;\n",
       "    }\n",
       "</style>\n",
       "<table border=\"1\" class=\"dataframe\">\n",
       "  <thead>\n",
       "    <tr style=\"text-align: right;\">\n",
       "      <th></th>\n",
       "      <th>Nombre departamento</th>\n",
       "      <th>Nombre municipio</th>\n",
       "      <th>Edad</th>\n",
       "      <th>Sexo</th>\n",
       "      <th>Fecha de inicio de síntomas</th>\n",
       "      <th>Fecha de diagnóstico</th>\n",
       "      <th>Tipo de contagio</th>\n",
       "      <th>Ubicación del caso</th>\n",
       "      <th>Estado</th>\n",
       "      <th>Edad categorizada</th>\n",
       "    </tr>\n",
       "  </thead>\n",
       "  <tbody>\n",
       "    <tr>\n",
       "      <th>0</th>\n",
       "      <td>BOGOTA</td>\n",
       "      <td>BOGOTA</td>\n",
       "      <td>19</td>\n",
       "      <td>F</td>\n",
       "      <td>27/2/2020 0:00:00</td>\n",
       "      <td>6/3/2020 0:00:00</td>\n",
       "      <td>Importado</td>\n",
       "      <td>Casa</td>\n",
       "      <td>Leve</td>\n",
       "      <td>Joven Adulto</td>\n",
       "    </tr>\n",
       "    <tr>\n",
       "      <th>1</th>\n",
       "      <td>VALLE</td>\n",
       "      <td>BUGA</td>\n",
       "      <td>34</td>\n",
       "      <td>M</td>\n",
       "      <td>4/3/2020 0:00:00</td>\n",
       "      <td>9/3/2020 0:00:00</td>\n",
       "      <td>Importado</td>\n",
       "      <td>Casa</td>\n",
       "      <td>Leve</td>\n",
       "      <td>Adulto</td>\n",
       "    </tr>\n",
       "    <tr>\n",
       "      <th>2</th>\n",
       "      <td>ANTIOQUIA</td>\n",
       "      <td>MEDELLIN</td>\n",
       "      <td>50</td>\n",
       "      <td>F</td>\n",
       "      <td>29/2/2020 0:00:00</td>\n",
       "      <td>9/3/2020 0:00:00</td>\n",
       "      <td>Importado</td>\n",
       "      <td>Casa</td>\n",
       "      <td>Leve</td>\n",
       "      <td>Adulto</td>\n",
       "    </tr>\n",
       "    <tr>\n",
       "      <th>3</th>\n",
       "      <td>ANTIOQUIA</td>\n",
       "      <td>MEDELLIN</td>\n",
       "      <td>55</td>\n",
       "      <td>M</td>\n",
       "      <td>6/3/2020 0:00:00</td>\n",
       "      <td>11/3/2020 0:00:00</td>\n",
       "      <td>Relacionado</td>\n",
       "      <td>Casa</td>\n",
       "      <td>Leve</td>\n",
       "      <td>Adulto</td>\n",
       "    </tr>\n",
       "    <tr>\n",
       "      <th>4</th>\n",
       "      <td>ANTIOQUIA</td>\n",
       "      <td>MEDELLIN</td>\n",
       "      <td>25</td>\n",
       "      <td>M</td>\n",
       "      <td>8/3/2020 0:00:00</td>\n",
       "      <td>11/3/2020 0:00:00</td>\n",
       "      <td>Relacionado</td>\n",
       "      <td>Casa</td>\n",
       "      <td>Leve</td>\n",
       "      <td>Joven Adulto</td>\n",
       "    </tr>\n",
       "    <tr>\n",
       "      <th>...</th>\n",
       "      <td>...</td>\n",
       "      <td>...</td>\n",
       "      <td>...</td>\n",
       "      <td>...</td>\n",
       "      <td>...</td>\n",
       "      <td>...</td>\n",
       "      <td>...</td>\n",
       "      <td>...</td>\n",
       "      <td>...</td>\n",
       "      <td>...</td>\n",
       "    </tr>\n",
       "    <tr>\n",
       "      <th>2824621</th>\n",
       "      <td>BARRANQUILLA</td>\n",
       "      <td>BARRANQUILLA</td>\n",
       "      <td>69</td>\n",
       "      <td>M</td>\n",
       "      <td>4/1/2021 0:00:00</td>\n",
       "      <td>8/1/2021 0:00:00</td>\n",
       "      <td>En estudio</td>\n",
       "      <td>Casa</td>\n",
       "      <td>Leve</td>\n",
       "      <td>Anciano</td>\n",
       "    </tr>\n",
       "    <tr>\n",
       "      <th>2824622</th>\n",
       "      <td>BARRANQUILLA</td>\n",
       "      <td>BARRANQUILLA</td>\n",
       "      <td>25</td>\n",
       "      <td>F</td>\n",
       "      <td>4/1/2021 0:00:00</td>\n",
       "      <td>8/1/2021 0:00:00</td>\n",
       "      <td>En estudio</td>\n",
       "      <td>Casa</td>\n",
       "      <td>Leve</td>\n",
       "      <td>Joven Adulto</td>\n",
       "    </tr>\n",
       "    <tr>\n",
       "      <th>2824623</th>\n",
       "      <td>BARRANQUILLA</td>\n",
       "      <td>BARRANQUILLA</td>\n",
       "      <td>49</td>\n",
       "      <td>F</td>\n",
       "      <td>4/1/2021 0:00:00</td>\n",
       "      <td>8/1/2021 0:00:00</td>\n",
       "      <td>En estudio</td>\n",
       "      <td>Casa</td>\n",
       "      <td>Leve</td>\n",
       "      <td>Adulto</td>\n",
       "    </tr>\n",
       "    <tr>\n",
       "      <th>2824624</th>\n",
       "      <td>BARRANQUILLA</td>\n",
       "      <td>BARRANQUILLA</td>\n",
       "      <td>34</td>\n",
       "      <td>M</td>\n",
       "      <td>31/12/2020 0:00:00</td>\n",
       "      <td>4/1/2021 0:00:00</td>\n",
       "      <td>En estudio</td>\n",
       "      <td>Casa</td>\n",
       "      <td>Leve</td>\n",
       "      <td>Adulto</td>\n",
       "    </tr>\n",
       "    <tr>\n",
       "      <th>2824625</th>\n",
       "      <td>BARRANQUILLA</td>\n",
       "      <td>BARRANQUILLA</td>\n",
       "      <td>27</td>\n",
       "      <td>M</td>\n",
       "      <td>31/12/2020 0:00:00</td>\n",
       "      <td>4/1/2021 0:00:00</td>\n",
       "      <td>En estudio</td>\n",
       "      <td>Casa</td>\n",
       "      <td>Leve</td>\n",
       "      <td>Joven Adulto</td>\n",
       "    </tr>\n",
       "  </tbody>\n",
       "</table>\n",
       "<p>2824626 rows × 10 columns</p>\n",
       "</div>"
      ],
      "text/plain": [
       "        Nombre departamento Nombre municipio  Edad Sexo  \\\n",
       "0                    BOGOTA           BOGOTA    19    F   \n",
       "1                     VALLE             BUGA    34    M   \n",
       "2                 ANTIOQUIA         MEDELLIN    50    F   \n",
       "3                 ANTIOQUIA         MEDELLIN    55    M   \n",
       "4                 ANTIOQUIA         MEDELLIN    25    M   \n",
       "...                     ...              ...   ...  ...   \n",
       "2824621        BARRANQUILLA     BARRANQUILLA    69    M   \n",
       "2824622        BARRANQUILLA     BARRANQUILLA    25    F   \n",
       "2824623        BARRANQUILLA     BARRANQUILLA    49    F   \n",
       "2824624        BARRANQUILLA     BARRANQUILLA    34    M   \n",
       "2824625        BARRANQUILLA     BARRANQUILLA    27    M   \n",
       "\n",
       "        Fecha de inicio de síntomas Fecha de diagnóstico Tipo de contagio  \\\n",
       "0                 27/2/2020 0:00:00     6/3/2020 0:00:00        Importado   \n",
       "1                  4/3/2020 0:00:00     9/3/2020 0:00:00        Importado   \n",
       "2                 29/2/2020 0:00:00     9/3/2020 0:00:00        Importado   \n",
       "3                  6/3/2020 0:00:00    11/3/2020 0:00:00      Relacionado   \n",
       "4                  8/3/2020 0:00:00    11/3/2020 0:00:00      Relacionado   \n",
       "...                             ...                  ...              ...   \n",
       "2824621            4/1/2021 0:00:00     8/1/2021 0:00:00       En estudio   \n",
       "2824622            4/1/2021 0:00:00     8/1/2021 0:00:00       En estudio   \n",
       "2824623            4/1/2021 0:00:00     8/1/2021 0:00:00       En estudio   \n",
       "2824624          31/12/2020 0:00:00     4/1/2021 0:00:00       En estudio   \n",
       "2824625          31/12/2020 0:00:00     4/1/2021 0:00:00       En estudio   \n",
       "\n",
       "        Ubicación del caso Estado Edad categorizada  \n",
       "0                     Casa   Leve      Joven Adulto  \n",
       "1                     Casa   Leve            Adulto  \n",
       "2                     Casa   Leve            Adulto  \n",
       "3                     Casa   Leve            Adulto  \n",
       "4                     Casa   Leve      Joven Adulto  \n",
       "...                    ...    ...               ...  \n",
       "2824621               Casa   Leve           Anciano  \n",
       "2824622               Casa   Leve      Joven Adulto  \n",
       "2824623               Casa   Leve            Adulto  \n",
       "2824624               Casa   Leve            Adulto  \n",
       "2824625               Casa   Leve      Joven Adulto  \n",
       "\n",
       "[2824626 rows x 10 columns]"
      ]
     },
     "execution_count": 15,
     "metadata": {},
     "output_type": "execute_result"
    }
   ],
   "source": [
    "bins = [0,6,12,18,27,60,115]\n",
    "group_names = [\"Primera Infancia\", \"Infancia\", \"Adolescente\", \"Joven Adulto\", \"Adulto\", \"Anciano\"]\n",
    "data[\"Edad categorizada\"] = pd.cut(data['Edad'], bins, labels=group_names, include_lowest=True)\n",
    "data"
   ]
  },
  {
   "cell_type": "code",
   "execution_count": 16,
   "metadata": {},
   "outputs": [
    {
     "data": {
      "text/plain": [
       "['Joven Adulto', 'Adulto', 'Anciano', 'Adolescente', 'Infancia', 'Primera Infancia']\n",
       "Categories (6, object): ['Primera Infancia' < 'Infancia' < 'Adolescente' < 'Joven Adulto' < 'Adulto' < 'Anciano']"
      ]
     },
     "execution_count": 16,
     "metadata": {},
     "output_type": "execute_result"
    }
   ],
   "source": [
    "data['Edad categorizada'].unique()"
   ]
  },
  {
   "cell_type": "code",
   "execution_count": 17,
   "metadata": {},
   "outputs": [
    {
     "data": {
      "text/plain": [
       "['Importado', 'Relacionado', 'Comunitaria', 'En estudio']\n",
       "Categories (4, object): ['Importado', 'Relacionado', 'Comunitaria', 'En estudio']"
      ]
     },
     "execution_count": 17,
     "metadata": {},
     "output_type": "execute_result"
    }
   ],
   "source": [
    "data['Tipo de contagio'].unique()"
   ]
  },
  {
   "cell_type": "code",
   "execution_count": 18,
   "metadata": {},
   "outputs": [],
   "source": [
    "# covid = covid[~covid['Tipo de contagio'].str.contains('En estudio')]\n",
    "data[\"Tipo de contagio\"]=data[\"Tipo de contagio\"].replace([\"EN ESTUDIO\", \"En Estudio\", \"Enestudio\"], \"En estudio\")\n",
    "data[\"Tipo de contagio\"]=data[\"Tipo de contagio\"].replace([\"RELACIONADO\", \"relacionado\"], \"Relacionado\")"
   ]
  },
  {
   "cell_type": "code",
   "execution_count": 19,
   "metadata": {},
   "outputs": [
    {
     "data": {
      "text/plain": [
       "['Importado', 'Relacionado', 'Comunitaria', 'En estudio']\n",
       "Categories (4, object): ['Importado', 'Relacionado', 'Comunitaria', 'En estudio']"
      ]
     },
     "execution_count": 19,
     "metadata": {},
     "output_type": "execute_result"
    }
   ],
   "source": [
    "data['Tipo de contagio'].unique()"
   ]
  },
  {
   "cell_type": "code",
   "execution_count": 20,
   "metadata": {},
   "outputs": [
    {
     "data": {
      "text/plain": [
       "2824626"
      ]
     },
     "execution_count": 20,
     "metadata": {},
     "output_type": "execute_result"
    }
   ],
   "source": [
    "len(data)"
   ]
  },
  {
   "cell_type": "code",
   "execution_count": 21,
   "metadata": {
    "scrolled": true
   },
   "outputs": [
    {
     "data": {
      "text/plain": [
       "['F', 'M', 'f', 'm']\n",
       "Categories (4, object): ['F', 'M', 'f', 'm']"
      ]
     },
     "execution_count": 21,
     "metadata": {},
     "output_type": "execute_result"
    }
   ],
   "source": [
    "data['Sexo'].unique()"
   ]
  },
  {
   "cell_type": "code",
   "execution_count": 22,
   "metadata": {
    "scrolled": true
   },
   "outputs": [
    {
     "data": {
      "text/plain": [
       "['F', 'M']\n",
       "Categories (2, object): ['F', 'M']"
      ]
     },
     "execution_count": 22,
     "metadata": {},
     "output_type": "execute_result"
    }
   ],
   "source": [
    "data[\"Sexo\"]=data[\"Sexo\"].replace(\"f\", \"F\")\n",
    "data[\"Sexo\"]=data[\"Sexo\"].replace(\"m\", \"M\")\n",
    "data['Sexo'].unique()"
   ]
  },
  {
   "cell_type": "code",
   "execution_count": 23,
   "metadata": {},
   "outputs": [
    {
     "data": {
      "text/plain": [
       "array(['27/2/2020 0:00:00', '4/3/2020 0:00:00', '29/2/2020 0:00:00',\n",
       "       '6/3/2020 0:00:00', '8/3/2020 0:00:00', '2/3/2020 0:00:00',\n",
       "       '7/3/2020 0:00:00', '9/3/2020 0:00:00', '28/2/2020 0:00:00',\n",
       "       '10/3/2020 0:00:00', '12/3/2020 0:00:00', nan, '11/3/2020 0:00:00',\n",
       "       '13/3/2020 0:00:00', '14/3/2020 0:00:00', '5/3/2020 0:00:00',\n",
       "       '15/3/2020 0:00:00', '16/3/2020 0:00:00', '18/3/2020 0:00:00',\n",
       "       '17/3/2020 0:00:00', '19/3/2020 0:00:00', '20/3/2020 0:00:00',\n",
       "       '21/3/2020 0:00:00', '22/3/2020 0:00:00', '25/3/2020 0:00:00',\n",
       "       '24/3/2020 0:00:00', '23/3/2020 0:00:00', '27/3/2020 0:00:00',\n",
       "       '26/3/2020 0:00:00', '28/3/2020 0:00:00', '29/3/2020 0:00:00',\n",
       "       '1/3/2020 0:00:00', '30/3/2020 0:00:00', '31/3/2020 0:00:00',\n",
       "       '1/4/2020 0:00:00', '3/4/2020 0:00:00', '2/4/2020 0:00:00',\n",
       "       '4/4/2020 0:00:00', '1/5/2020 0:00:00', '1/7/2020 0:00:00',\n",
       "       '5/4/2020 0:00:00', '6/4/2020 0:00:00', '7/4/2020 0:00:00',\n",
       "       '17/6/2020 0:00:00', '9/4/2020 0:00:00', '8/4/2020 0:00:00',\n",
       "       '10/4/2020 0:00:00', '11/4/2020 0:00:00', '10/9/2020 0:00:00',\n",
       "       '12/4/2020 0:00:00', '13/4/2020 0:00:00', '23/4/2020 0:00:00',\n",
       "       '14/4/2020 0:00:00', '15/4/2020 0:00:00', '17/4/2020 0:00:00',\n",
       "       '16/4/2020 0:00:00', '18/4/2020 0:00:00', '19/4/2020 0:00:00',\n",
       "       '20/4/2020 0:00:00', '26/4/2020 0:00:00', '21/4/2020 0:00:00',\n",
       "       '29/4/2020 0:00:00', '22/4/2020 0:00:00', '25/4/2020 0:00:00',\n",
       "       '24/4/2020 0:00:00', '27/4/2020 0:00:00', '28/4/2020 0:00:00',\n",
       "       '8/12/2020 0:00:00', '30/4/2020 0:00:00', '2/5/2020 0:00:00',\n",
       "       '6/6/2020 0:00:00', '22/5/2020 0:00:00', '3/5/2020 0:00:00',\n",
       "       '6/5/2020 0:00:00', '5/5/2020 0:00:00', '4/5/2020 0:00:00',\n",
       "       '10/12/2020 0:00:00', '7/5/2020 0:00:00', '3/3/2020 0:00:00',\n",
       "       '9/5/2020 0:00:00', '8/5/2020 0:00:00', '25/6/2020 0:00:00',\n",
       "       '10/5/2020 0:00:00', '23/6/2020 0:00:00', '11/5/2020 0:00:00',\n",
       "       '21/6/2020 0:00:00', '12/5/2020 0:00:00', '13/5/2020 0:00:00',\n",
       "       '14/5/2020 0:00:00', '15/5/2020 0:00:00', '16/5/2020 0:00:00',\n",
       "       '17/5/2020 0:00:00', '23/5/2020 0:00:00', '18/5/2020 0:00:00',\n",
       "       '19/5/2020 0:00:00', '20/5/2020 0:00:00', '21/5/2020 0:00:00',\n",
       "       '24/5/2020 0:00:00', '25/5/2020 0:00:00', '29/5/2020 0:00:00',\n",
       "       '26/5/2020 0:00:00', '27/5/2020 0:00:00', '28/5/2020 0:00:00',\n",
       "       '3/6/2020 0:00:00', '30/5/2020 0:00:00', '31/5/2020 0:00:00',\n",
       "       '20/6/2020 0:00:00', '1/6/2020 0:00:00', '2/6/2020 0:00:00',\n",
       "       '5/9/2020 0:00:00', '7/6/2020 0:00:00', '4/6/2020 0:00:00',\n",
       "       '5/6/2020 0:00:00', '8/6/2020 0:00:00', '9/6/2020 0:00:00',\n",
       "       '30/6/2020 0:00:00', '15/6/2020 0:00:00', '27/6/2020 0:00:00',\n",
       "       '16/6/2020 0:00:00', '10/6/2020 0:00:00', '12/12/2020 0:00:00',\n",
       "       '24/6/2020 0:00:00', '3/7/2020 0:00:00', '11/6/2020 0:00:00',\n",
       "       '12/6/2020 0:00:00', '13/6/2020 0:00:00', '28/6/2020 0:00:00',\n",
       "       '14/6/2020 0:00:00', '26/6/2020 0:00:00', '27/8/2020 0:00:00',\n",
       "       '20/7/2020 0:00:00', '4/7/2020 0:00:00', '8/7/2020 0:00:00',\n",
       "       '18/6/2020 0:00:00', '19/6/2020 0:00:00', '7/9/2020 0:00:00',\n",
       "       '22/6/2020 0:00:00', '29/8/2020 0:00:00', '2/7/2020 0:00:00',\n",
       "       '10/7/2020 0:00:00', '6/7/2020 0:00:00', '29/6/2020 0:00:00',\n",
       "       '5/7/2020 0:00:00', '7/7/2020 0:00:00', '10/8/2020 0:00:00',\n",
       "       '8/8/2020 0:00:00', '9/7/2020 0:00:00', '15/7/2020 0:00:00',\n",
       "       '2/9/2020 0:00:00', '20/8/2020 0:00:00', '9/12/2020 0:00:00',\n",
       "       '28/7/2020 0:00:00', '26/7/2020 0:00:00', '24/7/2020 0:00:00',\n",
       "       '31/7/2020 0:00:00', '6/9/2020 0:00:00', '11/7/2020 0:00:00',\n",
       "       '13/7/2020 0:00:00', '23/7/2020 0:00:00', '12/7/2020 0:00:00',\n",
       "       '17/7/2020 0:00:00', '14/7/2020 0:00:00', '18/7/2020 0:00:00',\n",
       "       '16/7/2020 0:00:00', '10/10/2020 0:00:00', '25/9/2020 0:00:00',\n",
       "       '27/7/2020 0:00:00', '19/7/2020 0:00:00', '29/7/2020 0:00:00',\n",
       "       '12/8/2020 0:00:00', '21/7/2020 0:00:00', '22/7/2020 0:00:00',\n",
       "       '7/12/2020 0:00:00', '30/7/2020 0:00:00', '8/9/2020 0:00:00',\n",
       "       '25/7/2020 0:00:00', '1/8/2020 0:00:00', '24/10/2020 0:00:00',\n",
       "       '4/9/2020 0:00:00', '9/8/2020 0:00:00', '31/8/2020 0:00:00',\n",
       "       '11/8/2020 0:00:00', '9/9/2020 0:00:00', '6/8/2020 0:00:00',\n",
       "       '19/8/2020 0:00:00', '11/9/2020 0:00:00', '3/9/2020 0:00:00',\n",
       "       '15/8/2020 0:00:00', '2/8/2020 0:00:00', '3/8/2020 0:00:00',\n",
       "       '30/8/2020 0:00:00', '11/12/2020 0:00:00', '25/8/2020 0:00:00',\n",
       "       '7/8/2020 0:00:00', '4/8/2020 0:00:00', '22/8/2020 0:00:00',\n",
       "       '5/8/2020 0:00:00', '10/11/2020 0:00:00', '12/11/2020 0:00:00',\n",
       "       '1/9/2020 0:00:00', '2/10/2020 0:00:00', '15/9/2020 0:00:00',\n",
       "       '16/8/2020 0:00:00', '13/9/2020 0:00:00', '28/8/2020 0:00:00',\n",
       "       '21/8/2020 0:00:00', '14/8/2020 0:00:00', '13/8/2020 0:00:00',\n",
       "       '9/11/2020 0:00:00', '18/8/2020 0:00:00', '24/8/2020 0:00:00',\n",
       "       '17/8/2020 0:00:00', '26/8/2020 0:00:00', '14/12/2020 0:00:00',\n",
       "       '26/9/2020 0:00:00', '15/12/2020 0:00:00', '1/10/2020 0:00:00',\n",
       "       '23/8/2020 0:00:00', '28/9/2020 0:00:00', '16/9/2020 0:00:00',\n",
       "       '27/9/2020 0:00:00', '4/12/2020 0:00:00', '14/11/2020 0:00:00',\n",
       "       '14/9/2020 0:00:00', '30/9/2020 0:00:00', '23/11/2020 0:00:00',\n",
       "       '29/9/2020 0:00:00', '22/9/2020 0:00:00', '7/11/2020 0:00:00',\n",
       "       '26/10/2020 0:00:00', '23/10/2020 0:00:00', '20/10/2020 0:00:00',\n",
       "       '12/9/2020 0:00:00', '11/11/2020 0:00:00', '17/9/2020 0:00:00',\n",
       "       '18/9/2020 0:00:00', '19/9/2020 0:00:00', '20/9/2020 0:00:00',\n",
       "       '21/9/2020 0:00:00', '23/9/2020 0:00:00', '24/9/2020 0:00:00',\n",
       "       '24/11/2020 0:00:00', '25/11/2020 0:00:00', '31/10/2020 0:00:00',\n",
       "       '29/10/2020 0:00:00', '15/11/2020 0:00:00', '20/11/2020 0:00:00',\n",
       "       '17/11/2020 0:00:00', '13/11/2020 0:00:00', '3/10/2020 0:00:00',\n",
       "       '4/10/2020 0:00:00', '18/10/2020 0:00:00', '22/10/2020 0:00:00',\n",
       "       '5/10/2020 0:00:00', '27/10/2020 0:00:00', '5/11/2020 0:00:00',\n",
       "       '8/10/2020 0:00:00', '6/10/2020 0:00:00', '7/10/2020 0:00:00',\n",
       "       '17/10/2020 0:00:00', '9/10/2020 0:00:00', '11/10/2020 0:00:00',\n",
       "       '14/10/2020 0:00:00', '12/10/2020 0:00:00', '13/10/2020 0:00:00',\n",
       "       '21/10/2020 0:00:00', '6/11/2020 0:00:00', '15/10/2020 0:00:00',\n",
       "       '16/10/2020 0:00:00', '25/10/2020 0:00:00', '19/10/2020 0:00:00',\n",
       "       '2/11/2020 0:00:00', '28/10/2020 0:00:00', '19/11/2020 0:00:00',\n",
       "       '1/11/2020 0:00:00', '30/10/2020 0:00:00', '3/11/2020 0:00:00',\n",
       "       '4/11/2020 0:00:00', '16/11/2020 0:00:00', '22/12/2020 0:00:00',\n",
       "       '18/11/2020 0:00:00', '22/11/2020 0:00:00', '8/11/2020 0:00:00',\n",
       "       '21/11/2020 0:00:00', '17/12/2020 0:00:00', '26/11/2020 0:00:00',\n",
       "       '27/11/2020 0:00:00', '28/11/2020 0:00:00', '29/11/2020 0:00:00',\n",
       "       '30/11/2020 0:00:00', '1/12/2020 0:00:00', '16/1/2021 0:00:00',\n",
       "       '2/12/2020 0:00:00', '3/12/2020 0:00:00', '5/12/2020 0:00:00',\n",
       "       '6/12/2020 0:00:00', '21/12/2020 0:00:00', '20/12/2020 0:00:00',\n",
       "       '18/12/2020 0:00:00', '19/12/2020 0:00:00', '16/12/2020 0:00:00',\n",
       "       '18/1/2021 0:00:00', '13/12/2020 0:00:00', '25/12/2020 0:00:00',\n",
       "       '23/12/2020 0:00:00', '24/12/2020 0:00:00', '26/12/2020 0:00:00',\n",
       "       '5/1/2021 0:00:00', '27/12/2020 0:00:00', '28/12/2020 0:00:00',\n",
       "       '29/12/2020 0:00:00', '30/12/2020 0:00:00', '31/12/2020 0:00:00',\n",
       "       '1/1/2021 0:00:00', '2/1/2021 0:00:00', '10/1/2021 0:00:00',\n",
       "       '3/1/2021 0:00:00', '4/1/2021 0:00:00', '7/1/2021 0:00:00',\n",
       "       '6/1/2021 0:00:00', '8/1/2021 0:00:00', '9/1/2021 0:00:00',\n",
       "       '11/1/2021 0:00:00', '12/1/2021 0:00:00', '13/1/2021 0:00:00',\n",
       "       '14/1/2021 0:00:00', '15/1/2021 0:00:00', '17/1/2021 0:00:00',\n",
       "       '19/1/2021 0:00:00', '20/1/2021 0:00:00', '21/1/2021 0:00:00',\n",
       "       '22/1/2021 0:00:00', '24/1/2021 0:00:00', '23/1/2021 0:00:00',\n",
       "       '27/1/2021 0:00:00', '25/1/2021 0:00:00', '26/1/2021 0:00:00',\n",
       "       '28/1/2021 0:00:00', '29/1/2021 0:00:00', '30/1/2021 0:00:00',\n",
       "       '31/1/2021 0:00:00', '1/2/2021 0:00:00', '2/2/2021 0:00:00',\n",
       "       '4/2/2021 0:00:00', '3/2/2021 0:00:00', '5/2/2021 0:00:00',\n",
       "       '6/2/2021 0:00:00', '7/2/2021 0:00:00', '8/2/2021 0:00:00',\n",
       "       '9/2/2021 0:00:00', '10/2/2021 0:00:00', '11/2/2021 0:00:00',\n",
       "       '12/2/2021 0:00:00', '13/2/2021 0:00:00', '14/2/2021 0:00:00',\n",
       "       '15/2/2021 0:00:00', '16/2/2021 0:00:00', '17/2/2021 0:00:00',\n",
       "       '18/2/2021 0:00:00', '19/2/2021 0:00:00', '20/2/2021 0:00:00',\n",
       "       '21/2/2021 0:00:00', '22/2/2021 0:00:00', '23/2/2021 0:00:00',\n",
       "       '24/2/2021 0:00:00', '25/2/2021 0:00:00', '26/2/2021 0:00:00',\n",
       "       '27/2/2021 0:00:00', '28/2/2021 0:00:00', '1/3/2021 0:00:00',\n",
       "       '2/3/2021 0:00:00', '3/3/2021 0:00:00', '4/3/2021 0:00:00',\n",
       "       '5/3/2021 0:00:00', '6/3/2021 0:00:00', '7/3/2021 0:00:00',\n",
       "       '8/3/2021 0:00:00', '9/3/2021 0:00:00', '10/3/2021 0:00:00',\n",
       "       '11/3/2021 0:00:00', '13/3/2021 0:00:00', '12/3/2021 0:00:00',\n",
       "       '14/3/2021 0:00:00', '15/3/2021 0:00:00', '16/3/2021 0:00:00',\n",
       "       '17/3/2021 0:00:00', '18/3/2021 0:00:00', '19/3/2021 0:00:00',\n",
       "       '20/3/2021 0:00:00', '21/3/2021 0:00:00', '22/3/2021 0:00:00',\n",
       "       '23/3/2021 0:00:00', '24/3/2021 0:00:00', '25/3/2021 0:00:00',\n",
       "       '26/3/2021 0:00:00', '27/3/2021 0:00:00', '28/3/2021 0:00:00',\n",
       "       '29/3/2021 0:00:00', '30/3/2021 0:00:00', '31/3/2021 0:00:00',\n",
       "       '1/4/2021 0:00:00', '2/4/2021 0:00:00', '3/4/2021 0:00:00',\n",
       "       '4/4/2021 0:00:00', '5/4/2021 0:00:00', '6/4/2021 0:00:00',\n",
       "       '7/4/2021 0:00:00', '8/4/2021 0:00:00', '9/4/2021 0:00:00',\n",
       "       '10/4/2021 0:00:00', '11/4/2021 0:00:00', '12/4/2021 0:00:00',\n",
       "       '13/4/2021 0:00:00', '14/4/2021 0:00:00', '15/4/2021 0:00:00',\n",
       "       '16/4/2021 0:00:00', '17/4/2021 0:00:00', '18/4/2021 0:00:00',\n",
       "       '19/4/2021 0:00:00', '20/4/2021 0:00:00', '21/4/2021 0:00:00',\n",
       "       '22/4/2021 0:00:00', '23/4/2021 0:00:00', '24/4/2021 0:00:00',\n",
       "       '25/4/2021 0:00:00', '26/4/2021 0:00:00', '27/4/2021 0:00:00'],\n",
       "      dtype=object)"
      ]
     },
     "execution_count": 23,
     "metadata": {},
     "output_type": "execute_result"
    }
   ],
   "source": [
    "data['Fecha de inicio de síntomas'].unique()"
   ]
  },
  {
   "cell_type": "code",
   "execution_count": 24,
   "metadata": {},
   "outputs": [
    {
     "data": {
      "text/plain": [
       "array(['27/2/2020 0:00:00', '4/3/2020 0:00:00', '29/2/2020 0:00:00',\n",
       "       '6/3/2020 0:00:00', '8/3/2020 0:00:00', '2/3/2020 0:00:00',\n",
       "       '7/3/2020 0:00:00', '9/3/2020 0:00:00', '28/2/2020 0:00:00',\n",
       "       '10/3/2020 0:00:00', '12/3/2020 0:00:00', '11/3/2020 0:00:00',\n",
       "       '13/3/2020 0:00:00', '14/3/2020 0:00:00', '5/3/2020 0:00:00',\n",
       "       '15/3/2020 0:00:00', '16/3/2020 0:00:00', '18/3/2020 0:00:00',\n",
       "       '17/3/2020 0:00:00', '19/3/2020 0:00:00', '20/3/2020 0:00:00',\n",
       "       '21/3/2020 0:00:00', '22/3/2020 0:00:00', '25/3/2020 0:00:00',\n",
       "       '24/3/2020 0:00:00', '23/3/2020 0:00:00', '27/3/2020 0:00:00',\n",
       "       '26/3/2020 0:00:00', '28/3/2020 0:00:00', '29/3/2020 0:00:00',\n",
       "       '1/3/2020 0:00:00', '30/3/2020 0:00:00', '31/3/2020 0:00:00',\n",
       "       '1/4/2020 0:00:00', '3/4/2020 0:00:00', '2/4/2020 0:00:00',\n",
       "       '4/4/2020 0:00:00', '1/5/2020 0:00:00', '1/7/2020 0:00:00',\n",
       "       '5/4/2020 0:00:00', '6/4/2020 0:00:00', '7/4/2020 0:00:00',\n",
       "       '17/6/2020 0:00:00', '9/4/2020 0:00:00', '8/4/2020 0:00:00',\n",
       "       '10/4/2020 0:00:00', '11/4/2020 0:00:00', '10/9/2020 0:00:00',\n",
       "       '12/4/2020 0:00:00', '13/4/2020 0:00:00', '23/4/2020 0:00:00',\n",
       "       '14/4/2020 0:00:00', '15/4/2020 0:00:00', '17/4/2020 0:00:00',\n",
       "       '16/4/2020 0:00:00', '18/4/2020 0:00:00', '19/4/2020 0:00:00',\n",
       "       '20/4/2020 0:00:00', '26/4/2020 0:00:00', '21/4/2020 0:00:00',\n",
       "       '29/4/2020 0:00:00', '22/4/2020 0:00:00', '25/4/2020 0:00:00',\n",
       "       '24/4/2020 0:00:00', '27/4/2020 0:00:00', '28/4/2020 0:00:00',\n",
       "       '8/12/2020 0:00:00', '30/4/2020 0:00:00', '2/5/2020 0:00:00',\n",
       "       '6/6/2020 0:00:00', '22/5/2020 0:00:00', '3/5/2020 0:00:00',\n",
       "       '6/5/2020 0:00:00', '5/5/2020 0:00:00', '4/5/2020 0:00:00',\n",
       "       '10/12/2020 0:00:00', '7/5/2020 0:00:00', '3/3/2020 0:00:00',\n",
       "       '9/5/2020 0:00:00', '8/5/2020 0:00:00', '25/6/2020 0:00:00',\n",
       "       '10/5/2020 0:00:00', '23/6/2020 0:00:00', '11/5/2020 0:00:00',\n",
       "       '21/6/2020 0:00:00', '12/5/2020 0:00:00', '13/5/2020 0:00:00',\n",
       "       '14/5/2020 0:00:00', '15/5/2020 0:00:00', '16/5/2020 0:00:00',\n",
       "       '17/5/2020 0:00:00', '23/5/2020 0:00:00', '18/5/2020 0:00:00',\n",
       "       '19/5/2020 0:00:00', '20/5/2020 0:00:00', '21/5/2020 0:00:00',\n",
       "       '24/5/2020 0:00:00', '25/5/2020 0:00:00', '29/5/2020 0:00:00',\n",
       "       '26/5/2020 0:00:00', '27/5/2020 0:00:00', '28/5/2020 0:00:00',\n",
       "       '3/6/2020 0:00:00', '30/5/2020 0:00:00', '31/5/2020 0:00:00',\n",
       "       '20/6/2020 0:00:00', '1/6/2020 0:00:00', '2/6/2020 0:00:00',\n",
       "       '5/9/2020 0:00:00', '7/6/2020 0:00:00', '4/6/2020 0:00:00',\n",
       "       '5/6/2020 0:00:00', '8/6/2020 0:00:00', '9/6/2020 0:00:00',\n",
       "       '30/6/2020 0:00:00', '15/6/2020 0:00:00', '27/6/2020 0:00:00',\n",
       "       '16/6/2020 0:00:00', '10/6/2020 0:00:00', '12/12/2020 0:00:00',\n",
       "       '24/6/2020 0:00:00', '3/7/2020 0:00:00', '11/6/2020 0:00:00',\n",
       "       '12/6/2020 0:00:00', '13/6/2020 0:00:00', '28/6/2020 0:00:00',\n",
       "       '14/6/2020 0:00:00', '26/6/2020 0:00:00', '27/8/2020 0:00:00',\n",
       "       '20/7/2020 0:00:00', '4/7/2020 0:00:00', '8/7/2020 0:00:00',\n",
       "       '18/6/2020 0:00:00', '19/6/2020 0:00:00', '7/9/2020 0:00:00',\n",
       "       '22/6/2020 0:00:00', '29/8/2020 0:00:00', '2/7/2020 0:00:00',\n",
       "       '10/7/2020 0:00:00', '6/7/2020 0:00:00', '29/6/2020 0:00:00',\n",
       "       '5/7/2020 0:00:00', '7/7/2020 0:00:00', '10/8/2020 0:00:00',\n",
       "       '8/8/2020 0:00:00', '9/7/2020 0:00:00', '15/7/2020 0:00:00',\n",
       "       '2/9/2020 0:00:00', '20/8/2020 0:00:00', '9/12/2020 0:00:00',\n",
       "       '28/7/2020 0:00:00', '26/7/2020 0:00:00', '24/7/2020 0:00:00',\n",
       "       '31/7/2020 0:00:00', '6/9/2020 0:00:00', '11/7/2020 0:00:00',\n",
       "       '13/7/2020 0:00:00', '23/7/2020 0:00:00', '12/7/2020 0:00:00',\n",
       "       '17/7/2020 0:00:00', '14/7/2020 0:00:00', '18/7/2020 0:00:00',\n",
       "       '16/7/2020 0:00:00', '10/10/2020 0:00:00', '25/9/2020 0:00:00',\n",
       "       '27/7/2020 0:00:00', '19/7/2020 0:00:00', '29/7/2020 0:00:00',\n",
       "       '12/8/2020 0:00:00', '21/7/2020 0:00:00', '22/7/2020 0:00:00',\n",
       "       '7/12/2020 0:00:00', '30/7/2020 0:00:00', '8/9/2020 0:00:00',\n",
       "       '25/7/2020 0:00:00', '1/8/2020 0:00:00', '24/10/2020 0:00:00',\n",
       "       '4/9/2020 0:00:00', '9/8/2020 0:00:00', '31/8/2020 0:00:00',\n",
       "       '11/8/2020 0:00:00', '9/9/2020 0:00:00', '6/8/2020 0:00:00',\n",
       "       '19/8/2020 0:00:00', '11/9/2020 0:00:00', '3/9/2020 0:00:00',\n",
       "       '15/8/2020 0:00:00', '2/8/2020 0:00:00', '3/8/2020 0:00:00',\n",
       "       '30/8/2020 0:00:00', '11/12/2020 0:00:00', '25/8/2020 0:00:00',\n",
       "       '7/8/2020 0:00:00', '4/8/2020 0:00:00', '22/8/2020 0:00:00',\n",
       "       '5/8/2020 0:00:00', '10/11/2020 0:00:00', '12/11/2020 0:00:00',\n",
       "       '1/9/2020 0:00:00', '2/10/2020 0:00:00', '15/9/2020 0:00:00',\n",
       "       '16/8/2020 0:00:00', '13/9/2020 0:00:00', '28/8/2020 0:00:00',\n",
       "       '21/8/2020 0:00:00', '14/8/2020 0:00:00', '13/8/2020 0:00:00',\n",
       "       '9/11/2020 0:00:00', '18/8/2020 0:00:00', '24/8/2020 0:00:00',\n",
       "       '17/8/2020 0:00:00', '26/8/2020 0:00:00', '14/12/2020 0:00:00',\n",
       "       '26/9/2020 0:00:00', '15/12/2020 0:00:00', '1/10/2020 0:00:00',\n",
       "       '23/8/2020 0:00:00', '28/9/2020 0:00:00', '16/9/2020 0:00:00',\n",
       "       '27/9/2020 0:00:00', '4/12/2020 0:00:00', '14/11/2020 0:00:00',\n",
       "       '14/9/2020 0:00:00', '30/9/2020 0:00:00', '23/11/2020 0:00:00',\n",
       "       '29/9/2020 0:00:00', '22/9/2020 0:00:00', '7/11/2020 0:00:00',\n",
       "       '26/10/2020 0:00:00', '23/10/2020 0:00:00', '20/10/2020 0:00:00',\n",
       "       '12/9/2020 0:00:00', '11/11/2020 0:00:00', '17/9/2020 0:00:00',\n",
       "       '18/9/2020 0:00:00', '19/9/2020 0:00:00', '20/9/2020 0:00:00',\n",
       "       '21/9/2020 0:00:00', '23/9/2020 0:00:00', '24/9/2020 0:00:00',\n",
       "       '24/11/2020 0:00:00', '25/11/2020 0:00:00', '31/10/2020 0:00:00',\n",
       "       '29/10/2020 0:00:00', '15/11/2020 0:00:00', '20/11/2020 0:00:00',\n",
       "       '17/11/2020 0:00:00', '13/11/2020 0:00:00', '3/10/2020 0:00:00',\n",
       "       '4/10/2020 0:00:00', '18/10/2020 0:00:00', '22/10/2020 0:00:00',\n",
       "       '5/10/2020 0:00:00', '27/10/2020 0:00:00', '5/11/2020 0:00:00',\n",
       "       '8/10/2020 0:00:00', '6/10/2020 0:00:00', '7/10/2020 0:00:00',\n",
       "       '17/10/2020 0:00:00', '9/10/2020 0:00:00', '11/10/2020 0:00:00',\n",
       "       '14/10/2020 0:00:00', '12/10/2020 0:00:00', '13/10/2020 0:00:00',\n",
       "       '21/10/2020 0:00:00', '6/11/2020 0:00:00', '15/10/2020 0:00:00',\n",
       "       '16/10/2020 0:00:00', '25/10/2020 0:00:00', '19/10/2020 0:00:00',\n",
       "       '2/11/2020 0:00:00', '28/10/2020 0:00:00', '19/11/2020 0:00:00',\n",
       "       '1/11/2020 0:00:00', '30/10/2020 0:00:00', '3/11/2020 0:00:00',\n",
       "       '4/11/2020 0:00:00', '16/11/2020 0:00:00', '22/12/2020 0:00:00',\n",
       "       '18/11/2020 0:00:00', '22/11/2020 0:00:00', '8/11/2020 0:00:00',\n",
       "       '21/11/2020 0:00:00', '17/12/2020 0:00:00', '26/11/2020 0:00:00',\n",
       "       '27/11/2020 0:00:00', '28/11/2020 0:00:00', '29/11/2020 0:00:00',\n",
       "       '30/11/2020 0:00:00', '1/12/2020 0:00:00', '16/1/2021 0:00:00',\n",
       "       '2/12/2020 0:00:00', '3/12/2020 0:00:00', '5/12/2020 0:00:00',\n",
       "       '6/12/2020 0:00:00', '21/12/2020 0:00:00', '20/12/2020 0:00:00',\n",
       "       '18/12/2020 0:00:00', '19/12/2020 0:00:00', '16/12/2020 0:00:00',\n",
       "       '18/1/2021 0:00:00', '13/12/2020 0:00:00', '25/12/2020 0:00:00',\n",
       "       '23/12/2020 0:00:00', '24/12/2020 0:00:00', '26/12/2020 0:00:00',\n",
       "       '5/1/2021 0:00:00', '27/12/2020 0:00:00', '28/12/2020 0:00:00',\n",
       "       '29/12/2020 0:00:00', '30/12/2020 0:00:00', '31/12/2020 0:00:00',\n",
       "       '1/1/2021 0:00:00', '2/1/2021 0:00:00', '10/1/2021 0:00:00',\n",
       "       '3/1/2021 0:00:00', '4/1/2021 0:00:00', '7/1/2021 0:00:00',\n",
       "       '6/1/2021 0:00:00', '8/1/2021 0:00:00', '9/1/2021 0:00:00',\n",
       "       '11/1/2021 0:00:00', '12/1/2021 0:00:00', '13/1/2021 0:00:00',\n",
       "       '14/1/2021 0:00:00', '15/1/2021 0:00:00', '17/1/2021 0:00:00',\n",
       "       '19/1/2021 0:00:00', '20/1/2021 0:00:00', '21/1/2021 0:00:00',\n",
       "       '22/1/2021 0:00:00', '24/1/2021 0:00:00', '23/1/2021 0:00:00',\n",
       "       '27/1/2021 0:00:00', '25/1/2021 0:00:00', '26/1/2021 0:00:00',\n",
       "       '28/1/2021 0:00:00', '29/1/2021 0:00:00', '30/1/2021 0:00:00',\n",
       "       '31/1/2021 0:00:00', '1/2/2021 0:00:00', '2/2/2021 0:00:00',\n",
       "       '4/2/2021 0:00:00', '3/2/2021 0:00:00', '5/2/2021 0:00:00',\n",
       "       '6/2/2021 0:00:00', '7/2/2021 0:00:00', '8/2/2021 0:00:00',\n",
       "       '9/2/2021 0:00:00', '10/2/2021 0:00:00', '11/2/2021 0:00:00',\n",
       "       '12/2/2021 0:00:00', '13/2/2021 0:00:00', '14/2/2021 0:00:00',\n",
       "       '15/2/2021 0:00:00', '16/2/2021 0:00:00', '17/2/2021 0:00:00',\n",
       "       '18/2/2021 0:00:00', '19/2/2021 0:00:00', '20/2/2021 0:00:00',\n",
       "       '21/2/2021 0:00:00', '22/2/2021 0:00:00', '23/2/2021 0:00:00',\n",
       "       '24/2/2021 0:00:00', '25/2/2021 0:00:00', '26/2/2021 0:00:00',\n",
       "       '27/2/2021 0:00:00', '28/2/2021 0:00:00', '1/3/2021 0:00:00',\n",
       "       '2/3/2021 0:00:00', '3/3/2021 0:00:00', '4/3/2021 0:00:00',\n",
       "       '5/3/2021 0:00:00', '6/3/2021 0:00:00', '7/3/2021 0:00:00',\n",
       "       '8/3/2021 0:00:00', '9/3/2021 0:00:00', '10/3/2021 0:00:00',\n",
       "       '11/3/2021 0:00:00', '13/3/2021 0:00:00', '12/3/2021 0:00:00',\n",
       "       '14/3/2021 0:00:00', '15/3/2021 0:00:00', '16/3/2021 0:00:00',\n",
       "       '17/3/2021 0:00:00', '18/3/2021 0:00:00', '19/3/2021 0:00:00',\n",
       "       '20/3/2021 0:00:00', '21/3/2021 0:00:00', '22/3/2021 0:00:00',\n",
       "       '23/3/2021 0:00:00', '24/3/2021 0:00:00', '25/3/2021 0:00:00',\n",
       "       '26/3/2021 0:00:00', '27/3/2021 0:00:00', '28/3/2021 0:00:00',\n",
       "       '29/3/2021 0:00:00', '30/3/2021 0:00:00', '31/3/2021 0:00:00',\n",
       "       '1/4/2021 0:00:00', '2/4/2021 0:00:00', '3/4/2021 0:00:00',\n",
       "       '4/4/2021 0:00:00', '5/4/2021 0:00:00', '6/4/2021 0:00:00',\n",
       "       '7/4/2021 0:00:00', '8/4/2021 0:00:00', '9/4/2021 0:00:00',\n",
       "       '10/4/2021 0:00:00', '11/4/2021 0:00:00', '12/4/2021 0:00:00',\n",
       "       '13/4/2021 0:00:00', '14/4/2021 0:00:00', '15/4/2021 0:00:00',\n",
       "       '16/4/2021 0:00:00', '17/4/2021 0:00:00', '18/4/2021 0:00:00',\n",
       "       '19/4/2021 0:00:00', '20/4/2021 0:00:00', '21/4/2021 0:00:00',\n",
       "       '22/4/2021 0:00:00', '23/4/2021 0:00:00', '24/4/2021 0:00:00',\n",
       "       '25/4/2021 0:00:00', '26/4/2021 0:00:00', '27/4/2021 0:00:00'],\n",
       "      dtype=object)"
      ]
     },
     "execution_count": 24,
     "metadata": {},
     "output_type": "execute_result"
    }
   ],
   "source": [
    "data = data.dropna(axis=0, subset=['Fecha de inicio de síntomas'])\n",
    "data[\"Fecha de inicio de síntomas\"].unique()"
   ]
  },
  {
   "cell_type": "code",
   "execution_count": 25,
   "metadata": {},
   "outputs": [
    {
     "data": {
      "text/plain": [
       "array(['6/3/2020 0:00:00', '9/3/2020 0:00:00', '11/3/2020 0:00:00',\n",
       "       '12/3/2020 0:00:00', '13/3/2020 0:00:00', '14/3/2020 0:00:00',\n",
       "       '15/3/2020 0:00:00', '16/3/2020 0:00:00', '17/3/2020 0:00:00',\n",
       "       '18/3/2020 0:00:00', '19/3/2020 0:00:00', '20/3/2020 0:00:00',\n",
       "       '21/3/2020 0:00:00', '22/3/2020 0:00:00', '23/3/2020 0:00:00',\n",
       "       '24/3/2020 0:00:00', '27/3/2020 0:00:00', '25/3/2020 0:00:00',\n",
       "       '26/3/2020 0:00:00', '28/3/2020 0:00:00', '29/3/2020 0:00:00',\n",
       "       '30/3/2020 0:00:00', '31/3/2020 0:00:00', '1/4/2020 0:00:00',\n",
       "       '2/4/2020 0:00:00', '3/4/2020 0:00:00', '4/4/2020 0:00:00',\n",
       "       '5/4/2020 0:00:00', '6/4/2020 0:00:00', '7/4/2020 0:00:00',\n",
       "       '8/4/2020 0:00:00', '9/4/2020 0:00:00', '10/4/2020 0:00:00',\n",
       "       '1/7/2020 0:00:00', '11/4/2020 0:00:00', '12/4/2020 0:00:00',\n",
       "       '13/4/2020 0:00:00', '18/4/2020 0:00:00', '10/9/2020 0:00:00',\n",
       "       '14/4/2020 0:00:00', '19/4/2020 0:00:00', '15/4/2020 0:00:00',\n",
       "       '28/4/2020 0:00:00', '16/4/2020 0:00:00', '17/4/2020 0:00:00',\n",
       "       '20/4/2020 0:00:00', '22/4/2020 0:00:00', '21/4/2020 0:00:00',\n",
       "       '23/4/2020 0:00:00', '1/5/2020 0:00:00', '24/4/2020 0:00:00',\n",
       "       '5/5/2020 0:00:00', '25/4/2020 0:00:00', '26/4/2020 0:00:00',\n",
       "       '9/5/2020 0:00:00', '27/4/2020 0:00:00', '29/4/2020 0:00:00',\n",
       "       '30/4/2020 0:00:00', '9/12/2020 0:00:00', '2/5/2020 0:00:00',\n",
       "       '4/5/2020 0:00:00', '3/5/2020 0:00:00', '15/6/2020 0:00:00',\n",
       "       '6/5/2020 0:00:00', '7/5/2020 0:00:00', '25/5/2020 0:00:00',\n",
       "       '12/12/2020 0:00:00', '8/5/2020 0:00:00', '10/5/2020 0:00:00',\n",
       "       '11/5/2020 0:00:00', '16/7/2020 0:00:00', '30/6/2020 0:00:00',\n",
       "       '12/5/2020 0:00:00', '13/5/2020 0:00:00', '5/7/2020 0:00:00',\n",
       "       '14/5/2020 0:00:00', '14/9/2020 0:00:00', '15/5/2020 0:00:00',\n",
       "       '16/5/2020 0:00:00', '17/5/2020 0:00:00', '18/5/2020 0:00:00',\n",
       "       '19/5/2020 0:00:00', '20/5/2020 0:00:00', '29/5/2020 0:00:00',\n",
       "       '21/5/2020 0:00:00', '6/6/2020 0:00:00', '22/5/2020 0:00:00',\n",
       "       '7/7/2020 0:00:00', '24/5/2020 0:00:00', '23/5/2020 0:00:00',\n",
       "       '26/5/2020 0:00:00', '27/5/2020 0:00:00', '28/5/2020 0:00:00',\n",
       "       '21/6/2020 0:00:00', '1/6/2020 0:00:00', '30/5/2020 0:00:00',\n",
       "       '31/5/2020 0:00:00', '3/6/2020 0:00:00', '2/6/2020 0:00:00',\n",
       "       '5/6/2020 0:00:00', '22/6/2020 0:00:00', '4/6/2020 0:00:00',\n",
       "       '28/6/2020 0:00:00', '26/6/2020 0:00:00', '12/6/2020 0:00:00',\n",
       "       '7/6/2020 0:00:00', '13/6/2020 0:00:00', '8/6/2020 0:00:00',\n",
       "       '4/7/2020 0:00:00', '9/6/2020 0:00:00', '10/6/2020 0:00:00',\n",
       "       '11/6/2020 0:00:00', '27/6/2020 0:00:00', '19/6/2020 0:00:00',\n",
       "       '20/6/2020 0:00:00', '13/7/2020 0:00:00', '12/7/2020 0:00:00',\n",
       "       '14/6/2020 0:00:00', '19/7/2020 0:00:00', '17/6/2020 0:00:00',\n",
       "       '16/6/2020 0:00:00', '17/7/2020 0:00:00', '25/6/2020 0:00:00',\n",
       "       '18/6/2020 0:00:00', '9/9/2020 0:00:00', '2/7/2020 0:00:00',\n",
       "       '14/7/2020 0:00:00', '29/6/2020 0:00:00', '3/7/2020 0:00:00',\n",
       "       '24/6/2020 0:00:00', '11/7/2020 0:00:00', '23/6/2020 0:00:00',\n",
       "       '23/8/2020 0:00:00', '9/7/2020 0:00:00', '6/7/2020 0:00:00',\n",
       "       '8/7/2020 0:00:00', '18/7/2020 0:00:00', '10/7/2020 0:00:00',\n",
       "       '4/9/2020 0:00:00', '31/7/2020 0:00:00', '22/7/2020 0:00:00',\n",
       "       '26/7/2020 0:00:00', '2/8/2020 0:00:00', '10/8/2020 0:00:00',\n",
       "       '7/8/2020 0:00:00', '25/7/2020 0:00:00', '11/12/2020 0:00:00',\n",
       "       '15/7/2020 0:00:00', '6/8/2020 0:00:00', '4/8/2020 0:00:00',\n",
       "       '28/7/2020 0:00:00', '8/8/2020 0:00:00', '30/7/2020 0:00:00',\n",
       "       '13/10/2020 0:00:00', '21/7/2020 0:00:00', '26/8/2020 0:00:00',\n",
       "       '29/9/2020 0:00:00', '24/7/2020 0:00:00', '11/8/2020 0:00:00',\n",
       "       '23/7/2020 0:00:00', '20/7/2020 0:00:00', '20/8/2020 0:00:00',\n",
       "       '3/8/2020 0:00:00', '10/12/2020 0:00:00', '27/8/2020 0:00:00',\n",
       "       '29/7/2020 0:00:00', '8/11/2020 0:00:00', '27/7/2020 0:00:00',\n",
       "       '15/8/2020 0:00:00', '12/8/2020 0:00:00', '13/8/2020 0:00:00',\n",
       "       '22/8/2020 0:00:00', '21/8/2020 0:00:00', '1/8/2020 0:00:00',\n",
       "       '5/8/2020 0:00:00', '21/9/2020 0:00:00', '28/9/2020 0:00:00',\n",
       "       '3/9/2020 0:00:00', '25/8/2020 0:00:00', '21/11/2020 0:00:00',\n",
       "       '16/8/2020 0:00:00', '14/8/2020 0:00:00', '9/8/2020 0:00:00',\n",
       "       '17/10/2020 0:00:00', '18/8/2020 0:00:00', '31/8/2020 0:00:00',\n",
       "       '7/9/2020 0:00:00', '2/9/2020 0:00:00', '1/9/2020 0:00:00',\n",
       "       '30/8/2020 0:00:00', '27/9/2020 0:00:00', '20/11/2020 0:00:00',\n",
       "       '28/8/2020 0:00:00', '14/12/2020 0:00:00', '12/9/2020 0:00:00',\n",
       "       '19/8/2020 0:00:00', '24/8/2020 0:00:00', '17/8/2020 0:00:00',\n",
       "       '15/12/2020 0:00:00', '4/10/2020 0:00:00', '25/9/2020 0:00:00',\n",
       "       '30/9/2020 0:00:00', '11/9/2020 0:00:00', '8/10/2020 0:00:00',\n",
       "       '29/8/2020 0:00:00', '4/12/2020 0:00:00', '5/9/2020 0:00:00',\n",
       "       '25/11/2020 0:00:00', '18/9/2020 0:00:00', '15/9/2020 0:00:00',\n",
       "       '16/9/2020 0:00:00', '17/9/2020 0:00:00', '13/9/2020 0:00:00',\n",
       "       '6/9/2020 0:00:00', '22/9/2020 0:00:00', '22/10/2020 0:00:00',\n",
       "       '29/10/2020 0:00:00', '23/9/2020 0:00:00', '1/10/2020 0:00:00',\n",
       "       '8/9/2020 0:00:00', '11/10/2020 0:00:00', '26/9/2020 0:00:00',\n",
       "       '19/9/2020 0:00:00', '24/9/2020 0:00:00', '7/10/2020 0:00:00',\n",
       "       '20/9/2020 0:00:00', '4/2/2021 0:00:00', '5/10/2020 0:00:00',\n",
       "       '30/10/2020 0:00:00', '23/11/2020 0:00:00', '24/11/2020 0:00:00',\n",
       "       '19/10/2020 0:00:00', '12/10/2020 0:00:00', '18/11/2020 0:00:00',\n",
       "       '9/11/2020 0:00:00', '7/11/2020 0:00:00', '4/11/2020 0:00:00',\n",
       "       '2/10/2020 0:00:00', '3/11/2020 0:00:00', '6/10/2020 0:00:00',\n",
       "       '21/10/2020 0:00:00', '3/10/2020 0:00:00', '22/11/2020 0:00:00',\n",
       "       '16/10/2020 0:00:00', '24/10/2020 0:00:00', '27/10/2020 0:00:00',\n",
       "       '19/11/2020 0:00:00', '28/10/2020 0:00:00', '9/10/2020 0:00:00',\n",
       "       '6/11/2020 0:00:00', '26/10/2020 0:00:00', '5/11/2020 0:00:00',\n",
       "       '20/10/2020 0:00:00', '14/11/2020 0:00:00', '17/11/2020 0:00:00',\n",
       "       '26/11/2020 0:00:00', '11/11/2020 0:00:00', '10/10/2020 0:00:00',\n",
       "       '14/10/2020 0:00:00', '15/10/2020 0:00:00', '29/11/2020 0:00:00',\n",
       "       '23/10/2020 0:00:00', '1/11/2020 0:00:00', '7/10/2020 0:00:01',\n",
       "       '31/10/2020 0:00:00', '21/12/2020 0:00:00', '25/10/2020 0:00:00',\n",
       "       '18/10/2020 0:00:00', '13/11/2020 0:00:00', '16/11/2020 0:00:00',\n",
       "       '2/11/2020 0:00:00', '12/11/2020 0:00:00', '15/11/2020 0:00:00',\n",
       "       '10/11/2020 0:00:00', '4/1/2021 0:00:00', '27/11/2020 0:00:00',\n",
       "       '28/11/2020 0:00:00', '6/12/2020 0:00:00', '30/11/2020 0:00:00',\n",
       "       '28/12/2020 0:00:00', '13/12/2020 0:00:00', '1/12/2020 0:00:00',\n",
       "       '27/1/2021 0:00:00', '2/12/2020 0:00:00', '3/12/2020 0:00:00',\n",
       "       '5/12/2020 0:00:00', '25/12/2020 0:00:00', '7/12/2020 0:00:00',\n",
       "       '8/12/2020 0:00:00', '19/12/2020 0:00:00', '20/12/2020 0:00:00',\n",
       "       '17/12/2020 0:00:00', '18/12/2020 0:00:00', '29/1/2021 0:00:00',\n",
       "       '22/12/2020 0:00:00', '16/12/2020 0:00:00', '27/12/2020 0:00:00',\n",
       "       '23/12/2020 0:00:00', '24/12/2020 0:00:00', '26/12/2020 0:00:00',\n",
       "       '6/1/2021 0:00:00', '29/12/2020 0:00:00', '30/12/2020 0:00:00',\n",
       "       '31/12/2020 0:00:00', '1/1/2021 0:00:00', '5/1/2021 0:00:00',\n",
       "       '8/1/2021 0:00:00', '2/1/2021 0:00:00', '21/1/2021 0:00:00',\n",
       "       '3/1/2021 0:00:00', '10/1/2021 0:00:00', '9/1/2021 0:00:00',\n",
       "       '14/1/2021 0:00:00', '16/1/2021 0:00:00', '12/1/2021 0:00:00',\n",
       "       '7/1/2021 0:00:00', '15/1/2021 0:00:00', '13/1/2021 0:00:00',\n",
       "       '18/1/2021 0:00:00', '11/1/2021 0:00:00', '22/1/2021 0:00:00',\n",
       "       '17/1/2021 0:00:00', '19/1/2021 0:00:00', '20/1/2021 0:00:00',\n",
       "       '25/1/2021 0:00:00', '26/1/2021 0:00:00', '1/2/2021 0:00:00',\n",
       "       '24/1/2021 0:00:00', '23/1/2021 0:00:00', '31/1/2021 0:00:00',\n",
       "       '30/1/2021 0:00:00', '24/2/2021 0:00:00', '28/1/2021 0:00:00',\n",
       "       '3/2/2021 0:00:00', '26/2/2021 0:00:00', '25/2/2021 0:00:00',\n",
       "       '2/2/2021 0:00:00', '8/2/2021 0:00:00', '11/2/2021 0:00:00',\n",
       "       '9/2/2021 0:00:00', '13/2/2021 0:00:00', '19/2/2021 0:00:00',\n",
       "       '10/2/2021 0:00:00', '5/2/2021 0:00:00', '16/2/2021 0:00:00',\n",
       "       '6/2/2021 0:00:00', '17/2/2021 0:00:00', '14/2/2021 0:00:00',\n",
       "       '18/2/2021 0:00:00', '7/2/2021 0:00:00', '15/2/2021 0:00:00',\n",
       "       '22/2/2021 0:00:00', '12/2/2021 0:00:00', '23/2/2021 0:00:00',\n",
       "       '21/2/2021 0:00:00', '20/2/2021 0:00:00', '27/2/2021 0:00:00',\n",
       "       '28/2/2021 0:00:00', '1/3/2021 0:00:00', '2/3/2021 0:00:00',\n",
       "       '3/3/2021 0:00:00', '4/3/2021 0:00:00', '5/3/2021 0:00:00',\n",
       "       '6/3/2021 0:00:00', '7/3/2021 0:00:00', '8/3/2021 0:00:00',\n",
       "       '9/3/2021 0:00:00', '10/3/2021 0:00:00', '11/3/2021 0:00:00',\n",
       "       '12/3/2021 0:00:00', '13/3/2021 0:00:00', '14/3/2021 0:00:00',\n",
       "       '15/3/2021 0:00:00', '16/3/2021 0:00:00', '17/3/2021 0:00:00',\n",
       "       '18/3/2021 0:00:00', '19/3/2021 0:00:00', '20/3/2021 0:00:00',\n",
       "       '21/3/2021 0:00:00', '22/3/2021 0:00:00', '23/3/2021 0:00:00',\n",
       "       '24/3/2021 0:00:00', '25/3/2021 0:00:00', '26/3/2021 0:00:00',\n",
       "       '27/3/2021 0:00:00', '28/3/2021 0:00:00', '29/3/2021 0:00:00',\n",
       "       '30/3/2021 0:00:00', '31/3/2021 0:00:00', '1/4/2021 0:00:00',\n",
       "       '2/4/2021 0:00:00', '3/4/2021 0:00:00', '4/4/2021 0:00:00',\n",
       "       '5/4/2021 0:00:00', '6/4/2021 0:00:00', '7/4/2021 0:00:00',\n",
       "       '8/4/2021 0:00:00', '9/4/2021 0:00:00', '10/4/2021 0:00:00',\n",
       "       '11/4/2021 0:00:00', '12/4/2021 0:00:00', '13/4/2021 0:00:00',\n",
       "       '14/4/2021 0:00:00', '15/4/2021 0:00:00', '16/4/2021 0:00:00',\n",
       "       '17/4/2021 0:00:00', '18/4/2021 0:00:00', '19/4/2021 0:00:00',\n",
       "       '21/4/2021 0:00:00', '20/4/2021 0:00:00', '22/4/2021 0:00:00',\n",
       "       '23/4/2021 0:00:00', '24/4/2021 0:00:00', '25/4/2021 0:00:00',\n",
       "       '26/4/2021 0:00:00', '27/4/2021 0:00:00', '28/4/2021 0:00:00'],\n",
       "      dtype=object)"
      ]
     },
     "execution_count": 25,
     "metadata": {},
     "output_type": "execute_result"
    }
   ],
   "source": [
    "data = data.dropna(axis=0, subset=['Fecha de diagnóstico'])\n",
    "data['Fecha de diagnóstico'].unique()"
   ]
  },
  {
   "cell_type": "code",
   "execution_count": 30,
   "metadata": {},
   "outputs": [
    {
     "name": "stdout",
     "output_type": "stream",
     "text": [
      "0           [27/2/2020, 0:00:00]\n",
      "1            [4/3/2020, 0:00:00]\n",
      "2           [29/2/2020, 0:00:00]\n",
      "3            [6/3/2020, 0:00:00]\n",
      "4            [8/3/2020, 0:00:00]\n",
      "                   ...          \n",
      "2824621      [4/1/2021, 0:00:00]\n",
      "2824622      [4/1/2021, 0:00:00]\n",
      "2824623      [4/1/2021, 0:00:00]\n",
      "2824624    [31/12/2020, 0:00:00]\n",
      "2824625    [31/12/2020, 0:00:00]\n",
      "Name: Fecha de inicio de síntomas, Length: 2559191, dtype: object\n",
      "len 2559191\n",
      "f 27/2/2020\n",
      "f 0:00:00\n"
     ]
    },
    {
     "ename": "ValueError",
     "evalue": "time data '0:00:00' does not match format '%d/%m/%Y' (match)",
     "output_type": "error",
     "traceback": [
      "\u001b[1;31m---------------------------------------------------------------------------\u001b[0m",
      "\u001b[1;31mTypeError\u001b[0m                                 Traceback (most recent call last)",
      "\u001b[1;32mD:\\Anaconda\\envs\\ml_py38\\lib\\site-packages\\pandas\\core\\tools\\datetimes.py\u001b[0m in \u001b[0;36m_convert_listlike_datetimes\u001b[1;34m(arg, format, name, tz, unit, errors, infer_datetime_format, dayfirst, yearfirst, exact)\u001b[0m\n\u001b[0;32m    455\u001b[0m             \u001b[1;32mtry\u001b[0m\u001b[1;33m:\u001b[0m\u001b[1;33m\u001b[0m\u001b[1;33m\u001b[0m\u001b[0m\n\u001b[1;32m--> 456\u001b[1;33m                 \u001b[0mvalues\u001b[0m\u001b[1;33m,\u001b[0m \u001b[0mtz\u001b[0m \u001b[1;33m=\u001b[0m \u001b[0mconversion\u001b[0m\u001b[1;33m.\u001b[0m\u001b[0mdatetime_to_datetime64\u001b[0m\u001b[1;33m(\u001b[0m\u001b[0marg\u001b[0m\u001b[1;33m)\u001b[0m\u001b[1;33m\u001b[0m\u001b[1;33m\u001b[0m\u001b[0m\n\u001b[0m\u001b[0;32m    457\u001b[0m                 \u001b[0mdta\u001b[0m \u001b[1;33m=\u001b[0m \u001b[0mDatetimeArray\u001b[0m\u001b[1;33m(\u001b[0m\u001b[0mvalues\u001b[0m\u001b[1;33m,\u001b[0m \u001b[0mdtype\u001b[0m\u001b[1;33m=\u001b[0m\u001b[0mtz_to_dtype\u001b[0m\u001b[1;33m(\u001b[0m\u001b[0mtz\u001b[0m\u001b[1;33m)\u001b[0m\u001b[1;33m)\u001b[0m\u001b[1;33m\u001b[0m\u001b[1;33m\u001b[0m\u001b[0m\n",
      "\u001b[1;32mpandas\\_libs\\tslibs\\conversion.pyx\u001b[0m in \u001b[0;36mpandas._libs.tslibs.conversion.datetime_to_datetime64\u001b[1;34m()\u001b[0m\n",
      "\u001b[1;31mTypeError\u001b[0m: Unrecognized value type: <class 'str'>",
      "\nDuring handling of the above exception, another exception occurred:\n",
      "\u001b[1;31mValueError\u001b[0m                                Traceback (most recent call last)",
      "\u001b[1;32m<ipython-input-30-f3c47755cfde>\u001b[0m in \u001b[0;36m<module>\u001b[1;34m\u001b[0m\n\u001b[0;32m      6\u001b[0m \u001b[1;32mfor\u001b[0m \u001b[0mi\u001b[0m \u001b[1;32min\u001b[0m \u001b[0mlista\u001b[0m\u001b[1;33m[\u001b[0m\u001b[1;36m0\u001b[0m\u001b[1;33m]\u001b[0m\u001b[1;33m:\u001b[0m\u001b[1;33m\u001b[0m\u001b[1;33m\u001b[0m\u001b[0m\n\u001b[0;32m      7\u001b[0m     \u001b[0mprint\u001b[0m\u001b[1;33m(\u001b[0m\u001b[1;34m'f'\u001b[0m\u001b[1;33m,\u001b[0m \u001b[0mi\u001b[0m\u001b[1;33m)\u001b[0m\u001b[1;33m\u001b[0m\u001b[1;33m\u001b[0m\u001b[0m\n\u001b[1;32m----> 8\u001b[1;33m \u001b[0mdata\u001b[0m\u001b[1;33m[\u001b[0m\u001b[1;34m'Fecha de inicio de síntomas'\u001b[0m\u001b[1;33m]\u001b[0m \u001b[1;33m=\u001b[0m  \u001b[0mpd\u001b[0m\u001b[1;33m.\u001b[0m\u001b[0mto_datetime\u001b[0m\u001b[1;33m(\u001b[0m\u001b[0mlista\u001b[0m\u001b[1;33m[\u001b[0m\u001b[1;36m0\u001b[0m\u001b[1;33m]\u001b[0m\u001b[1;33m,\u001b[0m \u001b[0mformat\u001b[0m\u001b[1;33m=\u001b[0m\u001b[1;34m'%d/%m/%Y'\u001b[0m\u001b[1;33m)\u001b[0m\u001b[1;33m\u001b[0m\u001b[1;33m\u001b[0m\u001b[0m\n\u001b[0m\u001b[0;32m      9\u001b[0m \u001b[0mdata\u001b[0m\u001b[1;33m[\u001b[0m\u001b[1;34m'Fecha de diagnóstico'\u001b[0m\u001b[1;33m]\u001b[0m \u001b[1;33m=\u001b[0m  \u001b[0mpd\u001b[0m\u001b[1;33m.\u001b[0m\u001b[0mto_datetime\u001b[0m\u001b[1;33m(\u001b[0m\u001b[0mlista\u001b[0m\u001b[1;33m[\u001b[0m\u001b[1;36m0\u001b[0m\u001b[1;33m]\u001b[0m\u001b[1;33m,\u001b[0m \u001b[0mformat\u001b[0m\u001b[1;33m=\u001b[0m\u001b[1;34m'%d/%m/%Y'\u001b[0m\u001b[1;33m)\u001b[0m\u001b[1;33m\u001b[0m\u001b[1;33m\u001b[0m\u001b[0m\n\u001b[0;32m     10\u001b[0m \u001b[0mprint\u001b[0m\u001b[1;33m(\u001b[0m\u001b[0mdata\u001b[0m\u001b[1;33m[\u001b[0m\u001b[1;34m'Fecha de diagnóstico'\u001b[0m\u001b[1;33m]\u001b[0m\u001b[1;33m)\u001b[0m\u001b[1;33m\u001b[0m\u001b[1;33m\u001b[0m\u001b[0m\n",
      "\u001b[1;32mD:\\Anaconda\\envs\\ml_py38\\lib\\site-packages\\pandas\\core\\tools\\datetimes.py\u001b[0m in \u001b[0;36mto_datetime\u001b[1;34m(arg, errors, dayfirst, yearfirst, utc, format, exact, unit, infer_datetime_format, origin, cache)\u001b[0m\n\u001b[0;32m    828\u001b[0m             \u001b[0mresult\u001b[0m \u001b[1;33m=\u001b[0m \u001b[0m_convert_and_box_cache\u001b[0m\u001b[1;33m(\u001b[0m\u001b[0marg\u001b[0m\u001b[1;33m,\u001b[0m \u001b[0mcache_array\u001b[0m\u001b[1;33m)\u001b[0m\u001b[1;33m\u001b[0m\u001b[1;33m\u001b[0m\u001b[0m\n\u001b[0;32m    829\u001b[0m         \u001b[1;32melse\u001b[0m\u001b[1;33m:\u001b[0m\u001b[1;33m\u001b[0m\u001b[1;33m\u001b[0m\u001b[0m\n\u001b[1;32m--> 830\u001b[1;33m             \u001b[0mresult\u001b[0m \u001b[1;33m=\u001b[0m \u001b[0mconvert_listlike\u001b[0m\u001b[1;33m(\u001b[0m\u001b[0marg\u001b[0m\u001b[1;33m,\u001b[0m \u001b[0mformat\u001b[0m\u001b[1;33m)\u001b[0m\u001b[1;33m\u001b[0m\u001b[1;33m\u001b[0m\u001b[0m\n\u001b[0m\u001b[0;32m    831\u001b[0m     \u001b[1;32melse\u001b[0m\u001b[1;33m:\u001b[0m\u001b[1;33m\u001b[0m\u001b[1;33m\u001b[0m\u001b[0m\n\u001b[0;32m    832\u001b[0m         \u001b[0mresult\u001b[0m \u001b[1;33m=\u001b[0m \u001b[0mconvert_listlike\u001b[0m\u001b[1;33m(\u001b[0m\u001b[0mnp\u001b[0m\u001b[1;33m.\u001b[0m\u001b[0marray\u001b[0m\u001b[1;33m(\u001b[0m\u001b[1;33m[\u001b[0m\u001b[0marg\u001b[0m\u001b[1;33m]\u001b[0m\u001b[1;33m)\u001b[0m\u001b[1;33m,\u001b[0m \u001b[0mformat\u001b[0m\u001b[1;33m)\u001b[0m\u001b[1;33m[\u001b[0m\u001b[1;36m0\u001b[0m\u001b[1;33m]\u001b[0m\u001b[1;33m\u001b[0m\u001b[1;33m\u001b[0m\u001b[0m\n",
      "\u001b[1;32mD:\\Anaconda\\envs\\ml_py38\\lib\\site-packages\\pandas\\core\\tools\\datetimes.py\u001b[0m in \u001b[0;36m_convert_listlike_datetimes\u001b[1;34m(arg, format, name, tz, unit, errors, infer_datetime_format, dayfirst, yearfirst, exact)\u001b[0m\n\u001b[0;32m    458\u001b[0m                 \u001b[1;32mreturn\u001b[0m \u001b[0mDatetimeIndex\u001b[0m\u001b[1;33m.\u001b[0m\u001b[0m_simple_new\u001b[0m\u001b[1;33m(\u001b[0m\u001b[0mdta\u001b[0m\u001b[1;33m,\u001b[0m \u001b[0mname\u001b[0m\u001b[1;33m=\u001b[0m\u001b[0mname\u001b[0m\u001b[1;33m)\u001b[0m\u001b[1;33m\u001b[0m\u001b[1;33m\u001b[0m\u001b[0m\n\u001b[0;32m    459\u001b[0m             \u001b[1;32mexcept\u001b[0m \u001b[1;33m(\u001b[0m\u001b[0mValueError\u001b[0m\u001b[1;33m,\u001b[0m \u001b[0mTypeError\u001b[0m\u001b[1;33m)\u001b[0m\u001b[1;33m:\u001b[0m\u001b[1;33m\u001b[0m\u001b[1;33m\u001b[0m\u001b[0m\n\u001b[1;32m--> 460\u001b[1;33m                 \u001b[1;32mraise\u001b[0m \u001b[0me\u001b[0m\u001b[1;33m\u001b[0m\u001b[1;33m\u001b[0m\u001b[0m\n\u001b[0m\u001b[0;32m    461\u001b[0m \u001b[1;33m\u001b[0m\u001b[0m\n\u001b[0;32m    462\u001b[0m     \u001b[1;32mif\u001b[0m \u001b[0mresult\u001b[0m \u001b[1;32mis\u001b[0m \u001b[1;32mNone\u001b[0m\u001b[1;33m:\u001b[0m\u001b[1;33m\u001b[0m\u001b[1;33m\u001b[0m\u001b[0m\n",
      "\u001b[1;32mD:\\Anaconda\\envs\\ml_py38\\lib\\site-packages\\pandas\\core\\tools\\datetimes.py\u001b[0m in \u001b[0;36m_convert_listlike_datetimes\u001b[1;34m(arg, format, name, tz, unit, errors, infer_datetime_format, dayfirst, yearfirst, exact)\u001b[0m\n\u001b[0;32m    421\u001b[0m             \u001b[1;32mif\u001b[0m \u001b[0mresult\u001b[0m \u001b[1;32mis\u001b[0m \u001b[1;32mNone\u001b[0m\u001b[1;33m:\u001b[0m\u001b[1;33m\u001b[0m\u001b[1;33m\u001b[0m\u001b[0m\n\u001b[0;32m    422\u001b[0m                 \u001b[1;32mtry\u001b[0m\u001b[1;33m:\u001b[0m\u001b[1;33m\u001b[0m\u001b[1;33m\u001b[0m\u001b[0m\n\u001b[1;32m--> 423\u001b[1;33m                     result, timezones = array_strptime(\n\u001b[0m\u001b[0;32m    424\u001b[0m                         \u001b[0marg\u001b[0m\u001b[1;33m,\u001b[0m \u001b[0mformat\u001b[0m\u001b[1;33m,\u001b[0m \u001b[0mexact\u001b[0m\u001b[1;33m=\u001b[0m\u001b[0mexact\u001b[0m\u001b[1;33m,\u001b[0m \u001b[0merrors\u001b[0m\u001b[1;33m=\u001b[0m\u001b[0merrors\u001b[0m\u001b[1;33m\u001b[0m\u001b[1;33m\u001b[0m\u001b[0m\n\u001b[0;32m    425\u001b[0m                     )\n",
      "\u001b[1;32mpandas\\_libs\\tslibs\\strptime.pyx\u001b[0m in \u001b[0;36mpandas._libs.tslibs.strptime.array_strptime\u001b[1;34m()\u001b[0m\n",
      "\u001b[1;31mValueError\u001b[0m: time data '0:00:00' does not match format '%d/%m/%Y' (match)"
     ]
    }
   ],
   "source": [
    "# en vez de data debería decir raw_data\n",
    "# lista = data['Fecha de inicio de síntomas'].str.split()\n",
    "data['Fecha de inicio de síntomas'] =  pd.to_datetime(lista[0], format='%d/%m/%Y')\n",
    "data['Fecha de diagnóstico'] =  pd.to_datetime(lista[0], format='%d/%m/%Y')\n",
    "print(data['Fecha de diagnóstico'])"
   ]
  },
  {
   "cell_type": "code",
   "execution_count": null,
   "metadata": {
    "scrolled": true
   },
   "outputs": [],
   "source": [
    "data[\"Ubicación del caso\"].unique()"
   ]
  },
  {
   "cell_type": "code",
   "execution_count": null,
   "metadata": {},
   "outputs": [],
   "source": [
    "data[\"Ubicación del caso\"]=data[\"Ubicación del caso\"].replace([\"casa\", \"CASA\"], \"Casa\")\n",
    "data[\"Ubicación del caso\"]=data[\"Ubicación del caso\"].replace(np.nan, \"Otro\")\n",
    "data[\"Ubicación del caso\"].unique()"
   ]
  },
  {
   "cell_type": "code",
   "execution_count": null,
   "metadata": {},
   "outputs": [],
   "source": [
    "data['Estado'].unique()"
   ]
  },
  {
   "cell_type": "code",
   "execution_count": null,
   "metadata": {},
   "outputs": [],
   "source": [
    "data[\"Estado\"]=data[\"Estado\"].replace([\"leve\", \"LEVE\"], \"Leve\")\n",
    "data[\"Estado\"]=data[\"Estado\"].replace(\"moderado\", \"Moderado\")\n",
    "data = data.dropna(axis=0, subset=['Estado'])"
   ]
  },
  {
   "cell_type": "code",
   "execution_count": null,
   "metadata": {},
   "outputs": [],
   "source": [
    "data['Estado'].unique()"
   ]
  },
  {
   "cell_type": "code",
   "execution_count": null,
   "metadata": {},
   "outputs": [],
   "source": [
    "len(data)"
   ]
  },
  {
   "cell_type": "code",
   "execution_count": null,
   "metadata": {},
   "outputs": [],
   "source": [
    "for col in data.columns:\n",
    "    print(data[col].unique())"
   ]
  },
  {
   "cell_type": "code",
   "execution_count": null,
   "metadata": {
    "scrolled": true
   },
   "outputs": [],
   "source": [
    "data.info(show_counts=True)"
   ]
  },
  {
   "cell_type": "code",
   "execution_count": null,
   "metadata": {},
   "outputs": [],
   "source": [
    "# Para saber cual es la longitud del valor más largo de una columna\n",
    "print(\"dep\", max(data['Nombre departamento'].apply(len)))\n",
    "print(\"mun\", max(data['Nombre municipio'].apply(len)))\n",
    "print(\"tipo contagio\", max(data['Tipo de contagio'].apply(len)))\n",
    "print(\"ubicacion caso\", max(data['Ubicación del caso'].apply(len)))\n",
    "print(\"Estado\", max(data['Estado'].apply(len)))\n",
    "print(\"Edad grupo\", max(data['Edad categorizada'].apply(len)))"
   ]
  },
  {
   "cell_type": "code",
   "execution_count": null,
   "metadata": {
    "scrolled": true
   },
   "outputs": [],
   "source": [
    "data.info()"
   ]
  },
  {
   "cell_type": "code",
   "execution_count": null,
   "metadata": {
    "scrolled": true
   },
   "outputs": [],
   "source": [
    "data.head()"
   ]
  },
  {
   "cell_type": "code",
   "execution_count": null,
   "metadata": {},
   "outputs": [],
   "source": [
    "data.rename(columns={'Fecha de inicio de síntomas': 'Fecha inicio sintomas',\n",
    "                    'Fecha de diagnóstico': 'Fecha diagnostico',\n",
    "                    'Ubicación del caso': 'Ubicacion caso'}, inplace=True)\n",
    "data.head()"
   ]
  },
  {
   "cell_type": "code",
   "execution_count": null,
   "metadata": {},
   "outputs": [],
   "source": [
    "data.to_csv(\"covid_col_limpio.csv\") "
   ]
  },
  {
   "cell_type": "code",
   "execution_count": null,
   "metadata": {},
   "outputs": [],
   "source": []
  }
 ],
 "metadata": {
  "kernelspec": {
   "display_name": "Python 3",
   "language": "python",
   "name": "python3"
  },
  "language_info": {
   "codemirror_mode": {
    "name": "ipython",
    "version": 3
   },
   "file_extension": ".py",
   "mimetype": "text/x-python",
   "name": "python",
   "nbconvert_exporter": "python",
   "pygments_lexer": "ipython3",
   "version": "3.8.8"
  }
 },
 "nbformat": 4,
 "nbformat_minor": 4
}
