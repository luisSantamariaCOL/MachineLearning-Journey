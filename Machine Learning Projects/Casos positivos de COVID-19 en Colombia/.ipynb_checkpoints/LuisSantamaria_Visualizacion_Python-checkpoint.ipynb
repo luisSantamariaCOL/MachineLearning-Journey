{
 "cells": [
  {
   "cell_type": "markdown",
   "metadata": {},
   "source": [
    "# Datos"
   ]
  },
  {
   "cell_type": "code",
   "execution_count": 1,
   "metadata": {},
   "outputs": [],
   "source": [
    "import pandas as pd \n",
    "import numpy as np\n",
    "import matplotlib.pyplot as plt\n",
    "import seaborn as sns\n",
    "%matplotlib inline"
   ]
  },
  {
   "cell_type": "code",
   "execution_count": 2,
   "metadata": {
    "scrolled": true
   },
   "outputs": [
    {
     "name": "stdout",
     "output_type": "stream",
     "text": [
      "<class 'pandas.core.frame.DataFrame'>\n",
      "RangeIndex: 2273728 entries, 0 to 2273727\n",
      "Data columns (total 10 columns):\n",
      " #   Column               Dtype \n",
      "---  ------               ----- \n",
      " 0   Unnamed: 0           int64 \n",
      " 1   Nombre departamento  object\n",
      " 2   Nombre municipio     object\n",
      " 3   Edad                 int64 \n",
      " 4   Sexo                 object\n",
      " 5   Nombre del pais      object\n",
      " 6   Tipo de contagio     object\n",
      " 7   Ubicacion del caso   object\n",
      " 8   Estado               object\n",
      " 9   Edad categorizada    object\n",
      "dtypes: int64(2), object(8)\n",
      "memory usage: 173.5+ MB\n"
     ]
    }
   ],
   "source": [
    "data = pd.read_csv(\"covid_col_limpio.csv\", low_memory=False)\n",
    "data.info()"
   ]
  },
  {
   "cell_type": "code",
   "execution_count": 3,
   "metadata": {},
   "outputs": [],
   "source": [
    "data = data[['Nombre departamento', 'Nombre municipio', 'Edad', 'Edad categorizada', 'Sexo', 'Tipo de contagio', 'Ubicacion del caso', 'Estado']]"
   ]
  },
  {
   "cell_type": "code",
   "execution_count": 4,
   "metadata": {},
   "outputs": [
    {
     "data": {
      "text/html": [
       "<div>\n",
       "<style scoped>\n",
       "    .dataframe tbody tr th:only-of-type {\n",
       "        vertical-align: middle;\n",
       "    }\n",
       "\n",
       "    .dataframe tbody tr th {\n",
       "        vertical-align: top;\n",
       "    }\n",
       "\n",
       "    .dataframe thead th {\n",
       "        text-align: right;\n",
       "    }\n",
       "</style>\n",
       "<table border=\"1\" class=\"dataframe\">\n",
       "  <thead>\n",
       "    <tr style=\"text-align: right;\">\n",
       "      <th></th>\n",
       "      <th>Nombre departamento</th>\n",
       "      <th>Nombre municipio</th>\n",
       "      <th>Edad</th>\n",
       "      <th>Edad categorizada</th>\n",
       "      <th>Sexo</th>\n",
       "      <th>Tipo de contagio</th>\n",
       "      <th>Ubicacion del caso</th>\n",
       "      <th>Estado</th>\n",
       "    </tr>\n",
       "  </thead>\n",
       "  <tbody>\n",
       "    <tr>\n",
       "      <th>0</th>\n",
       "      <td>BOGOTA</td>\n",
       "      <td>BOGOTA</td>\n",
       "      <td>19</td>\n",
       "      <td>Joven Adulto</td>\n",
       "      <td>F</td>\n",
       "      <td>Importado</td>\n",
       "      <td>Casa</td>\n",
       "      <td>Leve</td>\n",
       "    </tr>\n",
       "    <tr>\n",
       "      <th>1</th>\n",
       "      <td>VALLE</td>\n",
       "      <td>BUGA</td>\n",
       "      <td>34</td>\n",
       "      <td>Adulto</td>\n",
       "      <td>M</td>\n",
       "      <td>Importado</td>\n",
       "      <td>Casa</td>\n",
       "      <td>Leve</td>\n",
       "    </tr>\n",
       "    <tr>\n",
       "      <th>2</th>\n",
       "      <td>ANTIOQUIA</td>\n",
       "      <td>MEDELLIN</td>\n",
       "      <td>50</td>\n",
       "      <td>Adulto</td>\n",
       "      <td>F</td>\n",
       "      <td>Importado</td>\n",
       "      <td>Casa</td>\n",
       "      <td>Leve</td>\n",
       "    </tr>\n",
       "    <tr>\n",
       "      <th>3</th>\n",
       "      <td>ANTIOQUIA</td>\n",
       "      <td>MEDELLIN</td>\n",
       "      <td>55</td>\n",
       "      <td>Adulto</td>\n",
       "      <td>M</td>\n",
       "      <td>Relacionado</td>\n",
       "      <td>Casa</td>\n",
       "      <td>Leve</td>\n",
       "    </tr>\n",
       "    <tr>\n",
       "      <th>4</th>\n",
       "      <td>ANTIOQUIA</td>\n",
       "      <td>MEDELLIN</td>\n",
       "      <td>25</td>\n",
       "      <td>Joven Adulto</td>\n",
       "      <td>M</td>\n",
       "      <td>Relacionado</td>\n",
       "      <td>Casa</td>\n",
       "      <td>Leve</td>\n",
       "    </tr>\n",
       "    <tr>\n",
       "      <th>...</th>\n",
       "      <td>...</td>\n",
       "      <td>...</td>\n",
       "      <td>...</td>\n",
       "      <td>...</td>\n",
       "      <td>...</td>\n",
       "      <td>...</td>\n",
       "      <td>...</td>\n",
       "      <td>...</td>\n",
       "    </tr>\n",
       "    <tr>\n",
       "      <th>2273723</th>\n",
       "      <td>BARRANQUILLA</td>\n",
       "      <td>BARRANQUILLA</td>\n",
       "      <td>41</td>\n",
       "      <td>Adulto</td>\n",
       "      <td>M</td>\n",
       "      <td>En estudio</td>\n",
       "      <td>Casa</td>\n",
       "      <td>Leve</td>\n",
       "    </tr>\n",
       "    <tr>\n",
       "      <th>2273724</th>\n",
       "      <td>BARRANQUILLA</td>\n",
       "      <td>BARRANQUILLA</td>\n",
       "      <td>53</td>\n",
       "      <td>Adulto</td>\n",
       "      <td>F</td>\n",
       "      <td>En estudio</td>\n",
       "      <td>Casa</td>\n",
       "      <td>Leve</td>\n",
       "    </tr>\n",
       "    <tr>\n",
       "      <th>2273725</th>\n",
       "      <td>BARRANQUILLA</td>\n",
       "      <td>BARRANQUILLA</td>\n",
       "      <td>38</td>\n",
       "      <td>Adulto</td>\n",
       "      <td>M</td>\n",
       "      <td>En estudio</td>\n",
       "      <td>Casa</td>\n",
       "      <td>Leve</td>\n",
       "    </tr>\n",
       "    <tr>\n",
       "      <th>2273726</th>\n",
       "      <td>BARRANQUILLA</td>\n",
       "      <td>BARRANQUILLA</td>\n",
       "      <td>44</td>\n",
       "      <td>Adulto</td>\n",
       "      <td>M</td>\n",
       "      <td>En estudio</td>\n",
       "      <td>Casa</td>\n",
       "      <td>Leve</td>\n",
       "    </tr>\n",
       "    <tr>\n",
       "      <th>2273727</th>\n",
       "      <td>BARRANQUILLA</td>\n",
       "      <td>BARRANQUILLA</td>\n",
       "      <td>36</td>\n",
       "      <td>Adulto</td>\n",
       "      <td>M</td>\n",
       "      <td>En estudio</td>\n",
       "      <td>Casa</td>\n",
       "      <td>Leve</td>\n",
       "    </tr>\n",
       "  </tbody>\n",
       "</table>\n",
       "<p>2273728 rows × 8 columns</p>\n",
       "</div>"
      ],
      "text/plain": [
       "        Nombre departamento Nombre municipio  Edad Edad categorizada Sexo  \\\n",
       "0                    BOGOTA           BOGOTA    19      Joven Adulto    F   \n",
       "1                     VALLE             BUGA    34            Adulto    M   \n",
       "2                 ANTIOQUIA         MEDELLIN    50            Adulto    F   \n",
       "3                 ANTIOQUIA         MEDELLIN    55            Adulto    M   \n",
       "4                 ANTIOQUIA         MEDELLIN    25      Joven Adulto    M   \n",
       "...                     ...              ...   ...               ...  ...   \n",
       "2273723        BARRANQUILLA     BARRANQUILLA    41            Adulto    M   \n",
       "2273724        BARRANQUILLA     BARRANQUILLA    53            Adulto    F   \n",
       "2273725        BARRANQUILLA     BARRANQUILLA    38            Adulto    M   \n",
       "2273726        BARRANQUILLA     BARRANQUILLA    44            Adulto    M   \n",
       "2273727        BARRANQUILLA     BARRANQUILLA    36            Adulto    M   \n",
       "\n",
       "        Tipo de contagio Ubicacion del caso Estado  \n",
       "0              Importado               Casa   Leve  \n",
       "1              Importado               Casa   Leve  \n",
       "2              Importado               Casa   Leve  \n",
       "3            Relacionado               Casa   Leve  \n",
       "4            Relacionado               Casa   Leve  \n",
       "...                  ...                ...    ...  \n",
       "2273723       En estudio               Casa   Leve  \n",
       "2273724       En estudio               Casa   Leve  \n",
       "2273725       En estudio               Casa   Leve  \n",
       "2273726       En estudio               Casa   Leve  \n",
       "2273727       En estudio               Casa   Leve  \n",
       "\n",
       "[2273728 rows x 8 columns]"
      ]
     },
     "execution_count": 4,
     "metadata": {},
     "output_type": "execute_result"
    }
   ],
   "source": [
    "data"
   ]
  },
  {
   "cell_type": "code",
   "execution_count": 5,
   "metadata": {},
   "outputs": [],
   "source": [
    "columnas = ['Nombre departamento', 'Nombre municipio', 'Sexo', 'Edad categorizada', 'Tipo de contagio', 'Ubicacion del caso', 'Estado']\n",
    "for col in columnas:\n",
    "    data[col] = data[col].astype(\"category\")"
   ]
  },
  {
   "cell_type": "code",
   "execution_count": 6,
   "metadata": {},
   "outputs": [
    {
     "name": "stdout",
     "output_type": "stream",
     "text": [
      "<class 'pandas.core.frame.DataFrame'>\n",
      "RangeIndex: 2273728 entries, 0 to 2273727\n",
      "Data columns (total 8 columns):\n",
      " #   Column               Dtype   \n",
      "---  ------               -----   \n",
      " 0   Nombre departamento  category\n",
      " 1   Nombre municipio     category\n",
      " 2   Edad                 int64   \n",
      " 3   Edad categorizada    category\n",
      " 4   Sexo                 category\n",
      " 5   Tipo de contagio     category\n",
      " 6   Ubicacion del caso   category\n",
      " 7   Estado               category\n",
      "dtypes: category(7), int64(1)\n",
      "memory usage: 34.7 MB\n"
     ]
    }
   ],
   "source": [
    "data.info()"
   ]
  },
  {
   "cell_type": "code",
   "execution_count": 7,
   "metadata": {},
   "outputs": [
    {
     "name": "stdout",
     "output_type": "stream",
     "text": [
      "      Estado    Count\n",
      "0       Leve  2196029\n",
      "1  Fallecido    60676\n",
      "2   Moderado    14526\n",
      "3      Grave     2497\n"
     ]
    }
   ],
   "source": [
    "data_count = data.groupby(['Estado'], sort=False).size().reset_index(name='Count')\n",
    "print(data_count)"
   ]
  },
  {
   "cell_type": "markdown",
   "metadata": {},
   "source": [
    "#### Total de casos por Estado"
   ]
  },
  {
   "cell_type": "code",
   "execution_count": 8,
   "metadata": {},
   "outputs": [
    {
     "data": {
      "image/png": "[encoded data removed]",
      "text/plain": [
       "<Figure size 432x288 with 1 Axes>"
      ]
     },
     "metadata": {
      "needs_background": "light"
     },
     "output_type": "display_data"
    }
   ],
   "source": [
    "x = data['Estado']\n",
    "\n",
    "fig = plt.figure()\n",
    "ax = fig.add_axes([0,0,1,1])\n",
    "estados = ['Leve', 'Moderado', 'Grave', 'Fallecido']\n",
    "casos = [2196029,60676,14526,2497]\n",
    "ax.bar(estados,casos, color='y')\n",
    "ax.set_xlabel('Estado del caso')\n",
    "ax.set_ylabel('Casos por millón de habitantes')\n",
    "ax.set_title('Casos COVID-19 Colombia')\n",
    "plt.show()"
   ]
  },
  {
   "cell_type": "code",
   "execution_count": 9,
   "metadata": {},
   "outputs": [
    {
     "data": {
      "text/plain": [
       "Estado     Sexo\n",
       "Fallecido  M         38599\n",
       "           F         22077\n",
       "Grave      M          1548\n",
       "           F           949\n",
       "Leve       F       1140701\n",
       "           M       1055328\n",
       "Moderado   M          7882\n",
       "           F          6644\n",
       "Name: Sexo, dtype: int64"
      ]
     },
     "execution_count": 9,
     "metadata": {},
     "output_type": "execute_result"
    }
   ],
   "source": [
    "estados = ['Leve', 'Moderado', 'Grave', 'Fallecido']\n",
    "\n",
    "data_estado_sexo = data.groupby('Estado')['Sexo'].value_counts()\n",
    "data_estado_sexo"
   ]
  },
  {
   "cell_type": "code",
   "execution_count": 10,
   "metadata": {
    "scrolled": true
   },
   "outputs": [
    {
     "data": {
      "text/html": [
       "<div>\n",
       "<style scoped>\n",
       "    .dataframe tbody tr th:only-of-type {\n",
       "        vertical-align: middle;\n",
       "    }\n",
       "\n",
       "    .dataframe tbody tr th {\n",
       "        vertical-align: top;\n",
       "    }\n",
       "\n",
       "    .dataframe thead th {\n",
       "        text-align: right;\n",
       "    }\n",
       "</style>\n",
       "<table border=\"1\" class=\"dataframe\">\n",
       "  <thead>\n",
       "    <tr style=\"text-align: right;\">\n",
       "      <th>Estado</th>\n",
       "      <th>Fallecido</th>\n",
       "      <th>Grave</th>\n",
       "      <th>Leve</th>\n",
       "      <th>Moderado</th>\n",
       "    </tr>\n",
       "    <tr>\n",
       "      <th>Sexo</th>\n",
       "      <th></th>\n",
       "      <th></th>\n",
       "      <th></th>\n",
       "      <th></th>\n",
       "    </tr>\n",
       "  </thead>\n",
       "  <tbody>\n",
       "    <tr>\n",
       "      <th>F</th>\n",
       "      <td>22077</td>\n",
       "      <td>949</td>\n",
       "      <td>1140701</td>\n",
       "      <td>6644</td>\n",
       "    </tr>\n",
       "    <tr>\n",
       "      <th>M</th>\n",
       "      <td>38599</td>\n",
       "      <td>1548</td>\n",
       "      <td>1055328</td>\n",
       "      <td>7882</td>\n",
       "    </tr>\n",
       "  </tbody>\n",
       "</table>\n",
       "</div>"
      ],
      "text/plain": [
       "Estado  Fallecido  Grave     Leve  Moderado\n",
       "Sexo                                       \n",
       "F           22077    949  1140701      6644\n",
       "M           38599   1548  1055328      7882"
      ]
     },
     "execution_count": 10,
     "metadata": {},
     "output_type": "execute_result"
    }
   ],
   "source": [
    "data_estado_sexo.unstack('Estado')                   "
   ]
  },
  {
   "cell_type": "code",
   "execution_count": 11,
   "metadata": {},
   "outputs": [
    {
     "data": {
      "image/png": "[encoded data removed]",
      "text/plain": [
       "<Figure size 432x288 with 1 Axes>"
      ]
     },
     "metadata": {
      "needs_background": "light"
     },
     "output_type": "display_data"
    }
   ],
   "source": [
    "df = pd.DataFrame([['Leve','F',1140701],['Moderado','F',6644],['Grave','F',949],['Fallecido','F',22077],\n",
    "                   ['Leve','M',1055328],['Moderado','M',7882], ['Grave','M',1548],['Fallecido','M',38599]],columns=['Estado del caso','Sexo','val'])\n",
    "df.pivot(\"Estado del caso\", \"Sexo\", \"val\").plot(kind='bar')\n",
    "\n",
    "plt.show()"
   ]
  },
  {
   "cell_type": "code",
   "execution_count": 12,
   "metadata": {},
   "outputs": [
    {
     "data": {
      "image/png": "[encoded data removed]",
      "text/plain": [
       "<Figure size 432x288 with 1 Axes>"
      ]
     },
     "metadata": {
      "needs_background": "light"
     },
     "output_type": "display_data"
    }
   ],
   "source": [
    "x = data['Estado']\n",
    "\n",
    "fig = plt.figure()\n",
    "ax = fig.add_axes([0,0,1,1])\n",
    "\n",
    "casos = [2196029,60676,14526,2497]\n",
    "ax.bar(estados,casos, color='y')\n",
    "ax.set_xlabel('Estado del caso')\n",
    "ax.set_ylabel('Casos por millón de habitantes')\n",
    "ax.set_title('Casos COVID-19 Colombia')\n",
    "plt.show()"
   ]
  },
  {
   "cell_type": "code",
   "execution_count": 26,
   "metadata": {},
   "outputs": [
    {
     "data": {
      "image/png": "[encoded data removed]",
      "text/plain": [
       "<Figure size 1152x576 with 1 Axes>"
      ]
     },
     "metadata": {
      "needs_background": "light"
     },
     "output_type": "display_data"
    }
   ],
   "source": [
    "plt.subplots(figsize=(16,8))\n",
    "casos = data['Nombre departamento'].value_counts().index\n",
    "sns.countplot(data=data, x = data['Nombre departamento'], order=casos).set_title(\"Total de casos por departamento\")\n",
    "plt.xticks(rotation=90)\n",
    "plt.show()"
   ]
  },
  {
   "cell_type": "code",
   "execution_count": 14,
   "metadata": {},
   "outputs": [
    {
     "data": {
      "text/plain": [
       "Adulto              1346198\n",
       "Joven Adulto         405489\n",
       "Anciano              330233\n",
       "Adolescente           90563\n",
       "Infancia              56817\n",
       "Primera Infancia      44428\n",
       "Name: Edad categorizada, dtype: int64"
      ]
     },
     "execution_count": 14,
     "metadata": {},
     "output_type": "execute_result"
    }
   ],
   "source": [
    "data['Edad categorizada'].value_counts()"
   ]
  },
  {
   "cell_type": "code",
   "execution_count": 15,
   "metadata": {},
   "outputs": [
    {
     "data": {
      "image/png": "[encoded data removed]",
      "text/plain": [
       "<Figure size 432x288 with 1 Axes>"
      ]
     },
     "metadata": {},
     "output_type": "display_data"
    }
   ],
   "source": [
    "count_menores_de_edad = 44428 + 56817 +90563\n",
    "slices = [1346198, 405489, 330233, count_menores_de_edad]\n",
    "labels = ['Adulto', 'Joven Adulto', 'Anciano', 'Menores de Edad']\n",
    "\n",
    "plt.pie(slices, labels=labels, wedgeprops={'edgecolor':'black'}, startangle=240, autopct='%1.1f%%')\n",
    "\n",
    "plt.title(\"Casos por Grupos de Edad\")\n",
    "plt.show()"
   ]
  },
  {
   "cell_type": "code",
   "execution_count": 16,
   "metadata": {},
   "outputs": [
    {
     "data": {
      "text/plain": [
       "En estudio     1924186\n",
       "Relacionado     347135\n",
       "Importado         2407\n",
       "Name: Tipo de contagio, dtype: int64"
      ]
     },
     "execution_count": 16,
     "metadata": {},
     "output_type": "execute_result"
    }
   ],
   "source": [
    "data['Tipo de contagio'].value_counts()"
   ]
  },
  {
   "cell_type": "code",
   "execution_count": 17,
   "metadata": {},
   "outputs": [
    {
     "data": {
      "image/png": "[encoded data removed]",
      "text/plain": [
       "<Figure size 432x288 with 1 Axes>"
      ]
     },
     "metadata": {},
     "output_type": "display_data"
    }
   ],
   "source": [
    "slices = [1924186, 347135, 2407]\n",
    "labels = ['En estudio', 'Relacionado', 'Importado']\n",
    "\n",
    "plt.pie(slices, labels=labels, wedgeprops={'edgecolor':'black'}, startangle=240, autopct='%1.1f%%')\n",
    "\n",
    "plt.title(\"Casos por Tipo de Contagio\")\n",
    "\n",
    "# Creating the circle for forming a donut chart\n",
    "circle = plt.Circle(xy=(0,0), radius=0.6, facecolor='white')\n",
    "plt.gca().add_artist(circle)\n",
    "\n",
    "plt.show()"
   ]
  },
  {
   "cell_type": "code",
   "execution_count": null,
   "metadata": {},
   "outputs": [],
   "source": []
  }
 ],
 "metadata": {
  "kernelspec": {
   "display_name": "Python 3",
   "language": "python",
   "name": "python3"
  },
  "language_info": {
   "codemirror_mode": {
    "name": "ipython",
    "version": 3
   },
   "file_extension": ".py",
   "mimetype": "text/x-python",
   "name": "python",
   "nbconvert_exporter": "python",
   "pygments_lexer": "ipython3",
   "version": "3.9.1"
  }
 },
 "nbformat": 4,
 "nbformat_minor": 4
}
