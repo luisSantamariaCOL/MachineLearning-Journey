{
 "cells": [
  {
   "cell_type": "markdown",
   "metadata": {},
   "source": [
    "# Predictive Modeling with Python\n",
    "Applying predictive modeling to a dataset of Covid Cases in Antioquia, Colombia.\n",
    "Implementing Decision Trees and Logistic Regression methods as Machine Learning methods."
   ]
  },
  {
   "cell_type": "markdown",
   "metadata": {},
   "source": [
    "### Importing libraries"
   ]
  },
  {
   "cell_type": "code",
   "execution_count": 1,
   "metadata": {},
   "outputs": [],
   "source": [
    "import matplotlib.pyplot as plt\n",
    "import pandas as pd\n",
    "import numpy as np\n",
    "%matplotlib inline"
   ]
  },
  {
   "cell_type": "markdown",
   "metadata": {},
   "source": [
    "### Data preparation"
   ]
  },
  {
   "cell_type": "code",
   "execution_count": 2,
   "metadata": {},
   "outputs": [
    {
     "data": {
      "text/html": [
       "<div>\n",
       "<style scoped>\n",
       "    .dataframe tbody tr th:only-of-type {\n",
       "        vertical-align: middle;\n",
       "    }\n",
       "\n",
       "    .dataframe tbody tr th {\n",
       "        vertical-align: top;\n",
       "    }\n",
       "\n",
       "    .dataframe thead th {\n",
       "        text-align: right;\n",
       "    }\n",
       "</style>\n",
       "<table border=\"1\" class=\"dataframe\">\n",
       "  <thead>\n",
       "    <tr style=\"text-align: right;\">\n",
       "      <th></th>\n",
       "      <th>Edad</th>\n",
       "      <th>Estado</th>\n",
       "    </tr>\n",
       "  </thead>\n",
       "  <tbody>\n",
       "    <tr>\n",
       "      <th>0</th>\n",
       "      <td>18.0</td>\n",
       "      <td>Recuperado</td>\n",
       "    </tr>\n",
       "    <tr>\n",
       "      <th>1</th>\n",
       "      <td>0.0</td>\n",
       "      <td>Recuperado</td>\n",
       "    </tr>\n",
       "    <tr>\n",
       "      <th>2</th>\n",
       "      <td>0.0</td>\n",
       "      <td>Recuperado</td>\n",
       "    </tr>\n",
       "    <tr>\n",
       "      <th>3</th>\n",
       "      <td>0.0</td>\n",
       "      <td>Recuperado</td>\n",
       "    </tr>\n",
       "    <tr>\n",
       "      <th>4</th>\n",
       "      <td>1.0</td>\n",
       "      <td>Recuperado</td>\n",
       "    </tr>\n",
       "    <tr>\n",
       "      <th>...</th>\n",
       "      <td>...</td>\n",
       "      <td>...</td>\n",
       "    </tr>\n",
       "    <tr>\n",
       "      <th>310232</th>\n",
       "      <td>98.0</td>\n",
       "      <td>Fallecido</td>\n",
       "    </tr>\n",
       "    <tr>\n",
       "      <th>310233</th>\n",
       "      <td>98.0</td>\n",
       "      <td>Fallecido</td>\n",
       "    </tr>\n",
       "    <tr>\n",
       "      <th>310234</th>\n",
       "      <td>98.0</td>\n",
       "      <td>Fallecido</td>\n",
       "    </tr>\n",
       "    <tr>\n",
       "      <th>310235</th>\n",
       "      <td>98.0</td>\n",
       "      <td>Fallecido</td>\n",
       "    </tr>\n",
       "    <tr>\n",
       "      <th>310236</th>\n",
       "      <td>98.0</td>\n",
       "      <td>Fallecido</td>\n",
       "    </tr>\n",
       "  </tbody>\n",
       "</table>\n",
       "<p>310237 rows × 2 columns</p>\n",
       "</div>"
      ],
      "text/plain": [
       "        Edad      Estado\n",
       "0       18.0  Recuperado\n",
       "1        0.0  Recuperado\n",
       "2        0.0  Recuperado\n",
       "3        0.0  Recuperado\n",
       "4        1.0  Recuperado\n",
       "...      ...         ...\n",
       "310232  98.0   Fallecido\n",
       "310233  98.0   Fallecido\n",
       "310234  98.0   Fallecido\n",
       "310235  98.0   Fallecido\n",
       "310236  98.0   Fallecido\n",
       "\n",
       "[310237 rows x 2 columns]"
      ]
     },
     "execution_count": 2,
     "metadata": {},
     "output_type": "execute_result"
    }
   ],
   "source": [
    "df_with_num_age = pd.read_csv('covid_antioquia_vnum.csv')\n",
    "df_with_num_age.head(-10)"
   ]
  },
  {
   "cell_type": "code",
   "execution_count": 3,
   "metadata": {},
   "outputs": [
    {
     "name": "stdout",
     "output_type": "stream",
     "text": [
      "<class 'pandas.core.frame.DataFrame'>\n",
      "RangeIndex: 310247 entries, 0 to 310246\n",
      "Data columns (total 2 columns):\n",
      " #   Column  Non-Null Count   Dtype  \n",
      "---  ------  --------------   -----  \n",
      " 0   Edad    310247 non-null  float64\n",
      " 1   Estado  310247 non-null  object \n",
      "dtypes: float64(1), object(1)\n",
      "memory usage: 4.7+ MB\n"
     ]
    }
   ],
   "source": [
    "df_with_num_age.info()"
   ]
  },
  {
   "cell_type": "code",
   "execution_count": 4,
   "metadata": {
    "scrolled": false
   },
   "outputs": [
    {
     "name": "stdout",
     "output_type": "stream",
     "text": [
      "<class 'pandas.core.frame.DataFrame'>\n",
      "RangeIndex: 310247 entries, 0 to 310246\n",
      "Data columns (total 2 columns):\n",
      " #   Column  Non-Null Count   Dtype   \n",
      "---  ------  --------------   -----   \n",
      " 0   Edad    310247 non-null  int64   \n",
      " 1   Estado  310247 non-null  category\n",
      "dtypes: category(1), int64(1)\n",
      "memory usage: 2.7 MB\n"
     ]
    }
   ],
   "source": [
    "# Changing data types\n",
    "df_with_num_age['Estado']=df_with_num_age['Estado'].astype('category')\n",
    "df_with_num_age['Edad']=df_with_num_age['Edad'].astype(np.int64)\n",
    "\n",
    "df_with_num_age.info()"
   ]
  },
  {
   "cell_type": "code",
   "execution_count": 5,
   "metadata": {},
   "outputs": [
    {
     "data": {
      "text/plain": [
       "<AxesSubplot:>"
      ]
     },
     "execution_count": 5,
     "metadata": {},
     "output_type": "execute_result"
    },
    {
     "data": {
      "image/png": "[encoded data removed]",
      "text/plain": [
       "<Figure size 432x288 with 1 Axes>"
      ]
     },
     "metadata": {
      "needs_background": "light"
     },
     "output_type": "display_data"
    }
   ],
   "source": [
    "# Plotting the predictive variable Estado\n",
    "df_with_num_age['Estado'].value_counts().plot(kind='bar')"
   ]
  },
  {
   "cell_type": "code",
   "execution_count": 6,
   "metadata": {},
   "outputs": [
    {
     "data": {
      "text/html": [
       "<div>\n",
       "<style scoped>\n",
       "    .dataframe tbody tr th:only-of-type {\n",
       "        vertical-align: middle;\n",
       "    }\n",
       "\n",
       "    .dataframe tbody tr th {\n",
       "        vertical-align: top;\n",
       "    }\n",
       "\n",
       "    .dataframe thead th {\n",
       "        text-align: right;\n",
       "    }\n",
       "</style>\n",
       "<table border=\"1\" class=\"dataframe\">\n",
       "  <thead>\n",
       "    <tr style=\"text-align: right;\">\n",
       "      <th></th>\n",
       "      <th>Edad</th>\n",
       "      <th>Estado</th>\n",
       "    </tr>\n",
       "  </thead>\n",
       "  <tbody>\n",
       "    <tr>\n",
       "      <th>0</th>\n",
       "      <td>18</td>\n",
       "      <td>1</td>\n",
       "    </tr>\n",
       "    <tr>\n",
       "      <th>1</th>\n",
       "      <td>0</td>\n",
       "      <td>1</td>\n",
       "    </tr>\n",
       "    <tr>\n",
       "      <th>2</th>\n",
       "      <td>0</td>\n",
       "      <td>1</td>\n",
       "    </tr>\n",
       "    <tr>\n",
       "      <th>3</th>\n",
       "      <td>0</td>\n",
       "      <td>1</td>\n",
       "    </tr>\n",
       "    <tr>\n",
       "      <th>4</th>\n",
       "      <td>1</td>\n",
       "      <td>1</td>\n",
       "    </tr>\n",
       "    <tr>\n",
       "      <th>...</th>\n",
       "      <td>...</td>\n",
       "      <td>...</td>\n",
       "    </tr>\n",
       "    <tr>\n",
       "      <th>310232</th>\n",
       "      <td>98</td>\n",
       "      <td>0</td>\n",
       "    </tr>\n",
       "    <tr>\n",
       "      <th>310233</th>\n",
       "      <td>98</td>\n",
       "      <td>0</td>\n",
       "    </tr>\n",
       "    <tr>\n",
       "      <th>310234</th>\n",
       "      <td>98</td>\n",
       "      <td>0</td>\n",
       "    </tr>\n",
       "    <tr>\n",
       "      <th>310235</th>\n",
       "      <td>98</td>\n",
       "      <td>0</td>\n",
       "    </tr>\n",
       "    <tr>\n",
       "      <th>310236</th>\n",
       "      <td>98</td>\n",
       "      <td>0</td>\n",
       "    </tr>\n",
       "  </tbody>\n",
       "</table>\n",
       "<p>310237 rows × 2 columns</p>\n",
       "</div>"
      ],
      "text/plain": [
       "        Edad  Estado\n",
       "0         18       1\n",
       "1          0       1\n",
       "2          0       1\n",
       "3          0       1\n",
       "4          1       1\n",
       "...      ...     ...\n",
       "310232    98       0\n",
       "310233    98       0\n",
       "310234    98       0\n",
       "310235    98       0\n",
       "310236    98       0\n",
       "\n",
       "[310237 rows x 2 columns]"
      ]
     },
     "execution_count": 6,
     "metadata": {},
     "output_type": "execute_result"
    }
   ],
   "source": [
    "# Encoding the dependent variable Estado\n",
    "# Recuperado -> 1    Fallecido -> 0\n",
    "from sklearn.preprocessing import LabelEncoder\n",
    "labelencoder = LabelEncoder()\n",
    "\n",
    "df_with_num_age['Estado']=labelencoder.fit_transform(df_with_num_age['Estado'])\n",
    "df_with_num_age.head(-10)"
   ]
  },
  {
   "cell_type": "markdown",
   "metadata": {},
   "source": [
    "### Splitting the dataset"
   ]
  },
  {
   "cell_type": "code",
   "execution_count": 7,
   "metadata": {},
   "outputs": [
    {
     "data": {
      "text/plain": [
       "<AxesSubplot:>"
      ]
     },
     "execution_count": 7,
     "metadata": {},
     "output_type": "execute_result"
    },
    {
     "data": {
      "image/png": "[encoded data removed]",
      "text/plain": [
       "<Figure size 432x288 with 1 Axes>"
      ]
     },
     "metadata": {
      "needs_background": "light"
     },
     "output_type": "display_data"
    }
   ],
   "source": [
    "# 70-30 division\n",
    "from sklearn.model_selection import train_test_split\n",
    "X = df_with_num_age.drop('Estado', axis = 1) # dependent variables\n",
    "Y = df_with_num_age['Estado'] # independent variable\n",
    "X_train, X_test, Y_train, Y_test = train_test_split(X, Y, test_size=0.3, stratify=Y)\n",
    "Y_train.value_counts().plot(kind='bar')"
   ]
  },
  {
   "cell_type": "markdown",
   "metadata": {},
   "source": [
    "# Predictive Model: Decision Tree"
   ]
  },
  {
   "cell_type": "markdown",
   "metadata": {},
   "source": [
    "### Creation of the Model with the training set"
   ]
  },
  {
   "cell_type": "code",
   "execution_count": 8,
   "metadata": {},
   "outputs": [
    {
     "data": {
      "text/plain": [
       "DecisionTreeClassifier(max_depth=10, min_samples_leaf=2)"
      ]
     },
     "execution_count": 8,
     "metadata": {},
     "output_type": "execute_result"
    }
   ],
   "source": [
    "from sklearn import tree\n",
    "model_Tree = tree.DecisionTreeClassifier(criterion='gini', min_samples_leaf=2, max_depth=10)\n",
    "model_Tree.fit(X_train, Y_train) # 0.7 set"
   ]
  },
  {
   "cell_type": "markdown",
   "metadata": {},
   "source": [
    "### Plotting the Tree"
   ]
  },
  {
   "cell_type": "code",
   "execution_count": 9,
   "metadata": {},
   "outputs": [
    {
     "data": {
      "text/plain": [
       "[Text(157.12718272900764, 207.55636363636364, 'Edad <= 55.5\\ngini = 0.5\\nsamples = 217172\\nvalue = [108581, 108591]\\nclass = Recuperado'),\n",
       " Text(105.06426526717559, 187.7890909090909, 'Edad <= 42.5\\ngini = 0.235\\nsamples = 106219\\nvalue = [14418, 91801]\\nclass = Recuperado'),\n",
       " Text(73.07776717557253, 168.0218181818182, 'Edad <= 32.5\\ngini = 0.116\\nsamples = 75744\\nvalue = [4665, 71079]\\nclass = Recuperado'),\n",
       " Text(57.98301526717558, 148.25454545454545, 'Edad <= 30.5\\ngini = 0.057\\nsamples = 46990\\nvalue = [1375, 45615]\\nclass = Recuperado'),\n",
       " Text(49.51717557251909, 128.48727272727274, 'Edad <= 27.5\\ngini = 0.063\\nsamples = 40741\\nvalue = [1335, 39406]\\nclass = Recuperado'),\n",
       " Text(40.252671755725196, 108.72, 'Edad <= 24.5\\ngini = 0.047\\nsamples = 30408\\nvalue = [732, 29676]\\nclass = Recuperado'),\n",
       " Text(29.390839694656492, 88.95272727272729, 'Edad <= 22.5\\ngini = 0.054\\nsamples = 20850\\nvalue = [576, 20274]\\nclass = Recuperado'),\n",
       " Text(20.44580152671756, 69.18545454545455, 'Edad <= 15.5\\ngini = 0.046\\nsamples = 15252\\nvalue = [361, 14891]\\nclass = Recuperado'),\n",
       " Text(10.22290076335878, 49.418181818181836, 'Edad <= 5.5\\ngini = 0.035\\nsamples = 5536\\nvalue = [100, 5436]\\nclass = Recuperado'),\n",
       " Text(5.11145038167939, 29.650909090909096, 'Edad <= 1.5\\ngini = 0.051\\nsamples = 1873\\nvalue = [49, 1824]\\nclass = Recuperado'),\n",
       " Text(2.555725190839695, 9.883636363636384, 'gini = 0.029\\nsamples = 735\\nvalue = [11, 724]\\nclass = Recuperado'),\n",
       " Text(7.667175572519085, 9.883636363636384, 'gini = 0.065\\nsamples = 1138\\nvalue = [38, 1100]\\nclass = Recuperado'),\n",
       " Text(15.33435114503817, 29.650909090909096, 'Edad <= 14.5\\ngini = 0.027\\nsamples = 3663\\nvalue = [51, 3612]\\nclass = Recuperado'),\n",
       " Text(12.778625954198475, 9.883636363636384, 'gini = 0.025\\nsamples = 3110\\nvalue = [39, 3071]\\nclass = Recuperado'),\n",
       " Text(17.890076335877865, 9.883636363636384, 'gini = 0.042\\nsamples = 553\\nvalue = [12, 541]\\nclass = Recuperado'),\n",
       " Text(30.66870229007634, 49.418181818181836, 'Edad <= 18.5\\ngini = 0.052\\nsamples = 9716\\nvalue = [261, 9455]\\nclass = Recuperado'),\n",
       " Text(25.55725190839695, 29.650909090909096, 'Edad <= 16.5\\ngini = 0.085\\nsamples = 2326\\nvalue = [104, 2222]\\nclass = Recuperado'),\n",
       " Text(23.001526717557255, 9.883636363636384, 'gini = 0.1\\nsamples = 645\\nvalue = [34, 611]\\nclass = Recuperado'),\n",
       " Text(28.112977099236645, 9.883636363636384, 'gini = 0.08\\nsamples = 1681\\nvalue = [70, 1611]\\nclass = Recuperado'),\n",
       " Text(35.78015267175573, 29.650909090909096, 'Edad <= 20.5\\ngini = 0.042\\nsamples = 7390\\nvalue = [157, 7233]\\nclass = Recuperado'),\n",
       " Text(33.224427480916034, 9.883636363636384, 'gini = 0.032\\nsamples = 3161\\nvalue = [52, 3109]\\nclass = Recuperado'),\n",
       " Text(38.335877862595424, 9.883636363636384, 'gini = 0.048\\nsamples = 4229\\nvalue = [105, 4124]\\nclass = Recuperado'),\n",
       " Text(38.335877862595424, 69.18545454545455, 'Edad <= 23.5\\ngini = 0.074\\nsamples = 5598\\nvalue = [215, 5383]\\nclass = Recuperado'),\n",
       " Text(35.78015267175573, 49.418181818181836, 'gini = 0.069\\nsamples = 2652\\nvalue = [95, 2557]\\nclass = Recuperado'),\n",
       " Text(40.89160305343512, 49.418181818181836, 'gini = 0.078\\nsamples = 2946\\nvalue = [120, 2826]\\nclass = Recuperado'),\n",
       " Text(51.1145038167939, 88.95272727272729, 'Edad <= 26.5\\ngini = 0.032\\nsamples = 9558\\nvalue = [156, 9402]\\nclass = Recuperado'),\n",
       " Text(48.558778625954204, 69.18545454545455, 'Edad <= 25.5\\ngini = 0.009\\nsamples = 6194\\nvalue = [29, 6165]\\nclass = Recuperado'),\n",
       " Text(46.00305343511451, 49.418181818181836, 'gini = 0.019\\nsamples = 3025\\nvalue = [29, 2996]\\nclass = Recuperado'),\n",
       " Text(51.1145038167939, 49.418181818181836, 'gini = 0.0\\nsamples = 3169\\nvalue = [0, 3169]\\nclass = Recuperado'),\n",
       " Text(53.670229007633594, 69.18545454545455, 'gini = 0.073\\nsamples = 3364\\nvalue = [127, 3237]\\nclass = Recuperado'),\n",
       " Text(58.781679389312984, 108.72, 'Edad <= 28.5\\ngini = 0.11\\nsamples = 10333\\nvalue = [603, 9730]\\nclass = Recuperado'),\n",
       " Text(56.22595419847329, 88.95272727272729, 'gini = 0.15\\nsamples = 3545\\nvalue = [289, 3256]\\nclass = Recuperado'),\n",
       " Text(61.33740458015268, 88.95272727272729, 'Edad <= 29.5\\ngini = 0.088\\nsamples = 6788\\nvalue = [314, 6474]\\nclass = Recuperado'),\n",
       " Text(58.781679389312984, 69.18545454545455, 'gini = 0.04\\nsamples = 3315\\nvalue = [67, 3248]\\nclass = Recuperado'),\n",
       " Text(63.893129770992374, 69.18545454545455, 'gini = 0.132\\nsamples = 3473\\nvalue = [247, 3226]\\nclass = Recuperado'),\n",
       " Text(66.44885496183207, 128.48727272727274, 'Edad <= 31.5\\ngini = 0.013\\nsamples = 6249\\nvalue = [40, 6209]\\nclass = Recuperado'),\n",
       " Text(63.893129770992374, 108.72, 'gini = 0.025\\nsamples = 3224\\nvalue = [40, 3184]\\nclass = Recuperado'),\n",
       " Text(69.00458015267176, 108.72, 'gini = 0.0\\nsamples = 3025\\nvalue = [0, 3025]\\nclass = Recuperado'),\n",
       " Text(88.17251908396948, 148.25454545454545, 'Edad <= 37.5\\ngini = 0.203\\nsamples = 28754\\nvalue = [3290, 25464]\\nclass = Recuperado'),\n",
       " Text(79.22748091603054, 128.48727272727274, 'Edad <= 34.5\\ngini = 0.163\\nsamples = 15045\\nvalue = [1345, 13700]\\nclass = Recuperado'),\n",
       " Text(74.11603053435115, 108.72, 'Edad <= 33.5\\ngini = 0.18\\nsamples = 6410\\nvalue = [642, 5768]\\nclass = Recuperado'),\n",
       " Text(71.56030534351146, 88.95272727272729, 'gini = 0.186\\nsamples = 3229\\nvalue = [336, 2893]\\nclass = Recuperado'),\n",
       " Text(76.67175572519085, 88.95272727272729, 'gini = 0.174\\nsamples = 3181\\nvalue = [306, 2875]\\nclass = Recuperado'),\n",
       " Text(84.33893129770993, 108.72, 'Edad <= 35.5\\ngini = 0.15\\nsamples = 8635\\nvalue = [703, 7932]\\nclass = Recuperado'),\n",
       " Text(81.78320610687024, 88.95272727272729, 'gini = 0.137\\nsamples = 2981\\nvalue = [220, 2761]\\nclass = Recuperado'),\n",
       " Text(86.89465648854963, 88.95272727272729, 'Edad <= 36.5\\ngini = 0.156\\nsamples = 5654\\nvalue = [483, 5171]\\nclass = Recuperado'),\n",
       " Text(84.33893129770993, 69.18545454545455, 'gini = 0.172\\nsamples = 2953\\nvalue = [281, 2672]\\nclass = Recuperado'),\n",
       " Text(89.45038167938932, 69.18545454545455, 'gini = 0.138\\nsamples = 2701\\nvalue = [202, 2499]\\nclass = Recuperado'),\n",
       " Text(97.11755725190841, 128.48727272727274, 'Edad <= 41.5\\ngini = 0.243\\nsamples = 13709\\nvalue = [1945, 11764]\\nclass = Recuperado'),\n",
       " Text(94.56183206106871, 108.72, 'Edad <= 38.5\\ngini = 0.23\\nsamples = 11291\\nvalue = [1497, 9794]\\nclass = Recuperado'),\n",
       " Text(92.00610687022902, 88.95272727272729, 'gini = 0.261\\nsamples = 3150\\nvalue = [485, 2665]\\nclass = Recuperado'),\n",
       " Text(97.11755725190841, 88.95272727272729, 'Edad <= 40.5\\ngini = 0.218\\nsamples = 8141\\nvalue = [1012, 7129]\\nclass = Recuperado'),\n",
       " Text(94.56183206106871, 69.18545454545455, 'Edad <= 39.5\\ngini = 0.221\\nsamples = 5665\\nvalue = [718, 4947]\\nclass = Recuperado'),\n",
       " Text(92.00610687022902, 49.418181818181836, 'gini = 0.219\\nsamples = 2878\\nvalue = [360, 2518]\\nclass = Recuperado'),\n",
       " Text(97.11755725190841, 49.418181818181836, 'gini = 0.224\\nsamples = 2787\\nvalue = [358, 2429]\\nclass = Recuperado'),\n",
       " Text(99.6732824427481, 69.18545454545455, 'gini = 0.209\\nsamples = 2476\\nvalue = [294, 2182]\\nclass = Recuperado'),\n",
       " Text(99.6732824427481, 108.72, 'gini = 0.302\\nsamples = 2418\\nvalue = [448, 1970]\\nclass = Recuperado'),\n",
       " Text(137.05076335877865, 168.0218181818182, 'Edad <= 50.5\\ngini = 0.435\\nsamples = 30475\\nvalue = [9753, 20722]\\nclass = Recuperado'),\n",
       " Text(125.86946564885497, 148.25454545454545, 'Edad <= 48.5\\ngini = 0.372\\nsamples = 17443\\nvalue = [4301, 13142]\\nclass = Recuperado'),\n",
       " Text(118.84122137404582, 128.48727272727274, 'Edad <= 46.5\\ngini = 0.351\\nsamples = 12959\\nvalue = [2940, 10019]\\nclass = Recuperado'),\n",
       " Text(112.45190839694658, 108.72, 'Edad <= 44.5\\ngini = 0.361\\nsamples = 8929\\nvalue = [2111, 6818]\\nclass = Recuperado'),\n",
       " Text(107.34045801526719, 88.95272727272729, 'Edad <= 43.5\\ngini = 0.338\\nsamples = 4516\\nvalue = [974, 3542]\\nclass = Recuperado'),\n",
       " Text(104.7847328244275, 69.18545454545455, 'gini = 0.355\\nsamples = 2337\\nvalue = [540, 1797]\\nclass = Recuperado'),\n",
       " Text(109.89618320610688, 69.18545454545455, 'gini = 0.319\\nsamples = 2179\\nvalue = [434, 1745]\\nclass = Recuperado'),\n",
       " Text(117.56335877862597, 88.95272727272729, 'Edad <= 45.5\\ngini = 0.383\\nsamples = 4413\\nvalue = [1137, 3276]\\nclass = Recuperado'),\n",
       " Text(115.00763358778627, 69.18545454545455, 'gini = 0.402\\nsamples = 2333\\nvalue = [649, 1684]\\nclass = Recuperado'),\n",
       " Text(120.11908396946566, 69.18545454545455, 'gini = 0.359\\nsamples = 2080\\nvalue = [488, 1592]\\nclass = Recuperado'),\n",
       " Text(125.23053435114505, 108.72, 'Edad <= 47.5\\ngini = 0.327\\nsamples = 4030\\nvalue = [829, 3201]\\nclass = Recuperado'),\n",
       " Text(122.67480916030536, 88.95272727272729, 'gini = 0.322\\nsamples = 2025\\nvalue = [409, 1616]\\nclass = Recuperado'),\n",
       " Text(127.78625954198475, 88.95272727272729, 'gini = 0.331\\nsamples = 2005\\nvalue = [420, 1585]\\nclass = Recuperado'),\n",
       " Text(132.89770992366414, 128.48727272727274, 'Edad <= 49.5\\ngini = 0.423\\nsamples = 4484\\nvalue = [1361, 3123]\\nclass = Recuperado'),\n",
       " Text(130.34198473282444, 108.72, 'gini = 0.458\\nsamples = 2400\\nvalue = [853, 1547]\\nclass = Recuperado'),\n",
       " Text(135.45343511450383, 108.72, 'gini = 0.369\\nsamples = 2084\\nvalue = [508, 1576]\\nclass = Recuperado'),\n",
       " Text(148.2320610687023, 148.25454545454545, 'Edad <= 53.5\\ngini = 0.487\\nsamples = 13032\\nvalue = [5452, 7580]\\nclass = Recuperado'),\n",
       " Text(143.12061068702292, 128.48727272727274, 'Edad <= 51.5\\ngini = 0.481\\nsamples = 7644\\nvalue = [3075, 4569]\\nclass = Recuperado'),\n",
       " Text(140.56488549618322, 108.72, 'gini = 0.471\\nsamples = 2518\\nvalue = [957, 1561]\\nclass = Recuperado'),\n",
       " Text(145.6763358778626, 108.72, 'Edad <= 52.5\\ngini = 0.485\\nsamples = 5126\\nvalue = [2118, 3008]\\nclass = Recuperado'),\n",
       " Text(143.12061068702292, 88.95272727272729, 'gini = 0.485\\nsamples = 2607\\nvalue = [1076, 1531]\\nclass = Recuperado'),\n",
       " Text(148.2320610687023, 88.95272727272729, 'gini = 0.485\\nsamples = 2519\\nvalue = [1042, 1477]\\nclass = Recuperado'),\n",
       " Text(153.3435114503817, 128.48727272727274, 'Edad <= 54.5\\ngini = 0.493\\nsamples = 5388\\nvalue = [2377, 3011]\\nclass = Recuperado'),\n",
       " Text(150.787786259542, 108.72, 'gini = 0.499\\nsamples = 2888\\nvalue = [1376, 1512]\\nclass = Recuperado'),\n",
       " Text(155.8992366412214, 108.72, 'gini = 0.48\\nsamples = 2500\\nvalue = [1001, 1499]\\nclass = Recuperado'),\n",
       " Text(209.19010019083973, 187.7890909090909, 'Edad <= 63.5\\ngini = 0.257\\nsamples = 110953\\nvalue = [94163, 16790]\\nclass = Fallecido'),\n",
       " Text(178.90076335877865, 168.0218181818182, 'Edad <= 59.5\\ngini = 0.472\\nsamples = 22245\\nvalue = [13744, 8501]\\nclass = Fallecido'),\n",
       " Text(168.67786259541987, 148.25454545454545, 'Edad <= 57.5\\ngini = 0.494\\nsamples = 11151\\nvalue = [6176, 4975]\\nclass = Fallecido'),\n",
       " Text(163.56641221374048, 128.48727272727274, 'Edad <= 56.5\\ngini = 0.5\\nsamples = 5384\\nvalue = [2735, 2649]\\nclass = Fallecido'),\n",
       " Text(161.01068702290078, 108.72, 'gini = 0.497\\nsamples = 2973\\nvalue = [1594, 1379]\\nclass = Fallecido'),\n",
       " Text(166.12213740458017, 108.72, 'gini = 0.499\\nsamples = 2411\\nvalue = [1141, 1270]\\nclass = Recuperado'),\n",
       " Text(173.78931297709926, 128.48727272727274, 'Edad <= 58.5\\ngini = 0.481\\nsamples = 5767\\nvalue = [3441, 2326]\\nclass = Fallecido'),\n",
       " Text(171.23358778625956, 108.72, 'gini = 0.483\\nsamples = 3033\\nvalue = [1792, 1241]\\nclass = Fallecido'),\n",
       " Text(176.34503816793895, 108.72, 'gini = 0.479\\nsamples = 2734\\nvalue = [1649, 1085]\\nclass = Fallecido'),\n",
       " Text(189.12366412213743, 148.25454545454545, 'Edad <= 61.5\\ngini = 0.434\\nsamples = 11094\\nvalue = [7568, 3526]\\nclass = Fallecido'),\n",
       " Text(184.01221374045804, 128.48727272727274, 'Edad <= 60.5\\ngini = 0.459\\nsamples = 5389\\nvalue = [3467, 1922]\\nclass = Fallecido'),\n",
       " Text(181.45648854961834, 108.72, 'gini = 0.459\\nsamples = 2866\\nvalue = [1841, 1025]\\nclass = Fallecido'),\n",
       " Text(186.56793893129773, 108.72, 'gini = 0.458\\nsamples = 2523\\nvalue = [1626, 897]\\nclass = Fallecido'),\n",
       " Text(194.23511450381682, 128.48727272727274, 'Edad <= 62.5\\ngini = 0.404\\nsamples = 5705\\nvalue = [4101, 1604]\\nclass = Fallecido'),\n",
       " Text(191.67938931297712, 108.72, 'gini = 0.411\\nsamples = 2808\\nvalue = [1998, 810]\\nclass = Fallecido'),\n",
       " Text(196.7908396946565, 108.72, 'gini = 0.398\\nsamples = 2897\\nvalue = [2103, 794]\\nclass = Fallecido'),\n",
       " Text(239.47943702290078, 168.0218181818182, 'Edad <= 72.5\\ngini = 0.169\\nsamples = 88708\\nvalue = [80419, 8289]\\nclass = Fallecido'),\n",
       " Text(213.40305343511454, 148.25454545454545, 'Edad <= 67.5\\ngini = 0.271\\nsamples = 29082\\nvalue = [24390, 4692]\\nclass = Fallecido'),\n",
       " Text(204.4580152671756, 128.48727272727274, 'Edad <= 64.5\\ngini = 0.312\\nsamples = 12846\\nvalue = [10365, 2481]\\nclass = Fallecido'),\n",
       " Text(201.9022900763359, 108.72, 'gini = 0.344\\nsamples = 3185\\nvalue = [2482, 703]\\nclass = Fallecido'),\n",
       " Text(207.0137404580153, 108.72, 'Edad <= 65.5\\ngini = 0.3\\nsamples = 9661\\nvalue = [7883, 1778]\\nclass = Fallecido'),\n",
       " Text(204.4580152671756, 88.95272727272729, 'gini = 0.309\\nsamples = 3363\\nvalue = [2720, 643]\\nclass = Fallecido'),\n",
       " Text(209.569465648855, 88.95272727272729, 'Edad <= 66.5\\ngini = 0.295\\nsamples = 6298\\nvalue = [5163, 1135]\\nclass = Fallecido'),\n",
       " Text(207.0137404580153, 69.18545454545455, 'gini = 0.297\\nsamples = 3207\\nvalue = [2626, 581]\\nclass = Fallecido'),\n",
       " Text(212.12519083969468, 69.18545454545455, 'gini = 0.294\\nsamples = 3091\\nvalue = [2537, 554]\\nclass = Fallecido'),\n",
       " Text(222.34809160305346, 128.48727272727274, 'Edad <= 69.5\\ngini = 0.235\\nsamples = 16236\\nvalue = [14025, 2211]\\nclass = Fallecido'),\n",
       " Text(217.23664122137407, 108.72, 'Edad <= 68.5\\ngini = 0.259\\nsamples = 6178\\nvalue = [5234, 944]\\nclass = Fallecido'),\n",
       " Text(214.68091603053438, 88.95272727272729, 'gini = 0.254\\nsamples = 3342\\nvalue = [2843, 499]\\nclass = Fallecido'),\n",
       " Text(219.79236641221377, 88.95272727272729, 'gini = 0.265\\nsamples = 2836\\nvalue = [2391, 445]\\nclass = Fallecido'),\n",
       " Text(227.45954198473285, 108.72, 'Edad <= 70.5\\ngini = 0.22\\nsamples = 10058\\nvalue = [8791, 1267]\\nclass = Fallecido'),\n",
       " Text(224.90381679389316, 88.95272727272729, 'gini = 0.232\\nsamples = 3315\\nvalue = [2871, 444]\\nclass = Fallecido'),\n",
       " Text(230.01526717557255, 88.95272727272729, 'Edad <= 71.5\\ngini = 0.214\\nsamples = 6743\\nvalue = [5920, 823]\\nclass = Fallecido'),\n",
       " Text(227.45954198473285, 69.18545454545455, 'gini = 0.218\\nsamples = 3350\\nvalue = [2932, 418]\\nclass = Fallecido'),\n",
       " Text(232.57099236641224, 69.18545454545455, 'gini = 0.21\\nsamples = 3393\\nvalue = [2988, 405]\\nclass = Fallecido'),\n",
       " Text(265.5558206106871, 148.25454545454545, 'Edad <= 78.5\\ngini = 0.113\\nsamples = 59626\\nvalue = [56029, 3597]\\nclass = Fallecido'),\n",
       " Text(242.79389312977102, 128.48727272727274, 'Edad <= 75.5\\ngini = 0.162\\nsamples = 20077\\nvalue = [18297, 1780]\\nclass = Fallecido'),\n",
       " Text(237.68244274809163, 108.72, 'Edad <= 73.5\\ngini = 0.182\\nsamples = 10067\\nvalue = [9050, 1017]\\nclass = Fallecido'),\n",
       " Text(235.12671755725194, 88.95272727272729, 'gini = 0.193\\nsamples = 3368\\nvalue = [3003, 365]\\nclass = Fallecido'),\n",
       " Text(240.23816793893133, 88.95272727272729, 'Edad <= 74.5\\ngini = 0.176\\nsamples = 6699\\nvalue = [6047, 652]\\nclass = Fallecido'),\n",
       " Text(237.68244274809163, 69.18545454545455, 'gini = 0.181\\nsamples = 3291\\nvalue = [2959, 332]\\nclass = Fallecido'),\n",
       " Text(242.79389312977102, 69.18545454545455, 'gini = 0.17\\nsamples = 3408\\nvalue = [3088, 320]\\nclass = Fallecido'),\n",
       " Text(247.9053435114504, 108.72, 'Edad <= 76.5\\ngini = 0.141\\nsamples = 10010\\nvalue = [9247, 763]\\nclass = Fallecido'),\n",
       " Text(245.34961832061072, 88.95272727272729, 'gini = 0.155\\nsamples = 3042\\nvalue = [2785, 257]\\nclass = Fallecido'),\n",
       " Text(250.4610687022901, 88.95272727272729, 'Edad <= 77.5\\ngini = 0.135\\nsamples = 6968\\nvalue = [6462, 506]\\nclass = Fallecido'),\n",
       " Text(247.9053435114504, 69.18545454545455, 'gini = 0.129\\nsamples = 3715\\nvalue = [3458, 257]\\nclass = Fallecido'),\n",
       " Text(253.0167938931298, 69.18545454545455, 'gini = 0.141\\nsamples = 3253\\nvalue = [3004, 249]\\nclass = Fallecido'),\n",
       " Text(288.3177480916031, 128.48727272727274, 'Edad <= 85.5\\ngini = 0.088\\nsamples = 39549\\nvalue = [37732, 1817]\\nclass = Fallecido'),\n",
       " Text(269.62900763358783, 108.72, 'Edad <= 82.5\\ngini = 0.105\\nsamples = 21412\\nvalue = [20227, 1185]\\nclass = Fallecido'),\n",
       " Text(263.2396946564886, 88.95272727272729, 'Edad <= 80.5\\ngini = 0.112\\nsamples = 13252\\nvalue = [12462, 790]\\nclass = Fallecido'),\n",
       " Text(258.12824427480916, 69.18545454545455, 'Edad <= 79.5\\ngini = 0.107\\nsamples = 7695\\nvalue = [7260, 435]\\nclass = Fallecido'),\n",
       " Text(255.5725190839695, 49.418181818181836, 'gini = 0.107\\nsamples = 3647\\nvalue = [3440, 207]\\nclass = Fallecido'),\n",
       " Text(260.6839694656489, 49.418181818181836, 'gini = 0.106\\nsamples = 4048\\nvalue = [3820, 228]\\nclass = Fallecido'),\n",
       " Text(268.35114503816794, 69.18545454545455, 'Edad <= 81.5\\ngini = 0.12\\nsamples = 5557\\nvalue = [5202, 355]\\nclass = Fallecido'),\n",
       " Text(265.7954198473283, 49.418181818181836, 'gini = 0.13\\nsamples = 2526\\nvalue = [2350, 176]\\nclass = Fallecido'),\n",
       " Text(270.90687022900767, 49.418181818181836, 'gini = 0.111\\nsamples = 3031\\nvalue = [2852, 179]\\nclass = Fallecido'),\n",
       " Text(276.01832061068706, 88.95272727272729, 'Edad <= 83.5\\ngini = 0.092\\nsamples = 8160\\nvalue = [7765, 395]\\nclass = Fallecido'),\n",
       " Text(273.4625954198474, 69.18545454545455, 'gini = 0.076\\nsamples = 3348\\nvalue = [3216, 132]\\nclass = Fallecido'),\n",
       " Text(278.5740458015267, 69.18545454545455, 'Edad <= 84.5\\ngini = 0.103\\nsamples = 4812\\nvalue = [4549, 263]\\nclass = Fallecido'),\n",
       " Text(276.01832061068706, 49.418181818181836, 'gini = 0.1\\nsamples = 2440\\nvalue = [2311, 129]\\nclass = Fallecido'),\n",
       " Text(281.12977099236645, 49.418181818181836, 'gini = 0.107\\nsamples = 2372\\nvalue = [2238, 134]\\nclass = Fallecido'),\n",
       " Text(307.0064885496184, 108.72, 'Edad <= 89.5\\ngini = 0.067\\nsamples = 18137\\nvalue = [17505, 632]\\nclass = Fallecido'),\n",
       " Text(293.90839694656495, 88.95272727272729, 'Edad <= 87.5\\ngini = 0.076\\nsamples = 9286\\nvalue = [8920, 366]\\nclass = Fallecido'),\n",
       " Text(288.7969465648855, 69.18545454545455, 'Edad <= 86.5\\ngini = 0.073\\nsamples = 5861\\nvalue = [5639, 222]\\nclass = Fallecido'),\n",
       " Text(286.24122137404584, 49.418181818181836, 'gini = 0.071\\nsamples = 3152\\nvalue = [3036, 116]\\nclass = Fallecido'),\n",
       " Text(291.3526717557252, 49.418181818181836, 'gini = 0.075\\nsamples = 2709\\nvalue = [2603, 106]\\nclass = Fallecido'),\n",
       " Text(299.0198473282443, 69.18545454545455, 'Edad <= 88.5\\ngini = 0.081\\nsamples = 3425\\nvalue = [3281, 144]\\nclass = Fallecido'),\n",
       " Text(296.4641221374046, 49.418181818181836, 'gini = 0.084\\nsamples = 1639\\nvalue = [1567, 72]\\nclass = Fallecido'),\n",
       " Text(301.575572519084, 49.418181818181836, 'gini = 0.077\\nsamples = 1786\\nvalue = [1714, 72]\\nclass = Fallecido'),\n",
       " Text(320.1045801526718, 88.95272727272729, 'Edad <= 99.5\\ngini = 0.058\\nsamples = 8851\\nvalue = [8585, 266]\\nclass = Fallecido'),\n",
       " Text(313.0763358778626, 69.18545454545455, 'Edad <= 97.5\\ngini = 0.061\\nsamples = 8295\\nvalue = [8034, 261]\\nclass = Fallecido'),\n",
       " Text(306.6870229007634, 49.418181818181836, 'Edad <= 95.5\\ngini = 0.059\\nsamples = 7921\\nvalue = [7679, 242]\\nclass = Fallecido'),\n",
       " Text(301.575572519084, 29.650909090909096, 'Edad <= 92.5\\ngini = 0.061\\nsamples = 7250\\nvalue = [7022, 228]\\nclass = Fallecido'),\n",
       " Text(299.0198473282443, 9.883636363636384, 'gini = 0.057\\nsamples = 5191\\nvalue = [5039, 152]\\nclass = Fallecido'),\n",
       " Text(304.13129770992373, 9.883636363636384, 'gini = 0.071\\nsamples = 2059\\nvalue = [1983, 76]\\nclass = Fallecido'),\n",
       " Text(311.7984732824428, 29.650909090909096, 'Edad <= 96.5\\ngini = 0.041\\nsamples = 671\\nvalue = [657, 14]\\nclass = Fallecido'),\n",
       " Text(309.24274809160306, 9.883636363636384, 'gini = 0.03\\nsamples = 397\\nvalue = [391, 6]\\nclass = Fallecido'),\n",
       " Text(314.3541984732825, 9.883636363636384, 'gini = 0.057\\nsamples = 274\\nvalue = [266, 8]\\nclass = Fallecido'),\n",
       " Text(319.46564885496184, 49.418181818181836, 'Edad <= 98.5\\ngini = 0.096\\nsamples = 374\\nvalue = [355, 19]\\nclass = Fallecido'),\n",
       " Text(316.9099236641222, 29.650909090909096, 'gini = 0.095\\nsamples = 240\\nvalue = [228, 12]\\nclass = Fallecido'),\n",
       " Text(322.02137404580156, 29.650909090909096, 'gini = 0.099\\nsamples = 134\\nvalue = [127, 7]\\nclass = Fallecido'),\n",
       " Text(327.13282442748095, 69.18545454545455, 'Edad <= 100.5\\ngini = 0.018\\nsamples = 556\\nvalue = [551, 5]\\nclass = Fallecido'),\n",
       " Text(324.5770992366413, 49.418181818181836, 'gini = 0.007\\nsamples = 276\\nvalue = [275, 1]\\nclass = Fallecido'),\n",
       " Text(329.6885496183206, 49.418181818181836, 'Edad <= 103.5\\ngini = 0.028\\nsamples = 280\\nvalue = [276, 4]\\nclass = Fallecido'),\n",
       " Text(327.13282442748095, 29.650909090909096, 'Edad <= 102.5\\ngini = 0.025\\nsamples = 235\\nvalue = [232, 3]\\nclass = Fallecido'),\n",
       " Text(324.5770992366413, 9.883636363636384, 'gini = 0.032\\nsamples = 187\\nvalue = [184, 3]\\nclass = Fallecido'),\n",
       " Text(329.6885496183206, 9.883636363636384, 'gini = 0.0\\nsamples = 48\\nvalue = [48, 0]\\nclass = Fallecido'),\n",
       " Text(332.24427480916034, 29.650909090909096, 'gini = 0.043\\nsamples = 45\\nvalue = [44, 1]\\nclass = Fallecido')]"
      ]
     },
     "execution_count": 9,
     "metadata": {},
     "output_type": "execute_result"
    },
    {
     "data": {
      "image/png": "[encoded data removed]",
      "text/plain": [
       "<Figure size 432x288 with 1 Axes>"
      ]
     },
     "metadata": {
      "needs_background": "light"
     },
     "output_type": "display_data"
    }
   ],
   "source": [
    "from sklearn.tree import plot_tree\n",
    "variable_names=X_train.columns.values\n",
    "class_names=labelencoder.classes_\n",
    "plot_tree(model_Tree, feature_names=variable_names, class_names=class_names, filled=True)"
   ]
  },
  {
   "cell_type": "markdown",
   "metadata": {},
   "source": [
    "### Evaluation of the model with the test set"
   ]
  },
  {
   "cell_type": "code",
   "execution_count": 10,
   "metadata": {},
   "outputs": [
    {
     "name": "stdout",
     "output_type": "stream",
     "text": [
      "0.8561267794789148\n"
     ]
    }
   ],
   "source": [
    "Y_pred = model_Tree.predict(X_test)\n",
    "\n",
    "from sklearn.metrics import accuracy_score\n",
    "acc=accuracy_score(Y_test, Y_pred)\n",
    "print(acc)"
   ]
  },
  {
   "cell_type": "code",
   "execution_count": 11,
   "metadata": {},
   "outputs": [
    {
     "name": "stdout",
     "output_type": "stream",
     "text": [
      "              precision    recall  f1-score   support\n",
      "\n",
      "   Fallecido       0.86      0.86      0.86     46536\n",
      "  Recuperado       0.86      0.86      0.86     46539\n",
      "\n",
      "    accuracy                           0.86     93075\n",
      "   macro avg       0.86      0.86      0.86     93075\n",
      "weighted avg       0.86      0.86      0.86     93075\n",
      "\n"
     ]
    }
   ],
   "source": [
    "from sklearn import metrics\n",
    "\n",
    "print(metrics.classification_report( y_true=Y_test, y_pred=Y_pred, target_names=labelencoder.classes_))"
   ]
  },
  {
   "cell_type": "markdown",
   "metadata": {},
   "source": [
    "### Confusion matrix"
   ]
  },
  {
   "cell_type": "code",
   "execution_count": 12,
   "metadata": {
    "scrolled": false
   },
   "outputs": [
    {
     "data": {
      "image/png": "[encoded data removed]",
      "text/plain": [
       "<Figure size 432x288 with 2 Axes>"
      ]
     },
     "metadata": {
      "needs_background": "light"
     },
     "output_type": "display_data"
    }
   ],
   "source": [
    "from sklearn import metrics\n",
    "metrics.plot_confusion_matrix(estimator=model_Tree, X=X_test, y_true=Y_test, display_labels=labelencoder.classes_,values_format='d')  \n",
    "\n",
    "plt.show()"
   ]
  },
  {
   "cell_type": "markdown",
   "metadata": {},
   "source": [
    "### ROC Curve"
   ]
  },
  {
   "cell_type": "code",
   "execution_count": 13,
   "metadata": {},
   "outputs": [
    {
     "data": {
      "image/png": "[encoded data removed]",
      "text/plain": [
       "<Figure size 432x288 with 1 Axes>"
      ]
     },
     "metadata": {
      "needs_background": "light"
     },
     "output_type": "display_data"
    }
   ],
   "source": [
    "metrics.plot_roc_curve(estimator=model_Tree, X=X_test, y=Y_test)  \n",
    "\n",
    "plt.show() "
   ]
  },
  {
   "cell_type": "markdown",
   "metadata": {},
   "source": [
    "------------------------------------------------------------------------\n",
    "# Predictive Model: Logistic Regression"
   ]
  },
  {
   "cell_type": "markdown",
   "metadata": {},
   "source": [
    "### Creation of the Model with the training set"
   ]
  },
  {
   "cell_type": "code",
   "execution_count": 14,
   "metadata": {},
   "outputs": [],
   "source": [
    "from sklearn.linear_model import LogisticRegression\n",
    "from sklearn import metrics\n",
    "import seaborn as sn\n",
    "\n",
    "logistic_regression= LogisticRegression()\n",
    "logistic_regression.fit(X_train,Y_train)\n",
    "Y_pred=logistic_regression.predict(X_test)"
   ]
  },
  {
   "cell_type": "code",
   "execution_count": 15,
   "metadata": {
    "scrolled": true
   },
   "outputs": [
    {
     "data": {
      "text/plain": [
       "<AxesSubplot:xlabel='Predicted', ylabel='Actual'>"
      ]
     },
     "execution_count": 15,
     "metadata": {},
     "output_type": "execute_result"
    },
    {
     "data": {
      "image/png": "[encoded data removed]",
      "text/plain": [
       "<Figure size 432x288 with 2 Axes>"
      ]
     },
     "metadata": {
      "needs_background": "light"
     },
     "output_type": "display_data"
    }
   ],
   "source": [
    "confusion_matrix = pd.crosstab(Y_test, Y_pred, rownames=['Actual'], colnames=['Predicted'])\n",
    "sn.heatmap(confusion_matrix, annot=True)"
   ]
  },
  {
   "cell_type": "code",
   "execution_count": 16,
   "metadata": {},
   "outputs": [
    {
     "name": "stdout",
     "output_type": "stream",
     "text": [
      "Accuracy:  0.8549341928552243\n"
     ]
    }
   ],
   "source": [
    "print('Accuracy: ',metrics.accuracy_score(Y_test, Y_pred))\n",
    "plt.show()"
   ]
  },
  {
   "cell_type": "markdown",
   "metadata": {},
   "source": [
    "### ROC Curve"
   ]
  },
  {
   "cell_type": "code",
   "execution_count": 17,
   "metadata": {},
   "outputs": [
    {
     "data": {
      "image/png": "[encoded data removed]",
      "text/plain": [
       "<Figure size 432x288 with 1 Axes>"
      ]
     },
     "metadata": {
      "needs_background": "light"
     },
     "output_type": "display_data"
    }
   ],
   "source": [
    "metrics.plot_roc_curve(estimator=logistic_regression, X=X_test, y=Y_test)  \n",
    "\n",
    "plt.show() "
   ]
  }
 ],
 "metadata": {
  "kernelspec": {
   "display_name": "Python 3",
   "language": "python",
   "name": "python3"
  },
  "language_info": {
   "codemirror_mode": {
    "name": "ipython",
    "version": 3
   },
   "file_extension": ".py",
   "mimetype": "text/x-python",
   "name": "python",
   "nbconvert_exporter": "python",
   "pygments_lexer": "ipython3",
   "version": "3.8.8"
  }
 },
 "nbformat": 4,
 "nbformat_minor": 4
}
