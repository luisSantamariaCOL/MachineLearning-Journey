{
 "cells": [
  {
   "cell_type": "markdown",
   "id": "6088e696",
   "metadata": {},
   "source": [
    "1. Cada diccionario es un par de clave : valor. Se puede crear empleado la siguiente sintaxis:"
   ]
  },
  {
   "cell_type": "code",
   "execution_count": 2,
   "id": "083908f0",
   "metadata": {},
   "outputs": [],
   "source": [
    "miDictionario = {\n",
    "    'clave1' : 'valor1',\n",
    "    'clave2' : 'valor2',\n",
    "    'clave3' : 'valor3',\n",
    "    }"
   ]
  },
  {
   "cell_type": "markdown",
   "id": "e2619e5a",
   "metadata": {},
   "source": [
    "\n",
    "2. Si se desea acceder a un elemento del diccionario, se puede hacer haciendo referencia a su clave colocándola dentro de corchetes (ejemplo 1) o utilizando el método get() (ejemplo 2):"
   ]
  },
  {
   "cell_type": "code",
   "execution_count": 5,
   "id": "e20c3948",
   "metadata": {},
   "outputs": [
    {
     "name": "stdout",
     "output_type": "stream",
     "text": [
      "tierra\n",
      "agua\n"
     ]
    }
   ],
   "source": [
    "polEspDict = {\n",
    "    \"kwiat\" : \"flor\",\n",
    "    \"woda\"  : \"agua\",\n",
    "    \"gleba\" : \"tierra\"\n",
    "    }\n",
    "\n",
    "elemento1 = polEspDict[\"gleba\"]    # ejemplo 1\n",
    "print(elemento1)    # salida: tierra\n",
    "\n",
    "elemento2 = polEspDict.get(\"woda\")\n",
    "print(elemento2)    # salida: agua"
   ]
  },
  {
   "cell_type": "markdown",
   "id": "ce4aba0e",
   "metadata": {},
   "source": [
    "3. Si se desea cambiar el valor asociado a una clave especifica, se puede hacer haciendo referencia a la clave del elemento, a continuación se muestra un ejemplo:"
   ]
  },
  {
   "cell_type": "code",
   "execution_count": 6,
   "id": "a8923423",
   "metadata": {},
   "outputs": [],
   "source": [
    "polEspDict = {\n",
    "    \"zamek\" : \"castillo\",\n",
    "    \"woda\"  : \"agua\",\n",
    "    \"gleba\" : \"tierra\"\n",
    "    }\n",
    "\n",
    "polEspDict[\"zamek\"] = \"cerradura\"\n",
    "item = polEspDict[\"zamek\"]    # salida: cerradura "
   ]
  },
  {
   "cell_type": "markdown",
   "id": "05c2dfd1",
   "metadata": {},
   "source": [
    "4. Para agregar o eliminar una clave (junto con su valor asociado), emplea la siguiente sintaxis:"
   ]
  },
  {
   "cell_type": "code",
   "execution_count": 7,
   "id": "937afb70",
   "metadata": {},
   "outputs": [
    {
     "name": "stdout",
     "output_type": "stream",
     "text": [
      "{'Adan': 3456783958}\n",
      "{}\n"
     ]
    }
   ],
   "source": [
    "miDirectorioTelefonico = {}    # un diccionario vacio\n",
    "\n",
    "miDirectorioTelefonico [\"Adan\"] = 3456783958    # crear o añadir un par clave-valor\n",
    "print(miDirectorioTelefonico)    # salida: {'Adan': 3456783958}\n",
    "\n",
    "del miDirectorioTelefonico [\"Adan\"]\n",
    "print(miDirectorioTelefonico)    # salida: {}"
   ]
  },
  {
   "cell_type": "markdown",
   "id": "a4fa2556",
   "metadata": {},
   "source": [
    "5. Además, se puede insertar un elemento a un diccionario utilizando el método update(), y eliminar el ultimo elemento con el método popitem(), por ejemplo:"
   ]
  },
  {
   "cell_type": "code",
   "execution_count": 11,
   "id": "b465ec75",
   "metadata": {},
   "outputs": [
    {
     "name": "stdout",
     "output_type": "stream",
     "text": [
      "{'kwiat': 'flor', 'gleba': 'tierra'}\n",
      "{'kwiat': 'flor'}\n"
     ]
    }
   ],
   "source": [
    "polEspDict = {\"kwiat\" : \"flor\"}\n",
    "\n",
    "polEspDict.update({\"gleba\": \"tierra\"})\n",
    "print(polEspDict)    # salida: {'kwiat' : 'flor', 'gleba' : 'tierra'}\n",
    "\n",
    "polEspDict.popitem()\n",
    "print(polEspDict)    # outputs: {'kwiat' : 'flor'}"
   ]
  },
  {
   "cell_type": "markdown",
   "id": "fbb61a9b",
   "metadata": {},
   "source": [
    "5. Se puede emplear el bucle for para iterar a través del diccionario, por ejemplo:"
   ]
  },
  {
   "cell_type": "code",
   "execution_count": 13,
   "id": "74002f8b",
   "metadata": {},
   "outputs": [
    {
     "name": "stdout",
     "output_type": "stream",
     "text": [
      "zamek : castillo\n",
      "woda : agua\n",
      "gleba : tierra\n"
     ]
    }
   ],
   "source": [
    "polEspDict = {\n",
    "    \"zamek\" : \"castillo\",\n",
    "    \"woda\"  : \"agua\",\n",
    "    \"gleba\" : \"tierra\"\n",
    "    }\n",
    "\n",
    "for item in polEspDict:\n",
    "    print(item,\":\", polEspDict[item])    # salida: zamek\n",
    "                   #          woda\n",
    "                   #          gleba"
   ]
  },
  {
   "cell_type": "markdown",
   "id": "43161db8",
   "metadata": {},
   "source": [
    "6. Si deseas examinar los elementos (claves y valores) del diccionario, puedes emplear el método items() por ejemplo:"
   ]
  },
  {
   "cell_type": "code",
   "execution_count": 14,
   "id": "7377b327",
   "metadata": {},
   "outputs": [
    {
     "name": "stdout",
     "output_type": "stream",
     "text": [
      "Pol/Esp -> zamek : castillo\n",
      "Pol/Esp -> woda : agua\n",
      "Pol/Esp -> gleba : tierra\n"
     ]
    }
   ],
   "source": [
    "polEspDict = {\n",
    "    \"zamek\" : \"castillo\",\n",
    "    \"woda\"  : \"agua\",\n",
    "    \"gleba\" : \"tierra\"\n",
    "    }\n",
    "\n",
    "for clave, valor in polEspDict.items():\n",
    "    print(\"Pol/Esp ->\", clave, \":\", valor)"
   ]
  },
  {
   "cell_type": "markdown",
   "id": "00b86029",
   "metadata": {},
   "source": [
    "7. Para comprobar si una clave existe en un diccionario, se puede emplear la palabra reservada in:"
   ]
  },
  {
   "cell_type": "code",
   "execution_count": 15,
   "id": "918238b0",
   "metadata": {},
   "outputs": [
    {
     "name": "stdout",
     "output_type": "stream",
     "text": [
      "SI\n"
     ]
    }
   ],
   "source": [
    "polEspDict = {\n",
    "    \"zamek\" : \"castillo\",\n",
    "    \"woda\"  : \"agua\",\n",
    "    \"gleba\" : \"tierra\"\n",
    "    }\n",
    "\n",
    "if \"zamek\" in polEspDict:\n",
    "    print(\"SI\")\n",
    "else:\n",
    "    print(\"NO\")"
   ]
  },
  {
   "cell_type": "markdown",
   "id": "f87f41ab",
   "metadata": {},
   "source": [
    "8. Se puede emplear la palabra reservada del para eliminar un elemento, o un diccionario entero. Para eliminar todos los elementos de un diccionario se debe emplear el método clear():"
   ]
  },
  {
   "cell_type": "code",
   "execution_count": 16,
   "id": "e925ba74",
   "metadata": {},
   "outputs": [
    {
     "name": "stdout",
     "output_type": "stream",
     "text": [
      "3\n",
      "2\n",
      "0\n"
     ]
    }
   ],
   "source": [
    "polEspDict = {\n",
    "    \"zamek\" : \"castillo\",\n",
    "    \"woda\"  : \"agua\",\n",
    "    \"gleba\" : \"tierra\"\n",
    "    }\n",
    "\n",
    "print(len(polEspDict))    # salida: 3\n",
    "del polEspDict[\"zamek\"]    # elimina un elemento\n",
    "print(len(polEspDict))    # salida: 2\n",
    "\n",
    "polEspDict.clear()   # elimina todos los elementos\n",
    "print(len(polEspDict))    # salida: 0\n",
    "\n",
    "del polEspDict    # elimina el diccionario"
   ]
  },
  {
   "cell_type": "markdown",
   "id": "11385060",
   "metadata": {},
   "source": [
    "9. Para copiar un diccionario, emplea el método copy():"
   ]
  },
  {
   "cell_type": "code",
   "execution_count": 17,
   "id": "93d75a3f",
   "metadata": {},
   "outputs": [],
   "source": [
    "polEspDict = {\n",
    "    \"zamek\" : \"castillo\",\n",
    "    \"woda\"  : \"agua\",\n",
    "    \"gleba\" : \"tierra\"\n",
    "    }\n",
    "\n",
    "copyDict = polEspDict.copy()"
   ]
  }
 ],
 "metadata": {
  "kernelspec": {
   "display_name": "Python 3",
   "language": "python",
   "name": "python3"
  },
  "language_info": {
   "codemirror_mode": {
    "name": "ipython",
    "version": 3
   },
   "file_extension": ".py",
   "mimetype": "text/x-python",
   "name": "python",
   "nbconvert_exporter": "python",
   "pygments_lexer": "ipython3",
   "version": "3.8.8"
  }
 },
 "nbformat": 4,
 "nbformat_minor": 5
}
